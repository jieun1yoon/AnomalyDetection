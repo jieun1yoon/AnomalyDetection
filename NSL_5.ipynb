{
  "cells": [
    {
      "cell_type": "markdown",
      "metadata": {
        "id": "x-HOdHFY0YjQ"
      },
      "source": [
        "#**Import**"
      ]
    },
    {
      "cell_type": "code",
      "execution_count": null,
      "metadata": {
        "id": "UNY6wbpPPvAN"
      },
      "outputs": [],
      "source": [
        "import pandas as pd\n",
        "import numpy as np\n",
        "import tensorflow as tf\n",
        "import keras as keras\n",
        "import pickle\n",
        "import time\n",
        "\n",
        "#visualization\n",
        "%matplotlib inline\n",
        "import matplotlib.pyplot as plt\n",
        "from matplotlib.pylab import rcParams\n",
        "import graphviz\n",
        "import seaborn as sns\n",
        "from pandas.plotting import scatter_matrix\n",
        "\n",
        "#preprocessing\n",
        "from sklearn.preprocessing import StandardScaler\n",
        "from sklearn.preprocessing import OneHotEncoder\n",
        "from sklearn.preprocessing import label_binarize\n",
        "from sklearn.preprocessing import MultiLabelBinarizer\n",
        "\n",
        "# Oversampling\n",
        "from imblearn.over_sampling import SMOTE\n",
        "\n",
        "# PCA\n",
        "from sklearn.decomposition import PCA\n",
        "from sklearn.decomposition import KernelPCA\n",
        "\n",
        "# Models\n",
        "from sklearn.model_selection import StratifiedShuffleSplit\n",
        "from sklearn.model_selection import train_test_split, cross_validate\n",
        "from sklearn.model_selection import cross_val_score, cross_val_predict\n",
        "from sklearn.model_selection import GridSearchCV\n",
        "from sklearn.model_selection import RandomizedSearchCV\n",
        "\n",
        "from sklearn.multiclass import OneVsOneClassifier, OneVsRestClassifier\n",
        "from sklearn.svm import LinearSVC, SVC, OneClassSVM\n",
        "from sklearn.linear_model import SGDClassifier\n",
        "from sklearn.neighbors import KNeighborsClassifier\n",
        "from sklearn.ensemble import RandomForestClassifier\n",
        "from scipy.stats import reciprocal, uniform\n",
        "\n",
        "import xgboost as xgb\n",
        "from xgboost import XGBClassifier\n",
        "from xgboost import plot_tree\n",
        "from xgboost import plot_importance\n",
        "from xgboost import XGBRegressor\n",
        "\n",
        "# Evaluation\n",
        "from sklearn.metrics import mean_squared_error\n",
        "from sklearn.metrics import classification_report, confusion_matrix\n",
        "from sklearn.metrics import accuracy_score, precision_score, recall_score, f1_score\n",
        "from sklearn.metrics import precision_recall_curve\n",
        "from sklearn.metrics import plot_roc_curve, roc_auc_score, roc_curve, auc\n",
        "from sklearn.metrics.pairwise import rbf_kernel\n",
        "\n",
        "# Keras\n",
        "from keras import models\n",
        "from keras import layers\n",
        "from keras import optimizers\n",
        "from keras import losses\n",
        "from keras import metrics\n",
        "\n",
        "from tensorflow.keras.layers import Input, Dense, Conv1D, GlobalMaxPooling1D\n",
        "from tensorflow.keras.models import Model\n",
        "from tensorflow.keras.optimizers import Adam, Nadam\n",
        "from keras.engine.sequential import Sequential\n"
      ]
    },
    {
      "cell_type": "markdown",
      "metadata": {
        "id": "9U_2YlY1Pggz"
      },
      "source": [
        "# **Functions**"
      ]
    },
    {
      "cell_type": "code",
      "execution_count": null,
      "metadata": {
        "id": "1B6P0ZNbjCCy"
      },
      "outputs": [],
      "source": [
        "# draw histogram\n",
        "def draw_hist(dataset) :\n",
        "  dataset.hist(bins=50, figsize=(20,15))\n",
        "  plt.show()"
      ]
    },
    {
      "cell_type": "code",
      "execution_count": null,
      "metadata": {
        "id": "cWPMTnLwPz-w"
      },
      "outputs": [],
      "source": [
        "# dataset split\n",
        "def get_train_val_test(train, validation, test):           \n",
        "    x_train, y_train = train.drop(['attack_cat', 'attack_type', 'difficulty_level'], axis=1), train['attack_cat']\n",
        "    x_validation, y_validation = validation.drop(['attack_cat', 'attack_type', 'difficulty_level'], axis=1), validation['attack_cat']    \n",
        "    x_test, y_test = test.drop(['attack_cat', 'attack_type', 'difficulty_level'], axis=1), test['attack_cat']\n",
        "\n",
        "    x_train = pd.get_dummies(x_train) # train data set에 대한one-hot 인코딩    \n",
        "    x_validation = pd.get_dummies(x_validation) # validation data set에 대한one-hot 인코딩    \n",
        "    x_test = pd.get_dummies(x_test) # test data set에 대한one-hot 인코딩    \n",
        "\n",
        "    return x_train, y_train, x_validation, y_validation, x_test, y_test"
      ]
    },
    {
      "cell_type": "code",
      "execution_count": null,
      "metadata": {
        "id": "0GnmKAAamS96"
      },
      "outputs": [],
      "source": [
        "# draw mulitple charts\n",
        "def bake_pies(data_list,labels):\n",
        "    list_length = len(data_list)\n",
        "    \n",
        "    # setup for mapping colors\n",
        "    color_list = sns.color_palette()\n",
        "    color_cycle = itertools.cycle(color_list)\n",
        "    cdict = {}\n",
        "    \n",
        "    # build the subplots\n",
        "    fig, axs = plt.subplots(1, list_length,figsize=(18,10), tight_layout=False)\n",
        "    plt.subplots_adjust(wspace=1/list_length)\n",
        "    \n",
        "    # loop through the data sets and build the charts\n",
        "    for count, data_set in enumerate(data_list): \n",
        "        \n",
        "        # update our color mapt with new values\n",
        "        for num, value in enumerate(np.unique(data_set.index)):\n",
        "            if value not in cdict:\n",
        "                cdict[value] = next(color_cycle)\n",
        "       \n",
        "        # build the wedges\n",
        "        wedges,texts = axs[count].pie(data_set,\n",
        "                           colors=[cdict[v] for v in data_set.index])\n",
        "\n",
        "        # build the legend\n",
        "        axs[count].legend(wedges, data_set.index,\n",
        "                           title=\"Flags\",\n",
        "                           loc=\"center left\",\n",
        "                           bbox_to_anchor=(1, 0, 0.5, 1))\n",
        "        # set the title\n",
        "        axs[count].set_title(labels[count])\n",
        "        \n",
        "    return axs   "
      ]
    },
    {
      "cell_type": "code",
      "execution_count": null,
      "metadata": {
        "id": "1rcuS1SmBUtT"
      },
      "outputs": [],
      "source": [
        "def predict(model, x, y):\n",
        "    start = time.time()\n",
        "\n",
        "    pred = model.predict(x)\n",
        "    #predictions = [round(value) for value in pred]\n",
        "\n",
        "    print(\"time :\", time.time() - start)    \n",
        "    \n",
        "    accuracy = accuracy_score(y, pred)\n",
        "    print('Accuracy: %.3f%%\\n\\n' % accuracy )\n",
        "    print(classification_report(y, pred, target_names=['Normal', 'Dos', 'Probe', 'U2R', 'R2L'])+'\\n')\n",
        "    print('roc auc value: %.3f%%\\n\\n' % roc_auc_score(y, pred, multi_class='ovr'))\n",
        "    return pred\n"
      ]
    },
    {
      "cell_type": "code",
      "execution_count": null,
      "metadata": {
        "id": "fcExr6gqgAVX"
      },
      "outputs": [],
      "source": [
        "def predict_nn(model, x, y):\n",
        "    start=time.time()\n",
        "    pred = model.predict(x)\n",
        "    print(\"time :\", time.time() - start)\n",
        "\n",
        "    for i in pred :\n",
        "      idx = np.argmax(i)\n",
        "      i[idx] = 1\n",
        "      j = 0\n",
        "      while j < 5 :\n",
        "        if i[j] != 1:\n",
        "          i[j] = 0\n",
        "          j=j+1\n",
        "        else:\n",
        "          i[j] = 1\n",
        "          j=j+1  \n",
        "    print(classification_report(y, pred, target_names=['Normal', 'Dos', 'Probe', 'U2R', 'R2L']))\n",
        "    print('roc auc value: %.3f%%\\n\\n' % roc_auc_score(y, pred, multi_class='ovr'))\n",
        "    return pred\n"
      ]
    },
    {
      "cell_type": "code",
      "execution_count": null,
      "metadata": {
        "id": "hwSu7fp3M5OC"
      },
      "outputs": [],
      "source": [
        "def sparse(pred):\n",
        "  for i in pred :\n",
        "    idx = np.argmax(i)\n",
        "    i[idx] = 1\n",
        "    j = 0\n",
        "    while j < 5 :\n",
        "      if i[j] != 1:\n",
        "        i[j] = 0\n",
        "        j=j+1\n",
        "      else:\n",
        "        i[j] = 1\n",
        "        j=j+1  \n",
        "  return pred\n"
      ]
    },
    {
      "cell_type": "markdown",
      "metadata": {
        "id": "u9-RfHymFb5U"
      },
      "source": [
        "#**Data Import**"
      ]
    },
    {
      "cell_type": "code",
      "execution_count": null,
      "metadata": {
        "colab": {
          "base_uri": "https://localhost:8080/"
        },
        "id": "rJXoacwIxxIM",
        "outputId": "fc3064f7-dea5-4712-8259-c7a772f14cb3"
      },
      "outputs": [
        {
          "name": "stdout",
          "output_type": "stream",
          "text": [
            "Mounted at /content/drive\n"
          ]
        }
      ],
      "source": [
        "from google.colab import drive\n",
        "drive.mount('/content/drive')"
      ]
    },
    {
      "cell_type": "markdown",
      "metadata": {
        "id": "GDSRyMY8smZK"
      },
      "source": [
        "##**KDD-NSL**"
      ]
    },
    {
      "cell_type": "code",
      "execution_count": null,
      "metadata": {
        "id": "bk10kR04gVxw"
      },
      "outputs": [],
      "source": [
        "NSL_train = pd.read_csv('/content/drive/MyDrive/Colab Notebooks/NSL_KDD-master/KDDTrain+.csv', names=['duration', 'protocol_type', 'service', 'flag', 'src_bytes', 'dst_bytes', 'land', 'wrong_fragment', 'urgent', 'hot', 'num_failed_logins', 'logged_in', 'num_compromised', 'root_shell', 'su_attempted', 'num_root', 'num_file_creations', 'num_shells', 'num_access_files', 'num_outbound_cmds', 'is_host_login', 'is_guest_login', 'count', 'srv_count', 'serror_rate', 'srv_serror_rate', 'rerror_rate', 'srv_rerror_rate', 'same_srv_rate', 'diff_srv_rate', 'srv_diff_host_rate', 'dst_host_count', 'dst_host_srv_count', 'dst_host_same_srv_rate', 'dst_host_diff_srv_rate', 'dst_host_same_src_port_rate', 'dst_host_srv_diff_host_rate', 'dst_host_serror_rate', 'dst_host_srv_serror_rate', 'dst_host_rerror_rate', 'dst_host_srv_rerror_rate','attack_type','difficulty_level'])\n",
        "NSL_test = pd.read_csv('/content/drive/MyDrive/Colab Notebooks/NSL_KDD-master/KDDTest+.csv', names=['duration', 'protocol_type', 'service', 'flag', 'src_bytes', 'dst_bytes', 'land', 'wrong_fragment', 'urgent', 'hot', 'num_failed_logins', 'logged_in', 'num_compromised', 'root_shell', 'su_attempted', 'num_root', 'num_file_creations', 'num_shells', 'num_access_files', 'num_outbound_cmds', 'is_host_login', 'is_guest_login', 'count', 'srv_count', 'serror_rate', 'srv_serror_rate', 'rerror_rate', 'srv_rerror_rate', 'same_srv_rate', 'diff_srv_rate', 'srv_diff_host_rate', 'dst_host_count', 'dst_host_srv_count', 'dst_host_same_srv_rate', 'dst_host_diff_srv_rate', 'dst_host_same_src_port_rate', 'dst_host_srv_diff_host_rate', 'dst_host_serror_rate', 'dst_host_srv_serror_rate', 'dst_host_rerror_rate', 'dst_host_srv_rerror_rate','attack_type','difficulty_level'])"
      ]
    },
    {
      "cell_type": "code",
      "execution_count": null,
      "metadata": {
        "colab": {
          "base_uri": "https://localhost:8080/",
          "height": 488
        },
        "id": "HYaDHbP8kEcH",
        "outputId": "5f4d839f-4515-49d6-ccb2-0b26b322e854"
      },
      "outputs": [
        {
          "data": {
            "text/html": [
              "\n",
              "  <div id=\"df-00d60976-7af4-4f00-b0e1-36a5b57c5019\">\n",
              "    <div class=\"colab-df-container\">\n",
              "      <div>\n",
              "<style scoped>\n",
              "    .dataframe tbody tr th:only-of-type {\n",
              "        vertical-align: middle;\n",
              "    }\n",
              "\n",
              "    .dataframe tbody tr th {\n",
              "        vertical-align: top;\n",
              "    }\n",
              "\n",
              "    .dataframe thead th {\n",
              "        text-align: right;\n",
              "    }\n",
              "</style>\n",
              "<table border=\"1\" class=\"dataframe\">\n",
              "  <thead>\n",
              "    <tr style=\"text-align: right;\">\n",
              "      <th></th>\n",
              "      <th>duration</th>\n",
              "      <th>protocol_type</th>\n",
              "      <th>service</th>\n",
              "      <th>flag</th>\n",
              "      <th>src_bytes</th>\n",
              "      <th>dst_bytes</th>\n",
              "      <th>land</th>\n",
              "      <th>wrong_fragment</th>\n",
              "      <th>urgent</th>\n",
              "      <th>hot</th>\n",
              "      <th>...</th>\n",
              "      <th>dst_host_same_srv_rate</th>\n",
              "      <th>dst_host_diff_srv_rate</th>\n",
              "      <th>dst_host_same_src_port_rate</th>\n",
              "      <th>dst_host_srv_diff_host_rate</th>\n",
              "      <th>dst_host_serror_rate</th>\n",
              "      <th>dst_host_srv_serror_rate</th>\n",
              "      <th>dst_host_rerror_rate</th>\n",
              "      <th>dst_host_srv_rerror_rate</th>\n",
              "      <th>attack_type</th>\n",
              "      <th>difficulty_level</th>\n",
              "    </tr>\n",
              "  </thead>\n",
              "  <tbody>\n",
              "    <tr>\n",
              "      <th>0</th>\n",
              "      <td>0</td>\n",
              "      <td>tcp</td>\n",
              "      <td>private</td>\n",
              "      <td>REJ</td>\n",
              "      <td>0</td>\n",
              "      <td>0</td>\n",
              "      <td>0</td>\n",
              "      <td>0</td>\n",
              "      <td>0</td>\n",
              "      <td>0</td>\n",
              "      <td>...</td>\n",
              "      <td>0.04</td>\n",
              "      <td>0.06</td>\n",
              "      <td>0.00</td>\n",
              "      <td>0.00</td>\n",
              "      <td>0.00</td>\n",
              "      <td>0.0</td>\n",
              "      <td>1.00</td>\n",
              "      <td>1.00</td>\n",
              "      <td>neptune</td>\n",
              "      <td>21</td>\n",
              "    </tr>\n",
              "    <tr>\n",
              "      <th>1</th>\n",
              "      <td>0</td>\n",
              "      <td>tcp</td>\n",
              "      <td>private</td>\n",
              "      <td>REJ</td>\n",
              "      <td>0</td>\n",
              "      <td>0</td>\n",
              "      <td>0</td>\n",
              "      <td>0</td>\n",
              "      <td>0</td>\n",
              "      <td>0</td>\n",
              "      <td>...</td>\n",
              "      <td>0.00</td>\n",
              "      <td>0.06</td>\n",
              "      <td>0.00</td>\n",
              "      <td>0.00</td>\n",
              "      <td>0.00</td>\n",
              "      <td>0.0</td>\n",
              "      <td>1.00</td>\n",
              "      <td>1.00</td>\n",
              "      <td>neptune</td>\n",
              "      <td>21</td>\n",
              "    </tr>\n",
              "    <tr>\n",
              "      <th>2</th>\n",
              "      <td>2</td>\n",
              "      <td>tcp</td>\n",
              "      <td>ftp_data</td>\n",
              "      <td>SF</td>\n",
              "      <td>12983</td>\n",
              "      <td>0</td>\n",
              "      <td>0</td>\n",
              "      <td>0</td>\n",
              "      <td>0</td>\n",
              "      <td>0</td>\n",
              "      <td>...</td>\n",
              "      <td>0.61</td>\n",
              "      <td>0.04</td>\n",
              "      <td>0.61</td>\n",
              "      <td>0.02</td>\n",
              "      <td>0.00</td>\n",
              "      <td>0.0</td>\n",
              "      <td>0.00</td>\n",
              "      <td>0.00</td>\n",
              "      <td>normal</td>\n",
              "      <td>21</td>\n",
              "    </tr>\n",
              "    <tr>\n",
              "      <th>3</th>\n",
              "      <td>0</td>\n",
              "      <td>icmp</td>\n",
              "      <td>eco_i</td>\n",
              "      <td>SF</td>\n",
              "      <td>20</td>\n",
              "      <td>0</td>\n",
              "      <td>0</td>\n",
              "      <td>0</td>\n",
              "      <td>0</td>\n",
              "      <td>0</td>\n",
              "      <td>...</td>\n",
              "      <td>1.00</td>\n",
              "      <td>0.00</td>\n",
              "      <td>1.00</td>\n",
              "      <td>0.28</td>\n",
              "      <td>0.00</td>\n",
              "      <td>0.0</td>\n",
              "      <td>0.00</td>\n",
              "      <td>0.00</td>\n",
              "      <td>saint</td>\n",
              "      <td>15</td>\n",
              "    </tr>\n",
              "    <tr>\n",
              "      <th>4</th>\n",
              "      <td>1</td>\n",
              "      <td>tcp</td>\n",
              "      <td>telnet</td>\n",
              "      <td>RSTO</td>\n",
              "      <td>0</td>\n",
              "      <td>15</td>\n",
              "      <td>0</td>\n",
              "      <td>0</td>\n",
              "      <td>0</td>\n",
              "      <td>0</td>\n",
              "      <td>...</td>\n",
              "      <td>0.31</td>\n",
              "      <td>0.17</td>\n",
              "      <td>0.03</td>\n",
              "      <td>0.02</td>\n",
              "      <td>0.00</td>\n",
              "      <td>0.0</td>\n",
              "      <td>0.83</td>\n",
              "      <td>0.71</td>\n",
              "      <td>mscan</td>\n",
              "      <td>11</td>\n",
              "    </tr>\n",
              "    <tr>\n",
              "      <th>...</th>\n",
              "      <td>...</td>\n",
              "      <td>...</td>\n",
              "      <td>...</td>\n",
              "      <td>...</td>\n",
              "      <td>...</td>\n",
              "      <td>...</td>\n",
              "      <td>...</td>\n",
              "      <td>...</td>\n",
              "      <td>...</td>\n",
              "      <td>...</td>\n",
              "      <td>...</td>\n",
              "      <td>...</td>\n",
              "      <td>...</td>\n",
              "      <td>...</td>\n",
              "      <td>...</td>\n",
              "      <td>...</td>\n",
              "      <td>...</td>\n",
              "      <td>...</td>\n",
              "      <td>...</td>\n",
              "      <td>...</td>\n",
              "      <td>...</td>\n",
              "    </tr>\n",
              "    <tr>\n",
              "      <th>22538</th>\n",
              "      <td>0</td>\n",
              "      <td>tcp</td>\n",
              "      <td>smtp</td>\n",
              "      <td>SF</td>\n",
              "      <td>794</td>\n",
              "      <td>333</td>\n",
              "      <td>0</td>\n",
              "      <td>0</td>\n",
              "      <td>0</td>\n",
              "      <td>0</td>\n",
              "      <td>...</td>\n",
              "      <td>0.72</td>\n",
              "      <td>0.06</td>\n",
              "      <td>0.01</td>\n",
              "      <td>0.01</td>\n",
              "      <td>0.01</td>\n",
              "      <td>0.0</td>\n",
              "      <td>0.00</td>\n",
              "      <td>0.00</td>\n",
              "      <td>normal</td>\n",
              "      <td>21</td>\n",
              "    </tr>\n",
              "    <tr>\n",
              "      <th>22539</th>\n",
              "      <td>0</td>\n",
              "      <td>tcp</td>\n",
              "      <td>http</td>\n",
              "      <td>SF</td>\n",
              "      <td>317</td>\n",
              "      <td>938</td>\n",
              "      <td>0</td>\n",
              "      <td>0</td>\n",
              "      <td>0</td>\n",
              "      <td>0</td>\n",
              "      <td>...</td>\n",
              "      <td>1.00</td>\n",
              "      <td>0.00</td>\n",
              "      <td>0.01</td>\n",
              "      <td>0.01</td>\n",
              "      <td>0.01</td>\n",
              "      <td>0.0</td>\n",
              "      <td>0.00</td>\n",
              "      <td>0.00</td>\n",
              "      <td>normal</td>\n",
              "      <td>21</td>\n",
              "    </tr>\n",
              "    <tr>\n",
              "      <th>22540</th>\n",
              "      <td>0</td>\n",
              "      <td>tcp</td>\n",
              "      <td>http</td>\n",
              "      <td>SF</td>\n",
              "      <td>54540</td>\n",
              "      <td>8314</td>\n",
              "      <td>0</td>\n",
              "      <td>0</td>\n",
              "      <td>0</td>\n",
              "      <td>2</td>\n",
              "      <td>...</td>\n",
              "      <td>1.00</td>\n",
              "      <td>0.00</td>\n",
              "      <td>0.00</td>\n",
              "      <td>0.00</td>\n",
              "      <td>0.00</td>\n",
              "      <td>0.0</td>\n",
              "      <td>0.07</td>\n",
              "      <td>0.07</td>\n",
              "      <td>back</td>\n",
              "      <td>15</td>\n",
              "    </tr>\n",
              "    <tr>\n",
              "      <th>22541</th>\n",
              "      <td>0</td>\n",
              "      <td>udp</td>\n",
              "      <td>domain_u</td>\n",
              "      <td>SF</td>\n",
              "      <td>42</td>\n",
              "      <td>42</td>\n",
              "      <td>0</td>\n",
              "      <td>0</td>\n",
              "      <td>0</td>\n",
              "      <td>0</td>\n",
              "      <td>...</td>\n",
              "      <td>0.99</td>\n",
              "      <td>0.01</td>\n",
              "      <td>0.00</td>\n",
              "      <td>0.00</td>\n",
              "      <td>0.00</td>\n",
              "      <td>0.0</td>\n",
              "      <td>0.00</td>\n",
              "      <td>0.00</td>\n",
              "      <td>normal</td>\n",
              "      <td>21</td>\n",
              "    </tr>\n",
              "    <tr>\n",
              "      <th>22542</th>\n",
              "      <td>0</td>\n",
              "      <td>tcp</td>\n",
              "      <td>sunrpc</td>\n",
              "      <td>REJ</td>\n",
              "      <td>0</td>\n",
              "      <td>0</td>\n",
              "      <td>0</td>\n",
              "      <td>0</td>\n",
              "      <td>0</td>\n",
              "      <td>0</td>\n",
              "      <td>...</td>\n",
              "      <td>0.08</td>\n",
              "      <td>0.03</td>\n",
              "      <td>0.00</td>\n",
              "      <td>0.00</td>\n",
              "      <td>0.00</td>\n",
              "      <td>0.0</td>\n",
              "      <td>0.44</td>\n",
              "      <td>1.00</td>\n",
              "      <td>mscan</td>\n",
              "      <td>14</td>\n",
              "    </tr>\n",
              "  </tbody>\n",
              "</table>\n",
              "<p>22543 rows × 43 columns</p>\n",
              "</div>\n",
              "      <button class=\"colab-df-convert\" onclick=\"convertToInteractive('df-00d60976-7af4-4f00-b0e1-36a5b57c5019')\"\n",
              "              title=\"Convert this dataframe to an interactive table.\"\n",
              "              style=\"display:none;\">\n",
              "        \n",
              "  <svg xmlns=\"http://www.w3.org/2000/svg\" height=\"24px\"viewBox=\"0 0 24 24\"\n",
              "       width=\"24px\">\n",
              "    <path d=\"M0 0h24v24H0V0z\" fill=\"none\"/>\n",
              "    <path d=\"M18.56 5.44l.94 2.06.94-2.06 2.06-.94-2.06-.94-.94-2.06-.94 2.06-2.06.94zm-11 1L8.5 8.5l.94-2.06 2.06-.94-2.06-.94L8.5 2.5l-.94 2.06-2.06.94zm10 10l.94 2.06.94-2.06 2.06-.94-2.06-.94-.94-2.06-.94 2.06-2.06.94z\"/><path d=\"M17.41 7.96l-1.37-1.37c-.4-.4-.92-.59-1.43-.59-.52 0-1.04.2-1.43.59L10.3 9.45l-7.72 7.72c-.78.78-.78 2.05 0 2.83L4 21.41c.39.39.9.59 1.41.59.51 0 1.02-.2 1.41-.59l7.78-7.78 2.81-2.81c.8-.78.8-2.07 0-2.86zM5.41 20L4 18.59l7.72-7.72 1.47 1.35L5.41 20z\"/>\n",
              "  </svg>\n",
              "      </button>\n",
              "      \n",
              "  <style>\n",
              "    .colab-df-container {\n",
              "      display:flex;\n",
              "      flex-wrap:wrap;\n",
              "      gap: 12px;\n",
              "    }\n",
              "\n",
              "    .colab-df-convert {\n",
              "      background-color: #E8F0FE;\n",
              "      border: none;\n",
              "      border-radius: 50%;\n",
              "      cursor: pointer;\n",
              "      display: none;\n",
              "      fill: #1967D2;\n",
              "      height: 32px;\n",
              "      padding: 0 0 0 0;\n",
              "      width: 32px;\n",
              "    }\n",
              "\n",
              "    .colab-df-convert:hover {\n",
              "      background-color: #E2EBFA;\n",
              "      box-shadow: 0px 1px 2px rgba(60, 64, 67, 0.3), 0px 1px 3px 1px rgba(60, 64, 67, 0.15);\n",
              "      fill: #174EA6;\n",
              "    }\n",
              "\n",
              "    [theme=dark] .colab-df-convert {\n",
              "      background-color: #3B4455;\n",
              "      fill: #D2E3FC;\n",
              "    }\n",
              "\n",
              "    [theme=dark] .colab-df-convert:hover {\n",
              "      background-color: #434B5C;\n",
              "      box-shadow: 0px 1px 3px 1px rgba(0, 0, 0, 0.15);\n",
              "      filter: drop-shadow(0px 1px 2px rgba(0, 0, 0, 0.3));\n",
              "      fill: #FFFFFF;\n",
              "    }\n",
              "  </style>\n",
              "\n",
              "      <script>\n",
              "        const buttonEl =\n",
              "          document.querySelector('#df-00d60976-7af4-4f00-b0e1-36a5b57c5019 button.colab-df-convert');\n",
              "        buttonEl.style.display =\n",
              "          google.colab.kernel.accessAllowed ? 'block' : 'none';\n",
              "\n",
              "        async function convertToInteractive(key) {\n",
              "          const element = document.querySelector('#df-00d60976-7af4-4f00-b0e1-36a5b57c5019');\n",
              "          const dataTable =\n",
              "            await google.colab.kernel.invokeFunction('convertToInteractive',\n",
              "                                                     [key], {});\n",
              "          if (!dataTable) return;\n",
              "\n",
              "          const docLinkHtml = 'Like what you see? Visit the ' +\n",
              "            '<a target=\"_blank\" href=https://colab.research.google.com/notebooks/data_table.ipynb>data table notebook</a>'\n",
              "            + ' to learn more about interactive tables.';\n",
              "          element.innerHTML = '';\n",
              "          dataTable['output_type'] = 'display_data';\n",
              "          await google.colab.output.renderOutput(dataTable, element);\n",
              "          const docLink = document.createElement('div');\n",
              "          docLink.innerHTML = docLinkHtml;\n",
              "          element.appendChild(docLink);\n",
              "        }\n",
              "      </script>\n",
              "    </div>\n",
              "  </div>\n",
              "  "
            ],
            "text/plain": [
              "       duration protocol_type   service  flag  src_bytes  dst_bytes  land  \\\n",
              "0             0           tcp   private   REJ          0          0     0   \n",
              "1             0           tcp   private   REJ          0          0     0   \n",
              "2             2           tcp  ftp_data    SF      12983          0     0   \n",
              "3             0          icmp     eco_i    SF         20          0     0   \n",
              "4             1           tcp    telnet  RSTO          0         15     0   \n",
              "...         ...           ...       ...   ...        ...        ...   ...   \n",
              "22538         0           tcp      smtp    SF        794        333     0   \n",
              "22539         0           tcp      http    SF        317        938     0   \n",
              "22540         0           tcp      http    SF      54540       8314     0   \n",
              "22541         0           udp  domain_u    SF         42         42     0   \n",
              "22542         0           tcp    sunrpc   REJ          0          0     0   \n",
              "\n",
              "       wrong_fragment  urgent  hot  ...  dst_host_same_srv_rate  \\\n",
              "0                   0       0    0  ...                    0.04   \n",
              "1                   0       0    0  ...                    0.00   \n",
              "2                   0       0    0  ...                    0.61   \n",
              "3                   0       0    0  ...                    1.00   \n",
              "4                   0       0    0  ...                    0.31   \n",
              "...               ...     ...  ...  ...                     ...   \n",
              "22538               0       0    0  ...                    0.72   \n",
              "22539               0       0    0  ...                    1.00   \n",
              "22540               0       0    2  ...                    1.00   \n",
              "22541               0       0    0  ...                    0.99   \n",
              "22542               0       0    0  ...                    0.08   \n",
              "\n",
              "       dst_host_diff_srv_rate  dst_host_same_src_port_rate  \\\n",
              "0                        0.06                         0.00   \n",
              "1                        0.06                         0.00   \n",
              "2                        0.04                         0.61   \n",
              "3                        0.00                         1.00   \n",
              "4                        0.17                         0.03   \n",
              "...                       ...                          ...   \n",
              "22538                    0.06                         0.01   \n",
              "22539                    0.00                         0.01   \n",
              "22540                    0.00                         0.00   \n",
              "22541                    0.01                         0.00   \n",
              "22542                    0.03                         0.00   \n",
              "\n",
              "       dst_host_srv_diff_host_rate  dst_host_serror_rate  \\\n",
              "0                             0.00                  0.00   \n",
              "1                             0.00                  0.00   \n",
              "2                             0.02                  0.00   \n",
              "3                             0.28                  0.00   \n",
              "4                             0.02                  0.00   \n",
              "...                            ...                   ...   \n",
              "22538                         0.01                  0.01   \n",
              "22539                         0.01                  0.01   \n",
              "22540                         0.00                  0.00   \n",
              "22541                         0.00                  0.00   \n",
              "22542                         0.00                  0.00   \n",
              "\n",
              "       dst_host_srv_serror_rate  dst_host_rerror_rate  \\\n",
              "0                           0.0                  1.00   \n",
              "1                           0.0                  1.00   \n",
              "2                           0.0                  0.00   \n",
              "3                           0.0                  0.00   \n",
              "4                           0.0                  0.83   \n",
              "...                         ...                   ...   \n",
              "22538                       0.0                  0.00   \n",
              "22539                       0.0                  0.00   \n",
              "22540                       0.0                  0.07   \n",
              "22541                       0.0                  0.00   \n",
              "22542                       0.0                  0.44   \n",
              "\n",
              "       dst_host_srv_rerror_rate  attack_type  difficulty_level  \n",
              "0                          1.00      neptune                21  \n",
              "1                          1.00      neptune                21  \n",
              "2                          0.00       normal                21  \n",
              "3                          0.00        saint                15  \n",
              "4                          0.71        mscan                11  \n",
              "...                         ...          ...               ...  \n",
              "22538                      0.00       normal                21  \n",
              "22539                      0.00       normal                21  \n",
              "22540                      0.07         back                15  \n",
              "22541                      0.00       normal                21  \n",
              "22542                      1.00        mscan                14  \n",
              "\n",
              "[22543 rows x 43 columns]"
            ]
          },
          "execution_count": 10,
          "metadata": {},
          "output_type": "execute_result"
        }
      ],
      "source": [
        "NSL_test"
      ]
    },
    {
      "cell_type": "markdown",
      "metadata": {
        "id": "Y_rnrbLsuJOL"
      },
      "source": [
        "### Y"
      ]
    },
    {
      "cell_type": "code",
      "execution_count": null,
      "metadata": {
        "id": "LwltlRn7V6rz"
      },
      "outputs": [],
      "source": [
        "NSL_train['attack_cat'] = NSL_train['attack_type']\n",
        "\n",
        "#normal\n",
        "NSL_train.loc[NSL_train['attack_cat'].isin(['normal']), 'attack_cat'] = 0\n",
        "#dos\n",
        "NSL_train.loc[NSL_train['attack_cat'].isin(['back', 'land', 'neptune', 'pod', 'smurf', 'teardrop', 'apache2', 'processtable', 'udpstorm', 'worm', 'mailbomb']), 'attack_cat'] = 1\n",
        "#probe\n",
        "NSL_train.loc[NSL_train['attack_cat'].isin(['satan', 'ipsweep', 'nmap', 'portsweep','mscan', 'saint']), 'attack_cat'] = 2\n",
        "#u2r\n",
        "NSL_train.loc[NSL_train['attack_cat'].isin(['guess_passwd', 'ftp write', 'imap', 'phf', 'multihop', 'warezclient', 'spy', 'warezmaster', 'named', 'sendmail', 'snmpguess', 'xsnoop', 'xlock', 'snmpgetattack']), 'attack_cat'] = 3\n",
        "#r2l\n",
        "NSL_train.loc[NSL_train['attack_cat'].isin(['buffer_overflow', 'loadmodule', 'perl', 'rootkit', 'ftp_write', 'httptunnel', 'ps', 'sqlattack', 'xterm']), 'attack_cat'] = 4\n",
        "\n",
        "NSL_train['attack_cat'] = pd.to_numeric(NSL_train['attack_cat'])\n",
        "\n",
        "\n",
        "NSL_test['attack_cat'] = NSL_test['attack_type']\n",
        "\n",
        "#normal\n",
        "NSL_test.loc[NSL_test['attack_cat'].isin(['normal']), 'attack_cat'] = 0\n",
        "#dos\n",
        "NSL_test.loc[NSL_test['attack_cat'].isin(['back', 'land', 'neptune', 'pod', 'smurf', 'teardrop', 'apache2', 'processtable', 'udpstorm', 'worm', 'mailbomb']), 'attack_cat'] = 1\n",
        "#probe\n",
        "NSL_test.loc[NSL_test['attack_cat'].isin(['satan', 'ipsweep', 'nmap', 'portsweep','mscan', 'saint']), 'attack_cat'] = 2\n",
        "#u2r\n",
        "NSL_test.loc[NSL_test['attack_cat'].isin(['guess_passwd', 'ftp write', 'imap', 'phf', 'multihop', 'warezclient', 'spy', 'warezmaster', 'named', 'sendmail', 'snmpguess', 'xsnoop', 'xlock', 'snmpgetattack']), 'attack_cat'] = 3\n",
        "#r2l\n",
        "NSL_test.loc[NSL_test['attack_cat'].isin(['buffer_overflow', 'loadmodule', 'perl', 'rootkit', 'ftp_write', 'httptunnel', 'ps', 'sqlattack', 'xterm']), 'attack_cat'] = 4\n",
        "\n",
        "NSL_test['attack_cat'] = pd.to_numeric(NSL_test['attack_cat'])\n"
      ]
    },
    {
      "cell_type": "code",
      "execution_count": null,
      "metadata": {
        "colab": {
          "base_uri": "https://localhost:8080/"
        },
        "id": "WwW3C6rhEXWZ",
        "outputId": "30d88ea4-649d-40cc-d3db-4a91497a8b08"
      },
      "outputs": [
        {
          "data": {
            "text/plain": [
              "array([0, 1, 3, 2, 4])"
            ]
          },
          "execution_count": 12,
          "metadata": {},
          "output_type": "execute_result"
        }
      ],
      "source": [
        "NSL_train['attack_cat'].unique()"
      ]
    },
    {
      "cell_type": "code",
      "execution_count": null,
      "metadata": {
        "colab": {
          "base_uri": "https://localhost:8080/",
          "height": 428
        },
        "id": "4D__xslDhV3V",
        "outputId": "5604db8b-1e9a-4e1f-e267-e76b4f6ebb9c"
      },
      "outputs": [
        {
          "data": {
            "text/plain": [
              "Text(0, 0.5, 'Number of Records')"
            ]
          },
          "execution_count": 13,
          "metadata": {},
          "output_type": "execute_result"
        },
        {
          "data": {
            "image/png": "[encoded data removed]",
            "text/plain": [
              "<Figure size 600x400 with 1 Axes>"
            ]
          },
          "metadata": {},
          "output_type": "display_data"
        }
      ],
      "source": [
        "plt.style.use('default')\n",
        "plt.rcParams['figure.figsize'] = (6, 4)\n",
        "plt.rcParams['font.size'] = 10\n",
        "\n",
        "x = [\"Normal\", \"Dos\", \"Probe\", \"U2R\", \"R2L\"]\n",
        "y = NSL_train.attack_cat.value_counts()\n",
        "\n",
        "plt.bar(x, y)\n",
        "\n",
        "bars = plt.bar(x, y, color='lightgray', edgecolor='black')\n",
        "bars[0].set_hatch('//')\n",
        "bars[1].set_hatch('++')\n",
        "bars[2].set_hatch('XX')\n",
        "bars[3].set_hatch('\\\\')\n",
        "bars[4].set_hatch('*')\n",
        "\n",
        "for i, v in enumerate(x):\n",
        "    plt.text(v, y[i], y[i],\n",
        "             fontsize=9,\n",
        "             color='black',\n",
        "             horizontalalignment='center',\n",
        "             verticalalignment='bottom')\n",
        "\n",
        "plt.title(\"Number of Records by Attack Type - Training Dataset\")\n",
        "plt.xlabel(\"Attack Type\")\n",
        "plt.ylabel(\"Number of Records\")"
      ]
    },
    {
      "cell_type": "code",
      "execution_count": null,
      "metadata": {
        "colab": {
          "base_uri": "https://localhost:8080/",
          "height": 428
        },
        "id": "5gtBWeOPl89s",
        "outputId": "89d2a74b-5236-4c93-8058-0c997a16c2fa"
      },
      "outputs": [
        {
          "data": {
            "text/plain": [
              "Text(0, 0.5, 'Number of Records')"
            ]
          },
          "execution_count": 14,
          "metadata": {},
          "output_type": "execute_result"
        },
        {
          "data": {
            "image/png": "[encoded data removed]",
            "text/plain": [
              "<Figure size 600x400 with 1 Axes>"
            ]
          },
          "metadata": {},
          "output_type": "display_data"
        }
      ],
      "source": [
        "plt.style.use('default')\n",
        "plt.rcParams['figure.figsize'] = (6, 4)\n",
        "plt.rcParams['font.size'] = 10\n",
        "\n",
        "x = [\"Normal\", \"Dos\", \"Probe\", \"U2R\", \"R2L\"]\n",
        "y = NSL_test.attack_cat.value_counts()\n",
        "\n",
        "plt.bar(x, y)\n",
        "\n",
        "bars = plt.bar(x, y, color='lightgray', edgecolor='black')\n",
        "bars[0].set_hatch('//')\n",
        "bars[1].set_hatch('++')\n",
        "bars[2].set_hatch('XX')\n",
        "bars[3].set_hatch('\\\\')\n",
        "bars[4].set_hatch('*')\n",
        "\n",
        "plt.text(\"Normal\", y[0], y[0],\n",
        "        fontsize=9,\n",
        "        color='black',\n",
        "        horizontalalignment='center',\n",
        "        verticalalignment='bottom')\n",
        "plt.text(\"Dos\", y[1], y[1],\n",
        "        fontsize=9,\n",
        "        color='black',\n",
        "        horizontalalignment='center',\n",
        "        verticalalignment='bottom')\n",
        "plt.text(\"Probe\", y[3], y[3],\n",
        "        fontsize=9,\n",
        "        color='black',\n",
        "        horizontalalignment='center',\n",
        "        verticalalignment='bottom')\n",
        "plt.text(\"U2R\", y[2], y[2],\n",
        "        fontsize=9,\n",
        "        color='black',\n",
        "        horizontalalignment='center',\n",
        "        verticalalignment='bottom')\n",
        "plt.text(\"R2L\", y[4], y[4],\n",
        "        fontsize=9,\n",
        "        color='black',\n",
        "        horizontalalignment='center',\n",
        "        verticalalignment='bottom')\n",
        "\n",
        "plt.title(\"Number of Records by Attack Type - Test Dataset\")\n",
        "plt.xlabel(\"Attack Type\")\n",
        "plt.ylabel(\"Number of Records\")\n"
      ]
    },
    {
      "cell_type": "markdown",
      "metadata": {
        "id": "Yw_0F-gzuM_9"
      },
      "source": [
        "### Scaling"
      ]
    },
    {
      "cell_type": "code",
      "execution_count": null,
      "metadata": {
        "colab": {
          "base_uri": "https://localhost:8080/",
          "height": 515
        },
        "id": "G_X8Yu02uR0O",
        "outputId": "cb599bb0-e55f-48b3-b2be-99372d4876d2"
      },
      "outputs": [
        {
          "data": {
            "image/png": "[encoded data removed]",
            "text/plain": [
              "<Figure size 2000x1500 with 42 Axes>"
            ]
          },
          "metadata": {},
          "output_type": "display_data"
        }
      ],
      "source": [
        "NSL_train.hist(bins=30, figsize=(20,15))\n",
        "plt.show()"
      ]
    },
    {
      "cell_type": "code",
      "execution_count": null,
      "metadata": {
        "id": "BYHd80nCZibM"
      },
      "outputs": [],
      "source": [
        "# 스케일링을 위한 Flags 종류 단순화\n",
        "NSL_train.loc[NSL_train['flag'].isin(['SH', 'S3', 'S1', 'S2']), 'flag'] = 'OTH' # flag_OTH로 묶기\n",
        "NSL_test.loc[NSL_test['flag'].isin(['SH', 'S3', 'S1', 'S2']), 'flag'] = 'OTH' # flag_OTH로 묶기\n",
        "\n",
        "# 스케일링을 위한 service 종류 단순화\n",
        "NSL_train.loc[~NSL_train['service'].isin(['http', 'domain_u', 'smtp', 'ftp_data', 'private', 'ftp', 'telnet', 'ecr_i', 'finger', 'z39_50', 'eco_i']), 'service'] = 'other' # 빼고는 state_othres로 묶기\n",
        "NSL_test.loc[~NSL_test['service'].isin(['http', 'domain_u', 'smtp', 'ftp_data', 'private', 'ftp', 'telnet', 'ecr_i', 'finger', 'z39_50', 'eco_i']), 'service'] = 'other' # 빼고는 state_othres로 묶기"
      ]
    },
    {
      "cell_type": "code",
      "execution_count": null,
      "metadata": {
        "colab": {
          "base_uri": "https://localhost:8080/"
        },
        "id": "J5WWwiVRHu_1",
        "outputId": "bb6cd614-df96-4c01-8272-29bd1105b44d"
      },
      "outputs": [
        {
          "data": {
            "text/plain": [
              "SF        74945\n",
              "S0        34851\n",
              "REJ       11233\n",
              "RSTR       2421\n",
              "RSTO       1562\n",
              "OTH         858\n",
              "RSTOS0      103\n",
              "Name: flag, dtype: int64"
            ]
          },
          "execution_count": 17,
          "metadata": {},
          "output_type": "execute_result"
        }
      ],
      "source": [
        "NSL_train.flag.value_counts()"
      ]
    },
    {
      "cell_type": "code",
      "execution_count": null,
      "metadata": {
        "colab": {
          "base_uri": "https://localhost:8080/"
        },
        "id": "ZbKEafq3H7CC",
        "outputId": "e8f0c6a8-43c6-4d74-b593-ac9f2402f5fc"
      },
      "outputs": [
        {
          "data": {
            "text/plain": [
              "SF        14874\n",
              "REJ        3850\n",
              "S0         2013\n",
              "RSTO        773\n",
              "RSTR        669\n",
              "OTH         362\n",
              "RSTOS0        2\n",
              "Name: flag, dtype: int64"
            ]
          },
          "execution_count": 18,
          "metadata": {},
          "output_type": "execute_result"
        }
      ],
      "source": [
        "NSL_test.flag.value_counts()"
      ]
    },
    {
      "cell_type": "code",
      "execution_count": null,
      "metadata": {
        "colab": {
          "base_uri": "https://localhost:8080/"
        },
        "id": "pDl_5EGhIM5r",
        "outputId": "c02f82ec-2cf7-455f-978f-0305891df467"
      },
      "outputs": [
        {
          "data": {
            "text/plain": [
              "http        40338\n",
              "other       27029\n",
              "private     21853\n",
              "domain_u     9043\n",
              "smtp         7313\n",
              "ftp_data     6860\n",
              "eco_i        4586\n",
              "ecr_i        3077\n",
              "telnet       2353\n",
              "finger       1767\n",
              "ftp          1754\n",
              "Name: service, dtype: int64"
            ]
          },
          "execution_count": 19,
          "metadata": {},
          "output_type": "execute_result"
        }
      ],
      "source": [
        "NSL_train.service.value_counts()"
      ]
    },
    {
      "cell_type": "code",
      "execution_count": null,
      "metadata": {
        "colab": {
          "base_uri": "https://localhost:8080/"
        },
        "id": "z3YOEzsVITut",
        "outputId": "c8b1e4cb-0ac8-4238-a54d-b67f5d36a68b"
      },
      "outputs": [
        {
          "data": {
            "text/plain": [
              "http        7853\n",
              "private     4774\n",
              "other       3769\n",
              "telnet      1626\n",
              "smtp         934\n",
              "domain_u     894\n",
              "ftp_data     851\n",
              "ecr_i        752\n",
              "ftp          692\n",
              "eco_i        262\n",
              "finger       136\n",
              "Name: service, dtype: int64"
            ]
          },
          "execution_count": 20,
          "metadata": {},
          "output_type": "execute_result"
        }
      ],
      "source": [
        "NSL_test.service.value_counts()"
      ]
    },
    {
      "cell_type": "code",
      "execution_count": null,
      "metadata": {
        "id": "mAicQN2LJYHQ"
      },
      "outputs": [],
      "source": [
        "split = StratifiedShuffleSplit(n_splits=1, test_size=0.2, random_state=42)\n",
        "for train_index, val_index in split.split(NSL_train, NSL_train['attack_cat']):\n",
        "  train = NSL_train.loc[train_index]\n",
        "  val = NSL_train.loc[val_index]"
      ]
    },
    {
      "cell_type": "code",
      "execution_count": null,
      "metadata": {
        "id": "9Q53enILIt4o"
      },
      "outputs": [],
      "source": [
        "nsl_train_x, nsl_train_y, nsl_val_x, nsl_val_y, nsl_test_x, nsl_test_y = get_train_val_test(train, val, NSL_test)\n"
      ]
    },
    {
      "cell_type": "code",
      "execution_count": null,
      "metadata": {
        "id": "m0dvpc3FGNgA"
      },
      "outputs": [],
      "source": [
        "# feature Scaling\n",
        "scaler=StandardScaler()\n",
        "scaler.fit(nsl_train_x)\n",
        "nsl_train_x_scaled=scaler.transform(nsl_train_x)\n",
        "nsl_val_x_scaled=scaler.transform(nsl_val_x)\n",
        "nsl_test_x_scaled=scaler.transform(nsl_test_x)"
      ]
    },
    {
      "cell_type": "code",
      "execution_count": null,
      "metadata": {
        "id": "T5WK3gDC6Rpw"
      },
      "outputs": [],
      "source": [
        "nsl_train_y_one = tf.keras.utils.to_categorical(nsl_train_y)\n",
        "nsl_val_y_one = tf.keras.utils.to_categorical(nsl_val_y)\n",
        "nsl_test_y_one = tf.keras.utils.to_categorical(nsl_test_y)"
      ]
    },
    {
      "cell_type": "code",
      "execution_count": null,
      "metadata": {
        "colab": {
          "base_uri": "https://localhost:8080/"
        },
        "id": "dEJwHO4_MsFB",
        "outputId": "3efc347f-825d-4e6e-f240-019b23c0e594"
      },
      "outputs": [
        {
          "data": {
            "text/plain": [
              "array([[1., 0., 0., 0., 0.],\n",
              "       [0., 1., 0., 0., 0.],\n",
              "       [0., 1., 0., 0., 0.],\n",
              "       ...,\n",
              "       [1., 0., 0., 0., 0.],\n",
              "       [1., 0., 0., 0., 0.],\n",
              "       [1., 0., 0., 0., 0.]], dtype=float32)"
            ]
          },
          "execution_count": 25,
          "metadata": {},
          "output_type": "execute_result"
        }
      ],
      "source": [
        "nsl_train_y_one"
      ]
    },
    {
      "cell_type": "code",
      "execution_count": null,
      "metadata": {
        "id": "be5XVBVtJ1wU"
      },
      "outputs": [],
      "source": [
        "NSL_train.loc[NSL_train['attack_cat'].isin(['normal']), 'attack_cat'] = 0\n",
        "#dos\n",
        "NSL_train.loc[NSL_train['attack_cat'].isin(['back', 'land', 'neptune', 'pod', 'smurf', 'teardrop', 'apache2', 'processtable', 'udpstorm', 'worm', 'mailbomb']), 'attack_cat'] = 1\n",
        "#probe\n",
        "NSL_train.loc[NSL_train['attack_cat'].isin(['satan', 'ipsweep', 'nmap', 'portsweep','mscan', 'saint']), 'attack_cat'] = 2\n",
        "#u2r\n",
        "NSL_train.loc[NSL_train['attack_cat'].isin(['guess_passwd', 'ftp write', 'imap', 'phf', 'multihop', 'warezclient', 'spy', 'warezmaster', 'named', 'sendmail', 'snmpguess', 'xsnoop', 'xlock', 'snmpgetattack']), 'attack_cat'] = 3\n",
        "#r2l\n",
        "NSL_train.loc[NSL_train['attack_cat'].isin(['buffer_overflow', 'loadmodule', 'perl', 'rootkit', 'ftp_write', 'httptunnel', 'ps', 'sqlattack', 'xterm']), 'attack_cat'] = 4\n",
        "\n"
      ]
    },
    {
      "cell_type": "markdown",
      "metadata": {
        "id": "GUNfhw7yXUxD"
      },
      "source": [
        "#**Models**"
      ]
    },
    {
      "cell_type": "markdown",
      "metadata": {
        "id": "I5adfGF0dTxl"
      },
      "source": [
        "## **Baseline(None)**"
      ]
    },
    {
      "cell_type": "markdown",
      "metadata": {
        "id": "sHMmDgwcBk05"
      },
      "source": [
        "### **SVM**"
      ]
    },
    {
      "cell_type": "code",
      "execution_count": null,
      "metadata": {
        "colab": {
          "base_uri": "https://localhost:8080/"
        },
        "id": "qAn9lbJiGj7N",
        "outputId": "747fe765-6ae5-4dae-b04d-551a8dab2aec"
      },
      "outputs": [
        {
          "name": "stdout",
          "output_type": "stream",
          "text": [
            "time : 2504.8109447956085\n"
          ]
        }
      ],
      "source": [
        "start = time.time()\n",
        "\n",
        "svm = OneVsRestClassifier(SVC(kernel=\"rbf\", gamma=1, C=10))\n",
        "svm.fit(nsl_train_x_scaled, nsl_train_y_one)\n",
        "\n",
        "print(\"time :\", time.time() - start)"
      ]
    },
    {
      "cell_type": "code",
      "execution_count": null,
      "metadata": {
        "colab": {
          "base_uri": "https://localhost:8080/"
        },
        "id": "dFAEwySRibmK",
        "outputId": "690b8f5e-d495-45fb-b5fc-6a276ed13e77"
      },
      "outputs": [
        {
          "name": "stdout",
          "output_type": "stream",
          "text": [
            "time : 86.85033917427063\n",
            "Accuracy: 0.995%\n",
            "\n",
            "\n",
            "              precision    recall  f1-score   support\n",
            "\n",
            "      Normal       0.99      1.00      1.00     13469\n",
            "         Dos       1.00      1.00      1.00      9186\n",
            "       Probe       1.00      0.97      0.98      2331\n",
            "         U2R       0.96      0.88      0.92       197\n",
            "         R2L       0.75      0.25      0.38        12\n",
            "\n",
            "   micro avg       1.00      0.99      1.00     25195\n",
            "   macro avg       0.94      0.82      0.85     25195\n",
            "weighted avg       1.00      0.99      0.99     25195\n",
            " samples avg       0.99      0.99      0.99     25195\n",
            "\n",
            "\n",
            "roc auc value: 0.909%\n",
            "\n",
            "\n"
          ]
        },
        {
          "name": "stderr",
          "output_type": "stream",
          "text": [
            "/usr/local/lib/python3.8/dist-packages/sklearn/metrics/_classification.py:1318: UndefinedMetricWarning: Precision and F-score are ill-defined and being set to 0.0 in samples with no predicted labels. Use `zero_division` parameter to control this behavior.\n",
            "  _warn_prf(average, modifier, msg_start, len(result))\n"
          ]
        },
        {
          "data": {
            "text/plain": [
              "array([[1, 0, 0, 0, 0],\n",
              "       [0, 0, 0, 1, 0],\n",
              "       [1, 0, 0, 0, 0],\n",
              "       ...,\n",
              "       [0, 1, 0, 0, 0],\n",
              "       [1, 0, 0, 0, 0],\n",
              "       [1, 0, 0, 0, 0]])"
            ]
          },
          "execution_count": 28,
          "metadata": {},
          "output_type": "execute_result"
        }
      ],
      "source": [
        "predict(svm, nsl_val_x_scaled, nsl_val_y_one)"
      ]
    },
    {
      "cell_type": "code",
      "execution_count": null,
      "metadata": {
        "colab": {
          "base_uri": "https://localhost:8080/"
        },
        "id": "xCJehF7VmAIh",
        "outputId": "6f07a046-20ab-471d-9e89-12888ca3e868"
      },
      "outputs": [
        {
          "name": "stdout",
          "output_type": "stream",
          "text": [
            "time : 79.3085298538208\n",
            "Accuracy: 0.706%\n",
            "\n",
            "\n",
            "              precision    recall  f1-score   support\n",
            "\n",
            "      Normal       0.60      0.99      0.75      9710\n",
            "         Dos       0.99      0.71      0.83      7460\n",
            "       Probe       0.92      0.42      0.58      2421\n",
            "         U2R       0.90      0.01      0.03      2749\n",
            "         R2L       0.00      0.00      0.00       203\n",
            "\n",
            "   micro avg       0.71      0.71      0.71     22543\n",
            "   macro avg       0.68      0.43      0.44     22543\n",
            "weighted avg       0.80      0.71      0.66     22543\n",
            " samples avg       0.71      0.71      0.71     22543\n",
            "\n",
            "\n",
            "roc auc value: 0.664%\n",
            "\n",
            "\n"
          ]
        },
        {
          "name": "stderr",
          "output_type": "stream",
          "text": [
            "/usr/local/lib/python3.8/dist-packages/sklearn/metrics/_classification.py:1318: UndefinedMetricWarning: Precision and F-score are ill-defined and being set to 0.0 in samples with no predicted labels. Use `zero_division` parameter to control this behavior.\n",
            "  _warn_prf(average, modifier, msg_start, len(result))\n"
          ]
        },
        {
          "data": {
            "text/plain": [
              "array([[0, 1, 0, 0, 0],\n",
              "       [0, 1, 0, 0, 0],\n",
              "       [1, 0, 0, 0, 0],\n",
              "       ...,\n",
              "       [0, 1, 0, 0, 0],\n",
              "       [1, 0, 0, 0, 0],\n",
              "       [1, 0, 0, 0, 0]])"
            ]
          },
          "execution_count": 29,
          "metadata": {},
          "output_type": "execute_result"
        }
      ],
      "source": [
        "predict(svm, nsl_test_x_scaled, nsl_test_y_one)"
      ]
    },
    {
      "cell_type": "markdown",
      "metadata": {
        "id": "h40RSp3CHxYx"
      },
      "source": [
        "### RF"
      ]
    },
    {
      "cell_type": "code",
      "execution_count": null,
      "metadata": {
        "colab": {
          "base_uri": "https://localhost:8080/"
        },
        "id": "fETPGVuSg4PQ",
        "outputId": "8262c2ad-3114-4d9b-9ffa-c38a1b33a82e"
      },
      "outputs": [
        {
          "name": "stdout",
          "output_type": "stream",
          "text": [
            "최적 하이퍼 파라미터:  {'max_depth': 12, 'min_samples_leaf': 8, 'min_samples_split': 20, 'n_estimators': 100}\n",
            "최고 예측 정확도: 0.9963\n"
          ]
        }
      ],
      "source": [
        "params = { 'n_estimators' : [10, 100],\n",
        "           'max_depth' : [6, 8, 10, 12],\n",
        "           'min_samples_leaf' : [8, 12, 18],\n",
        "           'min_samples_split' : [8, 16, 20]\n",
        "            }\n",
        "\n",
        "rf_clf = RandomForestClassifier(random_state = 0, n_jobs = -1)\n",
        "grid_cv = GridSearchCV(rf_clf, param_grid = params, cv = 3, n_jobs = -1)\n",
        "grid_cv.fit(nsl_train_x_scaled, nsl_train_y_one)\n",
        "\n",
        "print('최적 하이퍼 파라미터: ', grid_cv.best_params_)\n",
        "print('최고 예측 정확도: {:.4f}'.format(grid_cv.best_score_))"
      ]
    },
    {
      "cell_type": "code",
      "execution_count": null,
      "metadata": {
        "colab": {
          "base_uri": "https://localhost:8080/"
        },
        "id": "OZUJUlUOOk4O",
        "outputId": "f368514a-7732-4e86-db8b-17e5cf4fb465"
      },
      "outputs": [
        {
          "name": "stdout",
          "output_type": "stream",
          "text": [
            "time : 8.08535099029541\n"
          ]
        }
      ],
      "source": [
        "start = time.time()\n",
        "\n",
        "rf = RandomForestClassifier(n_estimators=100, min_samples_split=20, min_samples_leaf=8, max_depth=12, n_jobs=-1)\n",
        "rf.fit(nsl_train_x_scaled, nsl_train_y_one)\n",
        "\n",
        "print(\"time :\", time.time() - start)"
      ]
    },
    {
      "cell_type": "code",
      "execution_count": null,
      "metadata": {
        "colab": {
          "base_uri": "https://localhost:8080/"
        },
        "id": "0TcY8hgyO5Hb",
        "outputId": "a858d6c5-4b56-400c-ff66-ff066eb38e15"
      },
      "outputs": [
        {
          "name": "stdout",
          "output_type": "stream",
          "text": [
            "time : 0.5877799987792969\n",
            "Accuracy: 0.996%\n",
            "\n",
            "\n",
            "              precision    recall  f1-score   support\n",
            "\n",
            "      Normal       1.00      1.00      1.00     13469\n",
            "         Dos       1.00      1.00      1.00      9186\n",
            "       Probe       1.00      0.98      0.99      2331\n",
            "         U2R       0.99      0.80      0.89       197\n",
            "         R2L       0.00      0.00      0.00        12\n",
            "\n",
            "   micro avg       1.00      1.00      1.00     25195\n",
            "   macro avg       0.80      0.76      0.78     25195\n",
            "weighted avg       1.00      1.00      1.00     25195\n",
            " samples avg       1.00      1.00      1.00     25195\n",
            "\n",
            "\n",
            "roc auc value: 0.878%\n",
            "\n",
            "\n"
          ]
        },
        {
          "name": "stderr",
          "output_type": "stream",
          "text": [
            "/usr/local/lib/python3.8/dist-packages/sklearn/metrics/_classification.py:1318: UndefinedMetricWarning: Precision and F-score are ill-defined and being set to 0.0 in labels with no predicted samples. Use `zero_division` parameter to control this behavior.\n",
            "  _warn_prf(average, modifier, msg_start, len(result))\n",
            "/usr/local/lib/python3.8/dist-packages/sklearn/metrics/_classification.py:1318: UndefinedMetricWarning: Precision and F-score are ill-defined and being set to 0.0 in samples with no predicted labels. Use `zero_division` parameter to control this behavior.\n",
            "  _warn_prf(average, modifier, msg_start, len(result))\n"
          ]
        },
        {
          "data": {
            "text/plain": [
              "array([[1., 0., 0., 0., 0.],\n",
              "       [0., 0., 0., 1., 0.],\n",
              "       [1., 0., 0., 0., 0.],\n",
              "       ...,\n",
              "       [0., 1., 0., 0., 0.],\n",
              "       [1., 0., 0., 0., 0.],\n",
              "       [1., 0., 0., 0., 0.]], dtype=float32)"
            ]
          },
          "execution_count": 147,
          "metadata": {},
          "output_type": "execute_result"
        }
      ],
      "source": [
        "predict(rf, nsl_val_x_scaled, nsl_val_y_one)"
      ]
    },
    {
      "cell_type": "code",
      "execution_count": null,
      "metadata": {
        "colab": {
          "base_uri": "https://localhost:8080/"
        },
        "id": "oWl5AgNwPDKi",
        "outputId": "390bd93f-8036-4055-8b97-3775daeab616"
      },
      "outputs": [
        {
          "name": "stdout",
          "output_type": "stream",
          "text": [
            "time : 0.9288337230682373\n",
            "Accuracy: 0.741%\n",
            "\n",
            "\n",
            "              precision    recall  f1-score   support\n",
            "\n",
            "      Normal       0.66      0.97      0.79      9710\n",
            "         Dos       0.96      0.77      0.85      7460\n",
            "       Probe       0.88      0.59      0.70      2421\n",
            "         U2R       1.00      0.04      0.08      2749\n",
            "         R2L       0.00      0.00      0.00       203\n",
            "\n",
            "   micro avg       0.76      0.74      0.75     22543\n",
            "   macro avg       0.70      0.47      0.48     22543\n",
            "weighted avg       0.82      0.74      0.71     22543\n",
            " samples avg       0.74      0.74      0.74     22543\n",
            "\n",
            "\n",
            "roc auc value: 0.697%\n",
            "\n",
            "\n"
          ]
        },
        {
          "name": "stderr",
          "output_type": "stream",
          "text": [
            "/usr/local/lib/python3.8/dist-packages/sklearn/metrics/_classification.py:1318: UndefinedMetricWarning: Precision and F-score are ill-defined and being set to 0.0 in labels with no predicted samples. Use `zero_division` parameter to control this behavior.\n",
            "  _warn_prf(average, modifier, msg_start, len(result))\n",
            "/usr/local/lib/python3.8/dist-packages/sklearn/metrics/_classification.py:1318: UndefinedMetricWarning: Precision and F-score are ill-defined and being set to 0.0 in samples with no predicted labels. Use `zero_division` parameter to control this behavior.\n",
            "  _warn_prf(average, modifier, msg_start, len(result))\n"
          ]
        },
        {
          "data": {
            "text/plain": [
              "array([[0., 1., 0., 0., 0.],\n",
              "       [0., 1., 0., 0., 0.],\n",
              "       [1., 0., 0., 0., 0.],\n",
              "       ...,\n",
              "       [0., 1., 0., 0., 0.],\n",
              "       [1., 0., 0., 0., 0.],\n",
              "       [0., 0., 0., 0., 0.]], dtype=float32)"
            ]
          },
          "execution_count": 153,
          "metadata": {},
          "output_type": "execute_result"
        }
      ],
      "source": [
        "predict(rf, nsl_test_x_scaled, nsl_test_y_one)"
      ]
    },
    {
      "cell_type": "markdown",
      "metadata": {
        "id": "9WlSbzeQH4gR"
      },
      "source": [
        "###KNN\n"
      ]
    },
    {
      "cell_type": "code",
      "execution_count": null,
      "metadata": {
        "colab": {
          "base_uri": "https://localhost:8080/"
        },
        "id": "pu05m9GlH6bz",
        "outputId": "849a4f8e-0bf1-42fe-bb21-5457df27e915"
      },
      "outputs": [
        {
          "name": "stdout",
          "output_type": "stream",
          "text": [
            "time : 0.028630971908569336\n"
          ]
        }
      ],
      "source": [
        "start = time.time()\n",
        "\n",
        "knn = KNeighborsClassifier(n_neighbors=3)\n",
        "knn.fit(nsl_train_x_scaled, nsl_train_y_one)\n",
        "\n",
        "print(\"time :\", time.time() - start)"
      ]
    },
    {
      "cell_type": "code",
      "execution_count": null,
      "metadata": {
        "colab": {
          "base_uri": "https://localhost:8080/"
        },
        "id": "IlzlnXDaDK03",
        "outputId": "0e8c88ae-2284-4da9-b4bb-2fb9b6aed82b"
      },
      "outputs": [
        {
          "name": "stdout",
          "output_type": "stream",
          "text": [
            "time : 29.28916597366333\n",
            "Accuracy: 0.997%\n",
            "\n",
            "\n",
            "              precision    recall  f1-score   support\n",
            "\n",
            "      Normal       1.00      1.00      1.00     13469\n",
            "         Dos       1.00      1.00      1.00      9186\n",
            "       Probe       0.99      0.99      0.99      2331\n",
            "         U2R       0.95      0.93      0.94       197\n",
            "         R2L       0.50      0.50      0.50        12\n",
            "\n",
            "   micro avg       1.00      1.00      1.00     25195\n",
            "   macro avg       0.89      0.88      0.89     25195\n",
            "weighted avg       1.00      1.00      1.00     25195\n",
            " samples avg       1.00      1.00      1.00     25195\n",
            "\n",
            "\n",
            "roc auc value: 0.941%\n",
            "\n",
            "\n"
          ]
        },
        {
          "name": "stderr",
          "output_type": "stream",
          "text": [
            "/usr/local/lib/python3.8/dist-packages/sklearn/metrics/_classification.py:1318: UndefinedMetricWarning: Precision and F-score are ill-defined and being set to 0.0 in samples with no predicted labels. Use `zero_division` parameter to control this behavior.\n",
            "  _warn_prf(average, modifier, msg_start, len(result))\n"
          ]
        },
        {
          "data": {
            "text/plain": [
              "array([[1., 0., 0., 0., 0.],\n",
              "       [0., 0., 0., 1., 0.],\n",
              "       [1., 0., 0., 0., 0.],\n",
              "       ...,\n",
              "       [0., 1., 0., 0., 0.],\n",
              "       [1., 0., 0., 0., 0.],\n",
              "       [1., 0., 0., 0., 0.]], dtype=float32)"
            ]
          },
          "execution_count": 150,
          "metadata": {},
          "output_type": "execute_result"
        }
      ],
      "source": [
        "predict(knn, nsl_val_x_scaled, nsl_val_y_one)"
      ]
    },
    {
      "cell_type": "code",
      "execution_count": null,
      "metadata": {
        "colab": {
          "base_uri": "https://localhost:8080/"
        },
        "id": "8_TMRTp-DpIW",
        "outputId": "36fad15a-093c-4939-d8f6-de200c1dc554"
      },
      "outputs": [
        {
          "name": "stdout",
          "output_type": "stream",
          "text": [
            "time : 26.209755420684814\n",
            "Accuracy: 0.770%\n",
            "\n",
            "\n",
            "              precision    recall  f1-score   support\n",
            "\n",
            "      Normal       0.67      0.97      0.79      9710\n",
            "         Dos       0.96      0.81      0.88      7460\n",
            "       Probe       0.85      0.75      0.80      2421\n",
            "         U2R       0.95      0.03      0.06      2749\n",
            "         R2L       0.36      0.11      0.17       203\n",
            "\n",
            "   micro avg       0.77      0.77      0.77     22543\n",
            "   macro avg       0.76      0.53      0.54     22543\n",
            "weighted avg       0.82      0.77      0.73     22543\n",
            " samples avg       0.77      0.77      0.77     22543\n",
            "\n",
            "\n",
            "roc auc value: 0.728%\n",
            "\n",
            "\n"
          ]
        },
        {
          "name": "stderr",
          "output_type": "stream",
          "text": [
            "/usr/local/lib/python3.8/dist-packages/sklearn/metrics/_classification.py:1318: UndefinedMetricWarning: Precision and F-score are ill-defined and being set to 0.0 in samples with no predicted labels. Use `zero_division` parameter to control this behavior.\n",
            "  _warn_prf(average, modifier, msg_start, len(result))\n"
          ]
        },
        {
          "data": {
            "text/plain": [
              "array([[0., 1., 0., 0., 0.],\n",
              "       [0., 1., 0., 0., 0.],\n",
              "       [1., 0., 0., 0., 0.],\n",
              "       ...,\n",
              "       [0., 1., 0., 0., 0.],\n",
              "       [1., 0., 0., 0., 0.],\n",
              "       [0., 0., 1., 0., 0.]], dtype=float32)"
            ]
          },
          "execution_count": 151,
          "metadata": {},
          "output_type": "execute_result"
        }
      ],
      "source": [
        "predict(knn, nsl_test_x_scaled, nsl_test_y_one)"
      ]
    },
    {
      "cell_type": "code",
      "execution_count": null,
      "metadata": {
        "id": "JOjYS6ENHEcY"
      },
      "outputs": [],
      "source": []
    },
    {
      "cell_type": "markdown",
      "metadata": {
        "id": "4AjQXdDxH7pw"
      },
      "source": [
        "###XGBoost"
      ]
    },
    {
      "cell_type": "code",
      "execution_count": null,
      "metadata": {
        "colab": {
          "base_uri": "https://localhost:8080/",
          "height": 497
        },
        "id": "GcQmhTN_9EwF",
        "outputId": "fcf51314-1ed1-4af0-93f5-455ab5f1da76"
      },
      "outputs": [
        {
          "ename": "ValueError",
          "evalue": "ignored",
          "output_type": "error",
          "traceback": [
            "\u001b[0;31m---------------------------------------------------------------------------\u001b[0m",
            "\u001b[0;31mValueError\u001b[0m                                Traceback (most recent call last)",
            "\u001b[0;32m<ipython-input-152-02116fdb7864>\u001b[0m in \u001b[0;36m<module>\u001b[0;34m\u001b[0m\n\u001b[1;32m      1\u001b[0m \u001b[0mxgb\u001b[0m \u001b[0;34m=\u001b[0m \u001b[0mXGBClassifier\u001b[0m\u001b[0;34m(\u001b[0m\u001b[0;34m)\u001b[0m\u001b[0;34m\u001b[0m\u001b[0;34m\u001b[0m\u001b[0m\n\u001b[1;32m      2\u001b[0m \u001b[0mxg_parameters\u001b[0m \u001b[0;34m=\u001b[0m\u001b[0;34m{\u001b[0m\u001b[0;34m'max_depth'\u001b[0m \u001b[0;34m:\u001b[0m \u001b[0;34m[\u001b[0m\u001b[0;36m3\u001b[0m\u001b[0;34m,\u001b[0m\u001b[0;36m4\u001b[0m\u001b[0;34m,\u001b[0m\u001b[0;36m5\u001b[0m\u001b[0;34m,\u001b[0m\u001b[0;36m6\u001b[0m\u001b[0;34m]\u001b[0m \u001b[0;34m,\u001b[0m \u001b[0;34m'n_estimators'\u001b[0m\u001b[0;34m:\u001b[0m \u001b[0;34m[\u001b[0m\u001b[0;36m12\u001b[0m\u001b[0;34m,\u001b[0m\u001b[0;36m24\u001b[0m\u001b[0;34m,\u001b[0m\u001b[0;36m32\u001b[0m\u001b[0;34m]\u001b[0m\u001b[0;34m,\u001b[0m \u001b[0;34m'learning_rate'\u001b[0m\u001b[0;34m:\u001b[0m\u001b[0;34m[\u001b[0m\u001b[0;36m0.01\u001b[0m\u001b[0;34m,\u001b[0m \u001b[0;36m0.1\u001b[0m\u001b[0;34m]\u001b[0m\u001b[0;34m,\u001b[0m \u001b[0;34m'gamma'\u001b[0m\u001b[0;34m:\u001b[0m \u001b[0;34m[\u001b[0m\u001b[0;36m0.5\u001b[0m\u001b[0;34m,\u001b[0m \u001b[0;36m1\u001b[0m\u001b[0;34m,\u001b[0m \u001b[0;36m2\u001b[0m\u001b[0;34m]\u001b[0m\u001b[0;34m,\u001b[0m \u001b[0;34m'random_state'\u001b[0m\u001b[0;34m:\u001b[0m\u001b[0;36m42\u001b[0m\u001b[0;34m}\u001b[0m\u001b[0;34m\u001b[0m\u001b[0;34m\u001b[0m\u001b[0m\n\u001b[0;32m----> 3\u001b[0;31m \u001b[0mgrid_search_xg\u001b[0m \u001b[0;34m=\u001b[0m \u001b[0mGridSearchCV\u001b[0m\u001b[0;34m(\u001b[0m\u001b[0mxgb\u001b[0m\u001b[0;34m,\u001b[0m \u001b[0mparam_grid\u001b[0m \u001b[0;34m=\u001b[0m \u001b[0mxg_parameters\u001b[0m\u001b[0;34m,\u001b[0m \u001b[0mscoring\u001b[0m \u001b[0;34m=\u001b[0m \u001b[0;34m'accuracy'\u001b[0m\u001b[0;34m,\u001b[0m \u001b[0mcv\u001b[0m \u001b[0;34m=\u001b[0m \u001b[0;36m10\u001b[0m\u001b[0;34m)\u001b[0m\u001b[0;34m\u001b[0m\u001b[0;34m\u001b[0m\u001b[0m\n\u001b[0m\u001b[1;32m      4\u001b[0m \u001b[0mgrid_search_xg\u001b[0m\u001b[0;34m.\u001b[0m\u001b[0mfit\u001b[0m\u001b[0;34m(\u001b[0m\u001b[0mnsl_train_x_scaled\u001b[0m\u001b[0;34m,\u001b[0m \u001b[0mnsl_train_y\u001b[0m\u001b[0;34m)\u001b[0m\u001b[0;34m\u001b[0m\u001b[0;34m\u001b[0m\u001b[0m\n\u001b[1;32m      5\u001b[0m \u001b[0mbest_xgb\u001b[0m \u001b[0;34m=\u001b[0m \u001b[0mgrid_search_xg\u001b[0m\u001b[0;34m.\u001b[0m\u001b[0mbest_estimator_\u001b[0m\u001b[0;34m\u001b[0m\u001b[0;34m\u001b[0m\u001b[0m\n",
            "\u001b[0;32m/usr/local/lib/python3.8/dist-packages/sklearn/model_selection/_search.py\u001b[0m in \u001b[0;36m__init__\u001b[0;34m(self, estimator, param_grid, scoring, n_jobs, refit, cv, verbose, pre_dispatch, error_score, return_train_score)\u001b[0m\n\u001b[1;32m   1386\u001b[0m         )\n\u001b[1;32m   1387\u001b[0m         \u001b[0mself\u001b[0m\u001b[0;34m.\u001b[0m\u001b[0mparam_grid\u001b[0m \u001b[0;34m=\u001b[0m \u001b[0mparam_grid\u001b[0m\u001b[0;34m\u001b[0m\u001b[0;34m\u001b[0m\u001b[0m\n\u001b[0;32m-> 1388\u001b[0;31m         \u001b[0m_check_param_grid\u001b[0m\u001b[0;34m(\u001b[0m\u001b[0mparam_grid\u001b[0m\u001b[0;34m)\u001b[0m\u001b[0;34m\u001b[0m\u001b[0;34m\u001b[0m\u001b[0m\n\u001b[0m\u001b[1;32m   1389\u001b[0m \u001b[0;34m\u001b[0m\u001b[0m\n\u001b[1;32m   1390\u001b[0m     \u001b[0;32mdef\u001b[0m \u001b[0m_run_search\u001b[0m\u001b[0;34m(\u001b[0m\u001b[0mself\u001b[0m\u001b[0;34m,\u001b[0m \u001b[0mevaluate_candidates\u001b[0m\u001b[0;34m)\u001b[0m\u001b[0;34m:\u001b[0m\u001b[0;34m\u001b[0m\u001b[0;34m\u001b[0m\u001b[0m\n",
            "\u001b[0;32m/usr/local/lib/python3.8/dist-packages/sklearn/model_selection/_search.py\u001b[0m in \u001b[0;36m_check_param_grid\u001b[0;34m(param_grid)\u001b[0m\n\u001b[1;32m    332\u001b[0m \u001b[0;34m\u001b[0m\u001b[0m\n\u001b[1;32m    333\u001b[0m             \u001b[0;32mif\u001b[0m \u001b[0misinstance\u001b[0m\u001b[0;34m(\u001b[0m\u001b[0mv\u001b[0m\u001b[0;34m,\u001b[0m \u001b[0mstr\u001b[0m\u001b[0;34m)\u001b[0m \u001b[0;32mor\u001b[0m \u001b[0;32mnot\u001b[0m \u001b[0misinstance\u001b[0m\u001b[0;34m(\u001b[0m\u001b[0mv\u001b[0m\u001b[0;34m,\u001b[0m \u001b[0;34m(\u001b[0m\u001b[0mnp\u001b[0m\u001b[0;34m.\u001b[0m\u001b[0mndarray\u001b[0m\u001b[0;34m,\u001b[0m \u001b[0mSequence\u001b[0m\u001b[0;34m)\u001b[0m\u001b[0;34m)\u001b[0m\u001b[0;34m:\u001b[0m\u001b[0;34m\u001b[0m\u001b[0;34m\u001b[0m\u001b[0m\n\u001b[0;32m--> 334\u001b[0;31m                 raise ValueError(\n\u001b[0m\u001b[1;32m    335\u001b[0m                     \u001b[0;34m\"Parameter grid for parameter ({0}) needs to\"\u001b[0m\u001b[0;34m\u001b[0m\u001b[0;34m\u001b[0m\u001b[0m\n\u001b[1;32m    336\u001b[0m                     \u001b[0;34m\" be a list or numpy array, but got ({1}).\"\u001b[0m\u001b[0;34m\u001b[0m\u001b[0;34m\u001b[0m\u001b[0m\n",
            "\u001b[0;31mValueError\u001b[0m: Parameter grid for parameter (random_state) needs to be a list or numpy array, but got (<class 'int'>). Single values need to be wrapped in a list with one element."
          ]
        }
      ],
      "source": [
        "xgb = XGBClassifier()\n",
        "xg_parameters ={'max_depth' : [3,4,5,6] , 'n_estimators': [12,24,32], 'learning_rate':[0.01, 0.1], 'gamma': [0.5, 1, 2], 'random_state':42}\n",
        "grid_search_xg = GridSearchCV(xgb, param_grid = xg_parameters, scoring = 'accuracy', cv = 10)\n",
        "grid_search_xg.fit(nsl_train_x_scaled, nsl_train_y)\n",
        "best_xgb = grid_search_xg.best_estimator_\n",
        "best_xgb "
      ]
    },
    {
      "cell_type": "code",
      "execution_count": null,
      "metadata": {
        "colab": {
          "base_uri": "https://localhost:8080/"
        },
        "id": "GIyaqe_ZPE2X",
        "outputId": "c1a896f0-1284-4fb0-a965-ea73ef69814e"
      },
      "outputs": [
        {
          "name": "stdout",
          "output_type": "stream",
          "text": [
            "time : 31.323578596115112\n"
          ]
        }
      ],
      "source": [
        "start=time.time()\n",
        "xgb = OneVsRestClassifier(XGBClassifier(gamma=2, max_depth=6, n_estimators=32, random_state=42))\n",
        "xgb.fit(nsl_train_x_scaled, nsl_train_y_one)\n",
        "print(\"time :\", time.time() - start)\n",
        "\n",
        "#objective='multi:softprob',"
      ]
    },
    {
      "cell_type": "code",
      "execution_count": null,
      "metadata": {
        "colab": {
          "base_uri": "https://localhost:8080/"
        },
        "id": "6_QVb50RD8Jb",
        "outputId": "9c219320-5dca-4680-d593-8990e786cf1d"
      },
      "outputs": [
        {
          "name": "stdout",
          "output_type": "stream",
          "text": [
            "time : 0.13462543487548828\n",
            "Accuracy: 0.996%\n",
            "\n",
            "\n",
            "              precision    recall  f1-score   support\n",
            "\n",
            "      Normal       1.00      1.00      1.00     13469\n",
            "         Dos       1.00      1.00      1.00      9186\n",
            "       Probe       1.00      0.99      0.99      2331\n",
            "         U2R       0.99      0.95      0.97       197\n",
            "         R2L       1.00      0.42      0.59        12\n",
            "\n",
            "   micro avg       1.00      1.00      1.00     25195\n",
            "   macro avg       1.00      0.87      0.91     25195\n",
            "weighted avg       1.00      1.00      1.00     25195\n",
            " samples avg       1.00      1.00      1.00     25195\n",
            "\n",
            "\n",
            "roc auc value: 0.935%\n",
            "\n",
            "\n"
          ]
        },
        {
          "name": "stderr",
          "output_type": "stream",
          "text": [
            "/usr/local/lib/python3.8/dist-packages/sklearn/metrics/_classification.py:1318: UndefinedMetricWarning: Precision and F-score are ill-defined and being set to 0.0 in samples with no predicted labels. Use `zero_division` parameter to control this behavior.\n",
            "  _warn_prf(average, modifier, msg_start, len(result))\n"
          ]
        },
        {
          "data": {
            "text/plain": [
              "array([[1, 0, 0, 0, 0],\n",
              "       [0, 0, 0, 1, 0],\n",
              "       [1, 0, 0, 0, 0],\n",
              "       ...,\n",
              "       [0, 1, 0, 0, 0],\n",
              "       [1, 0, 0, 0, 0],\n",
              "       [1, 0, 0, 0, 0]])"
            ]
          },
          "execution_count": 155,
          "metadata": {},
          "output_type": "execute_result"
        }
      ],
      "source": [
        "predict(xgb, nsl_val_x_scaled, nsl_val_y_one)"
      ]
    },
    {
      "cell_type": "code",
      "execution_count": null,
      "metadata": {
        "colab": {
          "base_uri": "https://localhost:8080/"
        },
        "id": "RaUdE9dgD_Ut",
        "outputId": "23e09642-6d2b-4676-ccec-8d3cc48b82d4"
      },
      "outputs": [
        {
          "name": "stderr",
          "output_type": "stream",
          "text": [
            "/usr/local/lib/python3.8/dist-packages/sklearn/metrics/_classification.py:1318: UndefinedMetricWarning: Precision and F-score are ill-defined and being set to 0.0 in samples with no predicted labels. Use `zero_division` parameter to control this behavior.\n",
            "  _warn_prf(average, modifier, msg_start, len(result))\n"
          ]
        },
        {
          "name": "stdout",
          "output_type": "stream",
          "text": [
            "time : 0.12524962425231934\n",
            "Accuracy: 0.753%\n",
            "\n",
            "\n",
            "              precision    recall  f1-score   support\n",
            "\n",
            "      Normal       0.67      0.97      0.80      9710\n",
            "         Dos       0.96      0.83      0.89      7460\n",
            "       Probe       0.79      0.70      0.75      2421\n",
            "         U2R       0.99      0.16      0.28      2749\n",
            "         R2L       0.67      0.03      0.06       203\n",
            "\n",
            "   micro avg       0.77      0.79      0.78     22543\n",
            "   macro avg       0.82      0.54      0.55     22543\n",
            "weighted avg       0.82      0.79      0.75     22543\n",
            " samples avg       0.77      0.79      0.78     22543\n",
            "\n",
            "\n",
            "roc auc value: 0.731%\n",
            "\n",
            "\n"
          ]
        }
      ],
      "source": [
        "pred = predict(xgb, nsl_test_x_scaled, nsl_test_y_one)"
      ]
    },
    {
      "cell_type": "markdown",
      "metadata": {
        "id": "cdZ6gbqgH0j2"
      },
      "source": [
        "###DNN"
      ]
    },
    {
      "cell_type": "code",
      "execution_count": null,
      "metadata": {
        "colab": {
          "base_uri": "https://localhost:8080/"
        },
        "id": "O2kvGfjz4Wwu",
        "outputId": "3bece52c-7625-4db5-ab33-c09abe52d1af"
      },
      "outputs": [
        {
          "name": "stdout",
          "output_type": "stream",
          "text": [
            "Model: \"sequential\"\n",
            "_________________________________________________________________\n",
            " Layer (type)                Output Shape              Param #   \n",
            "=================================================================\n",
            " flatten (Flatten)           (None, 59)                0         \n",
            "                                                                 \n",
            " batch_normalization (BatchN  (None, 59)               236       \n",
            " ormalization)                                                   \n",
            "                                                                 \n",
            " dense (Dense)               (None, 300)               18000     \n",
            "                                                                 \n",
            " dropout (Dropout)           (None, 300)               0         \n",
            "                                                                 \n",
            " batch_normalization_1 (Batc  (None, 300)              1200      \n",
            " hNormalization)                                                 \n",
            "                                                                 \n",
            " dense_1 (Dense)             (None, 100)               30100     \n",
            "                                                                 \n",
            " dropout_1 (Dropout)         (None, 100)               0         \n",
            "                                                                 \n",
            " batch_normalization_2 (Batc  (None, 100)              400       \n",
            " hNormalization)                                                 \n",
            "                                                                 \n",
            " dense_2 (Dense)             (None, 5)                 505       \n",
            "                                                                 \n",
            "=================================================================\n",
            "Total params: 50,441\n",
            "Trainable params: 49,523\n",
            "Non-trainable params: 918\n",
            "_________________________________________________________________\n"
          ]
        }
      ],
      "source": [
        "from keras.backend import dropout\n",
        "model_dnn = keras.models.Sequential([\n",
        "    keras.layers.Flatten(input_shape=(59,)),\n",
        "    keras.layers.BatchNormalization(),\n",
        "    keras.layers.Dense(300, activation=\"relu\"),\n",
        "    keras.layers.Dropout(rate=0.2),\n",
        "    keras.layers.BatchNormalization(),\n",
        "    keras.layers.Dense(100, activation=\"relu\"),  \n",
        "    keras.layers.Dropout(rate=0.2),\n",
        "    keras.layers.BatchNormalization(),\n",
        "    keras.layers.Dense(5, activation=\"softmax\")\n",
        "])\n",
        "model_dnn.summary()"
      ]
    },
    {
      "cell_type": "code",
      "execution_count": null,
      "metadata": {
        "id": "E-dv3pBfZmtQ"
      },
      "outputs": [],
      "source": [
        "model_dnn.compile(loss = \"categorical_crossentropy\",\n",
        "                  optimizer = \"nadam\",                  \n",
        "                  metrics=[\"Accuracy\"]\n",
        "                  )"
      ]
    },
    {
      "cell_type": "code",
      "execution_count": null,
      "metadata": {
        "colab": {
          "base_uri": "https://localhost:8080/"
        },
        "id": "rdQHib-eZ1lt",
        "outputId": "fcb71502-0fc5-44a8-d3b2-78aafe7335ed"
      },
      "outputs": [
        {
          "name": "stdout",
          "output_type": "stream",
          "text": [
            "Epoch 1/30\n",
            "3150/3150 [==============================] - 14s 4ms/step - loss: 0.0635 - Accuracy: 0.9806 - val_loss: 0.1731 - val_Accuracy: 0.9799\n",
            "Epoch 2/30\n",
            "3150/3150 [==============================] - 12s 4ms/step - loss: 0.0352 - Accuracy: 0.9884 - val_loss: 0.1980 - val_Accuracy: 0.9773\n",
            "Epoch 3/30\n",
            "3150/3150 [==============================] - 11s 4ms/step - loss: 0.0321 - Accuracy: 0.9891 - val_loss: 0.2074 - val_Accuracy: 0.9812\n",
            "Epoch 4/30\n",
            "3150/3150 [==============================] - 12s 4ms/step - loss: 0.0287 - Accuracy: 0.9903 - val_loss: 0.3804 - val_Accuracy: 0.9809\n",
            "Epoch 5/30\n",
            "3150/3150 [==============================] - 12s 4ms/step - loss: 0.0270 - Accuracy: 0.9911 - val_loss: 0.1477 - val_Accuracy: 0.9846\n",
            "Epoch 6/30\n",
            "3150/3150 [==============================] - 12s 4ms/step - loss: 0.0247 - Accuracy: 0.9912 - val_loss: 0.1684 - val_Accuracy: 0.9833\n",
            "Epoch 7/30\n",
            "3150/3150 [==============================] - 12s 4ms/step - loss: 0.0237 - Accuracy: 0.9917 - val_loss: 0.3246 - val_Accuracy: 0.9826\n",
            "Epoch 8/30\n",
            "3150/3150 [==============================] - 13s 4ms/step - loss: 0.0232 - Accuracy: 0.9923 - val_loss: 0.2254 - val_Accuracy: 0.9825\n",
            "Epoch 9/30\n",
            "3150/3150 [==============================] - 13s 4ms/step - loss: 0.0224 - Accuracy: 0.9926 - val_loss: 0.1877 - val_Accuracy: 0.9829\n",
            "Epoch 10/30\n",
            "3150/3150 [==============================] - 11s 4ms/step - loss: 0.0217 - Accuracy: 0.9926 - val_loss: 0.2354 - val_Accuracy: 0.9879\n",
            "Epoch 11/30\n",
            "3150/3150 [==============================] - 12s 4ms/step - loss: 0.0200 - Accuracy: 0.9931 - val_loss: 0.5242 - val_Accuracy: 0.9816\n",
            "Epoch 12/30\n",
            "3150/3150 [==============================] - 12s 4ms/step - loss: 0.0198 - Accuracy: 0.9931 - val_loss: 0.3998 - val_Accuracy: 0.9813\n",
            "Epoch 13/30\n",
            "3150/3150 [==============================] - 12s 4ms/step - loss: 0.0203 - Accuracy: 0.9932 - val_loss: 0.3394 - val_Accuracy: 0.9822\n",
            "Epoch 14/30\n",
            "3150/3150 [==============================] - 12s 4ms/step - loss: 0.0194 - Accuracy: 0.9933 - val_loss: 0.4559 - val_Accuracy: 0.9827\n",
            "Epoch 15/30\n",
            "3150/3150 [==============================] - 12s 4ms/step - loss: 0.0183 - Accuracy: 0.9938 - val_loss: 1.1563 - val_Accuracy: 0.9803\n",
            "Epoch 16/30\n",
            "3150/3150 [==============================] - 12s 4ms/step - loss: 0.0178 - Accuracy: 0.9940 - val_loss: 1.4435 - val_Accuracy: 0.9823\n",
            "Epoch 17/30\n",
            "3150/3150 [==============================] - 13s 4ms/step - loss: 0.0185 - Accuracy: 0.9938 - val_loss: 0.5428 - val_Accuracy: 0.9830\n",
            "Epoch 18/30\n",
            "3150/3150 [==============================] - 12s 4ms/step - loss: 0.0180 - Accuracy: 0.9938 - val_loss: 1.0718 - val_Accuracy: 0.9863\n",
            "Epoch 19/30\n",
            "3150/3150 [==============================] - 12s 4ms/step - loss: 0.0174 - Accuracy: 0.9940 - val_loss: 0.7227 - val_Accuracy: 0.9892\n",
            "Epoch 20/30\n",
            "3150/3150 [==============================] - 13s 4ms/step - loss: 0.0175 - Accuracy: 0.9940 - val_loss: 0.8697 - val_Accuracy: 0.9813\n",
            "Epoch 21/30\n",
            "3150/3150 [==============================] - 14s 4ms/step - loss: 0.0170 - Accuracy: 0.9942 - val_loss: 0.9830 - val_Accuracy: 0.9844\n",
            "Epoch 22/30\n",
            "3150/3150 [==============================] - 15s 5ms/step - loss: 0.0161 - Accuracy: 0.9944 - val_loss: 0.4247 - val_Accuracy: 0.9881\n",
            "Epoch 23/30\n",
            "3150/3150 [==============================] - 14s 5ms/step - loss: 0.0159 - Accuracy: 0.9945 - val_loss: 0.3409 - val_Accuracy: 0.9843\n",
            "Epoch 24/30\n",
            "3150/3150 [==============================] - 14s 5ms/step - loss: 0.0160 - Accuracy: 0.9945 - val_loss: 0.5460 - val_Accuracy: 0.9815\n",
            "Epoch 25/30\n",
            "3150/3150 [==============================] - 13s 4ms/step - loss: 0.0168 - Accuracy: 0.9942 - val_loss: 0.4498 - val_Accuracy: 0.9881\n",
            "Epoch 26/30\n",
            "3150/3150 [==============================] - 15s 5ms/step - loss: 0.0150 - Accuracy: 0.9948 - val_loss: 0.7440 - val_Accuracy: 0.9809\n",
            "Epoch 27/30\n",
            "3150/3150 [==============================] - 13s 4ms/step - loss: 0.0161 - Accuracy: 0.9945 - val_loss: 2.0498 - val_Accuracy: 0.9820\n",
            "Epoch 28/30\n",
            "3150/3150 [==============================] - 13s 4ms/step - loss: 0.0155 - Accuracy: 0.9947 - val_loss: 0.5989 - val_Accuracy: 0.9824\n",
            "Epoch 29/30\n",
            "3150/3150 [==============================] - 15s 5ms/step - loss: 0.0147 - Accuracy: 0.9950 - val_loss: 1.0202 - val_Accuracy: 0.9836\n",
            "Epoch 30/30\n",
            "3150/3150 [==============================] - 13s 4ms/step - loss: 0.0156 - Accuracy: 0.9946 - val_loss: 0.5159 - val_Accuracy: 0.9840\n"
          ]
        }
      ],
      "source": [
        "history_dnn = model_dnn.fit(nsl_train_x_scaled, nsl_train_y_one, epochs=30,\n",
        "                        validation_data=(nsl_val_x_scaled, nsl_val_y_one))"
      ]
    },
    {
      "cell_type": "code",
      "execution_count": null,
      "metadata": {
        "colab": {
          "base_uri": "https://localhost:8080/"
        },
        "id": "msy90tekbWmO",
        "outputId": "a5d54d26-86f2-48a4-9903-d03277e379c7"
      },
      "outputs": [
        {
          "name": "stdout",
          "output_type": "stream",
          "text": [
            "705/705 [==============================] - 1s 2ms/step - loss: 5.0465 - Accuracy: 0.7604\n"
          ]
        },
        {
          "data": {
            "text/plain": [
              "[5.046527862548828, 0.760369062423706]"
            ]
          },
          "execution_count": 30,
          "metadata": {},
          "output_type": "execute_result"
        }
      ],
      "source": [
        "model_dnn.evaluate(nsl_test_x_scaled, nsl_test_y_one)"
      ]
    },
    {
      "cell_type": "code",
      "execution_count": null,
      "metadata": {
        "colab": {
          "base_uri": "https://localhost:8080/"
        },
        "id": "6829Wy3jMm-E",
        "outputId": "8124b562-5eb9-4d1f-e546-c2a3bda41c3e"
      },
      "outputs": [
        {
          "name": "stdout",
          "output_type": "stream",
          "text": [
            "788/788 [==============================] - 1s 2ms/step\n",
            "time : 1.636829137802124\n",
            "              precision    recall  f1-score   support\n",
            "\n",
            "      Normal       0.98      0.99      0.99     13469\n",
            "         Dos       1.00      0.98      0.99      9186\n",
            "       Probe       0.99      0.98      0.98      2331\n",
            "         U2R       0.86      0.64      0.73       197\n",
            "         R2L       0.11      0.50      0.17        12\n",
            "\n",
            "   micro avg       0.98      0.98      0.98     25195\n",
            "   macro avg       0.79      0.82      0.77     25195\n",
            "weighted avg       0.99      0.98      0.98     25195\n",
            " samples avg       0.98      0.98      0.98     25195\n",
            "\n",
            "roc auc value: 0.906%\n",
            "\n",
            "\n"
          ]
        },
        {
          "data": {
            "text/plain": [
              "array([[1., 0., 0., 0., 0.],\n",
              "       [0., 0., 0., 1., 0.],\n",
              "       [1., 0., 0., 0., 0.],\n",
              "       ...,\n",
              "       [0., 1., 0., 0., 0.],\n",
              "       [1., 0., 0., 0., 0.],\n",
              "       [1., 0., 0., 0., 0.]], dtype=float32)"
            ]
          },
          "execution_count": 37,
          "metadata": {},
          "output_type": "execute_result"
        }
      ],
      "source": [
        "predict_nn(model_dnn, nsl_val_x_scaled, nsl_val_y_one)"
      ]
    },
    {
      "cell_type": "code",
      "execution_count": null,
      "metadata": {
        "colab": {
          "base_uri": "https://localhost:8080/"
        },
        "id": "kvQrBKEAWCK1",
        "outputId": "b940dab1-dd30-4bd0-d63c-c253dce62645"
      },
      "outputs": [
        {
          "name": "stdout",
          "output_type": "stream",
          "text": [
            "705/705 [==============================] - 1s 2ms/step\n",
            "time : 1.7229461669921875\n",
            "              precision    recall  f1-score   support\n",
            "\n",
            "      Normal       0.67      0.92      0.78      9710\n",
            "         Dos       0.96      0.80      0.87      7460\n",
            "       Probe       0.70      0.70      0.70      2421\n",
            "         U2R       0.98      0.18      0.31      2749\n",
            "         R2L       0.51      0.19      0.28       203\n",
            "\n",
            "   micro avg       0.76      0.76      0.76     22543\n",
            "   macro avg       0.76      0.56      0.59     22543\n",
            "weighted avg       0.81      0.76      0.74     22543\n",
            " samples avg       0.76      0.76      0.76     22543\n",
            "\n",
            "roc auc value: 0.740%\n",
            "\n",
            "\n"
          ]
        },
        {
          "data": {
            "text/plain": [
              "array([[0., 1., 0., 0., 0.],\n",
              "       [0., 1., 0., 0., 0.],\n",
              "       [1., 0., 0., 0., 0.],\n",
              "       ...,\n",
              "       [1., 0., 0., 0., 0.],\n",
              "       [1., 0., 0., 0., 0.],\n",
              "       [0., 0., 1., 0., 0.]], dtype=float32)"
            ]
          },
          "execution_count": 38,
          "metadata": {},
          "output_type": "execute_result"
        }
      ],
      "source": [
        "predict_nn(model_dnn, nsl_test_x_scaled, nsl_test_y_one)"
      ]
    },
    {
      "cell_type": "markdown",
      "metadata": {
        "id": "9vbCRLPPPCX5"
      },
      "source": [
        "### **CNN**"
      ]
    },
    {
      "cell_type": "code",
      "execution_count": null,
      "metadata": {
        "id": "xfk5NE-uPB4g"
      },
      "outputs": [],
      "source": [
        "cnn = keras.models.Sequential([\n",
        "    keras.layers.Conv1D(64, 7, activation='relu', padding='same', input_shape=[59, 1]),\n",
        "    keras.layers.MaxPooling1D(2),\n",
        "    keras.layers.Conv1D(128, 3, padding='same', activation='relu'),\n",
        "    keras.layers.Conv1D(128, 3, padding='same', activation='relu'),\n",
        "    keras.layers.MaxPooling1D(2),\n",
        "    keras.layers.Conv1D(256, 3, padding='same', activation='relu'),\n",
        "    keras.layers.Conv1D(256, 3, padding='same', activation='relu'),\n",
        "    keras.layers.MaxPooling1D(2),\n",
        "    keras.layers.Flatten(),\n",
        "    keras.layers.Dense(128, activation='relu'),\n",
        "    keras.layers.Dropout(0.5),\n",
        "    keras.layers.Dense(64, activation='relu'),\n",
        "    keras.layers.Dropout(0.5),\n",
        "    keras.layers.Dense(5, activation='softmax'),\n",
        "])"
      ]
    },
    {
      "cell_type": "code",
      "execution_count": null,
      "metadata": {
        "id": "412nZjW1PB7V"
      },
      "outputs": [],
      "source": [
        "cnn.compile(loss = \"categorical_crossentropy\",\n",
        "            optimizer = \"nadam\",\n",
        "            metrics=[\"Accuracy\"]\n",
        "            )"
      ]
    },
    {
      "cell_type": "code",
      "execution_count": null,
      "metadata": {
        "colab": {
          "base_uri": "https://localhost:8080/"
        },
        "id": "SupqYIeIkty0",
        "outputId": "001c67fd-4546-4645-b3a7-430f38e8072f"
      },
      "outputs": [
        {
          "name": "stdout",
          "output_type": "stream",
          "text": [
            "Epoch 1/30\n",
            "3150/3150 [==============================] - 207s 65ms/step - loss: 0.0794 - Accuracy: 0.9770 - val_loss: 0.0383 - val_Accuracy: 0.9890\n",
            "Epoch 2/30\n",
            "3150/3150 [==============================] - 193s 61ms/step - loss: 0.0408 - Accuracy: 0.9887 - val_loss: 0.0277 - val_Accuracy: 0.9911\n",
            "Epoch 3/30\n",
            "3150/3150 [==============================] - 190s 60ms/step - loss: 0.0335 - Accuracy: 0.9902 - val_loss: 0.0261 - val_Accuracy: 0.9910\n",
            "Epoch 4/30\n",
            "3150/3150 [==============================] - 191s 61ms/step - loss: 0.0294 - Accuracy: 0.9917 - val_loss: 0.0244 - val_Accuracy: 0.9917\n",
            "Epoch 5/30\n",
            "3150/3150 [==============================] - 190s 60ms/step - loss: 0.0278 - Accuracy: 0.9921 - val_loss: 0.0235 - val_Accuracy: 0.9929\n",
            "Epoch 6/30\n",
            "3150/3150 [==============================] - 192s 61ms/step - loss: 0.0290 - Accuracy: 0.9927 - val_loss: 0.0234 - val_Accuracy: 0.9926\n",
            "Epoch 7/30\n",
            "3150/3150 [==============================] - 189s 60ms/step - loss: 0.0247 - Accuracy: 0.9933 - val_loss: 0.0234 - val_Accuracy: 0.9932\n",
            "Epoch 8/30\n",
            "3150/3150 [==============================] - 191s 61ms/step - loss: 0.0239 - Accuracy: 0.9935 - val_loss: 0.0240 - val_Accuracy: 0.9941\n",
            "Epoch 9/30\n",
            "3150/3150 [==============================] - 189s 60ms/step - loss: 0.0239 - Accuracy: 0.9936 - val_loss: 0.0180 - val_Accuracy: 0.9944\n",
            "Epoch 10/30\n",
            "3150/3150 [==============================] - 191s 61ms/step - loss: 0.0279 - Accuracy: 0.9930 - val_loss: 0.0217 - val_Accuracy: 0.9941\n",
            "Epoch 11/30\n",
            "3150/3150 [==============================] - 189s 60ms/step - loss: 0.0229 - Accuracy: 0.9937 - val_loss: 0.0162 - val_Accuracy: 0.9946\n",
            "Epoch 12/30\n",
            "3150/3150 [==============================] - 190s 60ms/step - loss: 0.0250 - Accuracy: 0.9935 - val_loss: 0.0206 - val_Accuracy: 0.9940\n",
            "Epoch 13/30\n",
            "3150/3150 [==============================] - 190s 60ms/step - loss: 0.0231 - Accuracy: 0.9937 - val_loss: 0.0273 - val_Accuracy: 0.9946\n",
            "Epoch 14/30\n",
            "3150/3150 [==============================] - 188s 60ms/step - loss: 0.0251 - Accuracy: 0.9931 - val_loss: 0.0233 - val_Accuracy: 0.9932\n",
            "Epoch 15/30\n",
            "3150/3150 [==============================] - 189s 60ms/step - loss: 0.0224 - Accuracy: 0.9941 - val_loss: 0.0247 - val_Accuracy: 0.9935\n",
            "Epoch 16/30\n",
            "3150/3150 [==============================] - 188s 60ms/step - loss: 0.0261 - Accuracy: 0.9935 - val_loss: 0.0215 - val_Accuracy: 0.9941\n",
            "Epoch 17/30\n",
            "3150/3150 [==============================] - 191s 61ms/step - loss: 0.0268 - Accuracy: 0.9936 - val_loss: 0.0227 - val_Accuracy: 0.9910\n",
            "Epoch 18/30\n",
            "3150/3150 [==============================] - 191s 61ms/step - loss: 0.0234 - Accuracy: 0.9938 - val_loss: 0.0219 - val_Accuracy: 0.9942\n",
            "Epoch 19/30\n",
            "3150/3150 [==============================] - 193s 61ms/step - loss: 0.0207 - Accuracy: 0.9944 - val_loss: 0.0201 - val_Accuracy: 0.9943\n",
            "Epoch 20/30\n",
            "3150/3150 [==============================] - 191s 61ms/step - loss: 0.0302 - Accuracy: 0.9935 - val_loss: 0.0189 - val_Accuracy: 0.9945\n",
            "Epoch 21/30\n",
            "3150/3150 [==============================] - 201s 64ms/step - loss: 0.0224 - Accuracy: 0.9946 - val_loss: 0.0293 - val_Accuracy: 0.9942\n",
            "Epoch 22/30\n",
            "3150/3150 [==============================] - 221s 70ms/step - loss: 0.0216 - Accuracy: 0.9941 - val_loss: 0.0226 - val_Accuracy: 0.9953\n",
            "Epoch 23/30\n",
            "3150/3150 [==============================] - 197s 63ms/step - loss: 0.0314 - Accuracy: 0.9929 - val_loss: 0.0217 - val_Accuracy: 0.9940\n",
            "Epoch 24/30\n",
            "3150/3150 [==============================] - 195s 62ms/step - loss: 0.0245 - Accuracy: 0.9939 - val_loss: 0.0185 - val_Accuracy: 0.9950\n",
            "Epoch 25/30\n",
            "3150/3150 [==============================] - 194s 62ms/step - loss: 0.0233 - Accuracy: 0.9938 - val_loss: 0.0266 - val_Accuracy: 0.9919\n",
            "Epoch 26/30\n",
            "3150/3150 [==============================] - 192s 61ms/step - loss: 0.0251 - Accuracy: 0.9937 - val_loss: 0.0707 - val_Accuracy: 0.9944\n",
            "Epoch 27/30\n",
            "3150/3150 [==============================] - 193s 61ms/step - loss: 0.0293 - Accuracy: 0.9936 - val_loss: 0.0188 - val_Accuracy: 0.9950\n",
            "Epoch 28/30\n",
            "3150/3150 [==============================] - 194s 62ms/step - loss: 0.0240 - Accuracy: 0.9942 - val_loss: 0.0315 - val_Accuracy: 0.9915\n",
            "Epoch 29/30\n",
            "3150/3150 [==============================] - 191s 61ms/step - loss: 0.0284 - Accuracy: 0.9937 - val_loss: 0.0216 - val_Accuracy: 0.9943\n",
            "Epoch 30/30\n",
            "3150/3150 [==============================] - 193s 61ms/step - loss: 0.0249 - Accuracy: 0.9944 - val_loss: 0.0230 - val_Accuracy: 0.9929\n",
            "time : 5843.980715513229\n"
          ]
        }
      ],
      "source": [
        "start=time.time()\n",
        "history_cnn = cnn.fit(nsl_train_x_scaled, nsl_train_y_one, epochs=30,\n",
        "                      validation_data=(nsl_val_x_scaled, nsl_val_y_one))\n",
        "print(\"time :\", time.time() - start)"
      ]
    },
    {
      "cell_type": "code",
      "execution_count": null,
      "metadata": {
        "colab": {
          "base_uri": "https://localhost:8080/"
        },
        "id": "E2jJoOxWkm-X",
        "outputId": "fc698b70-4581-4c10-82cc-94284d0604d4"
      },
      "outputs": [
        {
          "name": "stdout",
          "output_type": "stream",
          "text": [
            "705/705 [==============================] - 9s 13ms/step - loss: 10.5138 - Accuracy: 0.7510\n"
          ]
        },
        {
          "data": {
            "text/plain": [
              "[10.513846397399902, 0.7510091662406921]"
            ]
          },
          "execution_count": 52,
          "metadata": {},
          "output_type": "execute_result"
        }
      ],
      "source": [
        "cnn.evaluate(nsl_test_x_scaled, nsl_test_y_one)"
      ]
    },
    {
      "cell_type": "code",
      "execution_count": null,
      "metadata": {
        "colab": {
          "base_uri": "https://localhost:8080/"
        },
        "id": "elZD1hVuPCB2",
        "outputId": "f8d0f959-6c1b-444d-c1a3-e3cb684e68df"
      },
      "outputs": [
        {
          "name": "stdout",
          "output_type": "stream",
          "text": [
            "788/788 [==============================] - 10s 13ms/step\n",
            "time : 20.525670289993286\n",
            "              precision    recall  f1-score   support\n",
            "\n",
            "      Normal       0.99      1.00      0.99     13469\n",
            "         Dos       1.00      1.00      1.00      9186\n",
            "       Probe       1.00      0.96      0.98      2331\n",
            "         U2R       0.99      0.75      0.85       197\n",
            "         R2L       0.00      0.00      0.00        12\n",
            "\n",
            "   micro avg       0.99      0.99      0.99     25195\n",
            "   macro avg       0.79      0.74      0.76     25195\n",
            "weighted avg       0.99      0.99      0.99     25195\n",
            " samples avg       0.99      0.99      0.99     25195\n",
            "\n",
            "roc auc value: 0.869%\n",
            "\n",
            "\n"
          ]
        },
        {
          "name": "stderr",
          "output_type": "stream",
          "text": [
            "/usr/local/lib/python3.8/dist-packages/sklearn/metrics/_classification.py:1318: UndefinedMetricWarning: Precision and F-score are ill-defined and being set to 0.0 in labels with no predicted samples. Use `zero_division` parameter to control this behavior.\n",
            "  _warn_prf(average, modifier, msg_start, len(result))\n"
          ]
        },
        {
          "data": {
            "text/plain": [
              "array([[1., 0., 0., 0., 0.],\n",
              "       [0., 0., 0., 1., 0.],\n",
              "       [1., 0., 0., 0., 0.],\n",
              "       ...,\n",
              "       [0., 1., 0., 0., 0.],\n",
              "       [1., 0., 0., 0., 0.],\n",
              "       [1., 0., 0., 0., 0.]], dtype=float32)"
            ]
          },
          "execution_count": 53,
          "metadata": {},
          "output_type": "execute_result"
        }
      ],
      "source": [
        "predict_nn(cnn, nsl_val_x_scaled, nsl_val_y_one)"
      ]
    },
    {
      "cell_type": "code",
      "execution_count": null,
      "metadata": {
        "colab": {
          "base_uri": "https://localhost:8080/"
        },
        "id": "hUQoGZzeRgqX",
        "outputId": "4d3904f4-988f-4bfa-c4be-dbb145883f38"
      },
      "outputs": [
        {
          "name": "stdout",
          "output_type": "stream",
          "text": [
            "705/705 [==============================] - 11s 16ms/step\n",
            "time : 11.594406604766846\n",
            "              precision    recall  f1-score   support\n",
            "\n",
            "      Normal       0.65      0.97      0.78      9710\n",
            "         Dos       0.97      0.77      0.86      7460\n",
            "       Probe       0.82      0.62      0.70      2421\n",
            "         U2R       0.83      0.12      0.21      2749\n",
            "         R2L       0.00      0.00      0.00       203\n",
            "\n",
            "   micro avg       0.75      0.75      0.75     22543\n",
            "   macro avg       0.65      0.49      0.51     22543\n",
            "weighted avg       0.79      0.75      0.72     22543\n",
            " samples avg       0.75      0.75      0.75     22543\n",
            "\n",
            "roc auc value: 0.705%\n",
            "\n",
            "\n"
          ]
        },
        {
          "name": "stderr",
          "output_type": "stream",
          "text": [
            "/usr/local/lib/python3.8/dist-packages/sklearn/metrics/_classification.py:1318: UndefinedMetricWarning: Precision and F-score are ill-defined and being set to 0.0 in labels with no predicted samples. Use `zero_division` parameter to control this behavior.\n",
            "  _warn_prf(average, modifier, msg_start, len(result))\n"
          ]
        },
        {
          "data": {
            "text/plain": [
              "array([[0., 1., 0., 0., 0.],\n",
              "       [0., 1., 0., 0., 0.],\n",
              "       [1., 0., 0., 0., 0.],\n",
              "       ...,\n",
              "       [0., 1., 0., 0., 0.],\n",
              "       [1., 0., 0., 0., 0.],\n",
              "       [0., 0., 1., 0., 0.]], dtype=float32)"
            ]
          },
          "execution_count": 51,
          "metadata": {},
          "output_type": "execute_result"
        }
      ],
      "source": [
        "predict_nn(cnn, nsl_test_x_scaled, nsl_test_y_one)"
      ]
    },
    {
      "cell_type": "markdown",
      "metadata": {
        "id": "x53uFK6KhT1t"
      },
      "source": [
        "## **PCA30**"
      ]
    },
    {
      "cell_type": "code",
      "execution_count": null,
      "metadata": {
        "id": "miT4L-lAhuMb"
      },
      "outputs": [],
      "source": [
        "pca30 = PCA(n_components=30)\n",
        "pca30.fit(nsl_train_x_scaled)\n",
        "nsl_pca30_train = pca30.transform(nsl_train_x_scaled)\n",
        "nsl_pca30_val = pca30.transform(nsl_val_x_scaled)\n",
        "nsl_pca30_test = pca30.transform(nsl_test_x_scaled)\n",
        "\n",
        "scaler.fit(nsl_pca30_train)\n",
        "nsl_pca30_train_scaled=scaler.transform(nsl_pca30_train)\n",
        "nsl_pca30_val_scaled=scaler.transform(nsl_pca30_val)\n",
        "nsl_pca30_test_scaled=scaler.transform(nsl_pca30_test)\n"
      ]
    },
    {
      "cell_type": "markdown",
      "metadata": {
        "id": "b_FqgeOLUkXl"
      },
      "source": [
        "###**SVM**"
      ]
    },
    {
      "cell_type": "code",
      "execution_count": null,
      "metadata": {
        "colab": {
          "base_uri": "https://localhost:8080/"
        },
        "id": "myOb0Dr0rgqX",
        "outputId": "a62b5b36-0c5a-48bb-fd4d-08459c0a43b6"
      },
      "outputs": [
        {
          "name": "stdout",
          "output_type": "stream",
          "text": [
            "time : 837.0143296718597\n"
          ]
        }
      ],
      "source": [
        "start = time.time()\n",
        "rbf30_kernel_svm_clf = OneVsRestClassifier(SVC(kernel=\"rbf\", gamma=1, C=10))\n",
        "rbf30_kernel_svm_clf.fit(nsl_pca30_train_scaled, nsl_train_y_one)\n",
        "\n",
        "print(\"time :\", time.time() - start)"
      ]
    },
    {
      "cell_type": "code",
      "execution_count": null,
      "metadata": {
        "colab": {
          "base_uri": "https://localhost:8080/"
        },
        "id": "jCPLFUSnrni9",
        "outputId": "dc34c0b5-ca78-40a5-a3d5-a4aee24ac071"
      },
      "outputs": [
        {
          "name": "stdout",
          "output_type": "stream",
          "text": [
            "time : 34.82710933685303\n",
            "Accuracy: 0.995%\n",
            "\n",
            "\n",
            "              precision    recall  f1-score   support\n",
            "\n",
            "      Normal       0.99      1.00      1.00     13469\n",
            "         Dos       1.00      1.00      1.00      9186\n",
            "       Probe       0.99      0.98      0.99      2331\n",
            "         U2R       0.98      0.89      0.93       197\n",
            "         R2L       0.43      0.25      0.32        12\n",
            "\n",
            "   micro avg       1.00      1.00      1.00     25195\n",
            "   macro avg       0.88      0.82      0.85     25195\n",
            "weighted avg       1.00      1.00      1.00     25195\n",
            " samples avg       1.00      1.00      1.00     25195\n",
            "\n",
            "\n",
            "roc auc value: 0.911%\n",
            "\n",
            "\n"
          ]
        },
        {
          "name": "stderr",
          "output_type": "stream",
          "text": [
            "/usr/local/lib/python3.8/dist-packages/sklearn/metrics/_classification.py:1318: UndefinedMetricWarning: Precision and F-score are ill-defined and being set to 0.0 in samples with no predicted labels. Use `zero_division` parameter to control this behavior.\n",
            "  _warn_prf(average, modifier, msg_start, len(result))\n"
          ]
        },
        {
          "data": {
            "text/plain": [
              "array([[1, 0, 0, 0, 0],\n",
              "       [0, 0, 0, 1, 0],\n",
              "       [1, 0, 0, 0, 0],\n",
              "       ...,\n",
              "       [0, 1, 0, 0, 0],\n",
              "       [1, 0, 0, 0, 0],\n",
              "       [1, 0, 0, 0, 0]])"
            ]
          },
          "execution_count": 35,
          "metadata": {},
          "output_type": "execute_result"
        }
      ],
      "source": [
        "predict(rbf30_kernel_svm_clf, nsl_pca30_val_scaled, nsl_val_y_one)"
      ]
    },
    {
      "cell_type": "code",
      "execution_count": null,
      "metadata": {
        "colab": {
          "base_uri": "https://localhost:8080/"
        },
        "id": "Gh9U4R2TrnpH",
        "outputId": "18e67c7b-0ac5-4c04-e98d-89252764230c"
      },
      "outputs": [
        {
          "name": "stdout",
          "output_type": "stream",
          "text": [
            "time : 31.2977933883667\n",
            "Accuracy: 0.728%\n",
            "\n",
            "\n",
            "              precision    recall  f1-score   support\n",
            "\n",
            "      Normal       0.63      0.97      0.77      9710\n",
            "         Dos       0.98      0.78      0.87      7460\n",
            "       Probe       0.86      0.48      0.61      2421\n",
            "         U2R       0.91      0.00      0.01      2749\n",
            "         R2L       0.14      0.03      0.05       203\n",
            "\n",
            "   micro avg       0.74      0.73      0.73     22543\n",
            "   macro avg       0.71      0.45      0.46     22543\n",
            "weighted avg       0.80      0.73      0.69     22543\n",
            " samples avg       0.73      0.73      0.73     22543\n",
            "\n",
            "\n",
            "roc auc value: 0.682%\n",
            "\n",
            "\n"
          ]
        },
        {
          "name": "stderr",
          "output_type": "stream",
          "text": [
            "/usr/local/lib/python3.8/dist-packages/sklearn/metrics/_classification.py:1318: UndefinedMetricWarning: Precision and F-score are ill-defined and being set to 0.0 in samples with no predicted labels. Use `zero_division` parameter to control this behavior.\n",
            "  _warn_prf(average, modifier, msg_start, len(result))\n"
          ]
        },
        {
          "data": {
            "text/plain": [
              "array([[0, 1, 0, 0, 0],\n",
              "       [0, 1, 0, 0, 0],\n",
              "       [1, 0, 0, 0, 0],\n",
              "       ...,\n",
              "       [0, 1, 0, 0, 0],\n",
              "       [1, 0, 0, 0, 0],\n",
              "       [1, 0, 0, 0, 0]])"
            ]
          },
          "execution_count": 36,
          "metadata": {},
          "output_type": "execute_result"
        }
      ],
      "source": [
        "predict(rbf30_kernel_svm_clf, nsl_pca30_test_scaled, nsl_test_y_one)"
      ]
    },
    {
      "cell_type": "markdown",
      "metadata": {
        "id": "zIfr3O1ALAmP"
      },
      "source": [
        "###**RF**"
      ]
    },
    {
      "cell_type": "code",
      "execution_count": null,
      "metadata": {
        "colab": {
          "base_uri": "https://localhost:8080/"
        },
        "id": "96uXZ8MLWoG8",
        "outputId": "f367688f-4e96-4012-b708-308189aca3ec"
      },
      "outputs": [
        {
          "name": "stdout",
          "output_type": "stream",
          "text": [
            "time : 101.0095157623291\n"
          ]
        }
      ],
      "source": [
        "start=time.time()\n",
        "\n",
        "rf30 = RandomForestClassifier(n_estimators=100, min_samples_split=20, min_samples_leaf=8, max_depth=12, n_jobs=-1)\n",
        "rf30.fit(nsl_pca30_train_scaled, nsl_train_y_one)\n",
        "\n",
        "print(\"time :\", time.time() - start)"
      ]
    },
    {
      "cell_type": "code",
      "execution_count": null,
      "metadata": {
        "colab": {
          "base_uri": "https://localhost:8080/"
        },
        "id": "Q17B0QrxiN6G",
        "outputId": "232ad707-8dfa-460c-bb30-76311ddcd1c1"
      },
      "outputs": [
        {
          "name": "stdout",
          "output_type": "stream",
          "text": [
            "time : 0.7590372562408447\n",
            "Accuracy: 0.994%\n",
            "\n",
            "\n",
            "              precision    recall  f1-score   support\n",
            "\n",
            "      Normal       0.99      1.00      1.00     13469\n",
            "         Dos       1.00      1.00      1.00      9186\n",
            "       Probe       1.00      0.97      0.98      2331\n",
            "         U2R       0.98      0.83      0.90       197\n",
            "         R2L       0.67      0.17      0.27        12\n",
            "\n",
            "   micro avg       0.99      0.99      0.99     25195\n",
            "   macro avg       0.93      0.79      0.83     25195\n",
            "weighted avg       0.99      0.99      0.99     25195\n",
            " samples avg       0.99      0.99      0.99     25195\n",
            "\n",
            "\n",
            "roc auc value: 0.895%\n",
            "\n",
            "\n"
          ]
        },
        {
          "name": "stderr",
          "output_type": "stream",
          "text": [
            "/usr/local/lib/python3.8/dist-packages/sklearn/metrics/_classification.py:1318: UndefinedMetricWarning: Precision and F-score are ill-defined and being set to 0.0 in samples with no predicted labels. Use `zero_division` parameter to control this behavior.\n",
            "  _warn_prf(average, modifier, msg_start, len(result))\n"
          ]
        },
        {
          "data": {
            "text/plain": [
              "array([[1., 0., 0., 0., 0.],\n",
              "       [0., 0., 0., 1., 0.],\n",
              "       [1., 0., 0., 0., 0.],\n",
              "       ...,\n",
              "       [0., 1., 0., 0., 0.],\n",
              "       [1., 0., 0., 0., 0.],\n",
              "       [1., 0., 0., 0., 0.]], dtype=float32)"
            ]
          },
          "execution_count": 38,
          "metadata": {},
          "output_type": "execute_result"
        }
      ],
      "source": [
        "predict(rf30, nsl_pca30_val_scaled, nsl_val_y_one)"
      ]
    },
    {
      "cell_type": "code",
      "execution_count": null,
      "metadata": {
        "colab": {
          "base_uri": "https://localhost:8080/"
        },
        "id": "n4NIP8hZV-f_",
        "outputId": "6e870ccf-19a4-482d-dc43-19b4fce79b0e"
      },
      "outputs": [
        {
          "name": "stdout",
          "output_type": "stream",
          "text": [
            "time : 0.6958529949188232\n",
            "Accuracy: 0.739%\n",
            "\n",
            "\n",
            "              precision    recall  f1-score   support\n",
            "\n",
            "      Normal       0.66      0.93      0.77      9710\n",
            "         Dos       0.97      0.82      0.89      7460\n",
            "       Probe       0.88      0.61      0.72      2421\n",
            "         U2R       0.95      0.01      0.01      2749\n",
            "         R2L       0.33      0.02      0.04       203\n",
            "\n",
            "   micro avg       0.77      0.74      0.75     22543\n",
            "   macro avg       0.76      0.48      0.49     22543\n",
            "weighted avg       0.82      0.74      0.71     22543\n",
            " samples avg       0.74      0.74      0.74     22543\n",
            "\n",
            "\n",
            "roc auc value: 0.700%\n",
            "\n",
            "\n"
          ]
        },
        {
          "name": "stderr",
          "output_type": "stream",
          "text": [
            "/usr/local/lib/python3.8/dist-packages/sklearn/metrics/_classification.py:1318: UndefinedMetricWarning: Precision and F-score are ill-defined and being set to 0.0 in samples with no predicted labels. Use `zero_division` parameter to control this behavior.\n",
            "  _warn_prf(average, modifier, msg_start, len(result))\n"
          ]
        },
        {
          "data": {
            "text/plain": [
              "array([[0., 1., 0., 0., 0.],\n",
              "       [0., 1., 0., 0., 0.],\n",
              "       [1., 0., 0., 0., 0.],\n",
              "       ...,\n",
              "       [0., 1., 0., 0., 0.],\n",
              "       [1., 0., 0., 0., 0.],\n",
              "       [0., 0., 1., 0., 0.]], dtype=float32)"
            ]
          },
          "execution_count": 39,
          "metadata": {},
          "output_type": "execute_result"
        }
      ],
      "source": [
        "predict(rf30, nsl_pca30_test_scaled, nsl_test_y_one)"
      ]
    },
    {
      "cell_type": "markdown",
      "metadata": {
        "id": "aRbuklJmLC-r"
      },
      "source": [
        "###KNN"
      ]
    },
    {
      "cell_type": "code",
      "execution_count": null,
      "metadata": {
        "colab": {
          "base_uri": "https://localhost:8080/"
        },
        "id": "SAngzPeELHSj",
        "outputId": "b9fcfa1a-65a6-4fc5-e11f-82bd5219ddfb"
      },
      "outputs": [
        {
          "name": "stdout",
          "output_type": "stream",
          "text": [
            "time : 0.05162787437438965\n"
          ]
        }
      ],
      "source": [
        "start = time.time()\n",
        "\n",
        "knn30 = KNeighborsClassifier(n_neighbors=3)\n",
        "knn30.fit(nsl_pca30_train_scaled, nsl_train_y_one)\n",
        "\n",
        "print(\"time :\", time.time() - start)"
      ]
    },
    {
      "cell_type": "code",
      "execution_count": null,
      "metadata": {
        "colab": {
          "base_uri": "https://localhost:8080/"
        },
        "id": "sRntAxQQLj0b",
        "outputId": "25dd0d04-7b68-4917-e484-653a5d7cc819"
      },
      "outputs": [
        {
          "name": "stdout",
          "output_type": "stream",
          "text": [
            "time : 42.812260150909424\n",
            "Accuracy: 0.996%\n",
            "\n",
            "\n",
            "              precision    recall  f1-score   support\n",
            "\n",
            "      Normal       1.00      1.00      1.00     13469\n",
            "         Dos       1.00      1.00      1.00      9186\n",
            "       Probe       0.99      0.98      0.99      2331\n",
            "         U2R       0.95      0.93      0.94       197\n",
            "         R2L       0.56      0.42      0.48        12\n",
            "\n",
            "   micro avg       1.00      1.00      1.00     25195\n",
            "   macro avg       0.90      0.86      0.88     25195\n",
            "weighted avg       1.00      1.00      1.00     25195\n",
            " samples avg       1.00      1.00      1.00     25195\n",
            "\n",
            "\n",
            "roc auc value: 0.932%\n",
            "\n",
            "\n"
          ]
        },
        {
          "name": "stderr",
          "output_type": "stream",
          "text": [
            "/usr/local/lib/python3.8/dist-packages/sklearn/metrics/_classification.py:1318: UndefinedMetricWarning: Precision and F-score are ill-defined and being set to 0.0 in samples with no predicted labels. Use `zero_division` parameter to control this behavior.\n",
            "  _warn_prf(average, modifier, msg_start, len(result))\n"
          ]
        },
        {
          "data": {
            "text/plain": [
              "array([[1., 0., 0., 0., 0.],\n",
              "       [0., 0., 0., 1., 0.],\n",
              "       [1., 0., 0., 0., 0.],\n",
              "       ...,\n",
              "       [0., 1., 0., 0., 0.],\n",
              "       [1., 0., 0., 0., 0.],\n",
              "       [1., 0., 0., 0., 0.]], dtype=float32)"
            ]
          },
          "execution_count": 41,
          "metadata": {},
          "output_type": "execute_result"
        }
      ],
      "source": [
        "predict(knn30,nsl_pca30_val_scaled, nsl_val_y_one)"
      ]
    },
    {
      "cell_type": "code",
      "execution_count": null,
      "metadata": {
        "colab": {
          "base_uri": "https://localhost:8080/"
        },
        "id": "1KVZcE_f1YRG",
        "outputId": "13cb7cce-4ff9-4a19-e07a-857e909aafea"
      },
      "outputs": [
        {
          "name": "stdout",
          "output_type": "stream",
          "text": [
            "time : 37.95328903198242\n",
            "Accuracy: 0.771%\n",
            "\n",
            "\n",
            "              precision    recall  f1-score   support\n",
            "\n",
            "      Normal       0.68      0.97      0.80      9710\n",
            "         Dos       0.95      0.82      0.88      7460\n",
            "       Probe       0.84      0.69      0.76      2421\n",
            "         U2R       0.95      0.07      0.13      2749\n",
            "         R2L       0.56      0.11      0.18       203\n",
            "\n",
            "   micro avg       0.77      0.77      0.77     22543\n",
            "   macro avg       0.80      0.53      0.55     22543\n",
            "weighted avg       0.82      0.77      0.73     22543\n",
            " samples avg       0.77      0.77      0.77     22543\n",
            "\n",
            "\n",
            "roc auc value: 0.727%\n",
            "\n",
            "\n"
          ]
        },
        {
          "name": "stderr",
          "output_type": "stream",
          "text": [
            "/usr/local/lib/python3.8/dist-packages/sklearn/metrics/_classification.py:1318: UndefinedMetricWarning: Precision and F-score are ill-defined and being set to 0.0 in samples with no predicted labels. Use `zero_division` parameter to control this behavior.\n",
            "  _warn_prf(average, modifier, msg_start, len(result))\n"
          ]
        },
        {
          "data": {
            "text/plain": [
              "array([[0., 1., 0., 0., 0.],\n",
              "       [0., 1., 0., 0., 0.],\n",
              "       [1., 0., 0., 0., 0.],\n",
              "       ...,\n",
              "       [1., 0., 0., 0., 0.],\n",
              "       [1., 0., 0., 0., 0.],\n",
              "       [0., 0., 1., 0., 0.]], dtype=float32)"
            ]
          },
          "execution_count": 42,
          "metadata": {},
          "output_type": "execute_result"
        }
      ],
      "source": [
        "predict(knn30,nsl_pca30_test_scaled, nsl_test_y_one)"
      ]
    },
    {
      "cell_type": "markdown",
      "metadata": {
        "id": "k0Vcco4FNFnU"
      },
      "source": [
        "###XGBoost"
      ]
    },
    {
      "cell_type": "code",
      "execution_count": null,
      "metadata": {
        "colab": {
          "base_uri": "https://localhost:8080/"
        },
        "id": "e1ZsGFH8NC0-",
        "outputId": "d3d6f559-5f51-4330-8eb5-cc4b3a50d501"
      },
      "outputs": [
        {
          "name": "stdout",
          "output_type": "stream",
          "text": [
            "time : 75.7438223361969\n"
          ]
        }
      ],
      "source": [
        "start=time.time()\n",
        "\n",
        "xgb30 =  OneVsRestClassifier(XGBClassifier(gamma=2, max_depth=6, n_estimators=32, random_state=42))\n",
        "xgb30.fit(nsl_pca30_train_scaled, nsl_train_y_one)\n",
        "\n",
        "print(\"time :\", time.time() - start)"
      ]
    },
    {
      "cell_type": "code",
      "execution_count": null,
      "metadata": {
        "colab": {
          "base_uri": "https://localhost:8080/"
        },
        "id": "SQ8QeMg5Q5X0",
        "outputId": "ed9768f6-c8e0-48b0-d362-b1960cbba5c4"
      },
      "outputs": [
        {
          "name": "stdout",
          "output_type": "stream",
          "text": [
            "time : 0.16507625579833984\n",
            "Accuracy: 0.991%\n",
            "\n",
            "\n",
            "              precision    recall  f1-score   support\n",
            "\n",
            "      Normal       0.99      1.00      0.99     13469\n",
            "         Dos       1.00      1.00      1.00      9186\n",
            "       Probe       0.99      0.97      0.98      2331\n",
            "         U2R       0.98      0.85      0.91       197\n",
            "         R2L       0.75      0.25      0.38        12\n",
            "\n",
            "   micro avg       0.99      0.99      0.99     25195\n",
            "   macro avg       0.94      0.81      0.85     25195\n",
            "weighted avg       0.99      0.99      0.99     25195\n",
            " samples avg       0.99      0.99      0.99     25195\n",
            "\n",
            "\n",
            "roc auc value: 0.906%\n",
            "\n",
            "\n"
          ]
        },
        {
          "name": "stderr",
          "output_type": "stream",
          "text": [
            "/usr/local/lib/python3.8/dist-packages/sklearn/metrics/_classification.py:1318: UndefinedMetricWarning: Precision and F-score are ill-defined and being set to 0.0 in samples with no predicted labels. Use `zero_division` parameter to control this behavior.\n",
            "  _warn_prf(average, modifier, msg_start, len(result))\n"
          ]
        },
        {
          "data": {
            "text/plain": [
              "array([[1, 0, 0, 0, 0],\n",
              "       [0, 0, 0, 1, 0],\n",
              "       [1, 0, 0, 0, 0],\n",
              "       ...,\n",
              "       [0, 1, 0, 0, 0],\n",
              "       [1, 0, 0, 0, 0],\n",
              "       [1, 0, 0, 0, 0]])"
            ]
          },
          "execution_count": 44,
          "metadata": {},
          "output_type": "execute_result"
        }
      ],
      "source": [
        "predict(xgb30,nsl_pca30_val_scaled, nsl_val_y_one)"
      ]
    },
    {
      "cell_type": "code",
      "execution_count": null,
      "metadata": {
        "colab": {
          "base_uri": "https://localhost:8080/"
        },
        "id": "u8QDIZfEQ5aE",
        "outputId": "86cf5311-0736-4ca8-d0c1-ac800a1aa53b"
      },
      "outputs": [
        {
          "name": "stdout",
          "output_type": "stream",
          "text": [
            "time : 0.15664076805114746\n",
            "Accuracy: 0.753%\n",
            "\n",
            "\n",
            "              precision    recall  f1-score   support\n",
            "\n",
            "      Normal       0.68      0.97      0.80      9710\n",
            "         Dos       0.96      0.81      0.88      7460\n",
            "       Probe       0.88      0.68      0.77      2421\n",
            "         U2R       0.87      0.01      0.02      2749\n",
            "         R2L       0.38      0.04      0.08       203\n",
            "\n",
            "   micro avg       0.78      0.76      0.77     22543\n",
            "   macro avg       0.76      0.50      0.51     22543\n",
            "weighted avg       0.82      0.76      0.72     22543\n",
            " samples avg       0.76      0.76      0.76     22543\n",
            "\n",
            "\n",
            "roc auc value: 0.715%\n",
            "\n",
            "\n"
          ]
        },
        {
          "name": "stderr",
          "output_type": "stream",
          "text": [
            "/usr/local/lib/python3.8/dist-packages/sklearn/metrics/_classification.py:1318: UndefinedMetricWarning: Precision and F-score are ill-defined and being set to 0.0 in samples with no predicted labels. Use `zero_division` parameter to control this behavior.\n",
            "  _warn_prf(average, modifier, msg_start, len(result))\n"
          ]
        },
        {
          "data": {
            "text/plain": [
              "array([[0, 1, 0, 0, 0],\n",
              "       [0, 1, 0, 0, 0],\n",
              "       [1, 0, 0, 0, 0],\n",
              "       ...,\n",
              "       [0, 1, 0, 0, 0],\n",
              "       [1, 0, 0, 0, 0],\n",
              "       [0, 0, 1, 0, 0]])"
            ]
          },
          "execution_count": 45,
          "metadata": {},
          "output_type": "execute_result"
        }
      ],
      "source": [
        "predict(xgb30,nsl_pca30_test_scaled, nsl_test_y_one)"
      ]
    },
    {
      "cell_type": "markdown",
      "metadata": {
        "id": "7_iNKuq8LDBD"
      },
      "source": [
        "###DNN"
      ]
    },
    {
      "cell_type": "code",
      "execution_count": null,
      "metadata": {
        "colab": {
          "base_uri": "https://localhost:8080/"
        },
        "id": "Ttm0Gw4xjJ5-",
        "outputId": "f0854537-d53f-474f-b114-cd96b4bf3961"
      },
      "outputs": [
        {
          "name": "stdout",
          "output_type": "stream",
          "text": [
            "Model: \"sequential_4\"\n",
            "_________________________________________________________________\n",
            " Layer (type)                Output Shape              Param #   \n",
            "=================================================================\n",
            " flatten_4 (Flatten)         (None, 30)                0         \n",
            "                                                                 \n",
            " batch_normalization_3 (Batc  (None, 30)               120       \n",
            " hNormalization)                                                 \n",
            "                                                                 \n",
            " dense_12 (Dense)            (None, 300)               9300      \n",
            "                                                                 \n",
            " dropout_8 (Dropout)         (None, 300)               0         \n",
            "                                                                 \n",
            " batch_normalization_4 (Batc  (None, 300)              1200      \n",
            " hNormalization)                                                 \n",
            "                                                                 \n",
            " dense_13 (Dense)            (None, 100)               30100     \n",
            "                                                                 \n",
            " dropout_9 (Dropout)         (None, 100)               0         \n",
            "                                                                 \n",
            " batch_normalization_5 (Batc  (None, 100)              400       \n",
            " hNormalization)                                                 \n",
            "                                                                 \n",
            " dense_14 (Dense)            (None, 5)                 505       \n",
            "                                                                 \n",
            "=================================================================\n",
            "Total params: 41,625\n",
            "Trainable params: 40,765\n",
            "Non-trainable params: 860\n",
            "_________________________________________________________________\n"
          ]
        }
      ],
      "source": [
        "from keras.backend import dropout\n",
        "dnn30 = keras.models.Sequential([\n",
        "    keras.layers.Flatten(input_shape=(30,)),\n",
        "    keras.layers.BatchNormalization(),\n",
        "    keras.layers.Dense(300, activation=\"relu\"),\n",
        "    keras.layers.Dropout(rate=0.2),\n",
        "    keras.layers.BatchNormalization(),\n",
        "    keras.layers.Dense(100, activation=\"relu\"),  \n",
        "    keras.layers.Dropout(rate=0.2),\n",
        "    keras.layers.BatchNormalization(),\n",
        "    keras.layers.Dense(5, activation=\"softmax\")\n",
        "])\n",
        "dnn30.summary()"
      ]
    },
    {
      "cell_type": "code",
      "execution_count": null,
      "metadata": {
        "id": "UnEe6RT3azPg"
      },
      "outputs": [],
      "source": [
        "dnn30.compile(loss=\"categorical_crossentropy\",\n",
        "              optimizer=\"nadam\",\n",
        "              metrics=[\"accuracy\"])"
      ]
    },
    {
      "cell_type": "code",
      "execution_count": null,
      "metadata": {
        "colab": {
          "base_uri": "https://localhost:8080/"
        },
        "id": "no5BMhBrazR4",
        "outputId": "e52011f4-d7d8-4920-fe8c-393059d00e54"
      },
      "outputs": [
        {
          "name": "stdout",
          "output_type": "stream",
          "text": [
            "Epoch 1/30\n",
            "3150/3150 [==============================] - 13s 4ms/step - loss: 0.1029 - accuracy: 0.9677 - val_loss: 0.0926 - val_accuracy: 0.9803\n",
            "Epoch 2/30\n",
            "3150/3150 [==============================] - 11s 4ms/step - loss: 0.0582 - accuracy: 0.9803 - val_loss: 0.1137 - val_accuracy: 0.9823\n",
            "Epoch 3/30\n",
            "3150/3150 [==============================] - 13s 4ms/step - loss: 0.0496 - accuracy: 0.9826 - val_loss: 0.0717 - val_accuracy: 0.9815\n",
            "Epoch 4/30\n",
            "3150/3150 [==============================] - 11s 3ms/step - loss: 0.0472 - accuracy: 0.9840 - val_loss: 0.1189 - val_accuracy: 0.9791\n",
            "Epoch 5/30\n",
            "3150/3150 [==============================] - 13s 4ms/step - loss: 0.0441 - accuracy: 0.9847 - val_loss: 0.0794 - val_accuracy: 0.9846\n",
            "Epoch 6/30\n",
            "3150/3150 [==============================] - 13s 4ms/step - loss: 0.0420 - accuracy: 0.9855 - val_loss: 0.0793 - val_accuracy: 0.9831\n",
            "Epoch 7/30\n",
            "3150/3150 [==============================] - 13s 4ms/step - loss: 0.0398 - accuracy: 0.9861 - val_loss: 0.0882 - val_accuracy: 0.9822\n",
            "Epoch 8/30\n",
            "3150/3150 [==============================] - 12s 4ms/step - loss: 0.0390 - accuracy: 0.9862 - val_loss: 0.1223 - val_accuracy: 0.9735\n",
            "Epoch 9/30\n",
            "3150/3150 [==============================] - 11s 4ms/step - loss: 0.0374 - accuracy: 0.9861 - val_loss: 0.0764 - val_accuracy: 0.9861\n",
            "Epoch 10/30\n",
            "3150/3150 [==============================] - 11s 3ms/step - loss: 0.0361 - accuracy: 0.9873 - val_loss: 0.0600 - val_accuracy: 0.9831\n",
            "Epoch 11/30\n",
            "3150/3150 [==============================] - 11s 3ms/step - loss: 0.0370 - accuracy: 0.9872 - val_loss: 0.1008 - val_accuracy: 0.9813\n",
            "Epoch 12/30\n",
            "3150/3150 [==============================] - 12s 4ms/step - loss: 0.0357 - accuracy: 0.9877 - val_loss: 0.0628 - val_accuracy: 0.9865\n",
            "Epoch 13/30\n",
            "3150/3150 [==============================] - 11s 4ms/step - loss: 0.0354 - accuracy: 0.9876 - val_loss: 0.0669 - val_accuracy: 0.9857\n",
            "Epoch 14/30\n",
            "3150/3150 [==============================] - 11s 4ms/step - loss: 0.0343 - accuracy: 0.9883 - val_loss: 0.0838 - val_accuracy: 0.9854\n",
            "Epoch 15/30\n",
            "3150/3150 [==============================] - 13s 4ms/step - loss: 0.0335 - accuracy: 0.9882 - val_loss: 0.0944 - val_accuracy: 0.9837\n",
            "Epoch 16/30\n",
            "3150/3150 [==============================] - 11s 4ms/step - loss: 0.0331 - accuracy: 0.9885 - val_loss: 0.0586 - val_accuracy: 0.9861\n",
            "Epoch 17/30\n",
            "3150/3150 [==============================] - 11s 3ms/step - loss: 0.0333 - accuracy: 0.9884 - val_loss: 0.0675 - val_accuracy: 0.9861\n",
            "Epoch 18/30\n",
            "3150/3150 [==============================] - 11s 3ms/step - loss: 0.0322 - accuracy: 0.9888 - val_loss: 0.0583 - val_accuracy: 0.9854\n",
            "Epoch 19/30\n",
            "3150/3150 [==============================] - 11s 4ms/step - loss: 0.0324 - accuracy: 0.9885 - val_loss: 0.0804 - val_accuracy: 0.9838\n",
            "Epoch 20/30\n",
            "3150/3150 [==============================] - 11s 3ms/step - loss: 0.0319 - accuracy: 0.9888 - val_loss: 0.0588 - val_accuracy: 0.9877\n",
            "Epoch 21/30\n",
            "3150/3150 [==============================] - 11s 3ms/step - loss: 0.0315 - accuracy: 0.9888 - val_loss: 0.0718 - val_accuracy: 0.9844\n",
            "Epoch 22/30\n",
            "3150/3150 [==============================] - 11s 3ms/step - loss: 0.0309 - accuracy: 0.9888 - val_loss: 0.0569 - val_accuracy: 0.9859\n",
            "Epoch 23/30\n",
            "3150/3150 [==============================] - 11s 4ms/step - loss: 0.0319 - accuracy: 0.9890 - val_loss: 0.0532 - val_accuracy: 0.9871\n",
            "Epoch 24/30\n",
            "3150/3150 [==============================] - 11s 4ms/step - loss: 0.0312 - accuracy: 0.9891 - val_loss: 0.0462 - val_accuracy: 0.9899\n",
            "Epoch 25/30\n",
            "3150/3150 [==============================] - 11s 4ms/step - loss: 0.0299 - accuracy: 0.9891 - val_loss: 0.0477 - val_accuracy: 0.9881\n",
            "Epoch 26/30\n",
            "3150/3150 [==============================] - 11s 3ms/step - loss: 0.0308 - accuracy: 0.9893 - val_loss: 0.0962 - val_accuracy: 0.9852\n",
            "Epoch 27/30\n",
            "3150/3150 [==============================] - 11s 4ms/step - loss: 0.0295 - accuracy: 0.9892 - val_loss: 0.0539 - val_accuracy: 0.9865\n",
            "Epoch 28/30\n",
            "3150/3150 [==============================] - 13s 4ms/step - loss: 0.0305 - accuracy: 0.9893 - val_loss: 0.0499 - val_accuracy: 0.9871\n",
            "Epoch 29/30\n",
            "3150/3150 [==============================] - 11s 4ms/step - loss: 0.0297 - accuracy: 0.9898 - val_loss: 0.0997 - val_accuracy: 0.9828\n",
            "Epoch 30/30\n",
            "3150/3150 [==============================] - 11s 3ms/step - loss: 0.0291 - accuracy: 0.9896 - val_loss: 0.0524 - val_accuracy: 0.9873\n"
          ]
        }
      ],
      "source": [
        "history_dnn30 = dnn30.fit(nsl_pca30_train_scaled, nsl_train_y_one, epochs=30,\n",
        "                          validation_data=(nsl_pca30_val_scaled, nsl_val_y_one))"
      ]
    },
    {
      "cell_type": "code",
      "execution_count": null,
      "metadata": {
        "colab": {
          "base_uri": "https://localhost:8080/"
        },
        "id": "9O0RcET4N9rU",
        "outputId": "3b239779-0280-4c59-bd9a-f9aea2822b59"
      },
      "outputs": [
        {
          "name": "stdout",
          "output_type": "stream",
          "text": [
            "705/705 [==============================] - 1s 2ms/step - loss: 8.8786 - accuracy: 0.7559\n"
          ]
        },
        {
          "data": {
            "text/plain": [
              "[8.878591537475586, 0.7558887600898743]"
            ]
          },
          "execution_count": 58,
          "metadata": {},
          "output_type": "execute_result"
        }
      ],
      "source": [
        "dnn30.evaluate(nsl_pca30_test_scaled, nsl_test_y_one)"
      ]
    },
    {
      "cell_type": "code",
      "execution_count": null,
      "metadata": {
        "colab": {
          "base_uri": "https://localhost:8080/"
        },
        "id": "7MmXSgvtezDT",
        "outputId": "c5ff7333-ec02-42a0-a75d-82144b3ff686"
      },
      "outputs": [
        {
          "name": "stdout",
          "output_type": "stream",
          "text": [
            "788/788 [==============================] - 2s 3ms/step\n",
            "time : 2.7599496841430664\n",
            "              precision    recall  f1-score   support\n",
            "\n",
            "      Normal       0.99      0.99      0.99     13469\n",
            "         Dos       0.99      1.00      1.00      9186\n",
            "       Probe       0.99      0.97      0.98      2331\n",
            "         U2R       0.75      0.43      0.54       197\n",
            "         R2L       0.26      0.58      0.36        12\n",
            "\n",
            "   micro avg       0.99      0.99      0.99     25195\n",
            "   macro avg       0.80      0.79      0.77     25195\n",
            "weighted avg       0.99      0.99      0.99     25195\n",
            " samples avg       0.99      0.99      0.99     25195\n",
            "\n",
            "roc auc value: 0.894%\n",
            "\n",
            "\n"
          ]
        },
        {
          "data": {
            "text/plain": [
              "array([[1., 0., 0., 0., 0.],\n",
              "       [0., 0., 0., 1., 0.],\n",
              "       [1., 0., 0., 0., 0.],\n",
              "       ...,\n",
              "       [0., 1., 0., 0., 0.],\n",
              "       [1., 0., 0., 0., 0.],\n",
              "       [1., 0., 0., 0., 0.]], dtype=float32)"
            ]
          },
          "execution_count": 60,
          "metadata": {},
          "output_type": "execute_result"
        }
      ],
      "source": [
        "predict_nn(dnn30, nsl_pca30_val_scaled, nsl_val_y_one)"
      ]
    },
    {
      "cell_type": "code",
      "execution_count": null,
      "metadata": {
        "colab": {
          "base_uri": "https://localhost:8080/"
        },
        "id": "TLrHBE88N12b",
        "outputId": "e36f8478-73a6-4ccc-8ffd-be37bc0f92ea"
      },
      "outputs": [
        {
          "name": "stdout",
          "output_type": "stream",
          "text": [
            "705/705 [==============================] - 2s 3ms/step\n",
            "time : 2.6694483757019043\n",
            "              precision    recall  f1-score   support\n",
            "\n",
            "      Normal       0.66      0.93      0.77      9710\n",
            "         Dos       0.91      0.83      0.87      7460\n",
            "       Probe       0.85      0.71      0.78      2421\n",
            "         U2R       0.96      0.02      0.05      2749\n",
            "         R2L       0.63      0.16      0.25       203\n",
            "\n",
            "   micro avg       0.76      0.76      0.76     22543\n",
            "   macro avg       0.80      0.53      0.54     22543\n",
            "weighted avg       0.80      0.76      0.71     22543\n",
            " samples avg       0.76      0.76      0.76     22543\n",
            "\n",
            "roc auc value: 0.724%\n",
            "\n",
            "\n"
          ]
        },
        {
          "data": {
            "text/plain": [
              "array([[0., 1., 0., 0., 0.],\n",
              "       [0., 1., 0., 0., 0.],\n",
              "       [1., 0., 0., 0., 0.],\n",
              "       ...,\n",
              "       [0., 1., 0., 0., 0.],\n",
              "       [1., 0., 0., 0., 0.],\n",
              "       [0., 0., 1., 0., 0.]], dtype=float32)"
            ]
          },
          "execution_count": 61,
          "metadata": {},
          "output_type": "execute_result"
        }
      ],
      "source": [
        "predict_nn(dnn30, nsl_pca30_test_scaled, nsl_test_y_one)"
      ]
    },
    {
      "cell_type": "markdown",
      "metadata": {
        "id": "z7kqga6z0pHe"
      },
      "source": [
        "###**CNN**"
      ]
    },
    {
      "cell_type": "code",
      "execution_count": null,
      "metadata": {
        "id": "yJiBfm0D09vm"
      },
      "outputs": [],
      "source": [
        "cnn30 = keras.models.Sequential([\n",
        "    keras.layers.Conv1D(64, 7, activation='relu', padding='same', input_shape=[30, 1]),\n",
        "    keras.layers.MaxPooling1D(2),\n",
        "    keras.layers.Conv1D(128, 3, padding='same', activation='relu'),\n",
        "    keras.layers.Conv1D(128, 3, padding='same', activation='relu'),\n",
        "    keras.layers.MaxPooling1D(2),\n",
        "    keras.layers.Conv1D(256, 3, padding='same', activation='relu'),\n",
        "    keras.layers.Conv1D(256, 3, padding='same', activation='relu'),\n",
        "    keras.layers.MaxPooling1D(2),\n",
        "    keras.layers.Flatten(),\n",
        "    keras.layers.Dense(128, activation='relu'),\n",
        "    keras.layers.Dropout(0.5),\n",
        "    keras.layers.Dense(64, activation='relu'),\n",
        "    keras.layers.Dropout(0.5),\n",
        "    keras.layers.Dense(5, activation='softmax'),\n",
        "])"
      ]
    },
    {
      "cell_type": "code",
      "execution_count": null,
      "metadata": {
        "id": "MbEebZ-b09x_"
      },
      "outputs": [],
      "source": [
        "cnn30.compile(loss = \"categorical_crossentropy\",\n",
        "              optimizer = \"nadam\",\n",
        "              metrics=[\"Accuracy\"]\n",
        "              )"
      ]
    },
    {
      "cell_type": "code",
      "execution_count": null,
      "metadata": {
        "colab": {
          "base_uri": "https://localhost:8080/"
        },
        "id": "5jkr3bbl090q",
        "outputId": "cd188d51-5401-45c9-aeae-0c67ce6cb9ac"
      },
      "outputs": [
        {
          "name": "stdout",
          "output_type": "stream",
          "text": [
            "Epoch 1/30\n",
            "3150/3150 [==============================] - 190s 60ms/step - loss: 0.0926 - Accuracy: 0.9735 - val_loss: 0.0358 - val_Accuracy: 0.9883\n",
            "Epoch 2/30\n",
            "3150/3150 [==============================] - 165s 52ms/step - loss: 0.0486 - Accuracy: 0.9863 - val_loss: 0.0366 - val_Accuracy: 0.9889\n",
            "Epoch 3/30\n",
            "3150/3150 [==============================] - 150s 48ms/step - loss: 0.0406 - Accuracy: 0.9885 - val_loss: 0.0411 - val_Accuracy: 0.9871\n",
            "Epoch 4/30\n",
            "3150/3150 [==============================] - 157s 50ms/step - loss: 0.0371 - Accuracy: 0.9903 - val_loss: 0.0375 - val_Accuracy: 0.9897\n",
            "Epoch 5/30\n",
            "3150/3150 [==============================] - 152s 48ms/step - loss: 0.0360 - Accuracy: 0.9904 - val_loss: 0.0311 - val_Accuracy: 0.9896\n",
            "Epoch 6/30\n",
            "3150/3150 [==============================] - 152s 48ms/step - loss: 0.0312 - Accuracy: 0.9915 - val_loss: 0.0372 - val_Accuracy: 0.9904\n",
            "Epoch 7/30\n",
            "3150/3150 [==============================] - 150s 48ms/step - loss: 0.0342 - Accuracy: 0.9912 - val_loss: 0.0334 - val_Accuracy: 0.9895\n",
            "Epoch 8/30\n",
            "3150/3150 [==============================] - 148s 47ms/step - loss: 0.0317 - Accuracy: 0.9915 - val_loss: 0.0307 - val_Accuracy: 0.9926\n",
            "Epoch 9/30\n",
            "3150/3150 [==============================] - 150s 48ms/step - loss: 0.0293 - Accuracy: 0.9915 - val_loss: 0.0357 - val_Accuracy: 0.9923\n",
            "Epoch 10/30\n",
            "3150/3150 [==============================] - 154s 49ms/step - loss: 0.0329 - Accuracy: 0.9917 - val_loss: 0.0309 - val_Accuracy: 0.9883\n",
            "Epoch 11/30\n",
            "3150/3150 [==============================] - 157s 50ms/step - loss: 0.0318 - Accuracy: 0.9917 - val_loss: 0.0426 - val_Accuracy: 0.9904\n",
            "Epoch 12/30\n",
            "3150/3150 [==============================] - 155s 49ms/step - loss: 0.0340 - Accuracy: 0.9925 - val_loss: 0.0306 - val_Accuracy: 0.9925\n",
            "Epoch 13/30\n",
            "3150/3150 [==============================] - 152s 48ms/step - loss: 0.0300 - Accuracy: 0.9923 - val_loss: 0.0315 - val_Accuracy: 0.9922\n",
            "Epoch 14/30\n",
            "3150/3150 [==============================] - 151s 48ms/step - loss: 0.0330 - Accuracy: 0.9919 - val_loss: 0.0292 - val_Accuracy: 0.9934\n",
            "Epoch 15/30\n",
            "3150/3150 [==============================] - 154s 49ms/step - loss: 0.0277 - Accuracy: 0.9928 - val_loss: 0.0328 - val_Accuracy: 0.9916\n",
            "Epoch 16/30\n",
            "3150/3150 [==============================] - 153s 49ms/step - loss: 0.0345 - Accuracy: 0.9922 - val_loss: 0.0264 - val_Accuracy: 0.9938\n",
            "Epoch 17/30\n",
            "3150/3150 [==============================] - 150s 48ms/step - loss: 0.0262 - Accuracy: 0.9927 - val_loss: 0.0352 - val_Accuracy: 0.9904\n",
            "Epoch 18/30\n",
            "3150/3150 [==============================] - 151s 48ms/step - loss: 0.0282 - Accuracy: 0.9924 - val_loss: 0.0235 - val_Accuracy: 0.9936\n",
            "Epoch 19/30\n",
            "3150/3150 [==============================] - 150s 48ms/step - loss: 0.0360 - Accuracy: 0.9920 - val_loss: 0.0305 - val_Accuracy: 0.9930\n",
            "Epoch 20/30\n",
            "3150/3150 [==============================] - 149s 47ms/step - loss: 0.0303 - Accuracy: 0.9925 - val_loss: 0.0306 - val_Accuracy: 0.9925\n",
            "Epoch 21/30\n",
            "3150/3150 [==============================] - 150s 48ms/step - loss: 0.0458 - Accuracy: 0.9916 - val_loss: 0.0395 - val_Accuracy: 0.9901\n",
            "Epoch 22/30\n",
            "3150/3150 [==============================] - 149s 47ms/step - loss: 0.0301 - Accuracy: 0.9927 - val_loss: 0.0284 - val_Accuracy: 0.9932\n",
            "Epoch 23/30\n",
            "3150/3150 [==============================] - 148s 47ms/step - loss: 0.0329 - Accuracy: 0.9923 - val_loss: 0.0276 - val_Accuracy: 0.9922\n",
            "Epoch 24/30\n",
            "3150/3150 [==============================] - 149s 47ms/step - loss: 0.0733 - Accuracy: 0.9909 - val_loss: 0.0285 - val_Accuracy: 0.9937\n",
            "Epoch 25/30\n",
            "3150/3150 [==============================] - 147s 47ms/step - loss: 0.0398 - Accuracy: 0.9915 - val_loss: 0.0510 - val_Accuracy: 0.9849\n",
            "Epoch 26/30\n",
            "3150/3150 [==============================] - 147s 47ms/step - loss: 0.5110 - Accuracy: 0.9914 - val_loss: 0.0329 - val_Accuracy: 0.9925\n",
            "Epoch 27/30\n",
            "3150/3150 [==============================] - 146s 46ms/step - loss: 0.0297 - Accuracy: 0.9923 - val_loss: 0.0307 - val_Accuracy: 0.9936\n",
            "Epoch 28/30\n",
            "3150/3150 [==============================] - 144s 46ms/step - loss: 0.0324 - Accuracy: 0.9925 - val_loss: 0.0483 - val_Accuracy: 0.9867\n",
            "Epoch 29/30\n",
            "3150/3150 [==============================] - 145s 46ms/step - loss: 0.0373 - Accuracy: 0.9917 - val_loss: 0.0396 - val_Accuracy: 0.9936\n",
            "Epoch 30/30\n",
            "3150/3150 [==============================] - 148s 47ms/step - loss: 0.0354 - Accuracy: 0.9915 - val_loss: 0.0301 - val_Accuracy: 0.9927\n",
            "time : 4584.08745932579\n"
          ]
        }
      ],
      "source": [
        "start=time.time()\n",
        "history_cnn = cnn30.fit(nsl_pca30_train_scaled, nsl_train_y_one, epochs=30,\n",
        "                        validation_data=(nsl_pca30_val_scaled, nsl_val_y_one))\n",
        "print(\"time :\", time.time() - start)\n"
      ]
    },
    {
      "cell_type": "code",
      "execution_count": null,
      "metadata": {
        "colab": {
          "base_uri": "https://localhost:8080/"
        },
        "id": "kNvIaoQf093R",
        "outputId": "5195a0d4-48da-435d-d404-c71b7af72198"
      },
      "outputs": [
        {
          "name": "stdout",
          "output_type": "stream",
          "text": [
            "705/705 [==============================] - 7s 10ms/step - loss: 3.6132 - Accuracy: 0.7508\n"
          ]
        },
        {
          "data": {
            "text/plain": [
              "[3.613234043121338, 0.7508317232131958]"
            ]
          },
          "execution_count": 65,
          "metadata": {},
          "output_type": "execute_result"
        }
      ],
      "source": [
        "cnn30.evaluate(nsl_pca30_test_scaled, nsl_test_y_one)"
      ]
    },
    {
      "cell_type": "code",
      "execution_count": null,
      "metadata": {
        "colab": {
          "base_uri": "https://localhost:8080/"
        },
        "id": "3nfHxrQFfIc4",
        "outputId": "33d43e80-4b37-4a66-8173-2306c6ab51be"
      },
      "outputs": [
        {
          "name": "stdout",
          "output_type": "stream",
          "text": [
            "788/788 [==============================] - 8s 10ms/step\n",
            "time : 7.883238315582275\n",
            "              precision    recall  f1-score   support\n",
            "\n",
            "      Normal       0.99      0.99      0.99     13469\n",
            "         Dos       1.00      1.00      1.00      9186\n",
            "       Probe       0.98      0.98      0.98      2331\n",
            "         U2R       0.87      0.79      0.83       197\n",
            "         R2L       0.00      0.00      0.00        12\n",
            "\n",
            "   micro avg       0.99      0.99      0.99     25195\n",
            "   macro avg       0.77      0.75      0.76     25195\n",
            "weighted avg       0.99      0.99      0.99     25195\n",
            " samples avg       0.99      0.99      0.99     25195\n",
            "\n",
            "roc auc value: 0.875%\n",
            "\n",
            "\n"
          ]
        },
        {
          "name": "stderr",
          "output_type": "stream",
          "text": [
            "/usr/local/lib/python3.8/dist-packages/sklearn/metrics/_classification.py:1318: UndefinedMetricWarning: Precision and F-score are ill-defined and being set to 0.0 in labels with no predicted samples. Use `zero_division` parameter to control this behavior.\n",
            "  _warn_prf(average, modifier, msg_start, len(result))\n"
          ]
        },
        {
          "data": {
            "text/plain": [
              "array([[1., 0., 0., 0., 0.],\n",
              "       [0., 0., 0., 1., 0.],\n",
              "       [1., 0., 0., 0., 0.],\n",
              "       ...,\n",
              "       [0., 1., 0., 0., 0.],\n",
              "       [1., 0., 0., 0., 0.],\n",
              "       [1., 0., 0., 0., 0.]], dtype=float32)"
            ]
          },
          "execution_count": 66,
          "metadata": {},
          "output_type": "execute_result"
        }
      ],
      "source": [
        "predict_nn(cnn30, nsl_pca30_val_scaled, nsl_val_y_one)"
      ]
    },
    {
      "cell_type": "code",
      "execution_count": null,
      "metadata": {
        "colab": {
          "base_uri": "https://localhost:8080/"
        },
        "id": "rLQsiEoG096E",
        "outputId": "dcf14e90-befe-48e2-9294-df72202e4a12"
      },
      "outputs": [
        {
          "name": "stdout",
          "output_type": "stream",
          "text": [
            "705/705 [==============================] - 7s 10ms/step\n",
            "time : 7.176801919937134\n",
            "              precision    recall  f1-score   support\n",
            "\n",
            "      Normal       0.66      0.94      0.78      9710\n",
            "         Dos       0.90      0.76      0.83      7460\n",
            "       Probe       0.85      0.78      0.81      2421\n",
            "         U2R       0.99      0.08      0.15      2749\n",
            "         R2L       0.00      0.00      0.00       203\n",
            "\n",
            "   micro avg       0.75      0.75      0.75     22543\n",
            "   macro avg       0.68      0.51      0.51     22543\n",
            "weighted avg       0.80      0.75      0.71     22543\n",
            " samples avg       0.75      0.75      0.75     22543\n",
            "\n",
            "roc auc value: 0.714%\n",
            "\n",
            "\n"
          ]
        },
        {
          "name": "stderr",
          "output_type": "stream",
          "text": [
            "/usr/local/lib/python3.8/dist-packages/sklearn/metrics/_classification.py:1318: UndefinedMetricWarning: Precision and F-score are ill-defined and being set to 0.0 in labels with no predicted samples. Use `zero_division` parameter to control this behavior.\n",
            "  _warn_prf(average, modifier, msg_start, len(result))\n"
          ]
        },
        {
          "data": {
            "text/plain": [
              "array([[0., 1., 0., 0., 0.],\n",
              "       [0., 1., 0., 0., 0.],\n",
              "       [1., 0., 0., 0., 0.],\n",
              "       ...,\n",
              "       [0., 1., 0., 0., 0.],\n",
              "       [1., 0., 0., 0., 0.],\n",
              "       [0., 0., 1., 0., 0.]], dtype=float32)"
            ]
          },
          "execution_count": 67,
          "metadata": {},
          "output_type": "execute_result"
        }
      ],
      "source": [
        "predict_nn(cnn30, nsl_pca30_test_scaled, nsl_test_y_one)"
      ]
    },
    {
      "cell_type": "code",
      "execution_count": null,
      "metadata": {
        "colab": {
          "base_uri": "https://localhost:8080/",
          "height": 448
        },
        "id": "GkUIRSDz09_O",
        "outputId": "8bff5f35-f5de-41a6-a868-9a0e257aecd1"
      },
      "outputs": [
        {
          "data": {
            "image/png": "[encoded data removed]",
            "text/plain": [
              "<Figure size 800x500 with 1 Axes>"
            ]
          },
          "metadata": {},
          "output_type": "display_data"
        }
      ],
      "source": [
        "pd.DataFrame(history_cnn.history).plot(figsize=(8, 5))\n",
        "plt.grid(True)\n",
        "plt.gca().set_ylim(0, 1)\n",
        "plt.show()"
      ]
    },
    {
      "cell_type": "markdown",
      "metadata": {
        "id": "ZAOdZgK8kJ2u"
      },
      "source": [
        "##**PCA15**"
      ]
    },
    {
      "cell_type": "code",
      "execution_count": null,
      "metadata": {
        "id": "xIJQzbtJYT4R"
      },
      "outputs": [],
      "source": [
        "pca15 = PCA(n_components=15)\n",
        "pca15.fit(nsl_train_x_scaled)\n",
        "nsl_pca15_train = pca15.transform(nsl_train_x_scaled)\n",
        "nsl_pca15_val = pca15.transform(nsl_val_x_scaled)\n",
        "nsl_pca15_test = pca15.transform(nsl_test_x_scaled)\n",
        "\n",
        "scaler.fit(nsl_pca15_train)\n",
        "nsl_pca15_train_scaled=scaler.transform(nsl_pca15_train)\n",
        "nsl_pca15_val_scaled=scaler.transform(nsl_pca15_val)\n",
        "nsl_pca15_test_scaled=scaler.transform(nsl_pca15_test)"
      ]
    },
    {
      "cell_type": "markdown",
      "metadata": {
        "id": "1xdBgTCtX5N5"
      },
      "source": [
        "###**SVM**"
      ]
    },
    {
      "cell_type": "code",
      "execution_count": null,
      "metadata": {
        "colab": {
          "base_uri": "https://localhost:8080/"
        },
        "id": "277io681X9lW",
        "outputId": "8a826409-0207-4d22-cc97-3ef92aae2147"
      },
      "outputs": [
        {
          "name": "stdout",
          "output_type": "stream",
          "text": [
            "time : 481.782190322876\n"
          ]
        }
      ],
      "source": [
        "start = time.time()\n",
        "\n",
        "rbf15_kernel_svm_clf = OneVsRestClassifier(SVC(kernel=\"rbf\", gamma=1, C=10))\n",
        "rbf15_kernel_svm_clf.fit(nsl_pca15_train_scaled, nsl_train_y_one)\n",
        "\n",
        "print(\"time :\", time.time() - start)"
      ]
    },
    {
      "cell_type": "code",
      "execution_count": null,
      "metadata": {
        "colab": {
          "base_uri": "https://localhost:8080/"
        },
        "id": "xI-7vJHUtdZI",
        "outputId": "88e41dd0-0bd7-4488-8627-986e5f6f5523"
      },
      "outputs": [
        {
          "name": "stdout",
          "output_type": "stream",
          "text": [
            "time : 16.14681363105774\n",
            "Accuracy: 0.995%\n",
            "\n",
            "\n",
            "              precision    recall  f1-score   support\n",
            "\n",
            "      Normal       0.99      1.00      1.00     13469\n",
            "         Dos       1.00      1.00      1.00      9186\n",
            "       Probe       0.99      0.98      0.99      2331\n",
            "         U2R       0.97      0.87      0.92       197\n",
            "         R2L       0.57      0.33      0.42        12\n",
            "\n",
            "   micro avg       1.00      1.00      1.00     25195\n",
            "   macro avg       0.91      0.84      0.86     25195\n",
            "weighted avg       1.00      1.00      1.00     25195\n",
            " samples avg       1.00      1.00      1.00     25195\n",
            "\n",
            "\n",
            "roc auc value: 0.918%\n",
            "\n",
            "\n"
          ]
        },
        {
          "name": "stderr",
          "output_type": "stream",
          "text": [
            "/usr/local/lib/python3.8/dist-packages/sklearn/metrics/_classification.py:1318: UndefinedMetricWarning: Precision and F-score are ill-defined and being set to 0.0 in samples with no predicted labels. Use `zero_division` parameter to control this behavior.\n",
            "  _warn_prf(average, modifier, msg_start, len(result))\n"
          ]
        },
        {
          "data": {
            "text/plain": [
              "array([[1, 0, 0, 0, 0],\n",
              "       [0, 0, 0, 1, 0],\n",
              "       [1, 0, 0, 0, 0],\n",
              "       ...,\n",
              "       [0, 1, 0, 0, 0],\n",
              "       [1, 0, 0, 0, 0],\n",
              "       [1, 0, 0, 0, 0]])"
            ]
          },
          "execution_count": 74,
          "metadata": {},
          "output_type": "execute_result"
        }
      ],
      "source": [
        "predict(rbf15_kernel_svm_clf, nsl_pca15_val_scaled, nsl_val_y_one)"
      ]
    },
    {
      "cell_type": "code",
      "execution_count": null,
      "metadata": {
        "colab": {
          "base_uri": "https://localhost:8080/"
        },
        "id": "Pl_UVFIqtdcN",
        "outputId": "c1bb5b5b-76ba-4bbd-8f4e-722a644e8948"
      },
      "outputs": [
        {
          "name": "stdout",
          "output_type": "stream",
          "text": [
            "time : 16.202983379364014\n",
            "Accuracy: 0.733%\n",
            "\n",
            "\n",
            "              precision    recall  f1-score   support\n",
            "\n",
            "      Normal       0.65      0.97      0.78      9710\n",
            "         Dos       0.98      0.77      0.87      7460\n",
            "       Probe       0.82      0.53      0.64      2421\n",
            "         U2R       0.96      0.01      0.02      2749\n",
            "         R2L       0.14      0.04      0.07       203\n",
            "\n",
            "   micro avg       0.75      0.73      0.74     22543\n",
            "   macro avg       0.71      0.47      0.47     22543\n",
            "weighted avg       0.81      0.73      0.69     22543\n",
            " samples avg       0.73      0.73      0.73     22543\n",
            "\n",
            "\n",
            "roc auc value: 0.691%\n",
            "\n",
            "\n"
          ]
        },
        {
          "name": "stderr",
          "output_type": "stream",
          "text": [
            "/usr/local/lib/python3.8/dist-packages/sklearn/metrics/_classification.py:1318: UndefinedMetricWarning: Precision and F-score are ill-defined and being set to 0.0 in samples with no predicted labels. Use `zero_division` parameter to control this behavior.\n",
            "  _warn_prf(average, modifier, msg_start, len(result))\n"
          ]
        },
        {
          "data": {
            "text/plain": [
              "array([[0, 1, 0, 0, 0],\n",
              "       [0, 1, 0, 0, 0],\n",
              "       [1, 0, 0, 0, 0],\n",
              "       ...,\n",
              "       [0, 1, 0, 0, 0],\n",
              "       [1, 0, 0, 0, 0],\n",
              "       [1, 0, 0, 0, 0]])"
            ]
          },
          "execution_count": 75,
          "metadata": {},
          "output_type": "execute_result"
        }
      ],
      "source": [
        "predict(rbf15_kernel_svm_clf,nsl_pca15_test_scaled, nsl_test_y_one)"
      ]
    },
    {
      "cell_type": "markdown",
      "metadata": {
        "id": "bVCZh6F7OnoO"
      },
      "source": [
        "###RF"
      ]
    },
    {
      "cell_type": "code",
      "execution_count": null,
      "metadata": {
        "colab": {
          "base_uri": "https://localhost:8080/"
        },
        "id": "oObrZBvvXMdk",
        "outputId": "2887f5a4-7401-4dad-ac4f-e92d884312d2"
      },
      "outputs": [
        {
          "name": "stdout",
          "output_type": "stream",
          "text": [
            "time : 41.65300917625427\n"
          ]
        }
      ],
      "source": [
        "start=time.time()\n",
        "rf15 = RandomForestClassifier(n_estimators=100, min_samples_split=20, min_samples_leaf=8, max_depth=12, n_jobs=-1)\n",
        "rf15.fit(nsl_pca15_train_scaled, nsl_train_y_one)\n",
        "print(\"time :\", time.time() - start)"
      ]
    },
    {
      "cell_type": "code",
      "execution_count": null,
      "metadata": {
        "colab": {
          "base_uri": "https://localhost:8080/"
        },
        "id": "kKd6oFQbkP4b",
        "outputId": "b6dcd673-5560-4f15-815c-6e9e1c1d5d54"
      },
      "outputs": [
        {
          "name": "stdout",
          "output_type": "stream",
          "text": [
            "time : 0.7393698692321777\n",
            "Accuracy: 0.994%\n",
            "\n",
            "\n",
            "              precision    recall  f1-score   support\n",
            "\n",
            "      Normal       0.99      1.00      1.00     13469\n",
            "         Dos       1.00      1.00      1.00      9186\n",
            "       Probe       0.99      0.97      0.98      2331\n",
            "         U2R       0.97      0.81      0.88       197\n",
            "         R2L       0.67      0.17      0.27        12\n",
            "\n",
            "   micro avg       0.99      0.99      0.99     25195\n",
            "   macro avg       0.92      0.79      0.83     25195\n",
            "weighted avg       0.99      0.99      0.99     25195\n",
            " samples avg       0.99      0.99      0.99     25195\n",
            "\n",
            "\n",
            "roc auc value: 0.894%\n",
            "\n",
            "\n"
          ]
        },
        {
          "name": "stderr",
          "output_type": "stream",
          "text": [
            "/usr/local/lib/python3.8/dist-packages/sklearn/metrics/_classification.py:1318: UndefinedMetricWarning: Precision and F-score are ill-defined and being set to 0.0 in samples with no predicted labels. Use `zero_division` parameter to control this behavior.\n",
            "  _warn_prf(average, modifier, msg_start, len(result))\n"
          ]
        },
        {
          "data": {
            "text/plain": [
              "array([[1., 0., 0., 0., 0.],\n",
              "       [0., 0., 0., 1., 0.],\n",
              "       [1., 0., 0., 0., 0.],\n",
              "       ...,\n",
              "       [0., 1., 0., 0., 0.],\n",
              "       [1., 0., 0., 0., 0.],\n",
              "       [1., 0., 0., 0., 0.]], dtype=float32)"
            ]
          },
          "execution_count": 77,
          "metadata": {},
          "output_type": "execute_result"
        }
      ],
      "source": [
        "predict(rf15,nsl_pca15_val_scaled, nsl_val_y_one)"
      ]
    },
    {
      "cell_type": "code",
      "execution_count": null,
      "metadata": {
        "colab": {
          "base_uri": "https://localhost:8080/"
        },
        "id": "pmG6NgrhXO3g",
        "outputId": "5f21a80a-e27b-43a3-e28b-3f7142a966a4"
      },
      "outputs": [
        {
          "name": "stdout",
          "output_type": "stream",
          "text": [
            "time : 0.6657557487487793\n",
            "Accuracy: 0.740%\n",
            "\n",
            "\n",
            "              precision    recall  f1-score   support\n",
            "\n",
            "      Normal       0.67      0.94      0.78      9710\n",
            "         Dos       0.97      0.81      0.88      7460\n",
            "       Probe       0.88      0.61      0.72      2421\n",
            "         U2R       1.00      0.01      0.01      2749\n",
            "         R2L       0.00      0.00      0.00       203\n",
            "\n",
            "   micro avg       0.77      0.74      0.76     22543\n",
            "   macro avg       0.70      0.47      0.48     22543\n",
            "weighted avg       0.83      0.74      0.71     22543\n",
            " samples avg       0.74      0.74      0.74     22543\n",
            "\n",
            "\n",
            "roc auc value: 0.699%\n",
            "\n",
            "\n"
          ]
        },
        {
          "name": "stderr",
          "output_type": "stream",
          "text": [
            "/usr/local/lib/python3.8/dist-packages/sklearn/metrics/_classification.py:1318: UndefinedMetricWarning: Precision and F-score are ill-defined and being set to 0.0 in samples with no predicted labels. Use `zero_division` parameter to control this behavior.\n",
            "  _warn_prf(average, modifier, msg_start, len(result))\n"
          ]
        },
        {
          "data": {
            "text/plain": [
              "array([[0., 1., 0., 0., 0.],\n",
              "       [0., 1., 0., 0., 0.],\n",
              "       [1., 0., 0., 0., 0.],\n",
              "       ...,\n",
              "       [0., 1., 0., 0., 0.],\n",
              "       [1., 0., 0., 0., 0.],\n",
              "       [0., 0., 1., 0., 0.]], dtype=float32)"
            ]
          },
          "execution_count": 78,
          "metadata": {},
          "output_type": "execute_result"
        }
      ],
      "source": [
        "predict(rf15,nsl_pca15_test_scaled, nsl_test_y_one)"
      ]
    },
    {
      "cell_type": "markdown",
      "metadata": {
        "id": "ZOkUJnZqOtHT"
      },
      "source": [
        "###KNN"
      ]
    },
    {
      "cell_type": "code",
      "execution_count": null,
      "metadata": {
        "colab": {
          "base_uri": "https://localhost:8080/"
        },
        "id": "Bo25suvhOsGv",
        "outputId": "923e7b9e-33ac-4abc-ce01-accbb69c099f"
      },
      "outputs": [
        {
          "name": "stdout",
          "output_type": "stream",
          "text": [
            "time : 0.3765690326690674\n"
          ]
        }
      ],
      "source": [
        "start = time.time()\n",
        "\n",
        "knn15 = KNeighborsClassifier(n_neighbors=3)\n",
        "knn15.fit(nsl_pca15_train_scaled, nsl_train_y_one)\n",
        "\n",
        "print(\"time :\", time.time() - start)"
      ]
    },
    {
      "cell_type": "code",
      "execution_count": null,
      "metadata": {
        "colab": {
          "base_uri": "https://localhost:8080/"
        },
        "id": "r0HPHGhoOsZ2",
        "outputId": "3294083b-0176-4555-edb5-66a1bf737857"
      },
      "outputs": [
        {
          "name": "stdout",
          "output_type": "stream",
          "text": [
            "time : 4.162251234054565\n",
            "Accuracy: 0.996%\n",
            "\n",
            "\n",
            "              precision    recall  f1-score   support\n",
            "\n",
            "      Normal       1.00      1.00      1.00     13469\n",
            "         Dos       1.00      1.00      1.00      9186\n",
            "       Probe       0.99      0.98      0.99      2331\n",
            "         U2R       0.96      0.91      0.93       197\n",
            "         R2L       0.46      0.50      0.48        12\n",
            "\n",
            "   micro avg       1.00      1.00      1.00     25195\n",
            "   macro avg       0.88      0.88      0.88     25195\n",
            "weighted avg       1.00      1.00      1.00     25195\n",
            " samples avg       1.00      1.00      1.00     25195\n",
            "\n",
            "\n",
            "roc auc value: 0.938%\n",
            "\n",
            "\n"
          ]
        },
        {
          "name": "stderr",
          "output_type": "stream",
          "text": [
            "/usr/local/lib/python3.8/dist-packages/sklearn/metrics/_classification.py:1318: UndefinedMetricWarning: Precision and F-score are ill-defined and being set to 0.0 in samples with no predicted labels. Use `zero_division` parameter to control this behavior.\n",
            "  _warn_prf(average, modifier, msg_start, len(result))\n"
          ]
        },
        {
          "data": {
            "text/plain": [
              "array([[1., 0., 0., 0., 0.],\n",
              "       [0., 0., 0., 1., 0.],\n",
              "       [1., 0., 0., 0., 0.],\n",
              "       ...,\n",
              "       [0., 1., 0., 0., 0.],\n",
              "       [1., 0., 0., 0., 0.],\n",
              "       [1., 0., 0., 0., 0.]], dtype=float32)"
            ]
          },
          "execution_count": 80,
          "metadata": {},
          "output_type": "execute_result"
        }
      ],
      "source": [
        "predict(knn15,nsl_pca15_val_scaled, nsl_val_y_one)"
      ]
    },
    {
      "cell_type": "code",
      "execution_count": null,
      "metadata": {
        "colab": {
          "base_uri": "https://localhost:8080/"
        },
        "id": "KLH-2-s9Sxmv",
        "outputId": "f49b7474-825c-4552-b4dd-96980481dd23"
      },
      "outputs": [
        {
          "name": "stdout",
          "output_type": "stream",
          "text": [
            "time : 4.148423194885254\n",
            "Accuracy: 0.755%\n",
            "\n",
            "\n",
            "              precision    recall  f1-score   support\n",
            "\n",
            "      Normal       0.66      0.93      0.77      9710\n",
            "         Dos       0.96      0.82      0.88      7460\n",
            "       Probe       0.71      0.72      0.72      2421\n",
            "         U2R       0.95      0.05      0.09      2749\n",
            "         R2L       0.50      0.10      0.17       203\n",
            "\n",
            "   micro avg       0.75      0.75      0.75     22543\n",
            "   macro avg       0.76      0.52      0.53     22543\n",
            "weighted avg       0.80      0.75      0.72     22543\n",
            " samples avg       0.75      0.75      0.75     22543\n",
            "\n",
            "\n",
            "roc auc value: 0.722%\n",
            "\n",
            "\n"
          ]
        },
        {
          "name": "stderr",
          "output_type": "stream",
          "text": [
            "/usr/local/lib/python3.8/dist-packages/sklearn/metrics/_classification.py:1318: UndefinedMetricWarning: Precision and F-score are ill-defined and being set to 0.0 in samples with no predicted labels. Use `zero_division` parameter to control this behavior.\n",
            "  _warn_prf(average, modifier, msg_start, len(result))\n"
          ]
        },
        {
          "data": {
            "text/plain": [
              "array([[0., 1., 0., 0., 0.],\n",
              "       [0., 1., 0., 0., 0.],\n",
              "       [1., 0., 0., 0., 0.],\n",
              "       ...,\n",
              "       [0., 1., 0., 0., 0.],\n",
              "       [1., 0., 0., 0., 0.],\n",
              "       [0., 0., 1., 0., 0.]], dtype=float32)"
            ]
          },
          "execution_count": 81,
          "metadata": {},
          "output_type": "execute_result"
        }
      ],
      "source": [
        "predict(knn15,nsl_pca15_test_scaled, nsl_test_y_one)"
      ]
    },
    {
      "cell_type": "markdown",
      "metadata": {
        "id": "Nzq7ciIfOvMk"
      },
      "source": [
        "###XGBoost"
      ]
    },
    {
      "cell_type": "code",
      "execution_count": null,
      "metadata": {
        "colab": {
          "base_uri": "https://localhost:8080/"
        },
        "id": "KeGQh1wvOsd_",
        "outputId": "70ef690a-6827-45de-d7ad-d51c2df7b40b"
      },
      "outputs": [
        {
          "name": "stdout",
          "output_type": "stream",
          "text": [
            "time : 41.39785647392273\n"
          ]
        }
      ],
      "source": [
        "start=time.time()\n",
        "\n",
        "xgb15 = OneVsRestClassifier(XGBClassifier(gamma=2, max_depth=6, n_estimators=32, random_state=42))\n",
        "xgb15.fit(nsl_pca15_train_scaled, nsl_train_y_one)\n",
        "\n",
        "print(\"time :\", time.time() - start)"
      ]
    },
    {
      "cell_type": "code",
      "execution_count": null,
      "metadata": {
        "colab": {
          "base_uri": "https://localhost:8080/"
        },
        "id": "-0J6fD57TTVM",
        "outputId": "5e14fff6-0b51-40a9-e478-b56011ec5953"
      },
      "outputs": [
        {
          "name": "stdout",
          "output_type": "stream",
          "text": [
            "time : 0.14261412620544434\n",
            "Accuracy: 0.990%\n",
            "\n",
            "\n",
            "              precision    recall  f1-score   support\n",
            "\n",
            "      Normal       0.99      1.00      0.99     13469\n",
            "         Dos       1.00      1.00      1.00      9186\n",
            "       Probe       0.99      0.97      0.98      2331\n",
            "         U2R       0.98      0.87      0.92       197\n",
            "         R2L       0.60      0.25      0.35        12\n",
            "\n",
            "   micro avg       0.99      0.99      0.99     25195\n",
            "   macro avg       0.91      0.82      0.85     25195\n",
            "weighted avg       0.99      0.99      0.99     25195\n",
            " samples avg       0.99      0.99      0.99     25195\n",
            "\n",
            "\n",
            "roc auc value: 0.907%\n",
            "\n",
            "\n"
          ]
        },
        {
          "name": "stderr",
          "output_type": "stream",
          "text": [
            "/usr/local/lib/python3.8/dist-packages/sklearn/metrics/_classification.py:1318: UndefinedMetricWarning: Precision and F-score are ill-defined and being set to 0.0 in samples with no predicted labels. Use `zero_division` parameter to control this behavior.\n",
            "  _warn_prf(average, modifier, msg_start, len(result))\n"
          ]
        },
        {
          "data": {
            "text/plain": [
              "array([[1, 0, 0, 0, 0],\n",
              "       [0, 0, 0, 1, 0],\n",
              "       [1, 0, 0, 0, 0],\n",
              "       ...,\n",
              "       [0, 1, 0, 0, 0],\n",
              "       [1, 0, 0, 0, 0],\n",
              "       [1, 0, 0, 0, 0]])"
            ]
          },
          "execution_count": 83,
          "metadata": {},
          "output_type": "execute_result"
        }
      ],
      "source": [
        "predict(xgb15,nsl_pca15_val_scaled, nsl_val_y_one)"
      ]
    },
    {
      "cell_type": "code",
      "execution_count": null,
      "metadata": {
        "colab": {
          "base_uri": "https://localhost:8080/"
        },
        "id": "eRSWpwSGTTXc",
        "outputId": "c9874758-2a02-4698-c26b-2c400c3414b6"
      },
      "outputs": [
        {
          "name": "stdout",
          "output_type": "stream",
          "text": [
            "time : 0.13409924507141113\n",
            "Accuracy: 0.719%\n",
            "\n",
            "\n",
            "              precision    recall  f1-score   support\n",
            "\n",
            "      Normal       0.65      0.94      0.77      9710\n",
            "         Dos       0.96      0.76      0.85      7460\n",
            "       Probe       0.87      0.65      0.74      2421\n",
            "         U2R       0.97      0.07      0.13      2749\n",
            "         R2L       0.53      0.04      0.08       203\n",
            "\n",
            "   micro avg       0.76      0.73      0.74     22543\n",
            "   macro avg       0.80      0.49      0.51     22543\n",
            "weighted avg       0.82      0.73      0.71     22543\n",
            " samples avg       0.73      0.73      0.73     22543\n",
            "\n",
            "\n",
            "roc auc value: 0.705%\n",
            "\n",
            "\n"
          ]
        },
        {
          "name": "stderr",
          "output_type": "stream",
          "text": [
            "/usr/local/lib/python3.8/dist-packages/sklearn/metrics/_classification.py:1318: UndefinedMetricWarning: Precision and F-score are ill-defined and being set to 0.0 in samples with no predicted labels. Use `zero_division` parameter to control this behavior.\n",
            "  _warn_prf(average, modifier, msg_start, len(result))\n"
          ]
        },
        {
          "data": {
            "text/plain": [
              "array([[0, 1, 0, 0, 0],\n",
              "       [0, 1, 0, 0, 0],\n",
              "       [1, 0, 0, 0, 0],\n",
              "       ...,\n",
              "       [0, 1, 0, 0, 0],\n",
              "       [1, 0, 0, 0, 0],\n",
              "       [0, 0, 1, 0, 0]])"
            ]
          },
          "execution_count": 84,
          "metadata": {},
          "output_type": "execute_result"
        }
      ],
      "source": [
        "predict(xgb15,nsl_pca15_test_scaled, nsl_test_y_one)"
      ]
    },
    {
      "cell_type": "markdown",
      "metadata": {
        "id": "3jsHSQleTlRM"
      },
      "source": [
        "###**DNN**"
      ]
    },
    {
      "cell_type": "code",
      "execution_count": null,
      "metadata": {
        "colab": {
          "base_uri": "https://localhost:8080/"
        },
        "id": "OdJXEj5OOY6V",
        "outputId": "1b1ed130-d2c2-44ed-d4c6-1369950b1b26"
      },
      "outputs": [
        {
          "name": "stdout",
          "output_type": "stream",
          "text": [
            "Model: \"sequential_6\"\n",
            "_________________________________________________________________\n",
            " Layer (type)                Output Shape              Param #   \n",
            "=================================================================\n",
            " flatten_6 (Flatten)         (None, 15)                0         \n",
            "                                                                 \n",
            " batch_normalization_6 (Batc  (None, 15)               60        \n",
            " hNormalization)                                                 \n",
            "                                                                 \n",
            " dense_18 (Dense)            (None, 300)               4800      \n",
            "                                                                 \n",
            " dropout_12 (Dropout)        (None, 300)               0         \n",
            "                                                                 \n",
            " batch_normalization_7 (Batc  (None, 300)              1200      \n",
            " hNormalization)                                                 \n",
            "                                                                 \n",
            " dense_19 (Dense)            (None, 100)               30100     \n",
            "                                                                 \n",
            " dropout_13 (Dropout)        (None, 100)               0         \n",
            "                                                                 \n",
            " batch_normalization_8 (Batc  (None, 100)              400       \n",
            " hNormalization)                                                 \n",
            "                                                                 \n",
            " dense_20 (Dense)            (None, 5)                 505       \n",
            "                                                                 \n",
            "=================================================================\n",
            "Total params: 37,065\n",
            "Trainable params: 36,235\n",
            "Non-trainable params: 830\n",
            "_________________________________________________________________\n"
          ]
        }
      ],
      "source": [
        "from keras.backend import dropout\n",
        "dnn15 = keras.models.Sequential([\n",
        "    keras.layers.Flatten(input_shape=(15,)),\n",
        "    keras.layers.BatchNormalization(),\n",
        "    keras.layers.Dense(300, activation=\"relu\"),\n",
        "    keras.layers.Dropout(rate=0.2),\n",
        "    keras.layers.BatchNormalization(),\n",
        "    keras.layers.Dense(100, activation=\"relu\"),  \n",
        "    keras.layers.Dropout(rate=0.2),\n",
        "    keras.layers.BatchNormalization(),\n",
        "    keras.layers.Dense(5, activation=\"softmax\")\n",
        "])\n",
        "dnn15.summary()"
      ]
    },
    {
      "cell_type": "code",
      "execution_count": null,
      "metadata": {
        "id": "Gn6hx9YcOY9W"
      },
      "outputs": [],
      "source": [
        "dnn15.compile(loss=\"categorical_crossentropy\",\n",
        "              optimizer=\"sgd\",\n",
        "              metrics=[\"accuracy\"])"
      ]
    },
    {
      "cell_type": "code",
      "execution_count": null,
      "metadata": {
        "colab": {
          "base_uri": "https://localhost:8080/"
        },
        "id": "U_RcWGvoOZAo",
        "outputId": "2ede5e21-6fe9-4bf8-c888-e85537a7720e"
      },
      "outputs": [
        {
          "name": "stdout",
          "output_type": "stream",
          "text": [
            "Epoch 1/30\n",
            "3150/3150 [==============================] - 10s 3ms/step - loss: 0.1449 - accuracy: 0.9582 - val_loss: 0.0963 - val_accuracy: 0.9746\n",
            "Epoch 2/30\n",
            "3150/3150 [==============================] - 10s 3ms/step - loss: 0.0873 - accuracy: 0.9721 - val_loss: 0.0845 - val_accuracy: 0.9780\n",
            "Epoch 3/30\n",
            "3150/3150 [==============================] - 9s 3ms/step - loss: 0.0751 - accuracy: 0.9752 - val_loss: 0.0954 - val_accuracy: 0.9790\n",
            "Epoch 4/30\n",
            "3150/3150 [==============================] - 9s 3ms/step - loss: 0.0705 - accuracy: 0.9769 - val_loss: 0.0834 - val_accuracy: 0.9778\n",
            "Epoch 5/30\n",
            "3150/3150 [==============================] - 9s 3ms/step - loss: 0.0661 - accuracy: 0.9782 - val_loss: 0.0772 - val_accuracy: 0.9806\n",
            "Epoch 6/30\n",
            "3150/3150 [==============================] - 11s 4ms/step - loss: 0.0630 - accuracy: 0.9785 - val_loss: 0.0788 - val_accuracy: 0.9801\n",
            "Epoch 7/30\n",
            "3150/3150 [==============================] - 9s 3ms/step - loss: 0.0602 - accuracy: 0.9789 - val_loss: 0.1035 - val_accuracy: 0.9807\n",
            "Epoch 8/30\n",
            "3150/3150 [==============================] - 9s 3ms/step - loss: 0.0566 - accuracy: 0.9806 - val_loss: 0.0915 - val_accuracy: 0.9797\n",
            "Epoch 9/30\n",
            "3150/3150 [==============================] - 9s 3ms/step - loss: 0.0552 - accuracy: 0.9809 - val_loss: 0.0931 - val_accuracy: 0.9800\n",
            "Epoch 10/30\n",
            "3150/3150 [==============================] - 9s 3ms/step - loss: 0.0545 - accuracy: 0.9810 - val_loss: 0.0779 - val_accuracy: 0.9827\n",
            "Epoch 11/30\n",
            "3150/3150 [==============================] - 9s 3ms/step - loss: 0.0528 - accuracy: 0.9813 - val_loss: 0.0968 - val_accuracy: 0.9800\n",
            "Epoch 12/30\n",
            "3150/3150 [==============================] - 9s 3ms/step - loss: 0.0507 - accuracy: 0.9824 - val_loss: 0.1080 - val_accuracy: 0.9801\n",
            "Epoch 13/30\n",
            "3150/3150 [==============================] - 9s 3ms/step - loss: 0.0509 - accuracy: 0.9820 - val_loss: 0.1169 - val_accuracy: 0.9819\n",
            "Epoch 14/30\n",
            "3150/3150 [==============================] - 9s 3ms/step - loss: 0.0508 - accuracy: 0.9821 - val_loss: 0.0653 - val_accuracy: 0.9839\n",
            "Epoch 15/30\n",
            "3150/3150 [==============================] - 10s 3ms/step - loss: 0.0508 - accuracy: 0.9823 - val_loss: 0.0769 - val_accuracy: 0.9824\n",
            "Epoch 16/30\n",
            "3150/3150 [==============================] - 9s 3ms/step - loss: 0.0498 - accuracy: 0.9824 - val_loss: 0.1120 - val_accuracy: 0.9821\n",
            "Epoch 17/30\n",
            "3150/3150 [==============================] - 16s 5ms/step - loss: 0.0492 - accuracy: 0.9832 - val_loss: 0.0740 - val_accuracy: 0.9823\n",
            "Epoch 18/30\n",
            "3150/3150 [==============================] - 22s 7ms/step - loss: 0.0474 - accuracy: 0.9835 - val_loss: 0.0747 - val_accuracy: 0.9804\n",
            "Epoch 19/30\n",
            "3150/3150 [==============================] - 19s 6ms/step - loss: 0.0463 - accuracy: 0.9841 - val_loss: 0.1060 - val_accuracy: 0.9806\n",
            "Epoch 20/30\n",
            "3150/3150 [==============================] - 15s 5ms/step - loss: 0.0454 - accuracy: 0.9840 - val_loss: 0.0921 - val_accuracy: 0.9813\n",
            "Epoch 21/30\n",
            "3150/3150 [==============================] - 11s 3ms/step - loss: 0.0459 - accuracy: 0.9838 - val_loss: 0.0739 - val_accuracy: 0.9827\n",
            "Epoch 22/30\n",
            "3150/3150 [==============================] - 9s 3ms/step - loss: 0.0455 - accuracy: 0.9841 - val_loss: 0.0699 - val_accuracy: 0.9829\n",
            "Epoch 23/30\n",
            "3150/3150 [==============================] - 9s 3ms/step - loss: 0.0454 - accuracy: 0.9842 - val_loss: 0.0821 - val_accuracy: 0.9803\n",
            "Epoch 24/30\n",
            "3150/3150 [==============================] - 9s 3ms/step - loss: 0.0451 - accuracy: 0.9843 - val_loss: 0.1182 - val_accuracy: 0.9796\n",
            "Epoch 25/30\n",
            "3150/3150 [==============================] - 9s 3ms/step - loss: 0.0442 - accuracy: 0.9846 - val_loss: 0.0960 - val_accuracy: 0.9796\n",
            "Epoch 26/30\n",
            "3150/3150 [==============================] - 10s 3ms/step - loss: 0.0430 - accuracy: 0.9843 - val_loss: 0.0744 - val_accuracy: 0.9827\n",
            "Epoch 27/30\n",
            "3150/3150 [==============================] - 9s 3ms/step - loss: 0.0445 - accuracy: 0.9840 - val_loss: 0.1251 - val_accuracy: 0.9770\n",
            "Epoch 28/30\n",
            "3150/3150 [==============================] - 9s 3ms/step - loss: 0.0444 - accuracy: 0.9844 - val_loss: 0.0866 - val_accuracy: 0.9804\n",
            "Epoch 29/30\n",
            "3150/3150 [==============================] - 9s 3ms/step - loss: 0.0420 - accuracy: 0.9850 - val_loss: 0.0662 - val_accuracy: 0.9829\n",
            "Epoch 30/30\n",
            "3150/3150 [==============================] - 9s 3ms/step - loss: 0.0421 - accuracy: 0.9850 - val_loss: 0.0722 - val_accuracy: 0.9782\n"
          ]
        }
      ],
      "source": [
        "history_dnn15 = dnn15.fit(nsl_pca15_train_scaled, nsl_train_y_one, epochs=30,\n",
        "                        validation_data=(nsl_pca15_val_scaled, nsl_val_y_one))"
      ]
    },
    {
      "cell_type": "code",
      "execution_count": null,
      "metadata": {
        "colab": {
          "base_uri": "https://localhost:8080/"
        },
        "id": "pAOJKTL7OZDm",
        "outputId": "c2002c11-fefe-415c-d304-feab141a0afd"
      },
      "outputs": [
        {
          "name": "stdout",
          "output_type": "stream",
          "text": [
            "705/705 [==============================] - 1s 2ms/step - loss: 1.2960 - accuracy: 0.7592\n"
          ]
        },
        {
          "data": {
            "text/plain": [
              "[1.2959530353546143, 0.7592157125473022]"
            ]
          },
          "execution_count": 88,
          "metadata": {},
          "output_type": "execute_result"
        }
      ],
      "source": [
        "dnn15.evaluate(nsl_pca15_test_scaled, nsl_test_y_one)"
      ]
    },
    {
      "cell_type": "code",
      "execution_count": null,
      "metadata": {
        "colab": {
          "base_uri": "https://localhost:8080/"
        },
        "id": "_clm2wHNOZGo",
        "outputId": "34a1d7f9-111d-48d0-a233-a241e10257b1"
      },
      "outputs": [
        {
          "name": "stdout",
          "output_type": "stream",
          "text": [
            "788/788 [==============================] - 1s 1ms/step\n",
            "time : 2.6875972747802734\n",
            "              precision    recall  f1-score   support\n",
            "\n",
            "      Normal       0.98      0.98      0.98     13469\n",
            "         Dos       0.99      1.00      0.99      9186\n",
            "       Probe       0.98      0.95      0.96      2331\n",
            "         U2R       0.34      0.36      0.35       197\n",
            "         R2L       0.25      0.08      0.12        12\n",
            "\n",
            "   micro avg       0.98      0.98      0.98     25195\n",
            "   macro avg       0.71      0.67      0.68     25195\n",
            "weighted avg       0.98      0.98      0.98     25195\n",
            " samples avg       0.98      0.98      0.98     25195\n",
            "\n",
            "roc auc value: 0.833%\n",
            "\n",
            "\n"
          ]
        },
        {
          "data": {
            "text/plain": [
              "array([[1., 0., 0., 0., 0.],\n",
              "       [0., 0., 0., 1., 0.],\n",
              "       [1., 0., 0., 0., 0.],\n",
              "       ...,\n",
              "       [0., 1., 0., 0., 0.],\n",
              "       [1., 0., 0., 0., 0.],\n",
              "       [1., 0., 0., 0., 0.]], dtype=float32)"
            ]
          },
          "execution_count": 89,
          "metadata": {},
          "output_type": "execute_result"
        }
      ],
      "source": [
        "predict_nn(dnn15, nsl_pca15_val_scaled, nsl_val_y_one)"
      ]
    },
    {
      "cell_type": "code",
      "execution_count": null,
      "metadata": {
        "colab": {
          "base_uri": "https://localhost:8080/"
        },
        "id": "vjI7UUYPOZJ2",
        "outputId": "268b89a7-ca18-40aa-cf70-b0988c36f038"
      },
      "outputs": [
        {
          "name": "stdout",
          "output_type": "stream",
          "text": [
            "705/705 [==============================] - 1s 2ms/step\n",
            "time : 1.361020803451538\n",
            "              precision    recall  f1-score   support\n",
            "\n",
            "      Normal       0.67      0.93      0.78      9710\n",
            "         Dos       0.92      0.85      0.88      7460\n",
            "       Probe       0.85      0.68      0.76      2421\n",
            "         U2R       0.60      0.01      0.02      2749\n",
            "         R2L       0.83      0.07      0.14       203\n",
            "\n",
            "   micro avg       0.76      0.76      0.76     22543\n",
            "   macro avg       0.77      0.51      0.52     22543\n",
            "weighted avg       0.76      0.76      0.71     22543\n",
            " samples avg       0.76      0.76      0.76     22543\n",
            "\n",
            "roc auc value: 0.715%\n",
            "\n",
            "\n"
          ]
        },
        {
          "data": {
            "text/plain": [
              "array([[0., 1., 0., 0., 0.],\n",
              "       [0., 1., 0., 0., 0.],\n",
              "       [1., 0., 0., 0., 0.],\n",
              "       ...,\n",
              "       [0., 1., 0., 0., 0.],\n",
              "       [1., 0., 0., 0., 0.],\n",
              "       [0., 0., 1., 0., 0.]], dtype=float32)"
            ]
          },
          "execution_count": 90,
          "metadata": {},
          "output_type": "execute_result"
        }
      ],
      "source": [
        "predict_nn(dnn15, nsl_pca15_test_scaled, nsl_test_y_one)"
      ]
    },
    {
      "cell_type": "markdown",
      "metadata": {
        "id": "F8VonLFq1muY"
      },
      "source": [
        "###**CNN**"
      ]
    },
    {
      "cell_type": "code",
      "execution_count": null,
      "metadata": {
        "id": "I34jKICJ1o2M"
      },
      "outputs": [],
      "source": [
        "cnn15 = keras.models.Sequential([\n",
        "    keras.layers.Conv1D(64, 7, activation='relu', padding='same', input_shape=[15, 1]),\n",
        "    keras.layers.MaxPooling1D(2),\n",
        "    keras.layers.Conv1D(128, 3, padding='same', activation='relu'),\n",
        "    keras.layers.Conv1D(128, 3, padding='same', activation='relu'),\n",
        "    keras.layers.MaxPooling1D(2),\n",
        "    keras.layers.Conv1D(256, 3, padding='same', activation='relu'),\n",
        "    keras.layers.Conv1D(256, 3, padding='same', activation='relu'),\n",
        "    keras.layers.MaxPooling1D(2),\n",
        "    keras.layers.Flatten(),\n",
        "    keras.layers.Dense(128, activation='relu'),\n",
        "    keras.layers.Dropout(0.5),\n",
        "    keras.layers.Dense(64, activation='relu'),\n",
        "    keras.layers.Dropout(0.5),\n",
        "    keras.layers.Dense(5, activation='softmax'),\n",
        "])"
      ]
    },
    {
      "cell_type": "code",
      "execution_count": null,
      "metadata": {
        "id": "vKJFS_jq1o6n"
      },
      "outputs": [],
      "source": [
        "cnn15.compile(loss = \"categorical_crossentropy\",\n",
        "              optimizer = \"nadam\",\n",
        "              metrics=[\"Accuracy\"]\n",
        "              )"
      ]
    },
    {
      "cell_type": "code",
      "execution_count": null,
      "metadata": {
        "colab": {
          "base_uri": "https://localhost:8080/"
        },
        "id": "mWZf2LG51o-9",
        "outputId": "a6085659-19d7-4d28-ac6e-872f4d93ef99"
      },
      "outputs": [
        {
          "name": "stdout",
          "output_type": "stream",
          "text": [
            "Epoch 1/30\n",
            "3150/3150 [==============================] - 115s 36ms/step - loss: 0.0890 - Accuracy: 0.9745 - val_loss: 0.0435 - val_Accuracy: 0.9857\n",
            "Epoch 2/30\n",
            "3150/3150 [==============================] - 113s 36ms/step - loss: 0.0489 - Accuracy: 0.9853 - val_loss: 0.0438 - val_Accuracy: 0.9846\n",
            "Epoch 3/30\n",
            "3150/3150 [==============================] - 112s 35ms/step - loss: 0.0447 - Accuracy: 0.9859 - val_loss: 0.0369 - val_Accuracy: 0.9885\n",
            "Epoch 4/30\n",
            "3150/3150 [==============================] - 112s 36ms/step - loss: 0.0427 - Accuracy: 0.9870 - val_loss: 0.0579 - val_Accuracy: 0.9860\n",
            "Epoch 5/30\n",
            "3150/3150 [==============================] - 112s 36ms/step - loss: 0.0400 - Accuracy: 0.9878 - val_loss: 0.0361 - val_Accuracy: 0.9888\n",
            "Epoch 6/30\n",
            "3150/3150 [==============================] - 110s 35ms/step - loss: 0.0379 - Accuracy: 0.9887 - val_loss: 0.0369 - val_Accuracy: 0.9886\n",
            "Epoch 7/30\n",
            "3150/3150 [==============================] - 113s 36ms/step - loss: 0.0457 - Accuracy: 0.9882 - val_loss: 0.0369 - val_Accuracy: 0.9860\n",
            "Epoch 8/30\n",
            "3150/3150 [==============================] - 113s 36ms/step - loss: 0.0352 - Accuracy: 0.9887 - val_loss: 0.0351 - val_Accuracy: 0.9888\n",
            "Epoch 9/30\n",
            "3150/3150 [==============================] - 113s 36ms/step - loss: 0.0402 - Accuracy: 0.9888 - val_loss: 0.0408 - val_Accuracy: 0.9864\n",
            "Epoch 10/30\n",
            "3150/3150 [==============================] - 112s 36ms/step - loss: 0.0377 - Accuracy: 0.9889 - val_loss: 0.0318 - val_Accuracy: 0.9890\n",
            "Epoch 11/30\n",
            "3150/3150 [==============================] - 111s 35ms/step - loss: 0.0336 - Accuracy: 0.9893 - val_loss: 0.0383 - val_Accuracy: 0.9873\n",
            "Epoch 12/30\n",
            "3150/3150 [==============================] - 109s 35ms/step - loss: 0.0333 - Accuracy: 0.9896 - val_loss: 0.0311 - val_Accuracy: 0.9908\n",
            "Epoch 13/30\n",
            "3150/3150 [==============================] - 112s 35ms/step - loss: 0.0332 - Accuracy: 0.9895 - val_loss: 0.0310 - val_Accuracy: 0.9890\n",
            "Epoch 14/30\n",
            "3150/3150 [==============================] - 112s 36ms/step - loss: 0.0330 - Accuracy: 0.9897 - val_loss: 0.0258 - val_Accuracy: 0.9911\n",
            "Epoch 15/30\n",
            "3150/3150 [==============================] - 110s 35ms/step - loss: 0.0327 - Accuracy: 0.9901 - val_loss: 0.0285 - val_Accuracy: 0.9900\n",
            "Epoch 16/30\n",
            "3150/3150 [==============================] - 112s 35ms/step - loss: 0.0462 - Accuracy: 0.9904 - val_loss: 0.0321 - val_Accuracy: 0.9902\n",
            "Epoch 17/30\n",
            "3150/3150 [==============================] - 112s 36ms/step - loss: 0.0298 - Accuracy: 0.9905 - val_loss: 0.0369 - val_Accuracy: 0.9917\n",
            "Epoch 18/30\n",
            "3150/3150 [==============================] - 112s 36ms/step - loss: 0.0350 - Accuracy: 0.9899 - val_loss: 0.0330 - val_Accuracy: 0.9915\n",
            "Epoch 19/30\n",
            "3150/3150 [==============================] - 112s 35ms/step - loss: 0.0326 - Accuracy: 0.9899 - val_loss: 0.0419 - val_Accuracy: 0.9902\n",
            "Epoch 20/30\n",
            "3150/3150 [==============================] - 112s 36ms/step - loss: 0.0318 - Accuracy: 0.9899 - val_loss: 0.0371 - val_Accuracy: 0.9884\n",
            "Epoch 21/30\n",
            "3150/3150 [==============================] - 110s 35ms/step - loss: 0.0626 - Accuracy: 0.9895 - val_loss: 0.0349 - val_Accuracy: 0.9886\n",
            "Epoch 22/30\n",
            "3150/3150 [==============================] - 111s 35ms/step - loss: 0.0360 - Accuracy: 0.9908 - val_loss: 0.0403 - val_Accuracy: 0.9898\n",
            "Epoch 23/30\n",
            "3150/3150 [==============================] - 111s 35ms/step - loss: 0.0335 - Accuracy: 0.9901 - val_loss: 0.0402 - val_Accuracy: 0.9896\n",
            "Epoch 24/30\n",
            "3150/3150 [==============================] - 109s 35ms/step - loss: 0.0330 - Accuracy: 0.9905 - val_loss: 0.0310 - val_Accuracy: 0.9891\n",
            "Epoch 25/30\n",
            "3150/3150 [==============================] - 110s 35ms/step - loss: 0.0401 - Accuracy: 0.9891 - val_loss: 0.0324 - val_Accuracy: 0.9909\n",
            "Epoch 26/30\n",
            "3150/3150 [==============================] - 111s 35ms/step - loss: 0.0335 - Accuracy: 0.9895 - val_loss: 0.0426 - val_Accuracy: 0.9900\n",
            "Epoch 27/30\n",
            "3150/3150 [==============================] - 110s 35ms/step - loss: 0.0317 - Accuracy: 0.9905 - val_loss: 0.0401 - val_Accuracy: 0.9897\n",
            "Epoch 28/30\n",
            "3150/3150 [==============================] - 111s 35ms/step - loss: 0.0404 - Accuracy: 0.9892 - val_loss: 0.0451 - val_Accuracy: 0.9851\n",
            "Epoch 29/30\n",
            "3150/3150 [==============================] - 112s 36ms/step - loss: 0.0733 - Accuracy: 0.9896 - val_loss: 0.0318 - val_Accuracy: 0.9913\n",
            "Epoch 30/30\n",
            "3150/3150 [==============================] - 111s 35ms/step - loss: 0.0525 - Accuracy: 0.9893 - val_loss: 0.0380 - val_Accuracy: 0.9915\n",
            "time : 3384.2882142066956\n"
          ]
        }
      ],
      "source": [
        "start=time.time()\n",
        "history_cnn = cnn15.fit(nsl_pca15_train_scaled, nsl_train_y_one, epochs=30,\n",
        "                        validation_data=(nsl_pca15_val_scaled, nsl_val_y_one))\n",
        "print(\"time :\", time.time() - start)\n"
      ]
    },
    {
      "cell_type": "code",
      "execution_count": null,
      "metadata": {
        "colab": {
          "base_uri": "https://localhost:8080/"
        },
        "id": "4iGs2AiK1pC9",
        "outputId": "5dccdf16-add3-4cb2-b6d5-9c618847fb80"
      },
      "outputs": [
        {
          "name": "stdout",
          "output_type": "stream",
          "text": [
            "705/705 [==============================] - 4s 5ms/step - loss: 3.5840 - Accuracy: 0.7358\n"
          ]
        },
        {
          "data": {
            "text/plain": [
              "[3.5840096473693848, 0.7358381748199463]"
            ]
          },
          "execution_count": 94,
          "metadata": {},
          "output_type": "execute_result"
        }
      ],
      "source": [
        "cnn15.evaluate(nsl_pca15_test_scaled, nsl_test_y_one)"
      ]
    },
    {
      "cell_type": "code",
      "execution_count": null,
      "metadata": {
        "colab": {
          "base_uri": "https://localhost:8080/"
        },
        "id": "ApqWbPnX1pGx",
        "outputId": "d1f3a6e3-dc31-424b-aa15-04dc6af14653"
      },
      "outputs": [
        {
          "name": "stdout",
          "output_type": "stream",
          "text": [
            "788/788 [==============================] - 4s 5ms/step\n",
            "time : 5.286743402481079\n",
            "              precision    recall  f1-score   support\n",
            "\n",
            "      Normal       0.99      0.99      0.99     13469\n",
            "         Dos       1.00      1.00      1.00      9186\n",
            "       Probe       0.98      0.98      0.98      2331\n",
            "         U2R       0.74      0.75      0.75       197\n",
            "         R2L       0.00      0.00      0.00        12\n",
            "\n",
            "   micro avg       0.99      0.99      0.99     25195\n",
            "   macro avg       0.74      0.74      0.74     25195\n",
            "weighted avg       0.99      0.99      0.99     25195\n",
            " samples avg       0.99      0.99      0.99     25195\n",
            "\n",
            "roc auc value: 0.871%\n",
            "\n",
            "\n"
          ]
        },
        {
          "name": "stderr",
          "output_type": "stream",
          "text": [
            "/usr/local/lib/python3.8/dist-packages/sklearn/metrics/_classification.py:1318: UndefinedMetricWarning: Precision and F-score are ill-defined and being set to 0.0 in labels with no predicted samples. Use `zero_division` parameter to control this behavior.\n",
            "  _warn_prf(average, modifier, msg_start, len(result))\n"
          ]
        },
        {
          "data": {
            "text/plain": [
              "array([[1., 0., 0., 0., 0.],\n",
              "       [0., 0., 0., 1., 0.],\n",
              "       [1., 0., 0., 0., 0.],\n",
              "       ...,\n",
              "       [0., 1., 0., 0., 0.],\n",
              "       [1., 0., 0., 0., 0.],\n",
              "       [1., 0., 0., 0., 0.]], dtype=float32)"
            ]
          },
          "execution_count": 95,
          "metadata": {},
          "output_type": "execute_result"
        }
      ],
      "source": [
        "predict_nn(cnn15, nsl_pca15_val_scaled, nsl_val_y_one)"
      ]
    },
    {
      "cell_type": "code",
      "execution_count": null,
      "metadata": {
        "colab": {
          "base_uri": "https://localhost:8080/"
        },
        "id": "TmkL11nd1pKb",
        "outputId": "9ef5b8ce-db0b-4d29-e5e1-01641cd5a3dd"
      },
      "outputs": [
        {
          "name": "stdout",
          "output_type": "stream",
          "text": [
            "705/705 [==============================] - 4s 5ms/step\n",
            "time : 3.716768264770508\n",
            "              precision    recall  f1-score   support\n",
            "\n",
            "      Normal       0.65      0.92      0.76      9710\n",
            "         Dos       0.89      0.76      0.82      7460\n",
            "       Probe       0.82      0.71      0.76      2421\n",
            "         U2R       0.97      0.10      0.18      2749\n",
            "         R2L       0.00      0.00      0.00       203\n",
            "\n",
            "   micro avg       0.74      0.74      0.74     22543\n",
            "   macro avg       0.67      0.50      0.50     22543\n",
            "weighted avg       0.78      0.74      0.70     22543\n",
            " samples avg       0.74      0.74      0.74     22543\n",
            "\n",
            "roc auc value: 0.704%\n",
            "\n",
            "\n"
          ]
        },
        {
          "name": "stderr",
          "output_type": "stream",
          "text": [
            "/usr/local/lib/python3.8/dist-packages/sklearn/metrics/_classification.py:1318: UndefinedMetricWarning: Precision and F-score are ill-defined and being set to 0.0 in labels with no predicted samples. Use `zero_division` parameter to control this behavior.\n",
            "  _warn_prf(average, modifier, msg_start, len(result))\n"
          ]
        },
        {
          "data": {
            "text/plain": [
              "array([[0., 1., 0., 0., 0.],\n",
              "       [0., 1., 0., 0., 0.],\n",
              "       [1., 0., 0., 0., 0.],\n",
              "       ...,\n",
              "       [0., 1., 0., 0., 0.],\n",
              "       [1., 0., 0., 0., 0.],\n",
              "       [0., 0., 1., 0., 0.]], dtype=float32)"
            ]
          },
          "execution_count": 96,
          "metadata": {},
          "output_type": "execute_result"
        }
      ],
      "source": [
        "predict_nn(cnn15, nsl_pca15_test_scaled, nsl_test_y_one)"
      ]
    },
    {
      "cell_type": "markdown",
      "metadata": {
        "id": "gMPjyfpEkgd1"
      },
      "source": [
        "##**PCA7**"
      ]
    },
    {
      "cell_type": "code",
      "execution_count": null,
      "metadata": {
        "id": "qxKvT7w3hIvD"
      },
      "outputs": [],
      "source": [
        "pca7 = PCA(n_components=7)\n",
        "pca7.fit(nsl_train_x_scaled)\n",
        "nsl_pca7_train = pca7.transform(nsl_train_x_scaled)\n",
        "nsl_pca7_val = pca7.transform(nsl_val_x_scaled)\n",
        "nsl_pca7_test = pca7.transform(nsl_test_x_scaled)\n",
        "\n",
        "scaler.fit(nsl_pca7_train)\n",
        "nsl_pca7_train_scaled=scaler.transform(nsl_pca7_train)\n",
        "nsl_pca7_val_scaled=scaler.transform(nsl_pca7_val)\n",
        "nsl_pca7_test_scaled=scaler.transform(nsl_pca7_test)"
      ]
    },
    {
      "cell_type": "markdown",
      "metadata": {
        "id": "TjyWYe1TYySj"
      },
      "source": [
        "###**SVM**"
      ]
    },
    {
      "cell_type": "code",
      "execution_count": null,
      "metadata": {
        "colab": {
          "base_uri": "https://localhost:8080/"
        },
        "id": "-K4OdMrbw2KE",
        "outputId": "2ecb0c42-3ad7-4625-b2b0-0ac971107b1f"
      },
      "outputs": [
        {
          "name": "stdout",
          "output_type": "stream",
          "text": [
            "time : 43.3501250743866\n"
          ]
        }
      ],
      "source": [
        "start = time.time()\n",
        "\n",
        "rbf7_kernel_svm_clf = OneVsRestClassifier(SVC(kernel=\"rbf\", gamma=1, C=10))\n",
        "rbf7_kernel_svm_clf.fit(nsl_pca7_train_scaled, nsl_train_y_one)\n",
        "\n",
        "print(\"time :\", time.time() - start)"
      ]
    },
    {
      "cell_type": "code",
      "execution_count": null,
      "metadata": {
        "colab": {
          "base_uri": "https://localhost:8080/"
        },
        "id": "aNeqQYjtw2Mz",
        "outputId": "86e1d527-a4dd-4088-a159-a8d28dc25cd8"
      },
      "outputs": [
        {
          "name": "stdout",
          "output_type": "stream",
          "text": [
            "time : 7.4493513107299805\n",
            "Accuracy: 0.994%\n",
            "\n",
            "\n",
            "              precision    recall  f1-score   support\n",
            "\n",
            "      Normal       0.99      1.00      0.99     13469\n",
            "         Dos       1.00      1.00      1.00      9186\n",
            "       Probe       0.99      0.98      0.98      2331\n",
            "         U2R       0.93      0.85      0.89       197\n",
            "         R2L       0.67      0.33      0.44        12\n",
            "\n",
            "   micro avg       0.99      0.99      0.99     25195\n",
            "   macro avg       0.92      0.83      0.86     25195\n",
            "weighted avg       0.99      0.99      0.99     25195\n",
            " samples avg       0.99      0.99      0.99     25195\n",
            "\n",
            "\n",
            "roc auc value: 0.915%\n",
            "\n",
            "\n"
          ]
        },
        {
          "name": "stderr",
          "output_type": "stream",
          "text": [
            "/usr/local/lib/python3.8/dist-packages/sklearn/metrics/_classification.py:1318: UndefinedMetricWarning: Precision and F-score are ill-defined and being set to 0.0 in samples with no predicted labels. Use `zero_division` parameter to control this behavior.\n",
            "  _warn_prf(average, modifier, msg_start, len(result))\n"
          ]
        },
        {
          "data": {
            "text/plain": [
              "array([[1, 0, 0, 0, 0],\n",
              "       [0, 0, 0, 1, 0],\n",
              "       [1, 0, 0, 0, 0],\n",
              "       ...,\n",
              "       [0, 1, 0, 0, 0],\n",
              "       [1, 0, 0, 0, 0],\n",
              "       [1, 0, 0, 0, 0]])"
            ]
          },
          "execution_count": 136,
          "metadata": {},
          "output_type": "execute_result"
        }
      ],
      "source": [
        "predict(rbf7_kernel_svm_clf, nsl_pca7_val_scaled, nsl_val_y_one)"
      ]
    },
    {
      "cell_type": "code",
      "execution_count": null,
      "metadata": {
        "colab": {
          "base_uri": "https://localhost:8080/"
        },
        "id": "KkOOyHc9w2PW",
        "outputId": "3e89eb48-33f9-4708-d87b-b49686acd1d5"
      },
      "outputs": [
        {
          "name": "stdout",
          "output_type": "stream",
          "text": [
            "time : 6.627949237823486\n",
            "Accuracy: 0.742%\n",
            "\n",
            "\n",
            "              precision    recall  f1-score   support\n",
            "\n",
            "      Normal       0.68      0.97      0.80      9710\n",
            "         Dos       0.90      0.76      0.82      7460\n",
            "       Probe       0.70      0.53      0.60      2421\n",
            "         U2R       0.99      0.15      0.26      2749\n",
            "         R2L       0.31      0.02      0.05       203\n",
            "\n",
            "   micro avg       0.75      0.75      0.75     22543\n",
            "   macro avg       0.72      0.49      0.51     22543\n",
            "weighted avg       0.79      0.75      0.71     22543\n",
            " samples avg       0.74      0.75      0.74     22543\n",
            "\n",
            "\n",
            "roc auc value: 0.701%\n",
            "\n",
            "\n"
          ]
        },
        {
          "name": "stderr",
          "output_type": "stream",
          "text": [
            "/usr/local/lib/python3.8/dist-packages/sklearn/metrics/_classification.py:1318: UndefinedMetricWarning: Precision and F-score are ill-defined and being set to 0.0 in samples with no predicted labels. Use `zero_division` parameter to control this behavior.\n",
            "  _warn_prf(average, modifier, msg_start, len(result))\n"
          ]
        },
        {
          "data": {
            "text/plain": [
              "array([[0, 1, 0, 0, 0],\n",
              "       [0, 1, 0, 0, 0],\n",
              "       [1, 0, 0, 0, 0],\n",
              "       ...,\n",
              "       [0, 1, 0, 0, 0],\n",
              "       [1, 0, 0, 0, 0],\n",
              "       [0, 1, 0, 0, 0]])"
            ]
          },
          "execution_count": 137,
          "metadata": {},
          "output_type": "execute_result"
        }
      ],
      "source": [
        "predict(rbf7_kernel_svm_clf, nsl_pca7_test_scaled, nsl_test_y_one)"
      ]
    },
    {
      "cell_type": "markdown",
      "metadata": {
        "id": "baoSUB72TnHd"
      },
      "source": [
        "###RF"
      ]
    },
    {
      "cell_type": "code",
      "execution_count": null,
      "metadata": {
        "colab": {
          "base_uri": "https://localhost:8080/"
        },
        "id": "pueAkWobXSKK",
        "outputId": "47ebc585-9043-4de9-ec5f-63cd07db7f6a"
      },
      "outputs": [
        {
          "name": "stdout",
          "output_type": "stream",
          "text": [
            "time : 32.2009379863739\n"
          ]
        }
      ],
      "source": [
        "start = time.time()\n",
        "rf7 = RandomForestClassifier(n_estimators=100, min_samples_split=20, min_samples_leaf=8, max_depth=12, n_jobs=-1)\n",
        "rf7.fit(nsl_pca7_train_scaled, nsl_train_y_one)\n",
        "print(\"time :\", time.time() - start)"
      ]
    },
    {
      "cell_type": "code",
      "execution_count": null,
      "metadata": {
        "colab": {
          "base_uri": "https://localhost:8080/"
        },
        "id": "DgH5rZmXkkXU",
        "outputId": "f8c04cad-fe27-4f27-c34a-922e49e3d737"
      },
      "outputs": [
        {
          "name": "stdout",
          "output_type": "stream",
          "text": [
            "time : 1.7972912788391113\n",
            "Accuracy: 0.992%\n",
            "\n",
            "\n",
            "              precision    recall  f1-score   support\n",
            "\n",
            "      Normal       0.99      1.00      0.99     13469\n",
            "         Dos       1.00      1.00      1.00      9186\n",
            "       Probe       0.99      0.97      0.98      2331\n",
            "         U2R       0.97      0.76      0.85       197\n",
            "         R2L       1.00      0.08      0.15        12\n",
            "\n",
            "   micro avg       0.99      0.99      0.99     25195\n",
            "   macro avg       0.99      0.76      0.80     25195\n",
            "weighted avg       0.99      0.99      0.99     25195\n",
            " samples avg       0.99      0.99      0.99     25195\n",
            "\n",
            "\n",
            "roc auc value: 0.880%\n",
            "\n",
            "\n"
          ]
        },
        {
          "name": "stderr",
          "output_type": "stream",
          "text": [
            "/usr/local/lib/python3.8/dist-packages/sklearn/metrics/_classification.py:1318: UndefinedMetricWarning: Precision and F-score are ill-defined and being set to 0.0 in samples with no predicted labels. Use `zero_division` parameter to control this behavior.\n",
            "  _warn_prf(average, modifier, msg_start, len(result))\n"
          ]
        },
        {
          "data": {
            "text/plain": [
              "array([[1., 0., 0., 0., 0.],\n",
              "       [0., 0., 0., 1., 0.],\n",
              "       [1., 0., 0., 0., 0.],\n",
              "       ...,\n",
              "       [0., 1., 0., 0., 0.],\n",
              "       [1., 0., 0., 0., 0.],\n",
              "       [1., 0., 0., 0., 0.]], dtype=float32)"
            ]
          },
          "execution_count": 139,
          "metadata": {},
          "output_type": "execute_result"
        }
      ],
      "source": [
        "predict(rf7, nsl_pca7_val_scaled, nsl_val_y_one)"
      ]
    },
    {
      "cell_type": "code",
      "execution_count": null,
      "metadata": {
        "colab": {
          "base_uri": "https://localhost:8080/"
        },
        "id": "YMsfZNhLXTg9",
        "outputId": "822ee6b7-c4c2-4ca9-a18a-62899f1d12ea"
      },
      "outputs": [
        {
          "name": "stdout",
          "output_type": "stream",
          "text": [
            "time : 1.297471523284912\n",
            "Accuracy: 0.724%\n",
            "\n",
            "\n",
            "              precision    recall  f1-score   support\n",
            "\n",
            "      Normal       0.65      0.98      0.78      9710\n",
            "         Dos       0.94      0.75      0.84      7460\n",
            "       Probe       0.88      0.50      0.64      2421\n",
            "         U2R       1.00      0.00      0.00      2749\n",
            "         R2L       0.00      0.00      0.00       203\n",
            "\n",
            "   micro avg       0.74      0.72      0.73     22543\n",
            "   macro avg       0.70      0.45      0.45     22543\n",
            "weighted avg       0.81      0.72      0.68     22543\n",
            " samples avg       0.72      0.72      0.72     22543\n",
            "\n",
            "\n",
            "roc auc value: 0.680%\n",
            "\n",
            "\n"
          ]
        },
        {
          "name": "stderr",
          "output_type": "stream",
          "text": [
            "/usr/local/lib/python3.8/dist-packages/sklearn/metrics/_classification.py:1318: UndefinedMetricWarning: Precision and F-score are ill-defined and being set to 0.0 in labels with no predicted samples. Use `zero_division` parameter to control this behavior.\n",
            "  _warn_prf(average, modifier, msg_start, len(result))\n",
            "/usr/local/lib/python3.8/dist-packages/sklearn/metrics/_classification.py:1318: UndefinedMetricWarning: Precision and F-score are ill-defined and being set to 0.0 in samples with no predicted labels. Use `zero_division` parameter to control this behavior.\n",
            "  _warn_prf(average, modifier, msg_start, len(result))\n"
          ]
        },
        {
          "data": {
            "text/plain": [
              "array([[0., 1., 0., 0., 0.],\n",
              "       [0., 1., 0., 0., 0.],\n",
              "       [1., 0., 0., 0., 0.],\n",
              "       ...,\n",
              "       [0., 1., 0., 0., 0.],\n",
              "       [1., 0., 0., 0., 0.],\n",
              "       [0., 1., 0., 0., 0.]], dtype=float32)"
            ]
          },
          "execution_count": 140,
          "metadata": {},
          "output_type": "execute_result"
        }
      ],
      "source": [
        "predict(rf7, nsl_pca7_test_scaled, nsl_test_y_one)"
      ]
    },
    {
      "cell_type": "markdown",
      "metadata": {
        "id": "aoMp-ernTqsi"
      },
      "source": [
        "###KNN"
      ]
    },
    {
      "cell_type": "code",
      "execution_count": null,
      "metadata": {
        "colab": {
          "base_uri": "https://localhost:8080/"
        },
        "id": "_lUiG1doTy6D",
        "outputId": "5953c9d2-ba8e-43d2-9267-7117e9b520b0"
      },
      "outputs": [
        {
          "name": "stdout",
          "output_type": "stream",
          "text": [
            "time : 1.2138071060180664\n"
          ]
        }
      ],
      "source": [
        "start = time.time()\n",
        "\n",
        "knn7 = KNeighborsClassifier(n_neighbors=3)\n",
        "knn7.fit(nsl_pca7_train_scaled, nsl_train_y_one)\n",
        "\n",
        "print(\"time :\", time.time() - start)"
      ]
    },
    {
      "cell_type": "code",
      "execution_count": null,
      "metadata": {
        "colab": {
          "base_uri": "https://localhost:8080/"
        },
        "id": "OwcRNfKCTzEt",
        "outputId": "ab9fac3e-5f01-44f9-ed2e-885f1196461d"
      },
      "outputs": [
        {
          "name": "stdout",
          "output_type": "stream",
          "text": [
            "time : 8.716289758682251\n",
            "Accuracy: 0.996%\n",
            "\n",
            "\n",
            "              precision    recall  f1-score   support\n",
            "\n",
            "      Normal       1.00      1.00      1.00     13469\n",
            "         Dos       1.00      1.00      1.00      9186\n",
            "       Probe       0.99      0.99      0.99      2331\n",
            "         U2R       0.94      0.92      0.93       197\n",
            "         R2L       0.67      0.50      0.57        12\n",
            "\n",
            "   micro avg       1.00      1.00      1.00     25195\n",
            "   macro avg       0.92      0.88      0.90     25195\n",
            "weighted avg       1.00      1.00      1.00     25195\n",
            " samples avg       1.00      1.00      1.00     25195\n",
            "\n",
            "\n",
            "roc auc value: 0.939%\n",
            "\n",
            "\n"
          ]
        },
        {
          "name": "stderr",
          "output_type": "stream",
          "text": [
            "/usr/local/lib/python3.8/dist-packages/sklearn/metrics/_classification.py:1318: UndefinedMetricWarning: Precision and F-score are ill-defined and being set to 0.0 in samples with no predicted labels. Use `zero_division` parameter to control this behavior.\n",
            "  _warn_prf(average, modifier, msg_start, len(result))\n"
          ]
        },
        {
          "data": {
            "text/plain": [
              "array([[1., 0., 0., 0., 0.],\n",
              "       [0., 0., 0., 1., 0.],\n",
              "       [1., 0., 0., 0., 0.],\n",
              "       ...,\n",
              "       [0., 1., 0., 0., 0.],\n",
              "       [1., 0., 0., 0., 0.],\n",
              "       [1., 0., 0., 0., 0.]], dtype=float32)"
            ]
          },
          "execution_count": 144,
          "metadata": {},
          "output_type": "execute_result"
        }
      ],
      "source": [
        "predict(knn7, nsl_pca7_val_scaled, nsl_val_y_one)"
      ]
    },
    {
      "cell_type": "code",
      "execution_count": null,
      "metadata": {
        "colab": {
          "base_uri": "https://localhost:8080/"
        },
        "id": "1sThOrW1TzHV",
        "outputId": "38f49bf7-346e-4b98-cb79-2f678d753ce7"
      },
      "outputs": [
        {
          "name": "stdout",
          "output_type": "stream",
          "text": [
            "time : 3.330554962158203\n",
            "Accuracy: 0.756%\n",
            "\n",
            "\n",
            "              precision    recall  f1-score   support\n",
            "\n",
            "      Normal       0.68      0.98      0.80      9710\n",
            "         Dos       0.91      0.80      0.85      7460\n",
            "       Probe       0.73      0.48      0.58      2421\n",
            "         U2R       0.98      0.16      0.27      2749\n",
            "         R2L       0.35      0.06      0.11       203\n",
            "\n",
            "   micro avg       0.76      0.76      0.76     22543\n",
            "   macro avg       0.73      0.50      0.52     22543\n",
            "weighted avg       0.80      0.76      0.72     22543\n",
            " samples avg       0.76      0.76      0.76     22543\n",
            "\n",
            "\n",
            "roc auc value: 0.707%\n",
            "\n",
            "\n"
          ]
        },
        {
          "name": "stderr",
          "output_type": "stream",
          "text": [
            "/usr/local/lib/python3.8/dist-packages/sklearn/metrics/_classification.py:1318: UndefinedMetricWarning: Precision and F-score are ill-defined and being set to 0.0 in samples with no predicted labels. Use `zero_division` parameter to control this behavior.\n",
            "  _warn_prf(average, modifier, msg_start, len(result))\n"
          ]
        },
        {
          "data": {
            "text/plain": [
              "array([[0., 1., 0., 0., 0.],\n",
              "       [0., 1., 0., 0., 0.],\n",
              "       [1., 0., 0., 0., 0.],\n",
              "       ...,\n",
              "       [0., 1., 0., 0., 0.],\n",
              "       [1., 0., 0., 0., 0.],\n",
              "       [0., 1., 0., 0., 0.]], dtype=float32)"
            ]
          },
          "execution_count": 147,
          "metadata": {},
          "output_type": "execute_result"
        }
      ],
      "source": [
        "predict(knn7, nsl_pca7_test_scaled, nsl_test_y_one)"
      ]
    },
    {
      "cell_type": "markdown",
      "metadata": {
        "id": "WRsiMPi2TqvU"
      },
      "source": [
        "###XGBoost"
      ]
    },
    {
      "cell_type": "code",
      "execution_count": null,
      "metadata": {
        "colab": {
          "base_uri": "https://localhost:8080/"
        },
        "id": "hX50WADMTznV",
        "outputId": "5c3460fb-fbc5-4ddd-b8d9-2f75f6c78316"
      },
      "outputs": [
        {
          "name": "stdout",
          "output_type": "stream",
          "text": [
            "time : 23.069157600402832\n"
          ]
        }
      ],
      "source": [
        "start=time.time()\n",
        "\n",
        "xgb7 = OneVsRestClassifier(XGBClassifier(gamma=2, max_depth=6, n_estimators=32, random_state=42))\n",
        "xgb7.fit(nsl_pca7_train_scaled, nsl_train_y_one)\n",
        "\n",
        "print(\"time :\", time.time() - start)"
      ]
    },
    {
      "cell_type": "code",
      "execution_count": null,
      "metadata": {
        "colab": {
          "base_uri": "https://localhost:8080/"
        },
        "id": "IaDRVE4FTzpn",
        "outputId": "2dc7ea94-d3aa-4ee3-8e6a-7cc548062a4a"
      },
      "outputs": [
        {
          "name": "stdout",
          "output_type": "stream",
          "text": [
            "time : 0.11263847351074219\n",
            "Accuracy: 0.986%\n",
            "\n",
            "\n",
            "              precision    recall  f1-score   support\n",
            "\n",
            "      Normal       0.99      0.99      0.99     13469\n",
            "         Dos       1.00      1.00      1.00      9186\n",
            "       Probe       0.99      0.96      0.97      2331\n",
            "         U2R       0.94      0.85      0.89       197\n",
            "         R2L       0.43      0.25      0.32        12\n",
            "\n",
            "   micro avg       0.99      0.99      0.99     25195\n",
            "   macro avg       0.87      0.81      0.83     25195\n",
            "weighted avg       0.99      0.99      0.99     25195\n",
            " samples avg       0.99      0.99      0.99     25195\n",
            "\n",
            "\n",
            "roc auc value: 0.903%\n",
            "\n",
            "\n"
          ]
        },
        {
          "name": "stderr",
          "output_type": "stream",
          "text": [
            "/usr/local/lib/python3.8/dist-packages/sklearn/metrics/_classification.py:1318: UndefinedMetricWarning: Precision and F-score are ill-defined and being set to 0.0 in samples with no predicted labels. Use `zero_division` parameter to control this behavior.\n",
            "  _warn_prf(average, modifier, msg_start, len(result))\n"
          ]
        },
        {
          "data": {
            "text/plain": [
              "array([[1, 0, 0, 0, 0],\n",
              "       [0, 0, 0, 1, 0],\n",
              "       [1, 0, 0, 0, 0],\n",
              "       ...,\n",
              "       [0, 1, 0, 0, 0],\n",
              "       [1, 0, 0, 0, 0],\n",
              "       [1, 0, 0, 0, 0]])"
            ]
          },
          "execution_count": 149,
          "metadata": {},
          "output_type": "execute_result"
        }
      ],
      "source": [
        "predict(xgb7, nsl_pca7_val_scaled, nsl_val_y_one)"
      ]
    },
    {
      "cell_type": "code",
      "execution_count": null,
      "metadata": {
        "colab": {
          "base_uri": "https://localhost:8080/"
        },
        "id": "RjgNJu-7TzsQ",
        "outputId": "a209c747-a4d7-49cd-a4e9-0fa361d81645"
      },
      "outputs": [
        {
          "name": "stdout",
          "output_type": "stream",
          "text": [
            "time : 0.11694526672363281\n",
            "Accuracy: 0.716%\n",
            "\n",
            "\n",
            "              precision    recall  f1-score   support\n",
            "\n",
            "      Normal       0.66      0.97      0.78      9710\n",
            "         Dos       0.93      0.77      0.84      7460\n",
            "       Probe       0.85      0.51      0.64      2421\n",
            "         U2R       0.93      0.01      0.03      2749\n",
            "         R2L       0.57      0.04      0.07       203\n",
            "\n",
            "   micro avg       0.75      0.73      0.74     22543\n",
            "   macro avg       0.79      0.46      0.47     22543\n",
            "weighted avg       0.80      0.73      0.69     22543\n",
            " samples avg       0.72      0.73      0.73     22543\n",
            "\n",
            "\n",
            "roc auc value: 0.687%\n",
            "\n",
            "\n"
          ]
        },
        {
          "name": "stderr",
          "output_type": "stream",
          "text": [
            "/usr/local/lib/python3.8/dist-packages/sklearn/metrics/_classification.py:1318: UndefinedMetricWarning: Precision and F-score are ill-defined and being set to 0.0 in samples with no predicted labels. Use `zero_division` parameter to control this behavior.\n",
            "  _warn_prf(average, modifier, msg_start, len(result))\n"
          ]
        },
        {
          "data": {
            "text/plain": [
              "array([[0, 1, 0, 0, 0],\n",
              "       [0, 1, 0, 0, 0],\n",
              "       [1, 0, 0, 0, 0],\n",
              "       ...,\n",
              "       [1, 1, 0, 0, 0],\n",
              "       [1, 0, 0, 0, 0],\n",
              "       [0, 1, 0, 0, 0]])"
            ]
          },
          "execution_count": 150,
          "metadata": {},
          "output_type": "execute_result"
        }
      ],
      "source": [
        "predict(xgb7, nsl_pca7_test_scaled, nsl_test_y_one)"
      ]
    },
    {
      "cell_type": "markdown",
      "metadata": {
        "id": "1X6AOdU8TqyF"
      },
      "source": [
        "###DNN"
      ]
    },
    {
      "cell_type": "code",
      "execution_count": null,
      "metadata": {
        "colab": {
          "base_uri": "https://localhost:8080/"
        },
        "id": "2RBWDNldOd2D",
        "outputId": "002c2988-dca6-49a9-f2a5-0d002f95b5d0"
      },
      "outputs": [
        {
          "name": "stdout",
          "output_type": "stream",
          "text": [
            "Model: \"sequential_8\"\n",
            "_________________________________________________________________\n",
            " Layer (type)                Output Shape              Param #   \n",
            "=================================================================\n",
            " flatten_8 (Flatten)         (None, 7)                 0         \n",
            "                                                                 \n",
            " batch_normalization_9 (Batc  (None, 7)                28        \n",
            " hNormalization)                                                 \n",
            "                                                                 \n",
            " dense_24 (Dense)            (None, 300)               2400      \n",
            "                                                                 \n",
            " dropout_16 (Dropout)        (None, 300)               0         \n",
            "                                                                 \n",
            " batch_normalization_10 (Bat  (None, 300)              1200      \n",
            " chNormalization)                                                \n",
            "                                                                 \n",
            " dense_25 (Dense)            (None, 100)               30100     \n",
            "                                                                 \n",
            " dropout_17 (Dropout)        (None, 100)               0         \n",
            "                                                                 \n",
            " batch_normalization_11 (Bat  (None, 100)              400       \n",
            " chNormalization)                                                \n",
            "                                                                 \n",
            " dense_26 (Dense)            (None, 5)                 505       \n",
            "                                                                 \n",
            "=================================================================\n",
            "Total params: 34,633\n",
            "Trainable params: 33,819\n",
            "Non-trainable params: 814\n",
            "_________________________________________________________________\n"
          ]
        }
      ],
      "source": [
        "from keras.backend import dropout\n",
        "dnn7 = keras.models.Sequential([\n",
        "    keras.layers.Flatten(input_shape=(7,)),\n",
        "    keras.layers.BatchNormalization(),\n",
        "    keras.layers.Dense(300, activation=\"relu\"),\n",
        "    keras.layers.Dropout(rate=0.2),\n",
        "    keras.layers.BatchNormalization(),\n",
        "    keras.layers.Dense(100, activation=\"relu\"),  \n",
        "    keras.layers.Dropout(rate=0.2),\n",
        "    keras.layers.BatchNormalization(),\n",
        "    keras.layers.Dense(5, activation=\"softmax\")\n",
        "])\n",
        "dnn7.summary()"
      ]
    },
    {
      "cell_type": "code",
      "execution_count": null,
      "metadata": {
        "id": "NlPddBuTOd4g"
      },
      "outputs": [],
      "source": [
        "dnn7.compile(loss=\"categorical_crossentropy\",\n",
        "            optimizer=\"sgd\",\n",
        "            metrics=[\"accuracy\"])"
      ]
    },
    {
      "cell_type": "code",
      "execution_count": null,
      "metadata": {
        "colab": {
          "base_uri": "https://localhost:8080/"
        },
        "id": "MoEWesLSOd7O",
        "outputId": "c0223065-948a-49bc-92ef-a89cd886194f"
      },
      "outputs": [
        {
          "name": "stdout",
          "output_type": "stream",
          "text": [
            "Epoch 1/30\n",
            "3150/3150 [==============================] - 24s 7ms/step - loss: 0.1912 - accuracy: 0.9420 - val_loss: 0.1104 - val_accuracy: 0.9643\n",
            "Epoch 2/30\n",
            "3150/3150 [==============================] - 17s 5ms/step - loss: 0.1277 - accuracy: 0.9572 - val_loss: 0.1142 - val_accuracy: 0.9664\n",
            "Epoch 3/30\n",
            "3150/3150 [==============================] - 17s 5ms/step - loss: 0.1126 - accuracy: 0.9601 - val_loss: 0.1004 - val_accuracy: 0.9723\n",
            "Epoch 4/30\n",
            "3150/3150 [==============================] - 10s 3ms/step - loss: 0.1045 - accuracy: 0.9623 - val_loss: 0.1137 - val_accuracy: 0.9696\n",
            "Epoch 5/30\n",
            "3150/3150 [==============================] - 9s 3ms/step - loss: 0.0999 - accuracy: 0.9642 - val_loss: 0.1132 - val_accuracy: 0.9713\n",
            "Epoch 6/30\n",
            "3150/3150 [==============================] - 9s 3ms/step - loss: 0.0935 - accuracy: 0.9656 - val_loss: 0.1281 - val_accuracy: 0.9692\n",
            "Epoch 7/30\n",
            "3150/3150 [==============================] - 9s 3ms/step - loss: 0.0924 - accuracy: 0.9661 - val_loss: 0.1001 - val_accuracy: 0.9730\n",
            "Epoch 8/30\n",
            "3150/3150 [==============================] - 9s 3ms/step - loss: 0.0885 - accuracy: 0.9666 - val_loss: 0.1056 - val_accuracy: 0.9711\n",
            "Epoch 9/30\n",
            "3150/3150 [==============================] - 9s 3ms/step - loss: 0.0864 - accuracy: 0.9680 - val_loss: 0.1048 - val_accuracy: 0.9731\n",
            "Epoch 10/30\n",
            "3150/3150 [==============================] - 11s 4ms/step - loss: 0.0848 - accuracy: 0.9687 - val_loss: 0.1093 - val_accuracy: 0.9641\n",
            "Epoch 11/30\n",
            "3150/3150 [==============================] - 9s 3ms/step - loss: 0.0829 - accuracy: 0.9693 - val_loss: 0.0870 - val_accuracy: 0.9758\n",
            "Epoch 12/30\n",
            "3150/3150 [==============================] - 9s 3ms/step - loss: 0.0822 - accuracy: 0.9685 - val_loss: 0.1195 - val_accuracy: 0.9667\n",
            "Epoch 13/30\n",
            "3150/3150 [==============================] - 9s 3ms/step - loss: 0.0812 - accuracy: 0.9696 - val_loss: 0.1147 - val_accuracy: 0.9777\n",
            "Epoch 14/30\n",
            "3150/3150 [==============================] - 9s 3ms/step - loss: 0.0801 - accuracy: 0.9701 - val_loss: 0.0912 - val_accuracy: 0.9728\n",
            "Epoch 15/30\n",
            "3150/3150 [==============================] - 9s 3ms/step - loss: 0.0786 - accuracy: 0.9707 - val_loss: 0.1129 - val_accuracy: 0.9742\n",
            "Epoch 16/30\n",
            "3150/3150 [==============================] - 9s 3ms/step - loss: 0.0783 - accuracy: 0.9703 - val_loss: 0.1266 - val_accuracy: 0.9675\n",
            "Epoch 17/30\n",
            "3150/3150 [==============================] - 9s 3ms/step - loss: 0.0764 - accuracy: 0.9713 - val_loss: 0.1615 - val_accuracy: 0.9707\n",
            "Epoch 18/30\n",
            "3150/3150 [==============================] - 9s 3ms/step - loss: 0.0781 - accuracy: 0.9711 - val_loss: 0.1305 - val_accuracy: 0.9665\n",
            "Epoch 19/30\n",
            "3150/3150 [==============================] - 9s 3ms/step - loss: 0.0763 - accuracy: 0.9717 - val_loss: 0.1198 - val_accuracy: 0.9734\n",
            "Epoch 20/30\n",
            "3150/3150 [==============================] - 9s 3ms/step - loss: 0.0745 - accuracy: 0.9723 - val_loss: 0.1477 - val_accuracy: 0.9680\n",
            "Epoch 21/30\n",
            "3150/3150 [==============================] - 10s 3ms/step - loss: 0.0744 - accuracy: 0.9722 - val_loss: 0.1423 - val_accuracy: 0.9638\n",
            "Epoch 22/30\n",
            "3150/3150 [==============================] - 9s 3ms/step - loss: 0.0737 - accuracy: 0.9727 - val_loss: 0.1180 - val_accuracy: 0.9679\n",
            "Epoch 23/30\n",
            "3150/3150 [==============================] - 9s 3ms/step - loss: 0.0731 - accuracy: 0.9724 - val_loss: 0.1506 - val_accuracy: 0.9706\n",
            "Epoch 24/30\n",
            "3150/3150 [==============================] - 9s 3ms/step - loss: 0.0731 - accuracy: 0.9726 - val_loss: 0.1146 - val_accuracy: 0.9713\n",
            "Epoch 25/30\n",
            "3150/3150 [==============================] - 9s 3ms/step - loss: 0.0730 - accuracy: 0.9726 - val_loss: 0.1077 - val_accuracy: 0.9706\n",
            "Epoch 26/30\n",
            "3150/3150 [==============================] - 9s 3ms/step - loss: 0.0733 - accuracy: 0.9721 - val_loss: 0.1145 - val_accuracy: 0.9725\n",
            "Epoch 27/30\n",
            "3150/3150 [==============================] - 9s 3ms/step - loss: 0.0708 - accuracy: 0.9734 - val_loss: 0.0961 - val_accuracy: 0.9686\n",
            "Epoch 28/30\n",
            "3150/3150 [==============================] - 11s 4ms/step - loss: 0.0718 - accuracy: 0.9726 - val_loss: 0.1140 - val_accuracy: 0.9711\n",
            "Epoch 29/30\n",
            "3150/3150 [==============================] - 10s 3ms/step - loss: 0.0716 - accuracy: 0.9726 - val_loss: 0.1324 - val_accuracy: 0.9724\n",
            "Epoch 30/30\n",
            "3150/3150 [==============================] - 9s 3ms/step - loss: 0.0698 - accuracy: 0.9737 - val_loss: 0.1447 - val_accuracy: 0.9768\n"
          ]
        }
      ],
      "source": [
        "history_dnn7 = dnn7.fit(nsl_pca7_train_scaled, nsl_train_y_one, epochs=30,\n",
        "                        validation_data=(nsl_pca7_val_scaled, nsl_val_y_one))"
      ]
    },
    {
      "cell_type": "code",
      "execution_count": null,
      "metadata": {
        "colab": {
          "base_uri": "https://localhost:8080/"
        },
        "id": "VUob6SYIOd9s",
        "outputId": "fee76ae5-fa06-4ff3-9e33-f21cfef96ff1"
      },
      "outputs": [
        {
          "name": "stdout",
          "output_type": "stream",
          "text": [
            "705/705 [==============================] - 1s 2ms/step - loss: 1.2113 - accuracy: 0.7636\n"
          ]
        },
        {
          "data": {
            "text/plain": [
              "[1.2113068103790283, 0.7636073231697083]"
            ]
          },
          "execution_count": 154,
          "metadata": {},
          "output_type": "execute_result"
        }
      ],
      "source": [
        "mlp7.evaluate(nsl_pca7_test_scaled, nsl_test_y_one)"
      ]
    },
    {
      "cell_type": "code",
      "execution_count": null,
      "metadata": {
        "colab": {
          "base_uri": "https://localhost:8080/"
        },
        "id": "ZQvDMaK-OeAS",
        "outputId": "2c3d8e83-7940-4866-e361-73f64afd06c5"
      },
      "outputs": [
        {
          "name": "stdout",
          "output_type": "stream",
          "text": [
            "788/788 [==============================] - 2s 3ms/step\n",
            "time : 3.0686898231506348\n",
            "              precision    recall  f1-score   support\n",
            "\n",
            "      Normal       0.99      0.97      0.98     13469\n",
            "         Dos       0.99      1.00      1.00      9186\n",
            "       Probe       0.93      0.96      0.95      2331\n",
            "         U2R       0.49      0.73      0.59       197\n",
            "         R2L       0.11      0.50      0.18        12\n",
            "\n",
            "   micro avg       0.98      0.98      0.98     25195\n",
            "   macro avg       0.70      0.83      0.74     25195\n",
            "weighted avg       0.98      0.98      0.98     25195\n",
            " samples avg       0.98      0.98      0.98     25195\n",
            "\n",
            "roc auc value: 0.912%\n",
            "\n",
            "\n"
          ]
        },
        {
          "data": {
            "text/plain": [
              "array([[1., 0., 0., 0., 0.],\n",
              "       [0., 0., 0., 1., 0.],\n",
              "       [1., 0., 0., 0., 0.],\n",
              "       ...,\n",
              "       [0., 1., 0., 0., 0.],\n",
              "       [1., 0., 0., 0., 0.],\n",
              "       [1., 0., 0., 0., 0.]], dtype=float32)"
            ]
          },
          "execution_count": 156,
          "metadata": {},
          "output_type": "execute_result"
        }
      ],
      "source": [
        "predict_nn(mlp7, nsl_pca7_val_scaled, nsl_val_y_one)"
      ]
    },
    {
      "cell_type": "code",
      "execution_count": null,
      "metadata": {
        "colab": {
          "base_uri": "https://localhost:8080/"
        },
        "id": "lxWn5dv81e0H",
        "outputId": "074597fc-180e-47fd-d3f7-141975a6508b"
      },
      "outputs": [
        {
          "name": "stdout",
          "output_type": "stream",
          "text": [
            "705/705 [==============================] - 2s 3ms/step\n",
            "time : 5.200573921203613\n",
            "              precision    recall  f1-score   support\n",
            "\n",
            "      Normal       0.67      0.97      0.79      9710\n",
            "         Dos       0.94      0.84      0.89      7460\n",
            "       Probe       0.85      0.61      0.71      2421\n",
            "         U2R       0.50      0.00      0.01      2749\n",
            "         R2L       0.52      0.15      0.23       203\n",
            "\n",
            "   micro avg       0.76      0.76      0.76     22543\n",
            "   macro avg       0.70      0.52      0.53     22543\n",
            "weighted avg       0.76      0.76      0.71     22543\n",
            " samples avg       0.76      0.76      0.76     22543\n",
            "\n",
            "roc auc value: 0.717%\n",
            "\n",
            "\n"
          ]
        },
        {
          "data": {
            "text/plain": [
              "array([[0., 1., 0., 0., 0.],\n",
              "       [0., 1., 0., 0., 0.],\n",
              "       [1., 0., 0., 0., 0.],\n",
              "       ...,\n",
              "       [0., 1., 0., 0., 0.],\n",
              "       [1., 0., 0., 0., 0.],\n",
              "       [0., 0., 1., 0., 0.]], dtype=float32)"
            ]
          },
          "execution_count": 157,
          "metadata": {},
          "output_type": "execute_result"
        }
      ],
      "source": [
        "predict_nn(mlp7, nsl_pca7_test_scaled, nsl_test_y_one)"
      ]
    },
    {
      "cell_type": "markdown",
      "metadata": {
        "id": "0ceE8a-32S52"
      },
      "source": [
        "###**CNN**"
      ]
    },
    {
      "cell_type": "code",
      "execution_count": null,
      "metadata": {
        "id": "UJEYoC4wOeCi"
      },
      "outputs": [],
      "source": [
        "cnn7 = keras.models.Sequential([\n",
        "    keras.layers.Conv1D(64, 7, activation='relu', padding='same', input_shape=[7, 1]),\n",
        "    keras.layers.MaxPooling1D(2),\n",
        "    keras.layers.Conv1D(128, 3, padding='same', activation='relu'),\n",
        "    keras.layers.Conv1D(128, 3, padding='same', activation='relu'),\n",
        "    keras.layers.MaxPooling1D(2),\n",
        "    keras.layers.Flatten(),\n",
        "    keras.layers.Dense(64, activation='relu'),\n",
        "    keras.layers.Dropout(0.5),\n",
        "    keras.layers.Dense(5, activation='softmax'),\n",
        "])"
      ]
    },
    {
      "cell_type": "code",
      "execution_count": null,
      "metadata": {
        "id": "g_5aYQlA2Vm0"
      },
      "outputs": [],
      "source": [
        "cnn7.compile(loss = \"categorical_crossentropy\",\n",
        "            optimizer = \"nadam\",\n",
        "            metrics=[\"Accuracy\"]\n",
        "            )"
      ]
    },
    {
      "cell_type": "code",
      "execution_count": null,
      "metadata": {
        "colab": {
          "base_uri": "https://localhost:8080/"
        },
        "id": "YerWmy4I2VpH",
        "outputId": "ec9a7b19-f1a7-435a-d1c6-547f5006065b"
      },
      "outputs": [
        {
          "name": "stdout",
          "output_type": "stream",
          "text": [
            "Epoch 1/30\n",
            "3150/3150 [==============================] - 43s 13ms/step - loss: 0.1043 - Accuracy: 0.9675 - val_loss: 0.0554 - val_Accuracy: 0.9812\n",
            "Epoch 2/30\n",
            "3150/3150 [==============================] - 32s 10ms/step - loss: 0.0588 - Accuracy: 0.9804 - val_loss: 0.0593 - val_Accuracy: 0.9802\n",
            "Epoch 3/30\n",
            "3150/3150 [==============================] - 21s 7ms/step - loss: 0.0516 - Accuracy: 0.9829 - val_loss: 0.0434 - val_Accuracy: 0.9852\n",
            "Epoch 4/30\n",
            "3150/3150 [==============================] - 20s 7ms/step - loss: 0.0457 - Accuracy: 0.9854 - val_loss: 0.0397 - val_Accuracy: 0.9869\n",
            "Epoch 5/30\n",
            "3150/3150 [==============================] - 21s 7ms/step - loss: 0.0412 - Accuracy: 0.9866 - val_loss: 0.0363 - val_Accuracy: 0.9883\n",
            "Epoch 6/30\n",
            "3150/3150 [==============================] - 21s 7ms/step - loss: 0.0387 - Accuracy: 0.9877 - val_loss: 0.0379 - val_Accuracy: 0.9863\n",
            "Epoch 7/30\n",
            "3150/3150 [==============================] - 20s 6ms/step - loss: 0.0362 - Accuracy: 0.9883 - val_loss: 0.0584 - val_Accuracy: 0.9854\n",
            "Epoch 8/30\n",
            "3150/3150 [==============================] - 22s 7ms/step - loss: 0.0353 - Accuracy: 0.9887 - val_loss: 0.0342 - val_Accuracy: 0.9901\n",
            "Epoch 9/30\n",
            "3150/3150 [==============================] - 21s 7ms/step - loss: 0.0329 - Accuracy: 0.9893 - val_loss: 0.0305 - val_Accuracy: 0.9906\n",
            "Epoch 10/30\n",
            "3150/3150 [==============================] - 20s 6ms/step - loss: 0.0317 - Accuracy: 0.9897 - val_loss: 0.0297 - val_Accuracy: 0.9902\n",
            "Epoch 11/30\n",
            "3150/3150 [==============================] - 22s 7ms/step - loss: 0.0306 - Accuracy: 0.9899 - val_loss: 0.0350 - val_Accuracy: 0.9887\n",
            "Epoch 12/30\n",
            "3150/3150 [==============================] - 20s 6ms/step - loss: 0.0302 - Accuracy: 0.9902 - val_loss: 0.0327 - val_Accuracy: 0.9897\n",
            "Epoch 13/30\n",
            "3150/3150 [==============================] - 20s 6ms/step - loss: 0.0293 - Accuracy: 0.9904 - val_loss: 0.0329 - val_Accuracy: 0.9902\n",
            "Epoch 14/30\n",
            "3150/3150 [==============================] - 21s 7ms/step - loss: 0.0288 - Accuracy: 0.9909 - val_loss: 0.0282 - val_Accuracy: 0.9909\n",
            "Epoch 15/30\n",
            "3150/3150 [==============================] - 21s 7ms/step - loss: 0.0289 - Accuracy: 0.9907 - val_loss: 0.0306 - val_Accuracy: 0.9894\n",
            "Epoch 16/30\n",
            "3150/3150 [==============================] - 20s 6ms/step - loss: 0.0285 - Accuracy: 0.9913 - val_loss: 0.0311 - val_Accuracy: 0.9917\n",
            "Epoch 17/30\n",
            "3150/3150 [==============================] - 21s 7ms/step - loss: 0.0282 - Accuracy: 0.9907 - val_loss: 0.0336 - val_Accuracy: 0.9902\n",
            "Epoch 18/30\n",
            "3150/3150 [==============================] - 22s 7ms/step - loss: 0.0282 - Accuracy: 0.9909 - val_loss: 0.0327 - val_Accuracy: 0.9902\n",
            "Epoch 19/30\n",
            "3150/3150 [==============================] - 24s 8ms/step - loss: 0.0276 - Accuracy: 0.9910 - val_loss: 0.0346 - val_Accuracy: 0.9908\n",
            "Epoch 20/30\n",
            "3150/3150 [==============================] - 22s 7ms/step - loss: 0.0267 - Accuracy: 0.9911 - val_loss: 0.0342 - val_Accuracy: 0.9915\n",
            "Epoch 21/30\n",
            "3150/3150 [==============================] - 20s 6ms/step - loss: 0.0267 - Accuracy: 0.9912 - val_loss: 0.0428 - val_Accuracy: 0.9862\n",
            "Epoch 22/30\n",
            "3150/3150 [==============================] - 19s 6ms/step - loss: 0.0275 - Accuracy: 0.9909 - val_loss: 0.0337 - val_Accuracy: 0.9899\n",
            "Epoch 23/30\n",
            "3150/3150 [==============================] - 22s 7ms/step - loss: 0.0259 - Accuracy: 0.9913 - val_loss: 0.0361 - val_Accuracy: 0.9873\n",
            "Epoch 24/30\n",
            "3150/3150 [==============================] - 21s 7ms/step - loss: 0.0265 - Accuracy: 0.9911 - val_loss: 0.0334 - val_Accuracy: 0.9911\n",
            "Epoch 25/30\n",
            "3150/3150 [==============================] - 21s 7ms/step - loss: 0.0263 - Accuracy: 0.9910 - val_loss: 0.0358 - val_Accuracy: 0.9894\n",
            "Epoch 26/30\n",
            "3150/3150 [==============================] - 34s 11ms/step - loss: 0.0267 - Accuracy: 0.9911 - val_loss: 0.0334 - val_Accuracy: 0.9908\n",
            "Epoch 27/30\n",
            "3150/3150 [==============================] - 32s 10ms/step - loss: 0.0261 - Accuracy: 0.9917 - val_loss: 0.0314 - val_Accuracy: 0.9917\n",
            "Epoch 28/30\n",
            "3150/3150 [==============================] - 27s 9ms/step - loss: 0.0275 - Accuracy: 0.9907 - val_loss: 0.0499 - val_Accuracy: 0.9853\n",
            "Epoch 29/30\n",
            "3150/3150 [==============================] - 34s 11ms/step - loss: 0.0268 - Accuracy: 0.9910 - val_loss: 0.0331 - val_Accuracy: 0.9911\n",
            "Epoch 30/30\n",
            "3150/3150 [==============================] - 33s 10ms/step - loss: 0.0244 - Accuracy: 0.9918 - val_loss: 0.0367 - val_Accuracy: 0.9890\n",
            "time : 745.2576732635498\n"
          ]
        }
      ],
      "source": [
        "start=time.time()\n",
        "history_cnn = cnn7.fit(nsl_pca7_train_scaled, nsl_train_y_one, epochs=30,\n",
        "                        validation_data=(nsl_pca7_val_scaled, nsl_val_y_one))\n",
        "print(\"time :\", time.time() - start)\n"
      ]
    },
    {
      "cell_type": "code",
      "execution_count": null,
      "metadata": {
        "colab": {
          "base_uri": "https://localhost:8080/"
        },
        "id": "lFmA8f7F2Vrw",
        "outputId": "d72b128d-a8d5-42d2-fe12-3cba89c9fb22"
      },
      "outputs": [
        {
          "name": "stdout",
          "output_type": "stream",
          "text": [
            "705/705 [==============================] - 3s 3ms/step - loss: 4.6456 - Accuracy: 0.7515\n"
          ]
        },
        {
          "data": {
            "text/plain": [
              "[4.645587921142578, 0.7514528036117554]"
            ]
          },
          "execution_count": 161,
          "metadata": {},
          "output_type": "execute_result"
        }
      ],
      "source": [
        "cnn7.evaluate(nsl_pca7_test_scaled, nsl_test_y_one)"
      ]
    },
    {
      "cell_type": "code",
      "execution_count": null,
      "metadata": {
        "colab": {
          "base_uri": "https://localhost:8080/"
        },
        "id": "W3eF6bos2VuN",
        "outputId": "82cfe488-8b94-418d-9361-cc829ebb48f4"
      },
      "outputs": [
        {
          "name": "stdout",
          "output_type": "stream",
          "text": [
            "788/788 [==============================] - 2s 2ms/step\n",
            "time : 2.0810964107513428\n",
            "              precision    recall  f1-score   support\n",
            "\n",
            "      Normal       0.99      0.99      0.99     13469\n",
            "         Dos       1.00      1.00      1.00      9186\n",
            "       Probe       0.98      0.98      0.98      2331\n",
            "         U2R       0.58      0.83      0.68       197\n",
            "         R2L       0.00      0.00      0.00        12\n",
            "\n",
            "   micro avg       0.99      0.99      0.99     25195\n",
            "   macro avg       0.71      0.76      0.73     25195\n",
            "weighted avg       0.99      0.99      0.99     25195\n",
            " samples avg       0.99      0.99      0.99     25195\n",
            "\n",
            "roc auc value: 0.878%\n",
            "\n",
            "\n"
          ]
        },
        {
          "name": "stderr",
          "output_type": "stream",
          "text": [
            "/usr/local/lib/python3.8/dist-packages/sklearn/metrics/_classification.py:1318: UndefinedMetricWarning: Precision and F-score are ill-defined and being set to 0.0 in labels with no predicted samples. Use `zero_division` parameter to control this behavior.\n",
            "  _warn_prf(average, modifier, msg_start, len(result))\n"
          ]
        },
        {
          "data": {
            "text/plain": [
              "array([[1., 0., 0., 0., 0.],\n",
              "       [0., 0., 0., 1., 0.],\n",
              "       [1., 0., 0., 0., 0.],\n",
              "       ...,\n",
              "       [0., 1., 0., 0., 0.],\n",
              "       [1., 0., 0., 0., 0.],\n",
              "       [1., 0., 0., 0., 0.]], dtype=float32)"
            ]
          },
          "execution_count": 162,
          "metadata": {},
          "output_type": "execute_result"
        }
      ],
      "source": [
        "predict_nn(cnn7, nsl_pca7_val_scaled, nsl_val_y_one)"
      ]
    },
    {
      "cell_type": "code",
      "execution_count": null,
      "metadata": {
        "colab": {
          "base_uri": "https://localhost:8080/"
        },
        "id": "AfGNWhF42Vws",
        "outputId": "ef49997a-bd13-4464-8f55-49964c5b12b9"
      },
      "outputs": [
        {
          "name": "stdout",
          "output_type": "stream",
          "text": [
            "705/705 [==============================] - 2s 2ms/step\n",
            "time : 2.6064505577087402\n",
            "              precision    recall  f1-score   support\n",
            "\n",
            "      Normal       0.66      0.98      0.79      9710\n",
            "         Dos       0.94      0.81      0.87      7460\n",
            "       Probe       0.84      0.52      0.64      2421\n",
            "         U2R       0.94      0.04      0.08      2749\n",
            "         R2L       0.00      0.00      0.00       203\n",
            "\n",
            "   micro avg       0.75      0.75      0.75     22543\n",
            "   macro avg       0.68      0.47      0.48     22543\n",
            "weighted avg       0.80      0.75      0.71     22543\n",
            " samples avg       0.75      0.75      0.75     22543\n",
            "\n",
            "roc auc value: 0.693%\n",
            "\n",
            "\n"
          ]
        },
        {
          "name": "stderr",
          "output_type": "stream",
          "text": [
            "/usr/local/lib/python3.8/dist-packages/sklearn/metrics/_classification.py:1318: UndefinedMetricWarning: Precision and F-score are ill-defined and being set to 0.0 in labels with no predicted samples. Use `zero_division` parameter to control this behavior.\n",
            "  _warn_prf(average, modifier, msg_start, len(result))\n"
          ]
        },
        {
          "data": {
            "text/plain": [
              "array([[0., 1., 0., 0., 0.],\n",
              "       [0., 1., 0., 0., 0.],\n",
              "       [1., 0., 0., 0., 0.],\n",
              "       ...,\n",
              "       [0., 1., 0., 0., 0.],\n",
              "       [1., 0., 0., 0., 0.],\n",
              "       [0., 1., 0., 0., 0.]], dtype=float32)"
            ]
          },
          "execution_count": 163,
          "metadata": {},
          "output_type": "execute_result"
        }
      ],
      "source": [
        "predict_nn(cnn7, nsl_pca7_test_scaled, nsl_test_y_one)"
      ]
    },
    {
      "cell_type": "code",
      "execution_count": null,
      "metadata": {
        "id": "ScdyZhNT2SN3"
      },
      "outputs": [],
      "source": []
    },
    {
      "cell_type": "markdown",
      "metadata": {
        "id": "kjJ52bedkk5D"
      },
      "source": [
        "##**PCA2**"
      ]
    },
    {
      "cell_type": "code",
      "execution_count": null,
      "metadata": {
        "id": "B90VUwUshIyV"
      },
      "outputs": [],
      "source": [
        "pca2 = PCA(n_components=2)\n",
        "pca2.fit(nsl_train_x_scaled)\n",
        "nsl_pca2_train = pca2.transform(nsl_train_x_scaled)\n",
        "nsl_pca2_val = pca2.transform(nsl_val_x_scaled)\n",
        "nsl_pca2_test = pca2.transform(nsl_test_x_scaled)\n",
        "\n",
        "scaler.fit(nsl_pca2_train)\n",
        "nsl_pca2_train_scaled=scaler.transform(nsl_pca2_train)\n",
        "nsl_pca2_val_scaled=scaler.transform(nsl_pca2_val)\n",
        "nsl_pca2_test_scaled=scaler.transform(nsl_pca2_test)"
      ]
    },
    {
      "cell_type": "markdown",
      "metadata": {
        "id": "YhPcltSNZAPe"
      },
      "source": [
        "###**SVM**"
      ]
    },
    {
      "cell_type": "code",
      "execution_count": null,
      "metadata": {
        "colab": {
          "base_uri": "https://localhost:8080/"
        },
        "id": "E5_DSd1uxl3v",
        "outputId": "30391146-467a-4a91-c009-e020b72ca85b"
      },
      "outputs": [
        {
          "name": "stdout",
          "output_type": "stream",
          "text": [
            "time : 456.0698301792145\n"
          ]
        }
      ],
      "source": [
        "start = time.time()\n",
        "\n",
        "rbf2_kernel_svm_clf = OneVsRestClassifier(SVC(kernel=\"rbf\", gamma=1, C=10))\n",
        "rbf2_kernel_svm_clf.fit(nsl_pca2_train_scaled, nsl_train_y_one)\n",
        "\n",
        "print(\"time :\", time.time() - start)"
      ]
    },
    {
      "cell_type": "code",
      "execution_count": null,
      "metadata": {
        "colab": {
          "base_uri": "https://localhost:8080/"
        },
        "id": "U-A0LQ15xmXk",
        "outputId": "fe7a86b0-f9af-4d5d-c471-5071d0011055"
      },
      "outputs": [
        {
          "name": "stdout",
          "output_type": "stream",
          "text": [
            "time : 42.9310519695282\n",
            "Accuracy: 0.928%\n",
            "\n",
            "\n",
            "              precision    recall  f1-score   support\n",
            "\n",
            "      Normal       0.90      1.00      0.94     13469\n",
            "         Dos       0.99      0.89      0.94      9186\n",
            "       Probe       0.96      0.78      0.86      2331\n",
            "         U2R       0.00      0.00      0.00       197\n",
            "         R2L       0.00      0.00      0.00        12\n",
            "\n",
            "   micro avg       0.93      0.93      0.93     25195\n",
            "   macro avg       0.57      0.53      0.55     25195\n",
            "weighted avg       0.93      0.93      0.93     25195\n",
            " samples avg       0.93      0.93      0.93     25195\n",
            "\n",
            "\n",
            "roc auc value: 0.753%\n",
            "\n",
            "\n"
          ]
        },
        {
          "name": "stderr",
          "output_type": "stream",
          "text": [
            "/usr/local/lib/python3.8/dist-packages/sklearn/metrics/_classification.py:1318: UndefinedMetricWarning: Precision and F-score are ill-defined and being set to 0.0 in labels with no predicted samples. Use `zero_division` parameter to control this behavior.\n",
            "  _warn_prf(average, modifier, msg_start, len(result))\n",
            "/usr/local/lib/python3.8/dist-packages/sklearn/metrics/_classification.py:1318: UndefinedMetricWarning: Precision and F-score are ill-defined and being set to 0.0 in samples with no predicted labels. Use `zero_division` parameter to control this behavior.\n",
            "  _warn_prf(average, modifier, msg_start, len(result))\n"
          ]
        },
        {
          "data": {
            "text/plain": [
              "array([[1, 0, 0, 0, 0],\n",
              "       [1, 0, 0, 0, 0],\n",
              "       [1, 0, 0, 0, 0],\n",
              "       ...,\n",
              "       [0, 1, 0, 0, 0],\n",
              "       [1, 0, 0, 0, 0],\n",
              "       [1, 0, 0, 0, 0]])"
            ]
          },
          "execution_count": 166,
          "metadata": {},
          "output_type": "execute_result"
        }
      ],
      "source": [
        "predict(rbf2_kernel_svm_clf, nsl_pca2_val_scaled, nsl_val_y_one)"
      ]
    },
    {
      "cell_type": "code",
      "execution_count": null,
      "metadata": {
        "colab": {
          "base_uri": "https://localhost:8080/"
        },
        "id": "xsCfIjRLxl6k",
        "outputId": "a5004e29-b40a-44e8-b288-7e649c1be265"
      },
      "outputs": [
        {
          "name": "stdout",
          "output_type": "stream",
          "text": [
            "time : 40.66684818267822\n",
            "Accuracy: 0.691%\n",
            "\n",
            "\n",
            "              precision    recall  f1-score   support\n",
            "\n",
            "      Normal       0.62      0.98      0.76      9710\n",
            "         Dos       0.95      0.61      0.74      7460\n",
            "       Probe       0.76      0.65      0.70      2421\n",
            "         U2R       0.00      0.00      0.00      2749\n",
            "         R2L       0.00      0.00      0.00       203\n",
            "\n",
            "   micro avg       0.70      0.70      0.70     22543\n",
            "   macro avg       0.47      0.45      0.44     22543\n",
            "weighted avg       0.66      0.70      0.65     22543\n",
            " samples avg       0.69      0.70      0.69     22543\n",
            "\n",
            "\n",
            "roc auc value: 0.674%\n",
            "\n",
            "\n"
          ]
        },
        {
          "name": "stderr",
          "output_type": "stream",
          "text": [
            "/usr/local/lib/python3.8/dist-packages/sklearn/metrics/_classification.py:1318: UndefinedMetricWarning: Precision and F-score are ill-defined and being set to 0.0 in labels with no predicted samples. Use `zero_division` parameter to control this behavior.\n",
            "  _warn_prf(average, modifier, msg_start, len(result))\n",
            "/usr/local/lib/python3.8/dist-packages/sklearn/metrics/_classification.py:1318: UndefinedMetricWarning: Precision and F-score are ill-defined and being set to 0.0 in samples with no predicted labels. Use `zero_division` parameter to control this behavior.\n",
            "  _warn_prf(average, modifier, msg_start, len(result))\n"
          ]
        },
        {
          "data": {
            "text/plain": [
              "array([[0, 1, 0, 0, 0],\n",
              "       [0, 1, 0, 0, 0],\n",
              "       [1, 0, 0, 0, 0],\n",
              "       ...,\n",
              "       [1, 0, 0, 0, 0],\n",
              "       [1, 0, 0, 0, 0],\n",
              "       [0, 1, 0, 0, 0]])"
            ]
          },
          "execution_count": 167,
          "metadata": {},
          "output_type": "execute_result"
        }
      ],
      "source": [
        "predict(rbf2_kernel_svm_clf, nsl_pca2_test_scaled, nsl_test_y_one)"
      ]
    },
    {
      "cell_type": "markdown",
      "metadata": {
        "id": "EahYI6zMTq0S"
      },
      "source": [
        "###RF"
      ]
    },
    {
      "cell_type": "code",
      "execution_count": null,
      "metadata": {
        "colab": {
          "base_uri": "https://localhost:8080/"
        },
        "id": "vlu4-kwBXVy3",
        "outputId": "93923c7e-6b1b-4d37-8895-d64cd5f95c78"
      },
      "outputs": [
        {
          "name": "stdout",
          "output_type": "stream",
          "text": [
            "time : 16.88367509841919\n"
          ]
        }
      ],
      "source": [
        "start = time.time()\n",
        "rf2 = RandomForestClassifier(n_estimators=100, min_samples_split=20, min_samples_leaf=8, max_depth=12, n_jobs=-1)\n",
        "rf2.fit(nsl_pca2_train_scaled, nsl_train_y_one)\n",
        "print(\"time :\", time.time() - start)"
      ]
    },
    {
      "cell_type": "code",
      "execution_count": null,
      "metadata": {
        "colab": {
          "base_uri": "https://localhost:8080/"
        },
        "id": "NeuHJaZMnRBK",
        "outputId": "079e0dfa-869e-44fe-f071-98b8173c1d8f"
      },
      "outputs": [
        {
          "name": "stdout",
          "output_type": "stream",
          "text": [
            "time : 0.7039592266082764\n",
            "Accuracy: 0.945%\n",
            "\n",
            "\n",
            "              precision    recall  f1-score   support\n",
            "\n",
            "      Normal       0.93      0.99      0.96     13469\n",
            "         Dos       0.99      0.93      0.95      9186\n",
            "       Probe       0.98      0.83      0.90      2331\n",
            "         U2R       0.80      0.45      0.58       197\n",
            "         R2L       0.00      0.00      0.00        12\n",
            "\n",
            "   micro avg       0.95      0.95      0.95     25195\n",
            "   macro avg       0.74      0.64      0.68     25195\n",
            "weighted avg       0.95      0.95      0.95     25195\n",
            " samples avg       0.95      0.95      0.95     25195\n",
            "\n",
            "\n",
            "roc auc value: 0.810%\n",
            "\n",
            "\n"
          ]
        },
        {
          "name": "stderr",
          "output_type": "stream",
          "text": [
            "/usr/local/lib/python3.8/dist-packages/sklearn/metrics/_classification.py:1318: UndefinedMetricWarning: Precision and F-score are ill-defined and being set to 0.0 in labels with no predicted samples. Use `zero_division` parameter to control this behavior.\n",
            "  _warn_prf(average, modifier, msg_start, len(result))\n",
            "/usr/local/lib/python3.8/dist-packages/sklearn/metrics/_classification.py:1318: UndefinedMetricWarning: Precision and F-score are ill-defined and being set to 0.0 in samples with no predicted labels. Use `zero_division` parameter to control this behavior.\n",
            "  _warn_prf(average, modifier, msg_start, len(result))\n"
          ]
        },
        {
          "data": {
            "text/plain": [
              "array([[1., 0., 0., 0., 0.],\n",
              "       [0., 0., 0., 1., 0.],\n",
              "       [1., 0., 0., 0., 0.],\n",
              "       ...,\n",
              "       [0., 1., 0., 0., 0.],\n",
              "       [1., 0., 0., 0., 0.],\n",
              "       [1., 0., 0., 0., 0.]], dtype=float32)"
            ]
          },
          "execution_count": 169,
          "metadata": {},
          "output_type": "execute_result"
        }
      ],
      "source": [
        "predict(rf2, nsl_pca2_val_scaled, nsl_val_y_one)"
      ]
    },
    {
      "cell_type": "code",
      "execution_count": null,
      "metadata": {
        "colab": {
          "base_uri": "https://localhost:8080/"
        },
        "id": "VPwwQorBXWls",
        "outputId": "94e15d91-a1a9-40e4-9c0e-abc0a9f0aa9c"
      },
      "outputs": [
        {
          "name": "stdout",
          "output_type": "stream",
          "text": [
            "time : 0.6487033367156982\n",
            "Accuracy: 0.712%\n",
            "\n",
            "\n",
            "              precision    recall  f1-score   support\n",
            "\n",
            "      Normal       0.64      0.98      0.77      9710\n",
            "         Dos       0.94      0.67      0.78      7460\n",
            "       Probe       0.78      0.65      0.71      2421\n",
            "         U2R       0.20      0.00      0.00      2749\n",
            "         R2L       0.00      0.00      0.00       203\n",
            "\n",
            "   micro avg       0.73      0.71      0.72     22543\n",
            "   macro avg       0.51      0.46      0.45     22543\n",
            "weighted avg       0.69      0.71      0.67     22543\n",
            " samples avg       0.71      0.71      0.71     22543\n",
            "\n",
            "\n",
            "roc auc value: 0.684%\n",
            "\n",
            "\n"
          ]
        },
        {
          "name": "stderr",
          "output_type": "stream",
          "text": [
            "/usr/local/lib/python3.8/dist-packages/sklearn/metrics/_classification.py:1318: UndefinedMetricWarning: Precision and F-score are ill-defined and being set to 0.0 in labels with no predicted samples. Use `zero_division` parameter to control this behavior.\n",
            "  _warn_prf(average, modifier, msg_start, len(result))\n",
            "/usr/local/lib/python3.8/dist-packages/sklearn/metrics/_classification.py:1318: UndefinedMetricWarning: Precision and F-score are ill-defined and being set to 0.0 in samples with no predicted labels. Use `zero_division` parameter to control this behavior.\n",
            "  _warn_prf(average, modifier, msg_start, len(result))\n"
          ]
        },
        {
          "data": {
            "text/plain": [
              "array([[0., 1., 0., 0., 0.],\n",
              "       [0., 1., 0., 0., 0.],\n",
              "       [1., 0., 0., 0., 0.],\n",
              "       ...,\n",
              "       [1., 0., 0., 0., 0.],\n",
              "       [1., 0., 0., 0., 0.],\n",
              "       [0., 1., 0., 0., 0.]], dtype=float32)"
            ]
          },
          "execution_count": 170,
          "metadata": {},
          "output_type": "execute_result"
        }
      ],
      "source": [
        "predict(rf2, nsl_pca2_test_scaled, nsl_test_y_one)"
      ]
    },
    {
      "cell_type": "markdown",
      "metadata": {
        "id": "6-Qg7A-EWN9P"
      },
      "source": [
        "###KNN"
      ]
    },
    {
      "cell_type": "code",
      "execution_count": null,
      "metadata": {
        "colab": {
          "base_uri": "https://localhost:8080/"
        },
        "id": "KvaU8uFeWTrG",
        "outputId": "39394921-af8d-469a-ed4a-a62e0f46dd21"
      },
      "outputs": [
        {
          "name": "stdout",
          "output_type": "stream",
          "text": [
            "time : 0.10317802429199219\n"
          ]
        }
      ],
      "source": [
        "start = time.time()\n",
        "\n",
        "knn2 = KNeighborsClassifier(n_neighbors=3)\n",
        "knn2.fit(nsl_pca2_train_scaled, nsl_train_y_one)\n",
        "\n",
        "print(\"time :\", time.time() - start)"
      ]
    },
    {
      "cell_type": "code",
      "execution_count": null,
      "metadata": {
        "colab": {
          "base_uri": "https://localhost:8080/"
        },
        "id": "C_mvwtQmWTtn",
        "outputId": "41dd8394-f088-45cb-91fc-a6cdd9a6588f"
      },
      "outputs": [
        {
          "name": "stdout",
          "output_type": "stream",
          "text": [
            "time : 3.56306791305542\n",
            "Accuracy: 0.960%\n",
            "\n",
            "\n",
            "              precision    recall  f1-score   support\n",
            "\n",
            "      Normal       0.97      0.96      0.97     13469\n",
            "         Dos       0.96      0.97      0.96      9186\n",
            "       Probe       0.95      0.93      0.94      2331\n",
            "         U2R       0.76      0.76      0.76       197\n",
            "         R2L       1.00      0.08      0.15        12\n",
            "\n",
            "   micro avg       0.96      0.96      0.96     25195\n",
            "   macro avg       0.93      0.74      0.76     25195\n",
            "weighted avg       0.96      0.96      0.96     25195\n",
            " samples avg       0.96      0.96      0.96     25195\n",
            "\n",
            "\n",
            "roc auc value: 0.864%\n",
            "\n",
            "\n"
          ]
        },
        {
          "name": "stderr",
          "output_type": "stream",
          "text": [
            "/usr/local/lib/python3.8/dist-packages/sklearn/metrics/_classification.py:1318: UndefinedMetricWarning: Precision and F-score are ill-defined and being set to 0.0 in samples with no predicted labels. Use `zero_division` parameter to control this behavior.\n",
            "  _warn_prf(average, modifier, msg_start, len(result))\n"
          ]
        },
        {
          "data": {
            "text/plain": [
              "array([[1., 0., 0., 0., 0.],\n",
              "       [0., 0., 0., 1., 0.],\n",
              "       [1., 0., 0., 0., 0.],\n",
              "       ...,\n",
              "       [0., 1., 0., 0., 0.],\n",
              "       [1., 0., 0., 0., 0.],\n",
              "       [1., 0., 0., 0., 0.]], dtype=float32)"
            ]
          },
          "execution_count": 172,
          "metadata": {},
          "output_type": "execute_result"
        }
      ],
      "source": [
        "predict(knn2, nsl_pca2_val_scaled, nsl_val_y_one)"
      ]
    },
    {
      "cell_type": "code",
      "execution_count": null,
      "metadata": {
        "colab": {
          "base_uri": "https://localhost:8080/"
        },
        "id": "BZYi5LFnWTy8",
        "outputId": "d857bb8d-039d-457e-cbda-b63a447aa618"
      },
      "outputs": [
        {
          "name": "stdout",
          "output_type": "stream",
          "text": [
            "time : 3.129725456237793\n",
            "Accuracy: 0.716%\n",
            "\n",
            "\n",
            "              precision    recall  f1-score   support\n",
            "\n",
            "      Normal       0.66      0.95      0.78      9710\n",
            "         Dos       0.85      0.70      0.77      7460\n",
            "       Probe       0.73      0.67      0.70      2421\n",
            "         U2R       0.70      0.04      0.08      2749\n",
            "         R2L       0.00      0.00      0.00       203\n",
            "\n",
            "   micro avg       0.72      0.72      0.72     22543\n",
            "   macro avg       0.59      0.47      0.46     22543\n",
            "weighted avg       0.73      0.72      0.67     22543\n",
            " samples avg       0.72      0.72      0.72     22543\n",
            "\n",
            "\n",
            "roc auc value: 0.690%\n",
            "\n",
            "\n"
          ]
        },
        {
          "name": "stderr",
          "output_type": "stream",
          "text": [
            "/usr/local/lib/python3.8/dist-packages/sklearn/metrics/_classification.py:1318: UndefinedMetricWarning: Precision and F-score are ill-defined and being set to 0.0 in samples with no predicted labels. Use `zero_division` parameter to control this behavior.\n",
            "  _warn_prf(average, modifier, msg_start, len(result))\n"
          ]
        },
        {
          "data": {
            "text/plain": [
              "array([[0., 1., 0., 0., 0.],\n",
              "       [0., 1., 0., 0., 0.],\n",
              "       [1., 0., 0., 0., 0.],\n",
              "       ...,\n",
              "       [1., 0., 0., 0., 0.],\n",
              "       [1., 0., 0., 0., 0.],\n",
              "       [0., 1., 0., 0., 0.]], dtype=float32)"
            ]
          },
          "execution_count": 173,
          "metadata": {},
          "output_type": "execute_result"
        }
      ],
      "source": [
        "predict(knn2, nsl_pca2_test_scaled, nsl_test_y_one)"
      ]
    },
    {
      "cell_type": "markdown",
      "metadata": {
        "id": "1AMFD9bpWP8y"
      },
      "source": [
        "###XGBoost"
      ]
    },
    {
      "cell_type": "code",
      "execution_count": null,
      "metadata": {
        "colab": {
          "base_uri": "https://localhost:8080/"
        },
        "id": "p7N4Oe1EWULy",
        "outputId": "ae56a28e-29db-4d07-f6f2-e29ba49483ef"
      },
      "outputs": [
        {
          "name": "stdout",
          "output_type": "stream",
          "text": [
            "time : 8.449647426605225\n"
          ]
        }
      ],
      "source": [
        "start=time.time()\n",
        "\n",
        "xgb2 = OneVsRestClassifier(XGBClassifier(gamma=2, max_depth=6, n_estimators=32, random_state=42))\n",
        "xgb2.fit(nsl_pca2_train_scaled, nsl_train_y_one)\n",
        "\n",
        "print(\"time :\", time.time() - start)"
      ]
    },
    {
      "cell_type": "code",
      "execution_count": null,
      "metadata": {
        "colab": {
          "base_uri": "https://localhost:8080/"
        },
        "id": "_rhO7pY8WUOM",
        "outputId": "3e123a8f-14e7-49f0-fae0-ca66590ee50f"
      },
      "outputs": [
        {
          "name": "stdout",
          "output_type": "stream",
          "text": [
            "time : 0.09898209571838379\n",
            "Accuracy: 0.929%\n",
            "\n",
            "\n",
            "              precision    recall  f1-score   support\n",
            "\n",
            "      Normal       0.90      0.99      0.95     13469\n",
            "         Dos       0.98      0.91      0.94      9186\n",
            "       Probe       0.97      0.81      0.88      2331\n",
            "         U2R       0.73      0.50      0.59       197\n",
            "         R2L       0.00      0.00      0.00        12\n",
            "\n",
            "   micro avg       0.94      0.94      0.94     25195\n",
            "   macro avg       0.72      0.64      0.67     25195\n",
            "weighted avg       0.94      0.94      0.94     25195\n",
            " samples avg       0.93      0.94      0.94     25195\n",
            "\n",
            "\n",
            "roc auc value: 0.807%\n",
            "\n",
            "\n"
          ]
        },
        {
          "name": "stderr",
          "output_type": "stream",
          "text": [
            "/usr/local/lib/python3.8/dist-packages/sklearn/metrics/_classification.py:1318: UndefinedMetricWarning: Precision and F-score are ill-defined and being set to 0.0 in labels with no predicted samples. Use `zero_division` parameter to control this behavior.\n",
            "  _warn_prf(average, modifier, msg_start, len(result))\n",
            "/usr/local/lib/python3.8/dist-packages/sklearn/metrics/_classification.py:1318: UndefinedMetricWarning: Precision and F-score are ill-defined and being set to 0.0 in samples with no predicted labels. Use `zero_division` parameter to control this behavior.\n",
            "  _warn_prf(average, modifier, msg_start, len(result))\n"
          ]
        },
        {
          "data": {
            "text/plain": [
              "array([[1, 0, 0, 0, 0],\n",
              "       [0, 0, 0, 1, 0],\n",
              "       [1, 0, 0, 0, 0],\n",
              "       ...,\n",
              "       [0, 1, 0, 0, 0],\n",
              "       [1, 0, 0, 0, 0],\n",
              "       [1, 0, 0, 0, 0]])"
            ]
          },
          "execution_count": 175,
          "metadata": {},
          "output_type": "execute_result"
        }
      ],
      "source": [
        "predict(xgb2, nsl_pca2_val_scaled, nsl_val_y_one)"
      ]
    },
    {
      "cell_type": "code",
      "execution_count": null,
      "metadata": {
        "colab": {
          "base_uri": "https://localhost:8080/"
        },
        "id": "9qIkRSgzWUQn",
        "outputId": "b827e5bd-618f-48f7-8c21-4ddc5d0c3b30"
      },
      "outputs": [
        {
          "name": "stdout",
          "output_type": "stream",
          "text": [
            "time : 0.10176491737365723\n",
            "Accuracy: 0.701%\n",
            "\n",
            "\n",
            "              precision    recall  f1-score   support\n",
            "\n",
            "      Normal       0.62      0.98      0.76      9710\n",
            "         Dos       0.94      0.64      0.76      7460\n",
            "       Probe       0.80      0.71      0.75      2421\n",
            "         U2R       0.09      0.00      0.00      2749\n",
            "         R2L       0.00      0.00      0.00       203\n",
            "\n",
            "   micro avg       0.71      0.71      0.71     22543\n",
            "   macro avg       0.49      0.47      0.46     22543\n",
            "weighted avg       0.68      0.71      0.66     22543\n",
            " samples avg       0.71      0.71      0.71     22543\n",
            "\n",
            "\n",
            "roc auc value: 0.684%\n",
            "\n",
            "\n"
          ]
        },
        {
          "name": "stderr",
          "output_type": "stream",
          "text": [
            "/usr/local/lib/python3.8/dist-packages/sklearn/metrics/_classification.py:1318: UndefinedMetricWarning: Precision and F-score are ill-defined and being set to 0.0 in labels with no predicted samples. Use `zero_division` parameter to control this behavior.\n",
            "  _warn_prf(average, modifier, msg_start, len(result))\n",
            "/usr/local/lib/python3.8/dist-packages/sklearn/metrics/_classification.py:1318: UndefinedMetricWarning: Precision and F-score are ill-defined and being set to 0.0 in samples with no predicted labels. Use `zero_division` parameter to control this behavior.\n",
            "  _warn_prf(average, modifier, msg_start, len(result))\n"
          ]
        },
        {
          "data": {
            "text/plain": [
              "array([[0, 1, 0, 0, 0],\n",
              "       [0, 1, 0, 0, 0],\n",
              "       [1, 0, 0, 0, 0],\n",
              "       ...,\n",
              "       [1, 0, 0, 0, 0],\n",
              "       [1, 0, 0, 0, 0],\n",
              "       [0, 1, 0, 0, 0]])"
            ]
          },
          "execution_count": 176,
          "metadata": {},
          "output_type": "execute_result"
        }
      ],
      "source": [
        "predict(xgb2, nsl_pca2_test_scaled, nsl_test_y_one)"
      ]
    },
    {
      "cell_type": "markdown",
      "metadata": {
        "id": "7RUGfXWfWQEG"
      },
      "source": [
        "###DNN"
      ]
    },
    {
      "cell_type": "code",
      "execution_count": null,
      "metadata": {
        "colab": {
          "base_uri": "https://localhost:8080/"
        },
        "id": "ipxDu78zWUve",
        "outputId": "3f28ca95-45bf-4b5b-ddc7-401fb66b4cff"
      },
      "outputs": [
        {
          "name": "stdout",
          "output_type": "stream",
          "text": [
            "Model: \"sequential_10\"\n",
            "_________________________________________________________________\n",
            " Layer (type)                Output Shape              Param #   \n",
            "=================================================================\n",
            " flatten_10 (Flatten)        (None, 2)                 0         \n",
            "                                                                 \n",
            " batch_normalization_12 (Bat  (None, 2)                8         \n",
            " chNormalization)                                                \n",
            "                                                                 \n",
            " dense_29 (Dense)            (None, 300)               900       \n",
            "                                                                 \n",
            " dropout_19 (Dropout)        (None, 300)               0         \n",
            "                                                                 \n",
            " batch_normalization_13 (Bat  (None, 300)              1200      \n",
            " chNormalization)                                                \n",
            "                                                                 \n",
            " dense_30 (Dense)            (None, 100)               30100     \n",
            "                                                                 \n",
            " dropout_20 (Dropout)        (None, 100)               0         \n",
            "                                                                 \n",
            " batch_normalization_14 (Bat  (None, 100)              400       \n",
            " chNormalization)                                                \n",
            "                                                                 \n",
            " dense_31 (Dense)            (None, 5)                 505       \n",
            "                                                                 \n",
            "=================================================================\n",
            "Total params: 33,113\n",
            "Trainable params: 32,309\n",
            "Non-trainable params: 804\n",
            "_________________________________________________________________\n"
          ]
        }
      ],
      "source": [
        "from keras.backend import dropout\n",
        "dnn2 = keras.models.Sequential([\n",
        "    keras.layers.Flatten(input_shape=(2,)),\n",
        "    keras.layers.BatchNormalization(),\n",
        "    keras.layers.Dense(300, activation=\"relu\"),\n",
        "    keras.layers.Dropout(rate=0.2),\n",
        "    keras.layers.BatchNormalization(),\n",
        "    keras.layers.Dense(100, activation=\"relu\"),  \n",
        "    keras.layers.Dropout(rate=0.2),\n",
        "    keras.layers.BatchNormalization(),\n",
        "    keras.layers.Dense(5, activation=\"softmax\")\n",
        "])\n",
        "dnn2.summary()"
      ]
    },
    {
      "cell_type": "code",
      "execution_count": null,
      "metadata": {
        "id": "A_d6WYv7WUxu"
      },
      "outputs": [],
      "source": [
        "dnn2.compile(loss=\"categorical_crossentropy\",\n",
        "            optimizer=\"sgd\",\n",
        "            metrics=[\"accuracy\"])"
      ]
    },
    {
      "cell_type": "code",
      "execution_count": null,
      "metadata": {
        "colab": {
          "base_uri": "https://localhost:8080/"
        },
        "id": "axE0ShmsWU0M",
        "outputId": "c55473f1-6e1a-4590-b5e2-725bdbc9d8be"
      },
      "outputs": [
        {
          "name": "stdout",
          "output_type": "stream",
          "text": [
            "Epoch 1/30\n",
            "3150/3150 [==============================] - 10s 3ms/step - loss: 0.3728 - accuracy: 0.8780 - val_loss: 0.2716 - val_accuracy: 0.9049\n",
            "Epoch 2/30\n",
            "3150/3150 [==============================] - 9s 3ms/step - loss: 0.3038 - accuracy: 0.8993 - val_loss: 0.2464 - val_accuracy: 0.9186\n",
            "Epoch 3/30\n",
            "3150/3150 [==============================] - 9s 3ms/step - loss: 0.2851 - accuracy: 0.9068 - val_loss: 0.2310 - val_accuracy: 0.9244\n",
            "Epoch 4/30\n",
            "3150/3150 [==============================] - 9s 3ms/step - loss: 0.2756 - accuracy: 0.9101 - val_loss: 0.2306 - val_accuracy: 0.9247\n",
            "Epoch 5/30\n",
            "3150/3150 [==============================] - 9s 3ms/step - loss: 0.2716 - accuracy: 0.9116 - val_loss: 0.2383 - val_accuracy: 0.9165\n",
            "Epoch 6/30\n",
            "3150/3150 [==============================] - 9s 3ms/step - loss: 0.2646 - accuracy: 0.9142 - val_loss: 0.2244 - val_accuracy: 0.9234\n",
            "Epoch 7/30\n",
            "3150/3150 [==============================] - 9s 3ms/step - loss: 0.2640 - accuracy: 0.9137 - val_loss: 0.2287 - val_accuracy: 0.9232\n",
            "Epoch 8/30\n",
            "3150/3150 [==============================] - 9s 3ms/step - loss: 0.2577 - accuracy: 0.9156 - val_loss: 0.2250 - val_accuracy: 0.9236\n",
            "Epoch 9/30\n",
            "3150/3150 [==============================] - 9s 3ms/step - loss: 0.2590 - accuracy: 0.9158 - val_loss: 0.2217 - val_accuracy: 0.9232\n",
            "Epoch 10/30\n",
            "3150/3150 [==============================] - 9s 3ms/step - loss: 0.2559 - accuracy: 0.9157 - val_loss: 0.2392 - val_accuracy: 0.9175\n",
            "Epoch 11/30\n",
            "3150/3150 [==============================] - 9s 3ms/step - loss: 0.2545 - accuracy: 0.9171 - val_loss: 0.2181 - val_accuracy: 0.9242\n",
            "Epoch 12/30\n",
            "3150/3150 [==============================] - 9s 3ms/step - loss: 0.2546 - accuracy: 0.9168 - val_loss: 0.2196 - val_accuracy: 0.9251\n",
            "Epoch 13/30\n",
            "3150/3150 [==============================] - 11s 4ms/step - loss: 0.2529 - accuracy: 0.9177 - val_loss: 0.2205 - val_accuracy: 0.9240\n",
            "Epoch 14/30\n",
            "3150/3150 [==============================] - 9s 3ms/step - loss: 0.2516 - accuracy: 0.9169 - val_loss: 0.2213 - val_accuracy: 0.9235\n",
            "Epoch 15/30\n",
            "3150/3150 [==============================] - 9s 3ms/step - loss: 0.2514 - accuracy: 0.9173 - val_loss: 0.2201 - val_accuracy: 0.9226\n",
            "Epoch 16/30\n",
            "3150/3150 [==============================] - 9s 3ms/step - loss: 0.2508 - accuracy: 0.9174 - val_loss: 0.2204 - val_accuracy: 0.9222\n",
            "Epoch 17/30\n",
            "3150/3150 [==============================] - 9s 3ms/step - loss: 0.2479 - accuracy: 0.9184 - val_loss: 0.2235 - val_accuracy: 0.9240\n",
            "Epoch 18/30\n",
            "3150/3150 [==============================] - 9s 3ms/step - loss: 0.2489 - accuracy: 0.9185 - val_loss: 0.2261 - val_accuracy: 0.9237\n",
            "Epoch 19/30\n",
            "3150/3150 [==============================] - 9s 3ms/step - loss: 0.2474 - accuracy: 0.9186 - val_loss: 0.2147 - val_accuracy: 0.9250\n",
            "Epoch 20/30\n",
            "3150/3150 [==============================] - 9s 3ms/step - loss: 0.2475 - accuracy: 0.9183 - val_loss: 0.2133 - val_accuracy: 0.9259\n",
            "Epoch 21/30\n",
            "3150/3150 [==============================] - 9s 3ms/step - loss: 0.2452 - accuracy: 0.9198 - val_loss: 0.2181 - val_accuracy: 0.9236\n",
            "Epoch 22/30\n",
            "3150/3150 [==============================] - 9s 3ms/step - loss: 0.2462 - accuracy: 0.9187 - val_loss: 0.2314 - val_accuracy: 0.9230\n",
            "Epoch 23/30\n",
            "3150/3150 [==============================] - 9s 3ms/step - loss: 0.2450 - accuracy: 0.9195 - val_loss: 0.2201 - val_accuracy: 0.9259\n",
            "Epoch 24/30\n",
            "3150/3150 [==============================] - 9s 3ms/step - loss: 0.2431 - accuracy: 0.9194 - val_loss: 0.2185 - val_accuracy: 0.9238\n",
            "Epoch 25/30\n",
            "3150/3150 [==============================] - 9s 3ms/step - loss: 0.2440 - accuracy: 0.9190 - val_loss: 0.2504 - val_accuracy: 0.9213\n",
            "Epoch 26/30\n",
            "3150/3150 [==============================] - 9s 3ms/step - loss: 0.2443 - accuracy: 0.9196 - val_loss: 0.2267 - val_accuracy: 0.9242\n",
            "Epoch 27/30\n",
            "3150/3150 [==============================] - 9s 3ms/step - loss: 0.2435 - accuracy: 0.9192 - val_loss: 0.2146 - val_accuracy: 0.9238\n",
            "Epoch 28/30\n",
            "3150/3150 [==============================] - 9s 3ms/step - loss: 0.2426 - accuracy: 0.9199 - val_loss: 0.2132 - val_accuracy: 0.9251\n",
            "Epoch 29/30\n",
            "3150/3150 [==============================] - 9s 3ms/step - loss: 0.2411 - accuracy: 0.9198 - val_loss: 0.2186 - val_accuracy: 0.9249\n",
            "Epoch 30/30\n",
            "3150/3150 [==============================] - 9s 3ms/step - loss: 0.2432 - accuracy: 0.9191 - val_loss: 0.2136 - val_accuracy: 0.9242\n"
          ]
        }
      ],
      "source": [
        "history_dnn2 = dnn2.fit(nsl_pca2_train_scaled, nsl_train_y_one, epochs=30,\n",
        "                        validation_data=(nsl_pca2_val_scaled, nsl_val_y_one))"
      ]
    },
    {
      "cell_type": "code",
      "execution_count": null,
      "metadata": {
        "colab": {
          "base_uri": "https://localhost:8080/"
        },
        "id": "9ItpJLQaWU2o",
        "outputId": "0962267e-eb82-4f6d-9494-29dc0fe59000"
      },
      "outputs": [
        {
          "name": "stdout",
          "output_type": "stream",
          "text": [
            "705/705 [==============================] - 1s 2ms/step - loss: 1.0676 - accuracy: 0.6935\n"
          ]
        },
        {
          "data": {
            "text/plain": [
              "[1.0675644874572754, 0.6935190558433533]"
            ]
          },
          "execution_count": 180,
          "metadata": {},
          "output_type": "execute_result"
        }
      ],
      "source": [
        "dnn2.evaluate(nsl_pca2_test_scaled, nsl_test_y_one)"
      ]
    },
    {
      "cell_type": "code",
      "execution_count": null,
      "metadata": {
        "colab": {
          "base_uri": "https://localhost:8080/"
        },
        "id": "9Y4p6obIPd62",
        "outputId": "766f8318-d3ce-4551-d5d5-ce49d6b242dc"
      },
      "outputs": [
        {
          "name": "stdout",
          "output_type": "stream",
          "text": [
            "788/788 [==============================] - 1s 1ms/step\n",
            "time : 1.453606128692627\n",
            "              precision    recall  f1-score   support\n",
            "\n",
            "      Normal       0.89      1.00      0.94     13469\n",
            "         Dos       0.97      0.89      0.93      9186\n",
            "       Probe       0.97      0.72      0.83      2331\n",
            "         U2R       0.00      0.00      0.00       197\n",
            "         R2L       0.00      0.00      0.00        12\n",
            "\n",
            "   micro avg       0.92      0.92      0.92     25195\n",
            "   macro avg       0.57      0.52      0.54     25195\n",
            "weighted avg       0.92      0.92      0.92     25195\n",
            " samples avg       0.92      0.92      0.92     25195\n",
            "\n",
            "roc auc value: 0.745%\n",
            "\n",
            "\n"
          ]
        },
        {
          "name": "stderr",
          "output_type": "stream",
          "text": [
            "/usr/local/lib/python3.8/dist-packages/sklearn/metrics/_classification.py:1318: UndefinedMetricWarning: Precision and F-score are ill-defined and being set to 0.0 in labels with no predicted samples. Use `zero_division` parameter to control this behavior.\n",
            "  _warn_prf(average, modifier, msg_start, len(result))\n"
          ]
        },
        {
          "data": {
            "text/plain": [
              "array([[1., 0., 0., 0., 0.],\n",
              "       [1., 0., 0., 0., 0.],\n",
              "       [1., 0., 0., 0., 0.],\n",
              "       ...,\n",
              "       [0., 1., 0., 0., 0.],\n",
              "       [1., 0., 0., 0., 0.],\n",
              "       [1., 0., 0., 0., 0.]], dtype=float32)"
            ]
          },
          "execution_count": 181,
          "metadata": {},
          "output_type": "execute_result"
        }
      ],
      "source": [
        "predict_nn(dnn2, nsl_pca2_val_scaled, nsl_val_y_one)"
      ]
    },
    {
      "cell_type": "code",
      "execution_count": null,
      "metadata": {
        "colab": {
          "base_uri": "https://localhost:8080/"
        },
        "id": "JA5awfUVkNvf",
        "outputId": "a31304fd-9f11-434b-95d0-c77585f9895d"
      },
      "outputs": [
        {
          "name": "stdout",
          "output_type": "stream",
          "text": [
            "705/705 [==============================] - 1s 2ms/step\n",
            "time : 1.3135926723480225\n",
            "              precision    recall  f1-score   support\n",
            "\n",
            "      Normal       0.61      0.99      0.76      9710\n",
            "         Dos       0.91      0.62      0.74      7460\n",
            "       Probe       0.82      0.57      0.67      2421\n",
            "         U2R       0.00      0.00      0.00      2749\n",
            "         R2L       0.00      0.00      0.00       203\n",
            "\n",
            "   micro avg       0.69      0.69      0.69     22543\n",
            "   macro avg       0.47      0.44      0.43     22543\n",
            "weighted avg       0.65      0.69      0.64     22543\n",
            " samples avg       0.69      0.69      0.69     22543\n",
            "\n",
            "roc auc value: 0.666%\n",
            "\n",
            "\n"
          ]
        },
        {
          "name": "stderr",
          "output_type": "stream",
          "text": [
            "/usr/local/lib/python3.8/dist-packages/sklearn/metrics/_classification.py:1318: UndefinedMetricWarning: Precision and F-score are ill-defined and being set to 0.0 in labels with no predicted samples. Use `zero_division` parameter to control this behavior.\n",
            "  _warn_prf(average, modifier, msg_start, len(result))\n"
          ]
        },
        {
          "data": {
            "text/plain": [
              "array([[0., 1., 0., 0., 0.],\n",
              "       [0., 1., 0., 0., 0.],\n",
              "       [1., 0., 0., 0., 0.],\n",
              "       ...,\n",
              "       [1., 0., 0., 0., 0.],\n",
              "       [1., 0., 0., 0., 0.],\n",
              "       [0., 1., 0., 0., 0.]], dtype=float32)"
            ]
          },
          "execution_count": 182,
          "metadata": {},
          "output_type": "execute_result"
        }
      ],
      "source": [
        "predict_nn(dnn2, nsl_pca2_test_scaled, nsl_test_y_one)"
      ]
    },
    {
      "cell_type": "markdown",
      "metadata": {
        "id": "M1yAu1_n2loD"
      },
      "source": [
        "###**CNN**"
      ]
    },
    {
      "cell_type": "code",
      "execution_count": null,
      "metadata": {
        "id": "sOwaILVe2lt0"
      },
      "outputs": [],
      "source": [
        "cnn2 = keras.models.Sequential([\n",
        "    keras.layers.Conv1D(64, 7, activation='relu', padding='same', input_shape=[2, 1]),\n",
        "    keras.layers.MaxPooling1D(2),\n",
        "    keras.layers.Flatten(),\n",
        "    keras.layers.Dense(64, activation='relu'),\n",
        "    keras.layers.Dropout(0.5),\n",
        "    keras.layers.Dense(5, activation='softmax'),\n",
        "])"
      ]
    },
    {
      "cell_type": "code",
      "execution_count": null,
      "metadata": {
        "id": "jvEvbFkU2lwd"
      },
      "outputs": [],
      "source": [
        "cnn2.compile(loss = \"categorical_crossentropy\",\n",
        "            optimizer = \"nadam\",\n",
        "            metrics=[\"Accuracy\"]\n",
        "            )"
      ]
    },
    {
      "cell_type": "code",
      "execution_count": null,
      "metadata": {
        "colab": {
          "base_uri": "https://localhost:8080/"
        },
        "id": "3eQt0st22lzm",
        "outputId": "39bfb588-ff75-4b75-f091-fb7a631a4a3d"
      },
      "outputs": [
        {
          "name": "stdout",
          "output_type": "stream",
          "text": [
            "Epoch 1/30\n",
            "3150/3150 [==============================] - 9s 2ms/step - loss: 0.3455 - Accuracy: 0.8979 - val_loss: 0.2580 - val_Accuracy: 0.9222\n",
            "Epoch 2/30\n",
            "3150/3150 [==============================] - 7s 2ms/step - loss: 0.2516 - Accuracy: 0.9240 - val_loss: 0.2256 - val_Accuracy: 0.9241\n",
            "Epoch 3/30\n",
            "3150/3150 [==============================] - 7s 2ms/step - loss: 0.2264 - Accuracy: 0.9275 - val_loss: 0.2098 - val_Accuracy: 0.9284\n",
            "Epoch 4/30\n",
            "3150/3150 [==============================] - 7s 2ms/step - loss: 0.2153 - Accuracy: 0.9292 - val_loss: 0.2032 - val_Accuracy: 0.9299\n",
            "Epoch 5/30\n",
            "3150/3150 [==============================] - 7s 2ms/step - loss: 0.2108 - Accuracy: 0.9295 - val_loss: 0.2026 - val_Accuracy: 0.9295\n",
            "Epoch 6/30\n",
            "3150/3150 [==============================] - 7s 2ms/step - loss: 0.2067 - Accuracy: 0.9300 - val_loss: 0.1985 - val_Accuracy: 0.9301\n",
            "Epoch 7/30\n",
            "3150/3150 [==============================] - 7s 2ms/step - loss: 0.2031 - Accuracy: 0.9300 - val_loss: 0.1964 - val_Accuracy: 0.9305\n",
            "Epoch 8/30\n",
            "3150/3150 [==============================] - 8s 2ms/step - loss: 0.2009 - Accuracy: 0.9304 - val_loss: 0.1945 - val_Accuracy: 0.9298\n",
            "Epoch 9/30\n",
            "3150/3150 [==============================] - 7s 2ms/step - loss: 0.2005 - Accuracy: 0.9299 - val_loss: 0.1902 - val_Accuracy: 0.9305\n",
            "Epoch 10/30\n",
            "3150/3150 [==============================] - 7s 2ms/step - loss: 0.1974 - Accuracy: 0.9307 - val_loss: 0.1933 - val_Accuracy: 0.9298\n",
            "Epoch 11/30\n",
            "3150/3150 [==============================] - 9s 3ms/step - loss: 0.1966 - Accuracy: 0.9305 - val_loss: 0.1912 - val_Accuracy: 0.9305\n",
            "Epoch 12/30\n",
            "3150/3150 [==============================] - 8s 3ms/step - loss: 0.1952 - Accuracy: 0.9305 - val_loss: 0.1955 - val_Accuracy: 0.9301\n",
            "Epoch 13/30\n",
            "3150/3150 [==============================] - 9s 3ms/step - loss: 0.1941 - Accuracy: 0.9306 - val_loss: 0.1899 - val_Accuracy: 0.9297\n",
            "Epoch 14/30\n",
            "3150/3150 [==============================] - 8s 2ms/step - loss: 0.1942 - Accuracy: 0.9301 - val_loss: 0.1870 - val_Accuracy: 0.9311\n",
            "Epoch 15/30\n",
            "3150/3150 [==============================] - 7s 2ms/step - loss: 0.1918 - Accuracy: 0.9309 - val_loss: 0.1926 - val_Accuracy: 0.9306\n",
            "Epoch 16/30\n",
            "3150/3150 [==============================] - 8s 2ms/step - loss: 0.1916 - Accuracy: 0.9311 - val_loss: 0.1888 - val_Accuracy: 0.9302\n",
            "Epoch 17/30\n",
            "3150/3150 [==============================] - 11s 3ms/step - loss: 0.1908 - Accuracy: 0.9308 - val_loss: 0.1890 - val_Accuracy: 0.9302\n",
            "Epoch 18/30\n",
            "3150/3150 [==============================] - 9s 3ms/step - loss: 0.1905 - Accuracy: 0.9309 - val_loss: 0.1871 - val_Accuracy: 0.9300\n",
            "Epoch 19/30\n",
            "3150/3150 [==============================] - 8s 3ms/step - loss: 0.1892 - Accuracy: 0.9308 - val_loss: 0.1890 - val_Accuracy: 0.9306\n",
            "Epoch 20/30\n",
            "3150/3150 [==============================] - 9s 3ms/step - loss: 0.1903 - Accuracy: 0.9312 - val_loss: 0.1895 - val_Accuracy: 0.9274\n",
            "Epoch 21/30\n",
            "3150/3150 [==============================] - 9s 3ms/step - loss: 0.1890 - Accuracy: 0.9311 - val_loss: 0.1826 - val_Accuracy: 0.9303\n",
            "Epoch 22/30\n",
            "3150/3150 [==============================] - 9s 3ms/step - loss: 0.1884 - Accuracy: 0.9312 - val_loss: 0.1855 - val_Accuracy: 0.9301\n",
            "Epoch 23/30\n",
            "3150/3150 [==============================] - 9s 3ms/step - loss: 0.1868 - Accuracy: 0.9310 - val_loss: 0.1889 - val_Accuracy: 0.9299\n",
            "Epoch 24/30\n",
            "3150/3150 [==============================] - 9s 3ms/step - loss: 0.1862 - Accuracy: 0.9315 - val_loss: 0.1851 - val_Accuracy: 0.9299\n",
            "Epoch 25/30\n",
            "3150/3150 [==============================] - 9s 3ms/step - loss: 0.1860 - Accuracy: 0.9312 - val_loss: 0.1812 - val_Accuracy: 0.9305\n",
            "Epoch 26/30\n",
            "3150/3150 [==============================] - 9s 3ms/step - loss: 0.1864 - Accuracy: 0.9314 - val_loss: 0.1812 - val_Accuracy: 0.9309\n",
            "Epoch 27/30\n",
            "3150/3150 [==============================] - 8s 2ms/step - loss: 0.1843 - Accuracy: 0.9313 - val_loss: 0.1817 - val_Accuracy: 0.9297\n",
            "Epoch 28/30\n",
            "3150/3150 [==============================] - 8s 2ms/step - loss: 0.1854 - Accuracy: 0.9316 - val_loss: 0.1831 - val_Accuracy: 0.9298\n",
            "Epoch 29/30\n",
            "3150/3150 [==============================] - 8s 2ms/step - loss: 0.1854 - Accuracy: 0.9316 - val_loss: 0.1800 - val_Accuracy: 0.9304\n",
            "Epoch 30/30\n",
            "3150/3150 [==============================] - 8s 3ms/step - loss: 0.1841 - Accuracy: 0.9317 - val_loss: 0.1796 - val_Accuracy: 0.9308\n",
            "time : 245.21547865867615\n"
          ]
        }
      ],
      "source": [
        "start=time.time()\n",
        "history_cnn = cnn2.fit(nsl_pca2_train_scaled, nsl_train_y_one, epochs=30,\n",
        "                        validation_data=(nsl_pca2_val_scaled, nsl_val_y_one))\n",
        "print(\"time :\", time.time() - start)\n"
      ]
    },
    {
      "cell_type": "code",
      "execution_count": null,
      "metadata": {
        "colab": {
          "base_uri": "https://localhost:8080/"
        },
        "id": "H3VrHTpk2l2c",
        "outputId": "931f735e-4d88-418c-dfb3-eda98a3f9ca9"
      },
      "outputs": [
        {
          "name": "stdout",
          "output_type": "stream",
          "text": [
            "705/705 [==============================] - 1s 2ms/step - loss: 1.5046 - Accuracy: 0.6918\n"
          ]
        },
        {
          "data": {
            "text/plain": [
              "[1.5045701265335083, 0.6917890310287476]"
            ]
          },
          "execution_count": 186,
          "metadata": {},
          "output_type": "execute_result"
        }
      ],
      "source": [
        "cnn2.evaluate(nsl_pca2_test_scaled, nsl_test_y_one)"
      ]
    },
    {
      "cell_type": "code",
      "execution_count": null,
      "metadata": {
        "colab": {
          "base_uri": "https://localhost:8080/"
        },
        "id": "KgQbLE4h2l5j",
        "outputId": "7e4026a4-9e92-416d-8304-5bc2576f58e5"
      },
      "outputs": [
        {
          "name": "stdout",
          "output_type": "stream",
          "text": [
            "788/788 [==============================] - 1s 1ms/step\n",
            "time : 1.3108794689178467\n",
            "              precision    recall  f1-score   support\n",
            "\n",
            "      Normal       0.89      1.00      0.94     13469\n",
            "         Dos       0.99      0.89      0.94      9186\n",
            "       Probe       0.96      0.79      0.87      2331\n",
            "         U2R       0.00      0.00      0.00       197\n",
            "         R2L       0.00      0.00      0.00        12\n",
            "\n",
            "   micro avg       0.93      0.93      0.93     25195\n",
            "   macro avg       0.57      0.54      0.55     25195\n",
            "weighted avg       0.93      0.93      0.93     25195\n",
            " samples avg       0.93      0.93      0.93     25195\n",
            "\n",
            "roc auc value: 0.754%\n",
            "\n",
            "\n"
          ]
        },
        {
          "name": "stderr",
          "output_type": "stream",
          "text": [
            "/usr/local/lib/python3.8/dist-packages/sklearn/metrics/_classification.py:1318: UndefinedMetricWarning: Precision and F-score are ill-defined and being set to 0.0 in labels with no predicted samples. Use `zero_division` parameter to control this behavior.\n",
            "  _warn_prf(average, modifier, msg_start, len(result))\n"
          ]
        },
        {
          "data": {
            "text/plain": [
              "array([[1., 0., 0., 0., 0.],\n",
              "       [1., 0., 0., 0., 0.],\n",
              "       [1., 0., 0., 0., 0.],\n",
              "       ...,\n",
              "       [0., 1., 0., 0., 0.],\n",
              "       [1., 0., 0., 0., 0.],\n",
              "       [1., 0., 0., 0., 0.]], dtype=float32)"
            ]
          },
          "execution_count": 187,
          "metadata": {},
          "output_type": "execute_result"
        }
      ],
      "source": [
        "predict_nn(cnn2, nsl_pca2_val_scaled, nsl_val_y_one)"
      ]
    },
    {
      "cell_type": "code",
      "execution_count": null,
      "metadata": {
        "colab": {
          "base_uri": "https://localhost:8080/"
        },
        "id": "mRxvrRvF2l8a",
        "outputId": "d878b90b-ff02-43e4-aa0b-ea726d579c40"
      },
      "outputs": [
        {
          "name": "stdout",
          "output_type": "stream",
          "text": [
            "705/705 [==============================] - 1s 1ms/step\n",
            "time : 1.1904511451721191\n",
            "              precision    recall  f1-score   support\n",
            "\n",
            "      Normal       0.61      0.99      0.75      9710\n",
            "         Dos       0.94      0.61      0.74      7460\n",
            "       Probe       0.78      0.60      0.67      2421\n",
            "         U2R       0.00      0.00      0.00      2749\n",
            "         R2L       0.00      0.00      0.00       203\n",
            "\n",
            "   micro avg       0.69      0.69      0.69     22543\n",
            "   macro avg       0.46      0.44      0.43     22543\n",
            "weighted avg       0.66      0.69      0.64     22543\n",
            " samples avg       0.69      0.69      0.69     22543\n",
            "\n",
            "roc auc value: 0.667%\n",
            "\n",
            "\n"
          ]
        },
        {
          "name": "stderr",
          "output_type": "stream",
          "text": [
            "/usr/local/lib/python3.8/dist-packages/sklearn/metrics/_classification.py:1318: UndefinedMetricWarning: Precision and F-score are ill-defined and being set to 0.0 in labels with no predicted samples. Use `zero_division` parameter to control this behavior.\n",
            "  _warn_prf(average, modifier, msg_start, len(result))\n"
          ]
        },
        {
          "data": {
            "text/plain": [
              "array([[0., 1., 0., 0., 0.],\n",
              "       [0., 1., 0., 0., 0.],\n",
              "       [1., 0., 0., 0., 0.],\n",
              "       ...,\n",
              "       [1., 0., 0., 0., 0.],\n",
              "       [1., 0., 0., 0., 0.],\n",
              "       [0., 1., 0., 0., 0.]], dtype=float32)"
            ]
          },
          "execution_count": 188,
          "metadata": {},
          "output_type": "execute_result"
        }
      ],
      "source": [
        "predict_nn(cnn2, nsl_pca2_test_scaled, nsl_test_y_one)"
      ]
    },
    {
      "cell_type": "markdown",
      "metadata": {
        "id": "bsW8xUSlVEFy"
      },
      "source": [
        "# **SMOTE**"
      ]
    },
    {
      "cell_type": "code",
      "execution_count": null,
      "metadata": {
        "colab": {
          "base_uri": "https://localhost:8080/"
        },
        "id": "i-y9cArvRhhA",
        "outputId": "c7f75a87-13e2-47da-dc8d-7ad9f78be95e"
      },
      "outputs": [
        {
          "name": "stdout",
          "output_type": "stream",
          "text": [
            "Before SMOTE :  (100778, 59) (100778,)\n",
            "After SMOTE : (269370, 59) (269370,)\n"
          ]
        }
      ],
      "source": [
        "smote = SMOTE(random_state=42)\n",
        "\n",
        "nsl_train_x_over, nsl_train_y_over = smote.fit_resample(nsl_train_x_scaled, nsl_train_y)\n",
        "print(\"Before SMOTE : \", nsl_train_x.shape, nsl_train_y.shape)\n",
        "print(\"After SMOTE :\", nsl_train_x_over.shape, nsl_train_y_over.shape)\n"
      ]
    },
    {
      "cell_type": "code",
      "execution_count": null,
      "metadata": {
        "colab": {
          "base_uri": "https://localhost:8080/"
        },
        "id": "S5uuBIj3XDRK",
        "outputId": "c8c50584-6849-4a45-cd2b-930fa5e78189"
      },
      "outputs": [
        {
          "data": {
            "text/plain": [
              "0    53874\n",
              "1    36741\n",
              "2     9325\n",
              "3      790\n",
              "4       48\n",
              "Name: attack_cat, dtype: int64"
            ]
          },
          "execution_count": 28,
          "metadata": {},
          "output_type": "execute_result"
        }
      ],
      "source": [
        "nsl_train_y.value_counts()"
      ]
    },
    {
      "cell_type": "code",
      "execution_count": null,
      "metadata": {
        "colab": {
          "base_uri": "https://localhost:8080/"
        },
        "id": "CY0pYuCzWRwr",
        "outputId": "ecfde33c-b97d-4870-bccb-05dcade90126"
      },
      "outputs": [
        {
          "data": {
            "text/plain": [
              "0    53874\n",
              "1    53874\n",
              "2    53874\n",
              "3    53874\n",
              "4    53874\n",
              "Name: attack_cat, dtype: int64"
            ]
          },
          "execution_count": 29,
          "metadata": {},
          "output_type": "execute_result"
        }
      ],
      "source": [
        "nsl_train_y_over.value_counts()"
      ]
    },
    {
      "cell_type": "code",
      "execution_count": null,
      "metadata": {
        "colab": {
          "base_uri": "https://localhost:8080/",
          "height": 428
        },
        "id": "FmMgY7EfYpvW",
        "outputId": "4d7c6213-de7d-4443-b719-33050034adc1"
      },
      "outputs": [
        {
          "data": {
            "text/plain": [
              "Text(0, 0.5, 'Number of Records')"
            ]
          },
          "execution_count": 30,
          "metadata": {},
          "output_type": "execute_result"
        },
        {
          "data": {
            "image/png": "[encoded data removed]",
            "text/plain": [
              "<Figure size 600x400 with 1 Axes>"
            ]
          },
          "metadata": {},
          "output_type": "display_data"
        }
      ],
      "source": [
        "plt.style.use('default')\n",
        "plt.rcParams['figure.figsize'] = (6, 4)\n",
        "plt.rcParams['font.size'] = 10\n",
        "\n",
        "x = [\"Normal\", \"Dos\", \"Probe\", \"U2R\", \"R2L\"]\n",
        "y = nsl_train_y_over.value_counts()\n",
        "\n",
        "plt.bar(x, y)\n",
        "\n",
        "bars = plt.bar(x, y, color='lightgray', edgecolor='black')\n",
        "bars[0].set_hatch('//')\n",
        "bars[1].set_hatch('o')\n",
        "bars[2].set_hatch('XX')\n",
        "bars[3].set_hatch('.')\n",
        "bars[4].set_hatch('*')\n",
        "\n",
        "for i, v in enumerate(x):\n",
        "    plt.text(v, y[i], y[i],\n",
        "            fontsize=9,\n",
        "            color='black',\n",
        "            horizontalalignment='center',\n",
        "            verticalalignment='bottom')\n",
        "\n",
        "plt.title(\"Number of Records by Attack Type - Training Dataset Oversampled\")\n",
        "plt.xlabel(\"Attack Type\")\n",
        "plt.ylabel(\"Number of Records\")\n"
      ]
    },
    {
      "cell_type": "code",
      "execution_count": null,
      "metadata": {
        "id": "2uBsDIFLYz0A"
      },
      "outputs": [],
      "source": [
        "nsl_train_y_over_one = tf.keras.utils.to_categorical(nsl_train_y_over)"
      ]
    },
    {
      "cell_type": "markdown",
      "metadata": {
        "id": "p3n0V51Z8R2I"
      },
      "source": [
        "## **Baseline(NONE)**"
      ]
    },
    {
      "cell_type": "markdown",
      "metadata": {
        "id": "hV6800YEa4N6"
      },
      "source": [
        "###**SVM**"
      ]
    },
    {
      "cell_type": "code",
      "execution_count": null,
      "metadata": {
        "id": "ICCTmWegzNOZ"
      },
      "outputs": [],
      "source": [
        "start = time.time()\n",
        "\n",
        "svm_ov= OneVsRestClassifier(SVC(kernel=\"rbf\", gamma=1, C=10))\n",
        "svm_ov.fit(nsl_train_x_over, nsl_train_y_over_one)\n",
        "\n",
        "print(\"time :\", time.time() - start)"
      ]
    },
    {
      "cell_type": "code",
      "execution_count": null,
      "metadata": {
        "id": "AgLIRUiTzNQp"
      },
      "outputs": [],
      "source": [
        "predict(svm_ov, nsl_val_x_scaled, nsl_val_y_one)"
      ]
    },
    {
      "cell_type": "code",
      "execution_count": null,
      "metadata": {
        "id": "gFd69YK8zNS9"
      },
      "outputs": [],
      "source": [
        "predict(svm_ov, nsl_test_x_scaled, nsl_test_y_one)"
      ]
    },
    {
      "cell_type": "markdown",
      "metadata": {
        "id": "ZQQUg1ujaxVx"
      },
      "source": [
        "###**RF**"
      ]
    },
    {
      "cell_type": "code",
      "execution_count": null,
      "metadata": {
        "colab": {
          "base_uri": "https://localhost:8080/"
        },
        "id": "oGzpFTx4wJil",
        "outputId": "bab3bac0-5bbd-4e56-b726-d37dc304f7f0"
      },
      "outputs": [
        {
          "name": "stdout",
          "output_type": "stream",
          "text": [
            "time : 64.69114279747009\n"
          ]
        }
      ],
      "source": [
        "start = time.time()\n",
        "rf_over = RandomForestClassifier(n_estimators=100, min_samples_split=20, min_samples_leaf=8, max_depth=12, n_jobs=-1)\n",
        "rf_over.fit(nsl_train_x_over, nsl_train_y_over_one)\n",
        "print(\"time :\", time.time() - start)"
      ]
    },
    {
      "cell_type": "code",
      "execution_count": null,
      "metadata": {
        "colab": {
          "base_uri": "https://localhost:8080/"
        },
        "id": "H5s39Tvb7K__",
        "outputId": "c2a4da8a-4380-4633-a6dd-eca289a4e55d"
      },
      "outputs": [
        {
          "name": "stdout",
          "output_type": "stream",
          "text": [
            "time : 0.8133814334869385\n",
            "Accuracy: 0.994%\n",
            "\n",
            "\n",
            "              precision    recall  f1-score   support\n",
            "\n",
            "      Normal       1.00      0.99      1.00     13469\n",
            "         Dos       1.00      1.00      1.00      9186\n",
            "       Probe       1.00      0.99      0.99      2331\n",
            "         U2R       0.86      0.97      0.91       197\n",
            "         R2L       0.29      0.67      0.40        12\n",
            "\n",
            "   micro avg       1.00      0.99      1.00     25195\n",
            "   macro avg       0.83      0.92      0.86     25195\n",
            "weighted avg       1.00      0.99      1.00     25195\n",
            " samples avg       0.99      0.99      0.99     25195\n",
            "\n",
            "\n",
            "roc auc value: 0.961%\n",
            "\n",
            "\n"
          ]
        },
        {
          "name": "stderr",
          "output_type": "stream",
          "text": [
            "/usr/local/lib/python3.8/dist-packages/sklearn/metrics/_classification.py:1318: UndefinedMetricWarning: Precision and F-score are ill-defined and being set to 0.0 in samples with no predicted labels. Use `zero_division` parameter to control this behavior.\n",
            "  _warn_prf(average, modifier, msg_start, len(result))\n"
          ]
        },
        {
          "data": {
            "text/plain": [
              "array([[1., 0., 0., 0., 0.],\n",
              "       [0., 0., 0., 1., 0.],\n",
              "       [1., 0., 0., 0., 0.],\n",
              "       ...,\n",
              "       [0., 1., 0., 0., 0.],\n",
              "       [1., 0., 0., 0., 0.],\n",
              "       [1., 0., 0., 0., 0.]], dtype=float32)"
            ]
          },
          "execution_count": 33,
          "metadata": {},
          "output_type": "execute_result"
        }
      ],
      "source": [
        "predict(rf_over, nsl_val_x_scaled, nsl_val_y_one)"
      ]
    },
    {
      "cell_type": "code",
      "execution_count": null,
      "metadata": {
        "colab": {
          "base_uri": "https://localhost:8080/"
        },
        "id": "HeMa3ulDXiHt",
        "outputId": "8d96781c-a56b-4eb2-8a5f-641fae85f351"
      },
      "outputs": [
        {
          "name": "stdout",
          "output_type": "stream",
          "text": [
            "time : 0.8312640190124512\n",
            "Accuracy: 0.741%\n",
            "\n",
            "\n",
            "              precision    recall  f1-score   support\n",
            "\n",
            "      Normal       0.69      0.97      0.81      9710\n",
            "         Dos       0.96      0.75      0.84      7460\n",
            "       Probe       0.85      0.62      0.72      2421\n",
            "         U2R       0.98      0.06      0.12      2749\n",
            "         R2L       0.32      0.06      0.10       203\n",
            "\n",
            "   micro avg       0.78      0.74      0.76     22543\n",
            "   macro avg       0.76      0.49      0.52     22543\n",
            "weighted avg       0.83      0.74      0.72     22543\n",
            " samples avg       0.74      0.74      0.74     22543\n",
            "\n",
            "\n",
            "roc auc value: 0.711%\n",
            "\n",
            "\n"
          ]
        },
        {
          "name": "stderr",
          "output_type": "stream",
          "text": [
            "/usr/local/lib/python3.8/dist-packages/sklearn/metrics/_classification.py:1318: UndefinedMetricWarning: Precision and F-score are ill-defined and being set to 0.0 in samples with no predicted labels. Use `zero_division` parameter to control this behavior.\n",
            "  _warn_prf(average, modifier, msg_start, len(result))\n"
          ]
        },
        {
          "data": {
            "text/plain": [
              "array([[0., 1., 0., 0., 0.],\n",
              "       [0., 1., 0., 0., 0.],\n",
              "       [1., 0., 0., 0., 0.],\n",
              "       ...,\n",
              "       [0., 1., 0., 0., 0.],\n",
              "       [1., 0., 0., 0., 0.],\n",
              "       [0., 0., 0., 0., 0.]], dtype=float32)"
            ]
          },
          "execution_count": 34,
          "metadata": {},
          "output_type": "execute_result"
        }
      ],
      "source": [
        "predict(rf_over, nsl_test_x_scaled, nsl_test_y_one)"
      ]
    },
    {
      "cell_type": "markdown",
      "metadata": {
        "id": "q_Pvcq6Va2aL"
      },
      "source": [
        "###**KNN**"
      ]
    },
    {
      "cell_type": "code",
      "execution_count": null,
      "metadata": {
        "colab": {
          "base_uri": "https://localhost:8080/"
        },
        "id": "HFgrdlFjFjp5",
        "outputId": "1554a664-b7be-4e56-c06f-f20b3ef8f581"
      },
      "outputs": [
        {
          "name": "stdout",
          "output_type": "stream",
          "text": [
            "time : 0.11927556991577148\n"
          ]
        }
      ],
      "source": [
        "start = time.time()\n",
        "\n",
        "knn_over = KNeighborsClassifier(n_neighbors=3)\n",
        "knn_over.fit(nsl_train_x_over, nsl_train_y_over_one)\n",
        "\n",
        "print(\"time :\", time.time() - start)"
      ]
    },
    {
      "cell_type": "code",
      "execution_count": null,
      "metadata": {
        "colab": {
          "base_uri": "https://localhost:8080/"
        },
        "id": "J1AmKBORFjsY",
        "outputId": "539ecad7-e7d5-4643-c3d7-72a711a17f18"
      },
      "outputs": [
        {
          "name": "stdout",
          "output_type": "stream",
          "text": [
            "time : 131.41034841537476\n",
            "Accuracy: 0.997%\n",
            "\n",
            "\n",
            "              precision    recall  f1-score   support\n",
            "\n",
            "      Normal       1.00      1.00      1.00     13469\n",
            "         Dos       1.00      1.00      1.00      9186\n",
            "       Probe       0.99      1.00      0.99      2331\n",
            "         U2R       0.86      0.97      0.91       197\n",
            "         R2L       0.47      0.67      0.55        12\n",
            "\n",
            "   micro avg       1.00      1.00      1.00     25195\n",
            "   macro avg       0.86      0.93      0.89     25195\n",
            "weighted avg       1.00      1.00      1.00     25195\n",
            " samples avg       1.00      1.00      1.00     25195\n",
            "\n",
            "\n",
            "roc auc value: 0.962%\n",
            "\n",
            "\n"
          ]
        },
        {
          "data": {
            "text/plain": [
              "array([[1., 0., 0., 0., 0.],\n",
              "       [0., 0., 0., 1., 0.],\n",
              "       [1., 0., 0., 0., 0.],\n",
              "       ...,\n",
              "       [0., 1., 0., 0., 0.],\n",
              "       [1., 0., 0., 0., 0.],\n",
              "       [1., 0., 0., 0., 0.]], dtype=float32)"
            ]
          },
          "execution_count": 36,
          "metadata": {},
          "output_type": "execute_result"
        }
      ],
      "source": [
        "predict(knn_over, nsl_val_x_scaled, nsl_val_y_one)"
      ]
    },
    {
      "cell_type": "code",
      "execution_count": null,
      "metadata": {
        "colab": {
          "base_uri": "https://localhost:8080/"
        },
        "id": "RFau1tKhFjv8",
        "outputId": "bbd698ec-71a0-423f-b2c5-dab028e4c9c3"
      },
      "outputs": [
        {
          "name": "stdout",
          "output_type": "stream",
          "text": [
            "time : 113.18818593025208\n",
            "Accuracy: 0.771%\n",
            "\n",
            "\n",
            "              precision    recall  f1-score   support\n",
            "\n",
            "      Normal       0.68      0.96      0.80      9710\n",
            "         Dos       0.96      0.81      0.88      7460\n",
            "       Probe       0.83      0.76      0.79      2421\n",
            "         U2R       0.90      0.04      0.08      2749\n",
            "         R2L       0.16      0.16      0.16       203\n",
            "\n",
            "   micro avg       0.77      0.77      0.77     22543\n",
            "   macro avg       0.71      0.55      0.54     22543\n",
            "weighted avg       0.81      0.77      0.73     22543\n",
            " samples avg       0.77      0.77      0.77     22543\n",
            "\n",
            "\n",
            "roc auc value: 0.736%\n",
            "\n",
            "\n"
          ]
        },
        {
          "name": "stderr",
          "output_type": "stream",
          "text": [
            "/usr/local/lib/python3.8/dist-packages/sklearn/metrics/_classification.py:1318: UndefinedMetricWarning: Precision and F-score are ill-defined and being set to 0.0 in samples with no predicted labels. Use `zero_division` parameter to control this behavior.\n",
            "  _warn_prf(average, modifier, msg_start, len(result))\n"
          ]
        },
        {
          "data": {
            "text/plain": [
              "array([[0., 1., 0., 0., 0.],\n",
              "       [0., 1., 0., 0., 0.],\n",
              "       [1., 0., 0., 0., 0.],\n",
              "       ...,\n",
              "       [0., 1., 0., 0., 0.],\n",
              "       [1., 0., 0., 0., 0.],\n",
              "       [0., 0., 1., 0., 0.]], dtype=float32)"
            ]
          },
          "execution_count": 37,
          "metadata": {},
          "output_type": "execute_result"
        }
      ],
      "source": [
        "predict(knn_over, nsl_test_x_scaled, nsl_test_y_one)"
      ]
    },
    {
      "cell_type": "markdown",
      "metadata": {
        "id": "OmkJFQPQa2hX"
      },
      "source": [
        "###**XGBoost**"
      ]
    },
    {
      "cell_type": "code",
      "execution_count": null,
      "metadata": {
        "colab": {
          "base_uri": "https://localhost:8080/"
        },
        "id": "h7IQCW7xLdUS",
        "outputId": "8802ea4a-69ad-457a-c487-f22df98ff11b"
      },
      "outputs": [
        {
          "name": "stdout",
          "output_type": "stream",
          "text": [
            "time : 155.6721601486206\n"
          ]
        }
      ],
      "source": [
        "start=time.time()\n",
        "xgb_over = OneVsRestClassifier(XGBClassifier(gamma=2, max_depth=6, n_estimators=32, random_state=42))\n",
        "xgb_over.fit(nsl_train_x_over, nsl_train_y_over_one)\n",
        "print(\"time :\", time.time() - start)"
      ]
    },
    {
      "cell_type": "code",
      "execution_count": null,
      "metadata": {
        "colab": {
          "base_uri": "https://localhost:8080/"
        },
        "id": "zSXCFBdmLdWX",
        "outputId": "5fe24281-d7f3-48e9-8d1b-6152fb6baadf"
      },
      "outputs": [
        {
          "name": "stdout",
          "output_type": "stream",
          "text": [
            "time : 0.24292969703674316\n",
            "Accuracy: 0.976%\n",
            "\n",
            "\n",
            "              precision    recall  f1-score   support\n",
            "\n",
            "      Normal       1.00      0.96      0.98     13469\n",
            "         Dos       1.00      1.00      1.00      9186\n",
            "       Probe       0.99      0.99      0.99      2331\n",
            "         U2R       0.71      0.98      0.82       197\n",
            "         R2L       0.26      0.67      0.37        12\n",
            "\n",
            "   micro avg       0.99      0.98      0.99     25195\n",
            "   macro avg       0.79      0.92      0.83     25195\n",
            "weighted avg       1.00      0.98      0.99     25195\n",
            " samples avg       0.98      0.98      0.98     25195\n",
            "\n",
            "\n",
            "roc auc value: 0.959%\n",
            "\n",
            "\n"
          ]
        },
        {
          "name": "stderr",
          "output_type": "stream",
          "text": [
            "/usr/local/lib/python3.8/dist-packages/sklearn/metrics/_classification.py:1318: UndefinedMetricWarning: Precision and F-score are ill-defined and being set to 0.0 in samples with no predicted labels. Use `zero_division` parameter to control this behavior.\n",
            "  _warn_prf(average, modifier, msg_start, len(result))\n"
          ]
        },
        {
          "data": {
            "text/plain": [
              "array([[1, 0, 0, 0, 0],\n",
              "       [0, 0, 0, 1, 0],\n",
              "       [1, 0, 0, 0, 0],\n",
              "       ...,\n",
              "       [0, 1, 0, 0, 0],\n",
              "       [1, 0, 0, 0, 0],\n",
              "       [1, 0, 0, 0, 0]])"
            ]
          },
          "execution_count": 39,
          "metadata": {},
          "output_type": "execute_result"
        }
      ],
      "source": [
        "predict(xgb_over, nsl_val_x_scaled, nsl_val_y_one)"
      ]
    },
    {
      "cell_type": "code",
      "execution_count": null,
      "metadata": {
        "colab": {
          "base_uri": "https://localhost:8080/"
        },
        "id": "NclkgQg3LdYf",
        "outputId": "fc60d2b2-ed8a-4357-f374-543fcbe2242e"
      },
      "outputs": [
        {
          "name": "stdout",
          "output_type": "stream",
          "text": [
            "time : 0.22823238372802734\n",
            "Accuracy: 0.765%\n",
            "\n",
            "\n",
            "              precision    recall  f1-score   support\n",
            "\n",
            "      Normal       0.77      0.96      0.85      9710\n",
            "         Dos       0.96      0.79      0.87      7460\n",
            "       Probe       0.82      0.76      0.79      2421\n",
            "         U2R       0.82      0.22      0.34      2749\n",
            "         R2L       0.33      0.07      0.12       203\n",
            "\n",
            "   micro avg       0.83      0.78      0.80     22543\n",
            "   macro avg       0.74      0.56      0.59     22543\n",
            "weighted avg       0.84      0.78      0.78     22543\n",
            " samples avg       0.77      0.78      0.77     22543\n",
            "\n",
            "\n",
            "roc auc value: 0.753%\n",
            "\n",
            "\n"
          ]
        },
        {
          "name": "stderr",
          "output_type": "stream",
          "text": [
            "/usr/local/lib/python3.8/dist-packages/sklearn/metrics/_classification.py:1318: UndefinedMetricWarning: Precision and F-score are ill-defined and being set to 0.0 in samples with no predicted labels. Use `zero_division` parameter to control this behavior.\n",
            "  _warn_prf(average, modifier, msg_start, len(result))\n"
          ]
        },
        {
          "data": {
            "text/plain": [
              "array([[0, 1, 0, 0, 0],\n",
              "       [0, 1, 0, 0, 0],\n",
              "       [1, 0, 0, 0, 0],\n",
              "       ...,\n",
              "       [0, 1, 0, 0, 0],\n",
              "       [1, 0, 0, 0, 0],\n",
              "       [0, 0, 1, 0, 0]])"
            ]
          },
          "execution_count": 40,
          "metadata": {},
          "output_type": "execute_result"
        }
      ],
      "source": [
        "predict(xgb_over, nsl_test_x_scaled, nsl_test_y_one)"
      ]
    },
    {
      "cell_type": "markdown",
      "metadata": {
        "id": "mmV8fdjXa2pb"
      },
      "source": [
        "###**DNN**"
      ]
    },
    {
      "cell_type": "code",
      "execution_count": null,
      "metadata": {
        "colab": {
          "base_uri": "https://localhost:8080/"
        },
        "id": "I_ef-lO27TdV",
        "outputId": "42da8541-0dcd-4461-df1c-c910e6beb553"
      },
      "outputs": [
        {
          "name": "stdout",
          "output_type": "stream",
          "text": [
            "Model: \"sequential\"\n",
            "_________________________________________________________________\n",
            " Layer (type)                Output Shape              Param #   \n",
            "=================================================================\n",
            " flatten (Flatten)           (None, 59)                0         \n",
            "                                                                 \n",
            " batch_normalization (BatchN  (None, 59)               236       \n",
            " ormalization)                                                   \n",
            "                                                                 \n",
            " dense (Dense)               (None, 300)               18000     \n",
            "                                                                 \n",
            " dropout (Dropout)           (None, 300)               0         \n",
            "                                                                 \n",
            " batch_normalization_1 (Batc  (None, 300)              1200      \n",
            " hNormalization)                                                 \n",
            "                                                                 \n",
            " dense_1 (Dense)             (None, 100)               30100     \n",
            "                                                                 \n",
            " dropout_1 (Dropout)         (None, 100)               0         \n",
            "                                                                 \n",
            " batch_normalization_2 (Batc  (None, 100)              400       \n",
            " hNormalization)                                                 \n",
            "                                                                 \n",
            " dense_2 (Dense)             (None, 5)                 505       \n",
            "                                                                 \n",
            "=================================================================\n",
            "Total params: 50,441\n",
            "Trainable params: 49,523\n",
            "Non-trainable params: 918\n",
            "_________________________________________________________________\n"
          ]
        }
      ],
      "source": [
        "from keras.backend import dropout\n",
        "dnn_over = keras.models.Sequential([\n",
        "    keras.layers.Flatten(input_shape=(59,)),\n",
        "    keras.layers.BatchNormalization(),\n",
        "    keras.layers.Dense(300, activation=\"relu\"),\n",
        "    keras.layers.Dropout(rate=0.2),\n",
        "    keras.layers.BatchNormalization(),\n",
        "    keras.layers.Dense(100, activation=\"relu\"),  \n",
        "    keras.layers.Dropout(rate=0.2),\n",
        "    keras.layers.BatchNormalization(),\n",
        "    keras.layers.Dense(5, activation=\"softmax\")\n",
        "])\n",
        "dnn_over.summary()"
      ]
    },
    {
      "cell_type": "code",
      "execution_count": null,
      "metadata": {
        "id": "mb45BWN42mUz"
      },
      "outputs": [],
      "source": [
        "dnn_over.compile(loss = \"categorical_crossentropy\",\n",
        "                optimizer = \"nadam\",\n",
        "                metrics=[\"Accuracy\"]\n",
        "                )"
      ]
    },
    {
      "cell_type": "code",
      "execution_count": null,
      "metadata": {
        "colab": {
          "base_uri": "https://localhost:8080/"
        },
        "id": "T5cC8VcxzKaW",
        "outputId": "ae30b188-c09e-4aff-cd1d-ca62a87afae3"
      },
      "outputs": [
        {
          "name": "stdout",
          "output_type": "stream",
          "text": [
            "Model: \"sequential\"\n",
            "_________________________________________________________________\n",
            " Layer (type)                Output Shape              Param #   \n",
            "=================================================================\n",
            " flatten (Flatten)           (None, 59)                0         \n",
            "                                                                 \n",
            " batch_normalization (BatchN  (None, 59)               236       \n",
            " ormalization)                                                   \n",
            "                                                                 \n",
            " dense (Dense)               (None, 300)               18000     \n",
            "                                                                 \n",
            " dropout (Dropout)           (None, 300)               0         \n",
            "                                                                 \n",
            " batch_normalization_1 (Batc  (None, 300)              1200      \n",
            " hNormalization)                                                 \n",
            "                                                                 \n",
            " dense_1 (Dense)             (None, 100)               30100     \n",
            "                                                                 \n",
            " dropout_1 (Dropout)         (None, 100)               0         \n",
            "                                                                 \n",
            " batch_normalization_2 (Batc  (None, 100)              400       \n",
            " hNormalization)                                                 \n",
            "                                                                 \n",
            " dense_2 (Dense)             (None, 5)                 505       \n",
            "                                                                 \n",
            "=================================================================\n",
            "Total params: 50,441\n",
            "Trainable params: 49,523\n",
            "Non-trainable params: 918\n",
            "_________________________________________________________________\n"
          ]
        }
      ],
      "source": [
        "dnn_over.summary()"
      ]
    },
    {
      "cell_type": "code",
      "execution_count": null,
      "metadata": {
        "colab": {
          "base_uri": "https://localhost:8080/"
        },
        "id": "cQAAyWv6zZWF",
        "outputId": "70620dc7-f98f-4206-e8c0-619aad095f89"
      },
      "outputs": [
        {
          "name": "stdout",
          "output_type": "stream",
          "text": [
            "Epoch 1/30\n",
            "8418/8418 [==============================] - 40s 4ms/step - loss: 0.0769 - Accuracy: 0.9742 - val_loss: 0.4095 - val_Accuracy: 0.9721\n",
            "Epoch 2/30\n",
            "8418/8418 [==============================] - 41s 5ms/step - loss: 0.0385 - Accuracy: 0.9879 - val_loss: 0.0774 - val_Accuracy: 0.9767\n",
            "Epoch 3/30\n",
            "8418/8418 [==============================] - 42s 5ms/step - loss: 0.0323 - Accuracy: 0.9898 - val_loss: 0.4540 - val_Accuracy: 0.9846\n",
            "Epoch 4/30\n",
            "8418/8418 [==============================] - 36s 4ms/step - loss: 0.0278 - Accuracy: 0.9914 - val_loss: 0.0592 - val_Accuracy: 0.9863\n",
            "Epoch 5/30\n",
            "8418/8418 [==============================] - 40s 5ms/step - loss: 0.0260 - Accuracy: 0.9920 - val_loss: 0.2141 - val_Accuracy: 0.9872\n",
            "Epoch 6/30\n",
            "8418/8418 [==============================] - 37s 4ms/step - loss: 0.0246 - Accuracy: 0.9923 - val_loss: 0.0754 - val_Accuracy: 0.9871\n",
            "Epoch 7/30\n",
            "8418/8418 [==============================] - 35s 4ms/step - loss: 0.0235 - Accuracy: 0.9925 - val_loss: 0.1038 - val_Accuracy: 0.9864\n",
            "Epoch 8/30\n",
            "8418/8418 [==============================] - 34s 4ms/step - loss: 0.0223 - Accuracy: 0.9928 - val_loss: 0.1407 - val_Accuracy: 0.9869\n",
            "Epoch 9/30\n",
            "8418/8418 [==============================] - 35s 4ms/step - loss: 0.0216 - Accuracy: 0.9932 - val_loss: 0.0663 - val_Accuracy: 0.9907\n",
            "Epoch 10/30\n",
            "8418/8418 [==============================] - 37s 4ms/step - loss: 0.0209 - Accuracy: 0.9934 - val_loss: 0.0422 - val_Accuracy: 0.9875\n",
            "Epoch 11/30\n",
            "8418/8418 [==============================] - 40s 5ms/step - loss: 0.0200 - Accuracy: 0.9938 - val_loss: 0.4987 - val_Accuracy: 0.9906\n",
            "Epoch 12/30\n",
            "8418/8418 [==============================] - 37s 4ms/step - loss: 0.0205 - Accuracy: 0.9935 - val_loss: 0.1630 - val_Accuracy: 0.9902\n",
            "Epoch 13/30\n",
            "8418/8418 [==============================] - 40s 5ms/step - loss: 0.0198 - Accuracy: 0.9937 - val_loss: 0.0623 - val_Accuracy: 0.9874\n",
            "Epoch 14/30\n",
            "8418/8418 [==============================] - 39s 5ms/step - loss: 0.0185 - Accuracy: 0.9940 - val_loss: 0.4213 - val_Accuracy: 0.9908\n",
            "Epoch 15/30\n",
            "8418/8418 [==============================] - 43s 5ms/step - loss: 0.0187 - Accuracy: 0.9940 - val_loss: 0.0637 - val_Accuracy: 0.9867\n",
            "Epoch 16/30\n",
            "8418/8418 [==============================] - 41s 5ms/step - loss: 0.0185 - Accuracy: 0.9943 - val_loss: 0.0789 - val_Accuracy: 0.9918\n",
            "Epoch 17/30\n",
            "8418/8418 [==============================] - 37s 4ms/step - loss: 0.0184 - Accuracy: 0.9941 - val_loss: 0.3929 - val_Accuracy: 0.9898\n",
            "Epoch 18/30\n",
            "8418/8418 [==============================] - 38s 5ms/step - loss: 0.0179 - Accuracy: 0.9945 - val_loss: 0.1054 - val_Accuracy: 0.9903\n",
            "Epoch 19/30\n",
            "8418/8418 [==============================] - 35s 4ms/step - loss: 0.0177 - Accuracy: 0.9945 - val_loss: 0.2265 - val_Accuracy: 0.9908\n",
            "Epoch 20/30\n",
            "8418/8418 [==============================] - 37s 4ms/step - loss: 0.0170 - Accuracy: 0.9946 - val_loss: 0.1688 - val_Accuracy: 0.9898\n",
            "Epoch 21/30\n",
            "8418/8418 [==============================] - 42s 5ms/step - loss: 0.0175 - Accuracy: 0.9946 - val_loss: 0.1537 - val_Accuracy: 0.9911\n",
            "Epoch 22/30\n",
            "8418/8418 [==============================] - 38s 4ms/step - loss: 0.0176 - Accuracy: 0.9944 - val_loss: 0.0745 - val_Accuracy: 0.9921\n",
            "Epoch 23/30\n",
            "8418/8418 [==============================] - 36s 4ms/step - loss: 0.0163 - Accuracy: 0.9949 - val_loss: 0.1191 - val_Accuracy: 0.9919\n",
            "Epoch 24/30\n",
            "8418/8418 [==============================] - 35s 4ms/step - loss: 0.0167 - Accuracy: 0.9948 - val_loss: 0.2627 - val_Accuracy: 0.9914\n",
            "Epoch 25/30\n",
            "8418/8418 [==============================] - 37s 4ms/step - loss: 0.0157 - Accuracy: 0.9950 - val_loss: 0.0437 - val_Accuracy: 0.9907\n",
            "Epoch 26/30\n",
            "8418/8418 [==============================] - 41s 5ms/step - loss: 0.0160 - Accuracy: 0.9949 - val_loss: 0.0534 - val_Accuracy: 0.9916\n",
            "Epoch 27/30\n",
            "8418/8418 [==============================] - 45s 5ms/step - loss: 0.0166 - Accuracy: 0.9948 - val_loss: 0.1105 - val_Accuracy: 0.9921\n",
            "Epoch 28/30\n",
            "8418/8418 [==============================] - 46s 6ms/step - loss: 0.0157 - Accuracy: 0.9949 - val_loss: 0.1254 - val_Accuracy: 0.9915\n",
            "Epoch 29/30\n",
            "8418/8418 [==============================] - 51s 6ms/step - loss: 0.0155 - Accuracy: 0.9951 - val_loss: 0.0470 - val_Accuracy: 0.9905\n",
            "Epoch 30/30\n",
            "8418/8418 [==============================] - 44s 5ms/step - loss: 0.0160 - Accuracy: 0.9950 - val_loss: 0.5411 - val_Accuracy: 0.9892\n"
          ]
        }
      ],
      "source": [
        "history_over = dnn_over.fit(nsl_train_x_over, nsl_train_y_over_one, epochs=30,\n",
        "                        validation_data=(nsl_val_x_scaled, nsl_val_y_one))"
      ]
    },
    {
      "cell_type": "code",
      "execution_count": null,
      "metadata": {
        "colab": {
          "base_uri": "https://localhost:8080/"
        },
        "id": "WIHvB72WzZhQ",
        "outputId": "a14f89f1-331a-45d8-fcdc-f0f386b8f062"
      },
      "outputs": [
        {
          "name": "stdout",
          "output_type": "stream",
          "text": [
            "705/705 [==============================] - 1s 2ms/step - loss: 140.4999 - Accuracy: 0.7633\n"
          ]
        },
        {
          "data": {
            "text/plain": [
              "[140.49990844726562, 0.7632524371147156]"
            ]
          },
          "execution_count": 45,
          "metadata": {},
          "output_type": "execute_result"
        }
      ],
      "source": [
        "dnn_over.evaluate(nsl_test_x_scaled, nsl_test_y_one)"
      ]
    },
    {
      "cell_type": "code",
      "execution_count": null,
      "metadata": {
        "colab": {
          "base_uri": "https://localhost:8080/"
        },
        "id": "-DdSeSmVsxVr",
        "outputId": "e2f35f60-8121-443a-c175-34c4762934e2"
      },
      "outputs": [
        {
          "name": "stdout",
          "output_type": "stream",
          "text": [
            "788/788 [==============================] - 1s 2ms/step\n",
            "time : 2.7455461025238037\n",
            "              precision    recall  f1-score   support\n",
            "\n",
            "      Normal       0.99      0.99      0.99     13469\n",
            "         Dos       1.00      0.99      1.00      9186\n",
            "       Probe       0.98      1.00      0.99      2331\n",
            "         U2R       0.68      0.98      0.81       197\n",
            "         R2L       0.22      0.67      0.33        12\n",
            "\n",
            "   micro avg       0.99      0.99      0.99     25195\n",
            "   macro avg       0.77      0.92      0.82     25195\n",
            "weighted avg       0.99      0.99      0.99     25195\n",
            " samples avg       0.99      0.99      0.99     25195\n",
            "\n",
            "roc auc value: 0.960%\n",
            "\n",
            "\n"
          ]
        },
        {
          "data": {
            "text/plain": [
              "array([[1., 0., 0., 0., 0.],\n",
              "       [0., 0., 0., 1., 0.],\n",
              "       [1., 0., 0., 0., 0.],\n",
              "       ...,\n",
              "       [0., 1., 0., 0., 0.],\n",
              "       [1., 0., 0., 0., 0.],\n",
              "       [1., 0., 0., 0., 0.]], dtype=float32)"
            ]
          },
          "execution_count": 46,
          "metadata": {},
          "output_type": "execute_result"
        }
      ],
      "source": [
        "predict_nn(dnn_over, nsl_val_x_scaled, nsl_val_y_one)"
      ]
    },
    {
      "cell_type": "code",
      "execution_count": null,
      "metadata": {
        "colab": {
          "base_uri": "https://localhost:8080/"
        },
        "id": "M3yL0u1lRTso",
        "outputId": "d830fb3d-c32a-4ad3-aed7-f03e89083bf5"
      },
      "outputs": [
        {
          "name": "stdout",
          "output_type": "stream",
          "text": [
            "705/705 [==============================] - 1s 2ms/step\n",
            "time : 2.6156623363494873\n",
            "              precision    recall  f1-score   support\n",
            "\n",
            "      Normal       0.71      0.92      0.80      9710\n",
            "         Dos       0.96      0.82      0.89      7460\n",
            "       Probe       0.67      0.73      0.70      2421\n",
            "         U2R       0.47      0.12      0.19      2749\n",
            "         R2L       0.11      0.14      0.12       203\n",
            "\n",
            "   micro avg       0.76      0.76      0.76     22543\n",
            "   macro avg       0.58      0.55      0.54     22543\n",
            "weighted avg       0.76      0.76      0.74     22543\n",
            " samples avg       0.76      0.76      0.76     22543\n",
            "\n",
            "roc auc value: 0.736%\n",
            "\n",
            "\n"
          ]
        },
        {
          "data": {
            "text/plain": [
              "array([[0., 1., 0., 0., 0.],\n",
              "       [0., 1., 0., 0., 0.],\n",
              "       [1., 0., 0., 0., 0.],\n",
              "       ...,\n",
              "       [0., 1., 0., 0., 0.],\n",
              "       [1., 0., 0., 0., 0.],\n",
              "       [0., 0., 1., 0., 0.]], dtype=float32)"
            ]
          },
          "execution_count": 47,
          "metadata": {},
          "output_type": "execute_result"
        }
      ],
      "source": [
        "predict_nn(dnn_over, nsl_test_x_scaled, nsl_test_y_one)"
      ]
    },
    {
      "cell_type": "markdown",
      "metadata": {
        "id": "Xez-iYOBYMKL"
      },
      "source": [
        "###**CNN**"
      ]
    },
    {
      "cell_type": "code",
      "execution_count": null,
      "metadata": {
        "id": "fOLVjI8QYLLj"
      },
      "outputs": [],
      "source": [
        "cnn_over = keras.models.Sequential([\n",
        "    keras.layers.Conv1D(64, 7, activation='relu', padding='same', input_shape=[59, 1]),\n",
        "    keras.layers.MaxPooling1D(2),\n",
        "    keras.layers.Conv1D(128, 3, padding='same', activation='relu'),\n",
        "    keras.layers.Conv1D(128, 3, padding='same', activation='relu'),\n",
        "    keras.layers.MaxPooling1D(2),\n",
        "    keras.layers.Conv1D(256, 3, padding='same', activation='relu'),\n",
        "    keras.layers.Conv1D(256, 3, padding='same', activation='relu'),\n",
        "    keras.layers.MaxPooling1D(2),\n",
        "    keras.layers.Flatten(),\n",
        "    keras.layers.Dense(128, activation='relu'),\n",
        "    keras.layers.Dropout(0.5),\n",
        "    keras.layers.Dense(64, activation='relu'),\n",
        "    keras.layers.Dropout(0.5),\n",
        "    keras.layers.Dense(5, activation='softmax'),\n",
        "])"
      ]
    },
    {
      "cell_type": "code",
      "execution_count": null,
      "metadata": {
        "id": "OOLC3IsrYLOd"
      },
      "outputs": [],
      "source": [
        "cnn_over.compile(loss = \"categorical_crossentropy\",\n",
        "                  optimizer = \"nadam\",\n",
        "                  metrics=[\"Accuracy\"]\n",
        "                  )"
      ]
    },
    {
      "cell_type": "code",
      "execution_count": null,
      "metadata": {
        "colab": {
          "background_save": true,
          "base_uri": "https://localhost:8080/"
        },
        "id": "X_shTPAHYLRI",
        "outputId": "471c9e8a-cb57-48dc-c445-ac8f6145440c"
      },
      "outputs": [
        {
          "name": "stdout",
          "output_type": "stream",
          "text": [
            "Epoch 1/30\n",
            "8418/8418 [==============================] - 626s 74ms/step - loss: 0.0927 - Accuracy: 0.9724 - val_loss: 0.0528 - val_Accuracy: 0.9830\n",
            "Epoch 2/30\n",
            "8418/8418 [==============================] - 604s 72ms/step - loss: 0.0472 - Accuracy: 0.9863 - val_loss: 0.0375 - val_Accuracy: 0.9890\n",
            "Epoch 3/30\n",
            "8418/8418 [==============================] - 590s 70ms/step - loss: 0.0414 - Accuracy: 0.9880 - val_loss: 0.0452 - val_Accuracy: 0.9846\n",
            "Epoch 4/30\n",
            "8418/8418 [==============================] - 586s 70ms/step - loss: 0.0388 - Accuracy: 0.9889 - val_loss: 0.0418 - val_Accuracy: 0.9867\n",
            "Epoch 5/30\n",
            "8418/8418 [==============================] - 663s 79ms/step - loss: 0.0396 - Accuracy: 0.9898 - val_loss: 0.0327 - val_Accuracy: 0.9903\n",
            "Epoch 6/30\n",
            "8418/8418 [==============================] - 583s 69ms/step - loss: 0.0349 - Accuracy: 0.9901 - val_loss: 0.0471 - val_Accuracy: 0.9904\n",
            "Epoch 7/30\n",
            "8418/8418 [==============================] - 588s 70ms/step - loss: 0.0368 - Accuracy: 0.9897 - val_loss: 0.0348 - val_Accuracy: 0.9900\n",
            "Epoch 8/30\n",
            "8418/8418 [==============================] - 590s 70ms/step - loss: 0.0375 - Accuracy: 0.9899 - val_loss: 0.0351 - val_Accuracy: 0.9898\n",
            "Epoch 9/30\n",
            "8418/8418 [==============================] - 595s 71ms/step - loss: 0.0388 - Accuracy: 0.9903 - val_loss: 0.0470 - val_Accuracy: 0.9876\n",
            "Epoch 10/30\n",
            "8418/8418 [==============================] - 611s 73ms/step - loss: 0.0376 - Accuracy: 0.9904 - val_loss: 0.0591 - val_Accuracy: 0.9876\n",
            "Epoch 11/30\n",
            "8418/8418 [==============================] - 626s 74ms/step - loss: 0.0430 - Accuracy: 0.9902 - val_loss: 0.0372 - val_Accuracy: 0.9914\n",
            "Epoch 12/30\n",
            "8418/8418 [==============================] - 607s 72ms/step - loss: 0.0375 - Accuracy: 0.9904 - val_loss: 0.0403 - val_Accuracy: 0.9890\n",
            "Epoch 13/30\n",
            "8418/8418 [==============================] - 603s 72ms/step - loss: 0.0378 - Accuracy: 0.9901 - val_loss: 0.0469 - val_Accuracy: 0.9906\n",
            "Epoch 14/30\n",
            "8418/8418 [==============================] - 606s 72ms/step - loss: 0.0366 - Accuracy: 0.9899 - val_loss: 0.0531 - val_Accuracy: 0.9882\n",
            "Epoch 15/30\n",
            "8418/8418 [==============================] - 604s 72ms/step - loss: 0.0423 - Accuracy: 0.9896 - val_loss: 0.0358 - val_Accuracy: 0.9907\n",
            "Epoch 16/30\n",
            "8418/8418 [==============================] - 599s 71ms/step - loss: 0.0422 - Accuracy: 0.9892 - val_loss: 0.0570 - val_Accuracy: 0.9897\n",
            "Epoch 17/30\n",
            "8418/8418 [==============================] - 595s 71ms/step - loss: 0.0455 - Accuracy: 0.9896 - val_loss: 0.0452 - val_Accuracy: 0.9887\n",
            "Epoch 18/30\n",
            "8418/8418 [==============================] - 621s 74ms/step - loss: 0.0448 - Accuracy: 0.9894 - val_loss: 0.0649 - val_Accuracy: 0.9865\n",
            "Epoch 19/30\n",
            "8418/8418 [==============================] - 585s 70ms/step - loss: 0.0459 - Accuracy: 0.9891 - val_loss: 0.0617 - val_Accuracy: 0.9885\n",
            "Epoch 20/30\n",
            "8418/8418 [==============================] - 560s 66ms/step - loss: 0.0397 - Accuracy: 0.9900 - val_loss: 0.0441 - val_Accuracy: 0.9894\n",
            "Epoch 21/30\n",
            "8418/8418 [==============================] - 562s 67ms/step - loss: 0.0439 - Accuracy: 0.9891 - val_loss: 0.0483 - val_Accuracy: 0.9904\n",
            "Epoch 22/30\n",
            "8418/8418 [==============================] - 580s 69ms/step - loss: 0.0416 - Accuracy: 0.9894 - val_loss: 0.0487 - val_Accuracy: 0.9883\n",
            "Epoch 23/30\n",
            "8418/8418 [==============================] - 593s 70ms/step - loss: 0.0484 - Accuracy: 0.9889 - val_loss: 0.0753 - val_Accuracy: 0.9889\n",
            "Epoch 24/30\n",
            "8418/8418 [==============================] - 604s 72ms/step - loss: 0.0471 - Accuracy: 0.9887 - val_loss: 0.0731 - val_Accuracy: 0.9869\n",
            "Epoch 25/30\n",
            "8418/8418 [==============================] - 574s 68ms/step - loss: 0.0444 - Accuracy: 0.9889 - val_loss: 0.0518 - val_Accuracy: 0.9915\n",
            "Epoch 26/30\n",
            "8418/8418 [==============================] - 580s 69ms/step - loss: 0.0525 - Accuracy: 0.9878 - val_loss: 0.0466 - val_Accuracy: 0.9889\n",
            "Epoch 27/30\n",
            "8418/8418 [==============================] - 566s 67ms/step - loss: 0.0514 - Accuracy: 0.9885 - val_loss: 0.0395 - val_Accuracy: 0.9916\n",
            "Epoch 28/30\n",
            "1565/8418 [====>.........................] - ETA: 7:36 - loss: 0.0532 - Accuracy: 0.9872"
          ]
        }
      ],
      "source": [
        "history_cnn_over = cnn_over.fit(nsl_train_x_over, nsl_train_y_over_one, epochs=30,\n",
        "                        validation_data=(nsl_val_x_scaled, nsl_val_y_one))"
      ]
    },
    {
      "cell_type": "code",
      "execution_count": null,
      "metadata": {
        "id": "yT2aURYXYLTv"
      },
      "outputs": [],
      "source": [
        "cnn_over.evaluate(nsl_test_x_scaled, nsl_test_y_one)"
      ]
    },
    {
      "cell_type": "code",
      "execution_count": null,
      "metadata": {
        "id": "B2Og1NqKYdRr"
      },
      "outputs": [],
      "source": [
        "predict_nn(cnn_over, nsl_val_x_scaled, nsl_val_y_one)"
      ]
    },
    {
      "cell_type": "code",
      "execution_count": null,
      "metadata": {
        "id": "YR8Z6S2tRhXW"
      },
      "outputs": [],
      "source": [
        "predict_nn(cnn_over, nsl_test_x_scaled, nsl_test_y_one)"
      ]
    },
    {
      "cell_type": "markdown",
      "metadata": {
        "id": "3ZhWXPPI5Wy3"
      },
      "source": [
        "## **SMOTE + PCA30**"
      ]
    },
    {
      "cell_type": "code",
      "execution_count": null,
      "metadata": {
        "id": "4BS5EQlt0ny8"
      },
      "outputs": [],
      "source": [
        "pca30_over = PCA(n_components=30)\n",
        "pca30_over.fit(nsl_train_x_over)\n",
        "nsl_pca30_train_over = pca30_over.transform(nsl_train_x_over)\n",
        "nsl_pca30_val_over = pca30_over.transform(nsl_val_x_scaled)\n",
        "nsl_pca30_test_over = pca30_over.transform(nsl_test_x_scaled)\n",
        "\n",
        "scaler.fit(nsl_pca30_train_over)\n",
        "nsl_pca30_train_over_scaled=scaler.transform(nsl_pca30_train_over)\n",
        "nsl_pca30_val_over_scaled=scaler.transform(nsl_pca30_val_over)\n",
        "nsl_pca30_test_over_scaled=scaler.transform(nsl_pca30_test_over)"
      ]
    },
    {
      "cell_type": "markdown",
      "metadata": {
        "id": "ab71GHeTbNoa"
      },
      "source": [
        "###**SVM**"
      ]
    },
    {
      "cell_type": "code",
      "execution_count": null,
      "metadata": {
        "id": "QLqnz8pndo8r"
      },
      "outputs": [],
      "source": [
        "start = time.time()\n",
        "\n",
        "svm30_over= SVC(kernel=\"rbf\", gamma=1, C=10)\n",
        "svm30_over.fit(nsl_pca30_train_over_scaled, nsl_train_y_over_one)\n",
        "\n",
        "print(\"time :\", time.time() - start)"
      ]
    },
    {
      "cell_type": "code",
      "execution_count": null,
      "metadata": {
        "id": "23eETIbCdpAU"
      },
      "outputs": [],
      "source": [
        "predict(svm30_over, nsl_pca30_val_over_scaled, nsl_val_y_one)"
      ]
    },
    {
      "cell_type": "code",
      "execution_count": null,
      "metadata": {
        "id": "UzUuU6hWdpCB"
      },
      "outputs": [],
      "source": [
        "predict(svm30_over, nsl_pca30_test_over_scaled, nsl_test_y_one)"
      ]
    },
    {
      "cell_type": "markdown",
      "metadata": {
        "id": "5QK3w0V_bNr2"
      },
      "source": [
        "###**RF**"
      ]
    },
    {
      "cell_type": "code",
      "execution_count": null,
      "metadata": {
        "id": "r87JSaeOXkcI"
      },
      "outputs": [],
      "source": [
        "start = time.time()\n",
        "\n",
        "rf30_over = RandomForestClassifier(n_estimators=100, min_samples_split=20, min_samples_leaf=8, max_depth=12, n_jobs=-1)\n",
        "rf30_over.fit(nsl_pca30_train_over_scaled, nsl_train_y_over_one)\n",
        "\n",
        "print(\"time :\", time.time() - start)"
      ]
    },
    {
      "cell_type": "code",
      "execution_count": null,
      "metadata": {
        "id": "f9hJz2Di5OnM"
      },
      "outputs": [],
      "source": [
        "predict(rf30_over, nsl_pca30_val_over_scaled, nsl_val_y_one)"
      ]
    },
    {
      "cell_type": "code",
      "execution_count": null,
      "metadata": {
        "id": "m-1awEQoXlcb"
      },
      "outputs": [],
      "source": [
        "predict(rf30_over, nsl_pca30_test_over_scaled, nsl_test_y_one)"
      ]
    },
    {
      "cell_type": "markdown",
      "metadata": {
        "id": "Fvk9lAMlbXFD"
      },
      "source": [
        "###**KNN**"
      ]
    },
    {
      "cell_type": "code",
      "execution_count": null,
      "metadata": {
        "id": "dRHztJNQGilG"
      },
      "outputs": [],
      "source": [
        "start = time.time()\n",
        "\n",
        "knn30_over = KNeighborsClassifier(n_neighbors=3)\n",
        "knn30_over.fit(nsl_pca30_train_over_scaled, nsl_train_y_over)\n",
        "\n",
        "print(\"time :\", time.time() - start)"
      ]
    },
    {
      "cell_type": "code",
      "execution_count": null,
      "metadata": {
        "id": "BmIVHxruGin2"
      },
      "outputs": [],
      "source": [
        "predict(knn30_over, nsl_pca30_val_over_scaled, nsl_val_y_one)"
      ]
    },
    {
      "cell_type": "code",
      "execution_count": null,
      "metadata": {
        "id": "aN6xF06uGirX"
      },
      "outputs": [],
      "source": [
        "predict(knn30_over, nsl_pca30_test_over_scaled, nsl_test_y_one)"
      ]
    },
    {
      "cell_type": "markdown",
      "metadata": {
        "id": "AOyr1VxtbXH5"
      },
      "source": [
        "###**XGBoost**"
      ]
    },
    {
      "cell_type": "code",
      "execution_count": null,
      "metadata": {
        "colab": {
          "base_uri": "https://localhost:8080/"
        },
        "id": "S872O_mnMWJp",
        "outputId": "3d249b85-32cf-4f29-bb5e-f9858bb598e0"
      },
      "outputs": [
        {
          "name": "stdout",
          "output_type": "stream",
          "text": [
            "time : 142.27357649803162\n"
          ]
        }
      ],
      "source": [
        "start=time.time()\n",
        "xgb30_ov = OneVsRestClassifier(XGBClassifier(gamma=2, max_depth=6, n_estimators=32, random_state=42))\n",
        "xgb30_ov.fit(nsl_pca30_train_over_scaled, nsl_train_y_over_one)\n",
        "print(\"time :\", time.time() - start)"
      ]
    },
    {
      "cell_type": "code",
      "execution_count": null,
      "metadata": {
        "colab": {
          "base_uri": "https://localhost:8080/"
        },
        "id": "S3_eEibHMWMN",
        "outputId": "178f0c70-423e-46b5-a359-d9bb5e7f9962"
      },
      "outputs": [
        {
          "name": "stdout",
          "output_type": "stream",
          "text": [
            "time : 0.1048429012298584\n",
            "Accuracy: 97.66%\n",
            "\n",
            "\n",
            "              precision    recall  f1-score   support\n",
            "\n",
            "      Normal       1.00      0.97      0.98     13469\n",
            "         Dos       1.00      1.00      1.00      9186\n",
            "       Probe       0.98      0.98      0.98      2331\n",
            "         U2R       0.81      0.95      0.87       197\n",
            "         R2L       0.24      0.67      0.35        12\n",
            "\n",
            "   micro avg       0.99      0.98      0.99     25195\n",
            "   macro avg       0.80      0.91      0.84     25195\n",
            "weighted avg       0.99      0.98      0.99     25195\n",
            " samples avg       0.98      0.98      0.98     25195\n",
            "\n",
            "\n",
            "roc auc value: 0.96%\n",
            "\n",
            "\n"
          ]
        },
        {
          "name": "stderr",
          "output_type": "stream",
          "text": [
            "/usr/local/lib/python3.8/dist-packages/sklearn/metrics/_classification.py:1318: UndefinedMetricWarning: Precision and F-score are ill-defined and being set to 0.0 in samples with no predicted labels. Use `zero_division` parameter to control this behavior.\n",
            "  _warn_prf(average, modifier, msg_start, len(result))\n"
          ]
        },
        {
          "data": {
            "text/plain": [
              "array([[1, 0, 0, 0, 0],\n",
              "       [0, 0, 0, 1, 0],\n",
              "       [1, 0, 0, 0, 0],\n",
              "       ...,\n",
              "       [0, 1, 0, 0, 0],\n",
              "       [1, 0, 0, 0, 0],\n",
              "       [1, 0, 0, 0, 0]])"
            ]
          },
          "execution_count": 108,
          "metadata": {},
          "output_type": "execute_result"
        }
      ],
      "source": [
        "predict(xgb30_ov, nsl_pca30_val_over_scaled, nsl_val_y_one)"
      ]
    },
    {
      "cell_type": "code",
      "execution_count": null,
      "metadata": {
        "colab": {
          "base_uri": "https://localhost:8080/"
        },
        "id": "TUGMt-zNMWOr",
        "outputId": "68ce9e18-6f2c-4894-cdea-8689ddf1e329"
      },
      "outputs": [
        {
          "name": "stdout",
          "output_type": "stream",
          "text": [
            "time : 0.09536314010620117\n",
            "Accuracy: 75.13%\n",
            "\n",
            "\n",
            "              precision    recall  f1-score   support\n",
            "\n",
            "      Normal       0.77      0.95      0.85      9710\n",
            "         Dos       0.96      0.80      0.87      7460\n",
            "       Probe       0.86      0.72      0.78      2421\n",
            "         U2R       0.74      0.06      0.11      2749\n",
            "         R2L       0.16      0.11      0.13       203\n",
            "\n",
            "   micro avg       0.83      0.76      0.79     22543\n",
            "   macro avg       0.70      0.53      0.55     22543\n",
            "weighted avg       0.83      0.76      0.75     22543\n",
            " samples avg       0.76      0.76      0.76     22543\n",
            "\n",
            "\n",
            "roc auc value: 0.74%\n",
            "\n",
            "\n"
          ]
        },
        {
          "name": "stderr",
          "output_type": "stream",
          "text": [
            "/usr/local/lib/python3.8/dist-packages/sklearn/metrics/_classification.py:1318: UndefinedMetricWarning: Precision and F-score are ill-defined and being set to 0.0 in samples with no predicted labels. Use `zero_division` parameter to control this behavior.\n",
            "  _warn_prf(average, modifier, msg_start, len(result))\n"
          ]
        },
        {
          "data": {
            "text/plain": [
              "array([[0, 1, 0, 0, 0],\n",
              "       [0, 1, 0, 0, 0],\n",
              "       [1, 0, 0, 0, 0],\n",
              "       ...,\n",
              "       [0, 1, 0, 0, 0],\n",
              "       [1, 0, 0, 0, 0],\n",
              "       [0, 0, 1, 0, 0]])"
            ]
          },
          "execution_count": 109,
          "metadata": {},
          "output_type": "execute_result"
        }
      ],
      "source": [
        "predict(xgb30_ov, nsl_pca30_test_over_scaled, nsl_test_y_one)"
      ]
    },
    {
      "cell_type": "markdown",
      "metadata": {
        "id": "prbbm2jQbXKi"
      },
      "source": [
        "###**DNN**"
      ]
    },
    {
      "cell_type": "code",
      "execution_count": null,
      "metadata": {
        "colab": {
          "base_uri": "https://localhost:8080/"
        },
        "id": "2B7TZvMS5OsX",
        "outputId": "4286a807-1af7-4d2e-98cc-e37bf7d18e3d"
      },
      "outputs": [
        {
          "name": "stdout",
          "output_type": "stream",
          "text": [
            "Model: \"sequential_1\"\n",
            "_________________________________________________________________\n",
            " Layer (type)                Output Shape              Param #   \n",
            "=================================================================\n",
            " flatten_1 (Flatten)         (None, 30)                0         \n",
            "                                                                 \n",
            " batch_normalization_3 (Batc  (None, 30)               120       \n",
            " hNormalization)                                                 \n",
            "                                                                 \n",
            " dense_3 (Dense)             (None, 300)               9300      \n",
            "                                                                 \n",
            " dropout_2 (Dropout)         (None, 300)               0         \n",
            "                                                                 \n",
            " batch_normalization_4 (Batc  (None, 300)              1200      \n",
            " hNormalization)                                                 \n",
            "                                                                 \n",
            " dense_4 (Dense)             (None, 100)               30100     \n",
            "                                                                 \n",
            " dropout_3 (Dropout)         (None, 100)               0         \n",
            "                                                                 \n",
            " batch_normalization_5 (Batc  (None, 100)              400       \n",
            " hNormalization)                                                 \n",
            "                                                                 \n",
            " dense_5 (Dense)             (None, 5)                 505       \n",
            "                                                                 \n",
            "=================================================================\n",
            "Total params: 41,625\n",
            "Trainable params: 40,765\n",
            "Non-trainable params: 860\n",
            "_________________________________________________________________\n"
          ]
        }
      ],
      "source": [
        "from keras.backend import dropout\n",
        "dnn30_over = keras.models.Sequential([\n",
        "    keras.layers.Flatten(input_shape=(30,)),\n",
        "    keras.layers.BatchNormalization(),\n",
        "    keras.layers.Dense(300, activation=\"relu\"),\n",
        "    keras.layers.Dropout(rate=0.2),\n",
        "    keras.layers.BatchNormalization(),\n",
        "    keras.layers.Dense(100, activation=\"relu\"),  \n",
        "    keras.layers.Dropout(rate=0.2),\n",
        "    keras.layers.BatchNormalization(),\n",
        "    keras.layers.Dense(5, activation=\"softmax\")\n",
        "])\n",
        "dnn30_over.summary()"
      ]
    },
    {
      "cell_type": "code",
      "execution_count": null,
      "metadata": {
        "id": "pNf7wWut5Ou3"
      },
      "outputs": [],
      "source": [
        "dnn_over.compile(loss=\"sparse_categorical_crossentropy\",\n",
        "                  optimizer=tf.keras.optimizers.Adam(0.001),\n",
        "                  metrics=[\"accuracy\"])"
      ]
    },
    {
      "cell_type": "code",
      "execution_count": null,
      "metadata": {
        "colab": {
          "base_uri": "https://localhost:8080/"
        },
        "id": "Y-feqody-Ctf",
        "outputId": "026a3aec-0b7a-460a-bb3b-fb215b53a118"
      },
      "outputs": [
        {
          "name": "stdout",
          "output_type": "stream",
          "text": [
            "Epoch 1/30\n",
            "8418/8418 [==============================] - 48s 6ms/step - loss: 0.0616 - accuracy: 0.9775 - val_loss: 0.0800 - val_accuracy: 0.9752\n",
            "Epoch 2/30\n",
            "8418/8418 [==============================] - 53s 6ms/step - loss: 0.0605 - accuracy: 0.9778 - val_loss: 0.0913 - val_accuracy: 0.9698\n",
            "Epoch 3/30\n",
            "8418/8418 [==============================] - 49s 6ms/step - loss: 0.0598 - accuracy: 0.9782 - val_loss: 0.0736 - val_accuracy: 0.9771\n",
            "Epoch 4/30\n",
            "8418/8418 [==============================] - 34s 4ms/step - loss: 0.0587 - accuracy: 0.9786 - val_loss: 0.0757 - val_accuracy: 0.9753\n",
            "Epoch 5/30\n",
            "8418/8418 [==============================] - 31s 4ms/step - loss: 0.0591 - accuracy: 0.9787 - val_loss: 0.0654 - val_accuracy: 0.9791\n",
            "Epoch 6/30\n",
            "8418/8418 [==============================] - 33s 4ms/step - loss: 0.0580 - accuracy: 0.9787 - val_loss: 0.0819 - val_accuracy: 0.9734\n",
            "Epoch 7/30\n",
            "8418/8418 [==============================] - 35s 4ms/step - loss: 0.0576 - accuracy: 0.9789 - val_loss: 0.0753 - val_accuracy: 0.9767\n",
            "Epoch 8/30\n",
            "8418/8418 [==============================] - 33s 4ms/step - loss: 0.0577 - accuracy: 0.9792 - val_loss: 0.0741 - val_accuracy: 0.9740\n",
            "Epoch 9/30\n",
            "8418/8418 [==============================] - 34s 4ms/step - loss: 0.0573 - accuracy: 0.9791 - val_loss: 0.0826 - val_accuracy: 0.9727\n",
            "Epoch 10/30\n",
            "8418/8418 [==============================] - 33s 4ms/step - loss: 0.0563 - accuracy: 0.9794 - val_loss: 0.0675 - val_accuracy: 0.9790\n",
            "Epoch 11/30\n",
            "8418/8418 [==============================] - 32s 4ms/step - loss: 0.0557 - accuracy: 0.9794 - val_loss: 0.0839 - val_accuracy: 0.9746\n",
            "Epoch 12/30\n",
            "8418/8418 [==============================] - 34s 4ms/step - loss: 0.0567 - accuracy: 0.9793 - val_loss: 0.0742 - val_accuracy: 0.9769\n",
            "Epoch 13/30\n",
            "8418/8418 [==============================] - 36s 4ms/step - loss: 0.0557 - accuracy: 0.9798 - val_loss: 0.0735 - val_accuracy: 0.9766\n",
            "Epoch 14/30\n",
            "8418/8418 [==============================] - 34s 4ms/step - loss: 0.0553 - accuracy: 0.9797 - val_loss: 0.0718 - val_accuracy: 0.9800\n",
            "Epoch 15/30\n",
            "8418/8418 [==============================] - 34s 4ms/step - loss: 0.0554 - accuracy: 0.9797 - val_loss: 0.0692 - val_accuracy: 0.9769\n",
            "Epoch 16/30\n",
            "8418/8418 [==============================] - 33s 4ms/step - loss: 0.0557 - accuracy: 0.9796 - val_loss: 0.0798 - val_accuracy: 0.9725\n",
            "Epoch 17/30\n",
            "8418/8418 [==============================] - 33s 4ms/step - loss: 0.0546 - accuracy: 0.9803 - val_loss: 0.0751 - val_accuracy: 0.9764\n",
            "Epoch 18/30\n",
            "8418/8418 [==============================] - 31s 4ms/step - loss: 0.0536 - accuracy: 0.9804 - val_loss: 0.0771 - val_accuracy: 0.9769\n",
            "Epoch 19/30\n",
            "8418/8418 [==============================] - 35s 4ms/step - loss: 0.0537 - accuracy: 0.9802 - val_loss: 0.0692 - val_accuracy: 0.9794\n",
            "Epoch 20/30\n",
            "8418/8418 [==============================] - 33s 4ms/step - loss: 0.0537 - accuracy: 0.9802 - val_loss: 0.0770 - val_accuracy: 0.9775\n",
            "Epoch 21/30\n",
            "8418/8418 [==============================] - 32s 4ms/step - loss: 0.0537 - accuracy: 0.9805 - val_loss: 0.0683 - val_accuracy: 0.9771\n",
            "Epoch 22/30\n",
            "8418/8418 [==============================] - 35s 4ms/step - loss: 0.0536 - accuracy: 0.9807 - val_loss: 0.0733 - val_accuracy: 0.9780\n",
            "Epoch 23/30\n",
            "8418/8418 [==============================] - 32s 4ms/step - loss: 0.0530 - accuracy: 0.9805 - val_loss: 0.0671 - val_accuracy: 0.9769\n",
            "Epoch 24/30\n",
            "8418/8418 [==============================] - 33s 4ms/step - loss: 0.0532 - accuracy: 0.9806 - val_loss: 0.0737 - val_accuracy: 0.9777\n",
            "Epoch 25/30\n",
            "8418/8418 [==============================] - 34s 4ms/step - loss: 0.0531 - accuracy: 0.9808 - val_loss: 0.0674 - val_accuracy: 0.9811\n",
            "Epoch 26/30\n",
            "8418/8418 [==============================] - 31s 4ms/step - loss: 0.0530 - accuracy: 0.9807 - val_loss: 0.0827 - val_accuracy: 0.9744\n",
            "Epoch 27/30\n",
            "8418/8418 [==============================] - 33s 4ms/step - loss: 0.0529 - accuracy: 0.9806 - val_loss: 0.0751 - val_accuracy: 0.9781\n",
            "Epoch 28/30\n",
            "8418/8418 [==============================] - 31s 4ms/step - loss: 0.0530 - accuracy: 0.9805 - val_loss: 0.0676 - val_accuracy: 0.9788\n",
            "Epoch 29/30\n",
            "8418/8418 [==============================] - 32s 4ms/step - loss: 0.0527 - accuracy: 0.9808 - val_loss: 0.0710 - val_accuracy: 0.9775\n",
            "Epoch 30/30\n",
            "8418/8418 [==============================] - 32s 4ms/step - loss: 0.0525 - accuracy: 0.9809 - val_loss: 0.0890 - val_accuracy: 0.9748\n"
          ]
        }
      ],
      "source": [
        "history30_over = dnn30_over.fit(nsl_pca30_train_over_scaled, nsl_train_y_over_one, epochs=30, \n",
        "                        validation_data=(nsl_pca30_val_over_scaled, nsl_val_y_o_one))"
      ]
    },
    {
      "cell_type": "code",
      "execution_count": null,
      "metadata": {
        "colab": {
          "base_uri": "https://localhost:8080/",
          "height": 747
        },
        "id": "xh3RmSJs0n40",
        "outputId": "db8e2c00-b7df-4bda-b469-27216f6a61c9"
      },
      "outputs": [
        {
          "ename": "ValueError",
          "evalue": "ignored",
          "output_type": "error",
          "traceback": [
            "\u001b[0;31m---------------------------------------------------------------------------\u001b[0m",
            "\u001b[0;31mValueError\u001b[0m                                Traceback (most recent call last)",
            "\u001b[0;32m<ipython-input-49-89df4a5de636>\u001b[0m in \u001b[0;36m<module>\u001b[0;34m()\u001b[0m\n\u001b[0;32m----> 1\u001b[0;31m \u001b[0mmodel_mlp30_over\u001b[0m\u001b[0;34m.\u001b[0m\u001b[0mevaluate\u001b[0m\u001b[0;34m(\u001b[0m\u001b[0mnsl_pca30_test_over_scaled\u001b[0m\u001b[0;34m,\u001b[0m \u001b[0mnsl_test_y_o\u001b[0m\u001b[0;34m)\u001b[0m\u001b[0;34m\u001b[0m\u001b[0;34m\u001b[0m\u001b[0m\n\u001b[0m",
            "\u001b[0;32m/usr/local/lib/python3.7/dist-packages/keras/utils/traceback_utils.py\u001b[0m in \u001b[0;36merror_handler\u001b[0;34m(*args, **kwargs)\u001b[0m\n\u001b[1;32m     65\u001b[0m     \u001b[0;32mexcept\u001b[0m \u001b[0mException\u001b[0m \u001b[0;32mas\u001b[0m \u001b[0me\u001b[0m\u001b[0;34m:\u001b[0m  \u001b[0;31m# pylint: disable=broad-except\u001b[0m\u001b[0;34m\u001b[0m\u001b[0;34m\u001b[0m\u001b[0m\n\u001b[1;32m     66\u001b[0m       \u001b[0mfiltered_tb\u001b[0m \u001b[0;34m=\u001b[0m \u001b[0m_process_traceback_frames\u001b[0m\u001b[0;34m(\u001b[0m\u001b[0me\u001b[0m\u001b[0;34m.\u001b[0m\u001b[0m__traceback__\u001b[0m\u001b[0;34m)\u001b[0m\u001b[0;34m\u001b[0m\u001b[0;34m\u001b[0m\u001b[0m\n\u001b[0;32m---> 67\u001b[0;31m       \u001b[0;32mraise\u001b[0m \u001b[0me\u001b[0m\u001b[0;34m.\u001b[0m\u001b[0mwith_traceback\u001b[0m\u001b[0;34m(\u001b[0m\u001b[0mfiltered_tb\u001b[0m\u001b[0;34m)\u001b[0m \u001b[0;32mfrom\u001b[0m \u001b[0;32mNone\u001b[0m\u001b[0;34m\u001b[0m\u001b[0;34m\u001b[0m\u001b[0m\n\u001b[0m\u001b[1;32m     68\u001b[0m     \u001b[0;32mfinally\u001b[0m\u001b[0;34m:\u001b[0m\u001b[0;34m\u001b[0m\u001b[0;34m\u001b[0m\u001b[0m\n\u001b[1;32m     69\u001b[0m       \u001b[0;32mdel\u001b[0m \u001b[0mfiltered_tb\u001b[0m\u001b[0;34m\u001b[0m\u001b[0;34m\u001b[0m\u001b[0m\n",
            "\u001b[0;32m/usr/local/lib/python3.7/dist-packages/tensorflow/python/framework/func_graph.py\u001b[0m in \u001b[0;36mautograph_handler\u001b[0;34m(*args, **kwargs)\u001b[0m\n\u001b[1;32m   1145\u001b[0m           \u001b[0;32mexcept\u001b[0m \u001b[0mException\u001b[0m \u001b[0;32mas\u001b[0m \u001b[0me\u001b[0m\u001b[0;34m:\u001b[0m  \u001b[0;31m# pylint:disable=broad-except\u001b[0m\u001b[0;34m\u001b[0m\u001b[0;34m\u001b[0m\u001b[0m\n\u001b[1;32m   1146\u001b[0m             \u001b[0;32mif\u001b[0m \u001b[0mhasattr\u001b[0m\u001b[0;34m(\u001b[0m\u001b[0me\u001b[0m\u001b[0;34m,\u001b[0m \u001b[0;34m\"ag_error_metadata\"\u001b[0m\u001b[0;34m)\u001b[0m\u001b[0;34m:\u001b[0m\u001b[0;34m\u001b[0m\u001b[0;34m\u001b[0m\u001b[0m\n\u001b[0;32m-> 1147\u001b[0;31m               \u001b[0;32mraise\u001b[0m \u001b[0me\u001b[0m\u001b[0;34m.\u001b[0m\u001b[0mag_error_metadata\u001b[0m\u001b[0;34m.\u001b[0m\u001b[0mto_exception\u001b[0m\u001b[0;34m(\u001b[0m\u001b[0me\u001b[0m\u001b[0;34m)\u001b[0m\u001b[0;34m\u001b[0m\u001b[0;34m\u001b[0m\u001b[0m\n\u001b[0m\u001b[1;32m   1148\u001b[0m             \u001b[0;32melse\u001b[0m\u001b[0;34m:\u001b[0m\u001b[0;34m\u001b[0m\u001b[0;34m\u001b[0m\u001b[0m\n\u001b[1;32m   1149\u001b[0m               \u001b[0;32mraise\u001b[0m\u001b[0;34m\u001b[0m\u001b[0;34m\u001b[0m\u001b[0m\n",
            "\u001b[0;31mValueError\u001b[0m: in user code:\n\n    File \"/usr/local/lib/python3.7/dist-packages/keras/engine/training.py\", line 1525, in test_function  *\n        return step_function(self, iterator)\n    File \"/usr/local/lib/python3.7/dist-packages/keras/engine/training.py\", line 1514, in step_function  **\n        outputs = model.distribute_strategy.run(run_step, args=(data,))\n    File \"/usr/local/lib/python3.7/dist-packages/keras/engine/training.py\", line 1507, in run_step  **\n        outputs = model.test_step(data)\n    File \"/usr/local/lib/python3.7/dist-packages/keras/engine/training.py\", line 1474, in test_step\n        return self.compute_metrics(x, y, y_pred, sample_weight)\n    File \"/usr/local/lib/python3.7/dist-packages/keras/engine/training.py\", line 957, in compute_metrics\n        self.compiled_metrics.update_state(y, y_pred, sample_weight)\n    File \"/usr/local/lib/python3.7/dist-packages/keras/engine/compile_utils.py\", line 459, in update_state\n        metric_obj.update_state(y_t, y_p, sample_weight=mask)\n    File \"/usr/local/lib/python3.7/dist-packages/keras/utils/metrics_utils.py\", line 70, in decorated\n        update_op = update_state_fn(*args, **kwargs)\n    File \"/usr/local/lib/python3.7/dist-packages/keras/metrics.py\", line 178, in update_state_fn\n        return ag_update_state(*args, **kwargs)\n    File \"/usr/local/lib/python3.7/dist-packages/keras/metrics.py\", line 729, in update_state  **\n        matches = ag_fn(y_true, y_pred, **self._fn_kwargs)\n    File \"/usr/local/lib/python3.7/dist-packages/keras/metrics.py\", line 4078, in sparse_categorical_accuracy\n        y_true = tf.squeeze(y_true, [-1])\n\n    ValueError: Can not squeeze dim[1], expected a dimension of 1, got 5 for '{{node Squeeze}} = Squeeze[T=DT_FLOAT, squeeze_dims=[-1]](IteratorGetNext:1)' with input shapes: [?,5].\n"
          ]
        }
      ],
      "source": [
        "dnn30_over.evaluate(nsl_pca30_test_over_scaled, nsl_test_y_one)"
      ]
    },
    {
      "cell_type": "code",
      "execution_count": null,
      "metadata": {
        "colab": {
          "base_uri": "https://localhost:8080/"
        },
        "id": "RUdpR1yB-uQx",
        "outputId": "0452813c-81e6-4085-908c-a43e0684ea8f"
      },
      "outputs": [
        {
          "name": "stdout",
          "output_type": "stream",
          "text": [
            "time : 1.366795301437378\n",
            "              precision    recall  f1-score   support\n",
            "\n",
            "      Normal       0.71      0.92      0.80      9710\n",
            "         Dos       0.96      0.83      0.89      7460\n",
            "       Probe       0.69      0.78      0.73      2421\n",
            "         U2R       0.83      0.04      0.08      2749\n",
            "         R2L       0.05      0.17      0.08       203\n",
            "\n",
            "   micro avg       0.76      0.76      0.76     22543\n",
            "   macro avg       0.65      0.55      0.52     22543\n",
            "weighted avg       0.80      0.76      0.73     22543\n",
            " samples avg       0.76      0.76      0.76     22543\n",
            "\n"
          ]
        }
      ],
      "source": [
        "predict_nn(dnn30_over, nsl_val_x_scaled, nsl_val_y_one)"
      ]
    },
    {
      "cell_type": "code",
      "execution_count": null,
      "metadata": {
        "id": "6Jfooo1VZg-w"
      },
      "outputs": [],
      "source": [
        "predict_nn(dnn30_over, nsl_test_x_scaled, nsl_test_y_one)"
      ]
    },
    {
      "cell_type": "markdown",
      "metadata": {
        "id": "bDaqBIJHoBBB"
      },
      "source": [
        "###**CNN**"
      ]
    },
    {
      "cell_type": "code",
      "execution_count": null,
      "metadata": {
        "id": "lLJY5B9_oGC6"
      },
      "outputs": [],
      "source": [
        "cnn30_over = keras.models.Sequential([\n",
        "    keras.layers.Conv1D(64, 7, activation='relu', padding='same', input_shape=[30, 1]),\n",
        "    keras.layers.MaxPooling1D(2),\n",
        "    keras.layers.Conv1D(128, 3, padding='same', activation='relu'),\n",
        "    keras.layers.Conv1D(128, 3, padding='same', activation='relu'),\n",
        "    keras.layers.MaxPooling1D(2),\n",
        "    keras.layers.Conv1D(256, 3, padding='same', activation='relu'),\n",
        "    keras.layers.Conv1D(256, 3, padding='same', activation='relu'),\n",
        "    keras.layers.MaxPooling1D(2),\n",
        "    keras.layers.Flatten(),\n",
        "    keras.layers.Dense(128, activation='relu'),\n",
        "    keras.layers.Dropout(0.5),\n",
        "    keras.layers.Dense(64, activation='relu'),\n",
        "    keras.layers.Dropout(0.5),\n",
        "    keras.layers.Dense(5, activation='softmax'),\n",
        "])"
      ]
    },
    {
      "cell_type": "code",
      "execution_count": null,
      "metadata": {
        "id": "E1dB7oatoGFI"
      },
      "outputs": [],
      "source": [
        "cnn30_over.compile(loss = \"categorical_crossentropy\",\n",
        "                  optimizer = \"nadam\",\n",
        "                  metrics=[\"Accuracy\"]\n",
        "                  )"
      ]
    },
    {
      "cell_type": "code",
      "execution_count": null,
      "metadata": {
        "colab": {
          "base_uri": "https://localhost:8080/"
        },
        "id": "yeiwJKjxoGHC",
        "outputId": "af1013b0-8803-41c6-f9cd-7ada9c02bfed"
      },
      "outputs": [
        {
          "name": "stdout",
          "output_type": "stream",
          "text": [
            "Epoch 1/30\n",
            "8418/8418 [==============================] - 91s 9ms/step - loss: 0.0988 - Accuracy: 0.9699 - val_loss: 0.0804 - val_Accuracy: 0.9775\n",
            "Epoch 2/30\n",
            "8418/8418 [==============================] - 60s 7ms/step - loss: 0.0497 - Accuracy: 0.9848 - val_loss: 0.0640 - val_Accuracy: 0.9868\n",
            "Epoch 3/30\n",
            "8418/8418 [==============================] - 60s 7ms/step - loss: 0.0447 - Accuracy: 0.9863 - val_loss: 0.0554 - val_Accuracy: 0.9846\n",
            "Epoch 4/30\n",
            "8418/8418 [==============================] - 60s 7ms/step - loss: 0.0472 - Accuracy: 0.9869 - val_loss: 0.0583 - val_Accuracy: 0.9838\n",
            "Epoch 5/30\n",
            "8418/8418 [==============================] - 63s 7ms/step - loss: 0.0443 - Accuracy: 0.9873 - val_loss: 0.0587 - val_Accuracy: 0.9824\n",
            "Epoch 6/30\n",
            "8418/8418 [==============================] - 60s 7ms/step - loss: 0.0488 - Accuracy: 0.9869 - val_loss: 0.0640 - val_Accuracy: 0.9876\n",
            "Epoch 7/30\n",
            "8418/8418 [==============================] - 61s 7ms/step - loss: 0.0457 - Accuracy: 0.9871 - val_loss: 0.0783 - val_Accuracy: 0.9781\n",
            "Epoch 8/30\n",
            "8418/8418 [==============================] - 59s 7ms/step - loss: 0.0514 - Accuracy: 0.9864 - val_loss: 0.0499 - val_Accuracy: 0.9865\n",
            "Epoch 9/30\n",
            "8418/8418 [==============================] - 61s 7ms/step - loss: 0.0473 - Accuracy: 0.9872 - val_loss: 0.0989 - val_Accuracy: 0.9696\n",
            "Epoch 10/30\n",
            "8418/8418 [==============================] - 60s 7ms/step - loss: 0.0490 - Accuracy: 0.9868 - val_loss: 0.0972 - val_Accuracy: 0.9831\n",
            "Epoch 11/30\n",
            "8418/8418 [==============================] - 59s 7ms/step - loss: 0.0533 - Accuracy: 0.9861 - val_loss: 0.0625 - val_Accuracy: 0.9802\n",
            "Epoch 12/30\n",
            "8418/8418 [==============================] - 62s 7ms/step - loss: 0.0583 - Accuracy: 0.9848 - val_loss: 0.0717 - val_Accuracy: 0.9833\n",
            "Epoch 13/30\n",
            "8418/8418 [==============================] - 58s 7ms/step - loss: 0.0581 - Accuracy: 0.9859 - val_loss: 0.1358 - val_Accuracy: 0.9746\n",
            "Epoch 14/30\n",
            "8418/8418 [==============================] - 58s 7ms/step - loss: 0.1006 - Accuracy: 0.9828 - val_loss: 0.1227 - val_Accuracy: 0.9736\n",
            "Epoch 15/30\n",
            "8418/8418 [==============================] - 59s 7ms/step - loss: 0.0635 - Accuracy: 0.9850 - val_loss: 0.0972 - val_Accuracy: 0.9790\n",
            "Epoch 16/30\n",
            "8418/8418 [==============================] - 58s 7ms/step - loss: 0.0778 - Accuracy: 0.9831 - val_loss: 0.0855 - val_Accuracy: 0.9807\n",
            "Epoch 17/30\n",
            "8418/8418 [==============================] - 60s 7ms/step - loss: 0.0730 - Accuracy: 0.9843 - val_loss: 0.0900 - val_Accuracy: 0.9774\n",
            "Epoch 18/30\n",
            "8418/8418 [==============================] - 63s 8ms/step - loss: 0.0689 - Accuracy: 0.9837 - val_loss: 0.0957 - val_Accuracy: 0.9750\n",
            "Epoch 19/30\n",
            "8418/8418 [==============================] - 60s 7ms/step - loss: 0.0714 - Accuracy: 0.9838 - val_loss: 0.0797 - val_Accuracy: 0.9827\n",
            "Epoch 20/30\n",
            "8418/8418 [==============================] - 62s 7ms/step - loss: 0.1707 - Accuracy: 0.9833 - val_loss: 0.1424 - val_Accuracy: 0.9790\n",
            "Epoch 21/30\n",
            "8418/8418 [==============================] - 61s 7ms/step - loss: 0.0881 - Accuracy: 0.9809 - val_loss: 0.0866 - val_Accuracy: 0.9810\n",
            "Epoch 22/30\n",
            "8418/8418 [==============================] - 60s 7ms/step - loss: 0.0779 - Accuracy: 0.9827 - val_loss: 0.0978 - val_Accuracy: 0.9762\n",
            "Epoch 23/30\n",
            "8418/8418 [==============================] - 60s 7ms/step - loss: 0.0957 - Accuracy: 0.9814 - val_loss: 0.0739 - val_Accuracy: 0.9828\n",
            "Epoch 24/30\n",
            "8418/8418 [==============================] - 60s 7ms/step - loss: 0.1501 - Accuracy: 0.9755 - val_loss: 0.1011 - val_Accuracy: 0.9738\n",
            "Epoch 25/30\n",
            "8418/8418 [==============================] - 59s 7ms/step - loss: 0.0891 - Accuracy: 0.9807 - val_loss: 0.1317 - val_Accuracy: 0.9703\n",
            "Epoch 26/30\n",
            "8418/8418 [==============================] - 59s 7ms/step - loss: 0.0879 - Accuracy: 0.9821 - val_loss: 0.1497 - val_Accuracy: 0.9679\n",
            "Epoch 27/30\n",
            "8418/8418 [==============================] - 57s 7ms/step - loss: 0.0915 - Accuracy: 0.9811 - val_loss: 0.1469 - val_Accuracy: 0.9847\n",
            "Epoch 28/30\n",
            "8418/8418 [==============================] - 57s 7ms/step - loss: 0.1738 - Accuracy: 0.9761 - val_loss: 0.1573 - val_Accuracy: 0.9696\n",
            "Epoch 29/30\n",
            "8418/8418 [==============================] - 56s 7ms/step - loss: 0.1396 - Accuracy: 0.9762 - val_loss: 0.1408 - val_Accuracy: 0.9829\n",
            "Epoch 30/30\n",
            "8418/8418 [==============================] - 58s 7ms/step - loss: 0.1239 - Accuracy: 0.9771 - val_loss: 0.0969 - val_Accuracy: 0.9853\n"
          ]
        }
      ],
      "source": [
        "history_cnn_over = cnn30_over.fit(nsl_pca30_train_over_scaled, nsl_train_y_over_one, epochs=30,\n",
        "                        validation_data=(nsl_pca30_val_over_scaled, nsl_val_y_one))"
      ]
    },
    {
      "cell_type": "code",
      "execution_count": null,
      "metadata": {
        "colab": {
          "base_uri": "https://localhost:8080/"
        },
        "id": "XPFF5mnBoR0P",
        "outputId": "450c615f-b254-4f0f-991d-0dc96e7d89b9"
      },
      "outputs": [
        {
          "name": "stdout",
          "output_type": "stream",
          "text": [
            "705/705 [==============================] - 2s 3ms/step - loss: 6.3425 - Accuracy: 0.7549\n"
          ]
        },
        {
          "data": {
            "text/plain": [
              "[6.342525959014893, 0.7548684477806091]"
            ]
          },
          "execution_count": 53,
          "metadata": {},
          "output_type": "execute_result"
        }
      ],
      "source": [
        "cnn30_over.evaluate(nsl_pca30_test_over_scaled, nsl_test_y_one)"
      ]
    },
    {
      "cell_type": "code",
      "execution_count": null,
      "metadata": {
        "colab": {
          "base_uri": "https://localhost:8080/"
        },
        "id": "qKimerv9oR2I",
        "outputId": "ecc4fcdc-3388-470d-abdf-e4c730c7d60f"
      },
      "outputs": [
        {
          "name": "stdout",
          "output_type": "stream",
          "text": [
            "time : 3.4121077060699463\n",
            "              precision    recall  f1-score   support\n",
            "\n",
            "      Normal       0.69      0.96      0.80      9710\n",
            "         Dos       0.96      0.77      0.85      7460\n",
            "       Probe       0.82      0.77      0.80      2421\n",
            "         U2R       0.69      0.02      0.04      2749\n",
            "         R2L       0.06      0.18      0.08       203\n",
            "\n",
            "   micro avg       0.75      0.75      0.75     22543\n",
            "   macro avg       0.64      0.54      0.52     22543\n",
            "weighted avg       0.79      0.75      0.72     22543\n",
            " samples avg       0.75      0.75      0.75     22543\n",
            "\n"
          ]
        }
      ],
      "source": [
        "predict_nn(cnn30_over, nsl_pca30_val_scaled, nsl_val_y_one)"
      ]
    },
    {
      "cell_type": "code",
      "execution_count": null,
      "metadata": {
        "id": "8V0U0_8WZvCK"
      },
      "outputs": [],
      "source": [
        "predict_nn(cnn30_over, nsl_pca30_test_scaled, nsl_test_y_one)"
      ]
    },
    {
      "cell_type": "markdown",
      "metadata": {
        "id": "aA8x-e_h_mTF"
      },
      "source": [
        "##**SMOTE + PCA15**"
      ]
    },
    {
      "cell_type": "code",
      "execution_count": null,
      "metadata": {
        "id": "W20HaH5_-uTi"
      },
      "outputs": [],
      "source": [
        "pca15_over = PCA(n_components=15)\n",
        "pca15_over.fit(nsl_train_x_over)\n",
        "nsl_pca15_train_over = pca15_over.transform(nsl_train_x_over)\n",
        "nsl_pca15_val_over = pca15_over.transform(nsl_val_x_scaled)\n",
        "nsl_pca15_test_over = pca15_over.transform(nsl_test_x_scaled)\n",
        "\n",
        "scaler.fit(nsl_pca15_train_over)\n",
        "nsl_pca15_train_over_scaled=scaler.transform(nsl_pca15_train_over)\n",
        "nsl_pca15_val_over_scaled=scaler.transform(nsl_pca15_val_over)\n",
        "nsl_pca15_test_over_scaled=scaler.transform(nsl_pca15_test_over)"
      ]
    },
    {
      "cell_type": "markdown",
      "metadata": {
        "id": "etIeecRYbnS7"
      },
      "source": [
        "###**SVM**"
      ]
    },
    {
      "cell_type": "code",
      "execution_count": null,
      "metadata": {
        "id": "K7W-m7BPj3gT"
      },
      "outputs": [],
      "source": [
        "start = time.time()\n",
        "\n",
        "rbf15_ov_kernel_svm_clf = SVC(kernel=\"rbf\", gamma=1, C=10)\n",
        "rbf15_ov_kernel_svm_clf.fit(nsl_pca15_train_over_scaled, nsl_train_y_over)\n",
        "\n",
        "print(\"time :\", time.time() - start)"
      ]
    },
    {
      "cell_type": "code",
      "execution_count": null,
      "metadata": {
        "id": "cm4g8M294ecu"
      },
      "outputs": [],
      "source": [
        "predict(rbf15_ov_kernel_svm_clf, nsl_pca15_val_over_scaled, nsl_val_y)"
      ]
    },
    {
      "cell_type": "code",
      "execution_count": null,
      "metadata": {
        "id": "oim6i7qf4efB"
      },
      "outputs": [],
      "source": [
        "predict(rbf15_ov_kernel_svm_clf, nsl_pca15_test_over_scaled, nsl_test_y)"
      ]
    },
    {
      "cell_type": "markdown",
      "metadata": {
        "id": "lTvFtIEhbnoQ"
      },
      "source": [
        "###**RF**"
      ]
    },
    {
      "cell_type": "code",
      "execution_count": null,
      "metadata": {
        "id": "E1ecAqJjXndx"
      },
      "outputs": [],
      "source": [
        "start = time.time()\n",
        "rf15_over = RandomForestClassifier(n_estimators=100, min_samples_split=20, min_samples_leaf=8, max_depth=12, n_jobs=-1)\n",
        "rf15_over.fit(nsl_pca15_train_over_scaled, nsl_train_y_over)\n",
        "print(\"time :\", time.time() - start)"
      ]
    },
    {
      "cell_type": "code",
      "execution_count": null,
      "metadata": {
        "id": "DBdgEqv2-uWq"
      },
      "outputs": [],
      "source": [
        "predict(rf15_over, nsl_pca15_val_over_scaled, nsl_val_y)"
      ]
    },
    {
      "cell_type": "code",
      "execution_count": null,
      "metadata": {
        "id": "ha6NSGZrXoUT"
      },
      "outputs": [],
      "source": [
        "predict(rf15_over, nsl_pca15_test_over_scaled, nsl_test_y)"
      ]
    },
    {
      "cell_type": "markdown",
      "metadata": {
        "id": "LtjkMfZpbtuG"
      },
      "source": [
        "###**KNN**"
      ]
    },
    {
      "cell_type": "code",
      "execution_count": null,
      "metadata": {
        "id": "EPCBormLHCAU"
      },
      "outputs": [],
      "source": [
        "start = time.time()\n",
        "\n",
        "knn15_over = KNeighborsClassifier(n_neighbors=3)\n",
        "knn15_over.fit(nsl_pca15_train_over_scaled, nsl_train_y_over)\n",
        "\n",
        "print(\"time :\", time.time() - start)"
      ]
    },
    {
      "cell_type": "code",
      "execution_count": null,
      "metadata": {
        "id": "-M-qDQ5bHCEd"
      },
      "outputs": [],
      "source": [
        "predict(knn15_over, nsl_pca15_val_over_scaled, nsl_val_y)"
      ]
    },
    {
      "cell_type": "code",
      "execution_count": null,
      "metadata": {
        "id": "S01tBku1HCGq"
      },
      "outputs": [],
      "source": [
        "predict(knn15_over, nsl_pca15_test_over_scaled, nsl_test_y)"
      ]
    },
    {
      "cell_type": "markdown",
      "metadata": {
        "id": "FKuW_4eZbt2i"
      },
      "source": [
        "###**XGBoost**"
      ]
    },
    {
      "cell_type": "code",
      "execution_count": null,
      "metadata": {
        "colab": {
          "base_uri": "https://localhost:8080/"
        },
        "id": "82-Wh2TEM4S9",
        "outputId": "0c590c03-38b4-41c2-8b0f-f79c44bb0215"
      },
      "outputs": [
        {
          "name": "stdout",
          "output_type": "stream",
          "text": [
            "time : 79.97704863548279\n"
          ]
        }
      ],
      "source": [
        "start=time.time()\n",
        "xgb15_ov = OneVsRestClassifier(XGBClassifier(gamma=2, max_depth=6, n_estimators=32, random_state=42))\n",
        "xgb15_ov.fit(nsl_pca15_train_over_scaled, nsl_train_y_over_one)\n",
        "print(\"time :\", time.time() - start)"
      ]
    },
    {
      "cell_type": "code",
      "execution_count": null,
      "metadata": {
        "colab": {
          "base_uri": "https://localhost:8080/"
        },
        "id": "uHLvBq3SM4Vb",
        "outputId": "b65ff379-4676-4804-c90d-2720d55437e1"
      },
      "outputs": [
        {
          "name": "stdout",
          "output_type": "stream",
          "text": [
            "time : 0.08829522132873535\n",
            "Accuracy: 97.23%\n",
            "\n",
            "\n",
            "              precision    recall  f1-score   support\n",
            "\n",
            "      Normal       1.00      0.96      0.98     13469\n",
            "         Dos       1.00      1.00      1.00      9186\n",
            "       Probe       0.97      0.98      0.98      2331\n",
            "         U2R       0.78      0.95      0.85       197\n",
            "         R2L       0.21      0.67      0.32        12\n",
            "\n",
            "   micro avg       0.99      0.97      0.98     25195\n",
            "   macro avg       0.79      0.91      0.82     25195\n",
            "weighted avg       0.99      0.97      0.98     25195\n",
            " samples avg       0.97      0.97      0.97     25195\n",
            "\n",
            "\n",
            "roc auc value: 0.95%\n",
            "\n",
            "\n"
          ]
        },
        {
          "name": "stderr",
          "output_type": "stream",
          "text": [
            "/usr/local/lib/python3.8/dist-packages/sklearn/metrics/_classification.py:1318: UndefinedMetricWarning: Precision and F-score are ill-defined and being set to 0.0 in samples with no predicted labels. Use `zero_division` parameter to control this behavior.\n",
            "  _warn_prf(average, modifier, msg_start, len(result))\n"
          ]
        },
        {
          "data": {
            "text/plain": [
              "array([[1, 0, 0, 0, 0],\n",
              "       [0, 0, 0, 1, 0],\n",
              "       [0, 0, 0, 0, 0],\n",
              "       ...,\n",
              "       [0, 1, 0, 0, 0],\n",
              "       [1, 0, 0, 0, 0],\n",
              "       [1, 0, 0, 0, 0]])"
            ]
          },
          "execution_count": 112,
          "metadata": {},
          "output_type": "execute_result"
        }
      ],
      "source": [
        "predict(xgb15_ov, nsl_pca15_val_over_scaled, nsl_val_y_one)"
      ]
    },
    {
      "cell_type": "code",
      "execution_count": null,
      "metadata": {
        "colab": {
          "base_uri": "https://localhost:8080/"
        },
        "id": "tWj-10KKM4Xi",
        "outputId": "c098eea4-49e1-4c5f-e8aa-2798e6a28978"
      },
      "outputs": [
        {
          "name": "stdout",
          "output_type": "stream",
          "text": [
            "time : 0.08035564422607422\n",
            "Accuracy: 73.09%\n",
            "\n",
            "\n",
            "              precision    recall  f1-score   support\n",
            "\n",
            "      Normal       0.73      0.95      0.83      9710\n",
            "         Dos       0.96      0.78      0.86      7460\n",
            "       Probe       0.85      0.64      0.73      2421\n",
            "         U2R       0.94      0.06      0.11      2749\n",
            "         R2L       0.29      0.11      0.16       203\n",
            "\n",
            "   micro avg       0.81      0.74      0.77     22543\n",
            "   macro avg       0.75      0.51      0.54     22543\n",
            "weighted avg       0.84      0.74      0.73     22543\n",
            " samples avg       0.74      0.74      0.74     22543\n",
            "\n",
            "\n",
            "roc auc value: 0.72%\n",
            "\n",
            "\n"
          ]
        },
        {
          "name": "stderr",
          "output_type": "stream",
          "text": [
            "/usr/local/lib/python3.8/dist-packages/sklearn/metrics/_classification.py:1318: UndefinedMetricWarning: Precision and F-score are ill-defined and being set to 0.0 in samples with no predicted labels. Use `zero_division` parameter to control this behavior.\n",
            "  _warn_prf(average, modifier, msg_start, len(result))\n"
          ]
        },
        {
          "data": {
            "text/plain": [
              "array([[0, 1, 0, 0, 0],\n",
              "       [0, 1, 0, 0, 0],\n",
              "       [1, 0, 0, 0, 0],\n",
              "       ...,\n",
              "       [0, 1, 0, 0, 0],\n",
              "       [1, 0, 0, 0, 0],\n",
              "       [0, 0, 0, 0, 0]])"
            ]
          },
          "execution_count": 113,
          "metadata": {},
          "output_type": "execute_result"
        }
      ],
      "source": [
        "predict(xgb15_ov, nsl_pca15_test_over_scaled, nsl_test_y_one)"
      ]
    },
    {
      "cell_type": "markdown",
      "metadata": {
        "id": "MuEbdMiBbt9S"
      },
      "source": [
        "###**DNN**"
      ]
    },
    {
      "cell_type": "code",
      "execution_count": null,
      "metadata": {
        "colab": {
          "base_uri": "https://localhost:8080/"
        },
        "id": "wfltSzM7-ucT",
        "outputId": "023deef5-f4cc-4e3a-b562-d0648276f687"
      },
      "outputs": [
        {
          "name": "stdout",
          "output_type": "stream",
          "text": [
            "Model: \"sequential_2\"\n",
            "_________________________________________________________________\n",
            " Layer (type)                Output Shape              Param #   \n",
            "=================================================================\n",
            " flatten_2 (Flatten)         (None, 15)                0         \n",
            "                                                                 \n",
            " batch_normalization_6 (Batc  (None, 15)               60        \n",
            " hNormalization)                                                 \n",
            "                                                                 \n",
            " dense_6 (Dense)             (None, 300)               4800      \n",
            "                                                                 \n",
            " dropout_4 (Dropout)         (None, 300)               0         \n",
            "                                                                 \n",
            " batch_normalization_7 (Batc  (None, 300)              1200      \n",
            " hNormalization)                                                 \n",
            "                                                                 \n",
            " dense_7 (Dense)             (None, 100)               30100     \n",
            "                                                                 \n",
            " dropout_5 (Dropout)         (None, 100)               0         \n",
            "                                                                 \n",
            " batch_normalization_8 (Batc  (None, 100)              400       \n",
            " hNormalization)                                                 \n",
            "                                                                 \n",
            " dense_8 (Dense)             (None, 5)                 505       \n",
            "                                                                 \n",
            "=================================================================\n",
            "Total params: 37,065\n",
            "Trainable params: 36,235\n",
            "Non-trainable params: 830\n",
            "_________________________________________________________________\n"
          ]
        }
      ],
      "source": [
        "from keras.backend import dropout\n",
        "dnn15_over = keras.models.Sequential([\n",
        "    keras.layers.Flatten(input_shape=(15,)),\n",
        "    keras.layers.BatchNormalization(),\n",
        "    keras.layers.Dense(300, activation=\"relu\"),\n",
        "    keras.layers.Dropout(rate=0.2),\n",
        "    keras.layers.BatchNormalization(),\n",
        "    keras.layers.Dense(100, activation=\"relu\"),  \n",
        "    keras.layers.Dropout(rate=0.2),\n",
        "    keras.layers.BatchNormalization(),\n",
        "    keras.layers.Dense(5, activation=\"softmax\")\n",
        "])\n",
        "dnn15_over.summary()"
      ]
    },
    {
      "cell_type": "code",
      "execution_count": null,
      "metadata": {
        "id": "8lCZqzev5hyi"
      },
      "outputs": [],
      "source": [
        "dnn15_over.compile(loss=\"sparse_categorical_crossentropy\",\n",
        "                  optimizer=tf.keras.optimizers.Adam(0.001),\n",
        "                  metrics=[\"accuracy\"])"
      ]
    },
    {
      "cell_type": "code",
      "execution_count": null,
      "metadata": {
        "colab": {
          "base_uri": "https://localhost:8080/"
        },
        "id": "JUlnZhQyALf7",
        "outputId": "74e0c8d1-13c1-4657-faa0-ed6d5e1176ea"
      },
      "outputs": [
        {
          "name": "stdout",
          "output_type": "stream",
          "text": [
            "Epoch 1/30\n",
            "2346/8418 [=======>......................] - ETA: 38s - loss: 0.1077 - accuracy: 0.9603"
          ]
        }
      ],
      "source": [
        "history_dnn15_over = dnn15_over.fit(nsl_pca15_train_over_scaled, nsl_train_y_over, epochs=30,\n",
        "                                     validation_data=(nsl_pca15_val_over_scaled, nsl_val_y))"
      ]
    },
    {
      "cell_type": "code",
      "execution_count": null,
      "metadata": {
        "id": "NJ9qVRgt-ue3"
      },
      "outputs": [],
      "source": [
        "dnn15_over.evaluate(nsl_pca15_test_over_scaled, nsl_test_y)"
      ]
    },
    {
      "cell_type": "code",
      "execution_count": null,
      "metadata": {
        "id": "P1Q9QKgApDN5"
      },
      "outputs": [],
      "source": [
        "start = time.time()\n",
        "pred = dnn15_over.predict(nsl_pca15_test_over_scaled)\n",
        "print(\"time :\", time.time() - start) \n",
        "\n",
        "pred_sparse = sparse(pred)\n",
        "print(classification_report(nsl_test_y_o, pred_sparse, target_names=['Normal', 'Dos', 'Probe', 'U2R', 'R2L']))"
      ]
    },
    {
      "cell_type": "markdown",
      "metadata": {
        "id": "p8qL_wWsonFG"
      },
      "source": [
        "###**CNN**"
      ]
    },
    {
      "cell_type": "code",
      "execution_count": null,
      "metadata": {
        "id": "i5wMhJVDookO"
      },
      "outputs": [],
      "source": [
        "cnn15_over = keras.models.Sequential([\n",
        "    keras.layers.Conv1D(64, 7, activation='relu', padding='same', input_shape=[15, 1]),\n",
        "    keras.layers.MaxPooling1D(2),\n",
        "    keras.layers.Conv1D(128, 3, padding='same', activation='relu'),\n",
        "    keras.layers.Conv1D(128, 3, padding='same', activation='relu'),\n",
        "    keras.layers.MaxPooling1D(2),\n",
        "    keras.layers.Conv1D(256, 3, padding='same', activation='relu'),\n",
        "    keras.layers.Conv1D(256, 3, padding='same', activation='relu'),\n",
        "    keras.layers.MaxPooling1D(2),\n",
        "    keras.layers.Flatten(),\n",
        "    keras.layers.Dense(128, activation='relu'),\n",
        "    keras.layers.Dropout(0.5),\n",
        "    keras.layers.Dense(64, activation='relu'),\n",
        "    keras.layers.Dropout(0.5),\n",
        "    keras.layers.Dense(5, activation='softmax'),\n",
        "])"
      ]
    },
    {
      "cell_type": "code",
      "execution_count": null,
      "metadata": {
        "id": "Hb9tBAlCoome"
      },
      "outputs": [],
      "source": [
        "cnn15_over.compile(loss = \"categorical_crossentropy\",\n",
        "                  optimizer = \"nadam\",\n",
        "                  metrics=[\"Accuracy\"]\n",
        "                  )"
      ]
    },
    {
      "cell_type": "code",
      "execution_count": null,
      "metadata": {
        "colab": {
          "base_uri": "https://localhost:8080/"
        },
        "id": "ZazOt-IBoopT",
        "outputId": "aa8ff632-bf8f-4d0a-a921-b051e5b1cb25"
      },
      "outputs": [
        {
          "name": "stdout",
          "output_type": "stream",
          "text": [
            "Epoch 1/30\n",
            "8418/8418 [==============================] - 305s 36ms/step - loss: 0.1218 - Accuracy: 0.9629 - val_loss: 0.0779 - val_Accuracy: 0.9681\n",
            "Epoch 2/30\n",
            "8418/8418 [==============================] - 298s 35ms/step - loss: 0.0651 - Accuracy: 0.9795 - val_loss: 0.1096 - val_Accuracy: 0.9696\n",
            "Epoch 3/30\n",
            "8418/8418 [==============================] - 277s 33ms/step - loss: 0.0581 - Accuracy: 0.9826 - val_loss: 0.0637 - val_Accuracy: 0.9859\n",
            "Epoch 4/30\n",
            "8418/8418 [==============================] - 278s 33ms/step - loss: 0.0549 - Accuracy: 0.9835 - val_loss: 0.0643 - val_Accuracy: 0.9825\n",
            "Epoch 5/30\n",
            "8418/8418 [==============================] - 281s 33ms/step - loss: 0.0511 - Accuracy: 0.9848 - val_loss: 0.0807 - val_Accuracy: 0.9775\n",
            "Epoch 6/30\n",
            "8418/8418 [==============================] - 277s 33ms/step - loss: 0.0536 - Accuracy: 0.9849 - val_loss: 0.0763 - val_Accuracy: 0.9771\n",
            "Epoch 7/30\n",
            "8418/8418 [==============================] - 270s 32ms/step - loss: 0.0511 - Accuracy: 0.9849 - val_loss: 0.0728 - val_Accuracy: 0.9827\n",
            "Epoch 8/30\n",
            "8418/8418 [==============================] - 274s 33ms/step - loss: 0.0521 - Accuracy: 0.9861 - val_loss: 0.1326 - val_Accuracy: 0.9731\n",
            "Epoch 9/30\n",
            "8418/8418 [==============================] - 278s 33ms/step - loss: 0.0529 - Accuracy: 0.9860 - val_loss: 0.0898 - val_Accuracy: 0.9861\n",
            "Epoch 10/30\n",
            "8418/8418 [==============================] - 280s 33ms/step - loss: 0.0499 - Accuracy: 0.9857 - val_loss: 0.1052 - val_Accuracy: 0.9785\n",
            "Epoch 11/30\n",
            "8418/8418 [==============================] - 278s 33ms/step - loss: 0.0634 - Accuracy: 0.9852 - val_loss: 0.0621 - val_Accuracy: 0.9850\n",
            "Epoch 12/30\n",
            "8418/8418 [==============================] - 277s 33ms/step - loss: 0.0522 - Accuracy: 0.9847 - val_loss: 0.0573 - val_Accuracy: 0.9818\n",
            "Epoch 13/30\n",
            "8418/8418 [==============================] - 272s 32ms/step - loss: 0.0607 - Accuracy: 0.9846 - val_loss: 0.0604 - val_Accuracy: 0.9838\n",
            "Epoch 14/30\n",
            "8418/8418 [==============================] - 275s 33ms/step - loss: 0.0540 - Accuracy: 0.9853 - val_loss: 0.1071 - val_Accuracy: 0.9722\n",
            "Epoch 15/30\n",
            "8418/8418 [==============================] - 277s 33ms/step - loss: 0.0575 - Accuracy: 0.9839 - val_loss: 0.0808 - val_Accuracy: 0.9779\n",
            "Epoch 16/30\n",
            "8418/8418 [==============================] - 275s 33ms/step - loss: 0.0641 - Accuracy: 0.9846 - val_loss: 0.1016 - val_Accuracy: 0.9744\n",
            "Epoch 17/30\n",
            "8418/8418 [==============================] - 275s 33ms/step - loss: 0.0599 - Accuracy: 0.9846 - val_loss: 0.0762 - val_Accuracy: 0.9738\n",
            "Epoch 18/30\n",
            "8418/8418 [==============================] - 283s 34ms/step - loss: 0.0653 - Accuracy: 0.9830 - val_loss: 0.0694 - val_Accuracy: 0.9788\n",
            "Epoch 19/30\n",
            "8418/8418 [==============================] - 273s 32ms/step - loss: 0.0736 - Accuracy: 0.9821 - val_loss: 0.0908 - val_Accuracy: 0.9811\n",
            "Epoch 20/30\n",
            "8418/8418 [==============================] - 272s 32ms/step - loss: 0.4190 - Accuracy: 0.9831 - val_loss: 0.1223 - val_Accuracy: 0.9596\n",
            "Epoch 21/30\n",
            "8418/8418 [==============================] - 278s 33ms/step - loss: 0.0680 - Accuracy: 0.9829 - val_loss: 0.0813 - val_Accuracy: 0.9809\n",
            "Epoch 22/30\n",
            "8418/8418 [==============================] - 272s 32ms/step - loss: 0.0822 - Accuracy: 0.9807 - val_loss: 0.1624 - val_Accuracy: 0.9693\n",
            "Epoch 23/30\n",
            "8418/8418 [==============================] - 273s 32ms/step - loss: 0.0840 - Accuracy: 0.9798 - val_loss: 0.0948 - val_Accuracy: 0.9746\n",
            "Epoch 24/30\n",
            "8418/8418 [==============================] - 270s 32ms/step - loss: 0.0767 - Accuracy: 0.9806 - val_loss: 0.0697 - val_Accuracy: 0.9819\n",
            "Epoch 25/30\n",
            "8418/8418 [==============================] - 270s 32ms/step - loss: 0.1071 - Accuracy: 0.9795 - val_loss: 0.0802 - val_Accuracy: 0.9821\n",
            "Epoch 26/30\n",
            "8418/8418 [==============================] - 280s 33ms/step - loss: 0.1077 - Accuracy: 0.9732 - val_loss: 0.0927 - val_Accuracy: 0.9717\n",
            "Epoch 27/30\n",
            "8418/8418 [==============================] - 462s 55ms/step - loss: 0.0955 - Accuracy: 0.9798 - val_loss: 0.1187 - val_Accuracy: 0.9732\n",
            "Epoch 28/30\n",
            "8418/8418 [==============================] - 607s 72ms/step - loss: 0.0934 - Accuracy: 0.9802 - val_loss: 0.0893 - val_Accuracy: 0.9787\n",
            "Epoch 29/30\n",
            "8418/8418 [==============================] - 559s 66ms/step - loss: 0.0808 - Accuracy: 0.9804 - val_loss: 0.0715 - val_Accuracy: 0.9820\n",
            "Epoch 30/30\n",
            "8418/8418 [==============================] - 538s 64ms/step - loss: 0.0874 - Accuracy: 0.9793 - val_loss: 0.0833 - val_Accuracy: 0.9808\n"
          ]
        }
      ],
      "source": [
        "history_cnn15_over = cnn15_over.fit(nsl_pca15_train_over_scaled, nsl_train_y_over_o, epochs=30,\n",
        "                        validation_data=(nsl_pca15_val_over_scaled, nsl_val_y_o))"
      ]
    },
    {
      "cell_type": "code",
      "execution_count": null,
      "metadata": {
        "id": "Q2LXHpZZoor1"
      },
      "outputs": [],
      "source": [
        "cnn15_over.evaluate(nsl_pca15_test_over_scaled, nsl_test_y_o)"
      ]
    },
    {
      "cell_type": "code",
      "execution_count": null,
      "metadata": {
        "id": "XGdotOxAoou7"
      },
      "outputs": [],
      "source": [
        "start=time.time()\n",
        "pred = cnn15_over.predict(nsl_pca15_test_over_scaled)\n",
        "print(\"time :\", time.time() - start) \n",
        "\n",
        "pred_sparse = sparse(pred)\n",
        "print(classification_report(nsl_test_y_o, pred_sparse, target_names=['Normal', 'Dos', 'Probe', 'U2R', 'R2L']))"
      ]
    },
    {
      "cell_type": "markdown",
      "metadata": {
        "id": "4AKGxbzWAZ99"
      },
      "source": [
        "##**SMOTE + PCA7**"
      ]
    },
    {
      "cell_type": "code",
      "execution_count": null,
      "metadata": {
        "id": "GXQHnG4IAOp8"
      },
      "outputs": [],
      "source": [
        "pca7_over = PCA(n_components=7)\n",
        "pca7_over.fit(nsl_train_x_over)\n",
        "nsl_pca7_train_over = pca7_over.transform(nsl_train_x_over)\n",
        "nsl_pca7_val_over = pca7_over.transform(nsl_val_x_scaled)\n",
        "nsl_pca7_test_over = pca7_over.transform(nsl_test_x_scaled)\n",
        "\n",
        "scaler.fit(nsl_pca7_train_over)\n",
        "nsl_pca7_train_over_scaled=scaler.transform(nsl_pca7_train_over)\n",
        "nsl_pca7_val_over_scaled=scaler.transform(nsl_pca7_val_over)\n",
        "nsl_pca7_test_over_scaled=scaler.transform(nsl_pca7_test_over)"
      ]
    },
    {
      "cell_type": "markdown",
      "metadata": {
        "id": "WynbgFLZb2L9"
      },
      "source": [
        "###**SVM**"
      ]
    },
    {
      "cell_type": "code",
      "execution_count": null,
      "metadata": {
        "id": "64BWbFR9kAli"
      },
      "outputs": [],
      "source": [
        "start = time.time()\n",
        "\n",
        "rbf7_ov_kernel_svm_clf = SVC(kernel=\"rbf\", gamma=1, C=10)\n",
        "rbf7_ov_kernel_svm_clf.fit(nsl_pca7_train_over_scaled, nsl_train_y_over)\n",
        "\n",
        "print(\"time :\", time.time() - start)"
      ]
    },
    {
      "cell_type": "code",
      "execution_count": null,
      "metadata": {
        "id": "xVilmiGlkAoB"
      },
      "outputs": [],
      "source": [
        "predict(rbf7_ov_kernel_svm_clf, nsl_pca7_val_over_scaled, nsl_val_y)"
      ]
    },
    {
      "cell_type": "code",
      "execution_count": null,
      "metadata": {
        "id": "nHmt7J1ckAqb"
      },
      "outputs": [],
      "source": [
        "predict(rbf7_ov_kernel_svm_clf, nsl_pca7_test_over_scaled, nsl_test_y)"
      ]
    },
    {
      "cell_type": "markdown",
      "metadata": {
        "id": "HZoljvG1b2OJ"
      },
      "source": [
        "###**RF**"
      ]
    },
    {
      "cell_type": "code",
      "execution_count": null,
      "metadata": {
        "id": "xZJS_bhIXrNO"
      },
      "outputs": [],
      "source": [
        "start = time.time()\n",
        "rf7_over = RandomForestClassifier(n_estimators=100, min_samples_split=20, min_samples_leaf=8, max_depth=12, n_jobs=-1)\n",
        "rf7_over.fit(nsl_pca7_train_over_scaled, nsl_train_y_over)\n",
        "print(\"time :\", time.time() - start)"
      ]
    },
    {
      "cell_type": "code",
      "execution_count": null,
      "metadata": {
        "id": "W2pk9tRYAOsf"
      },
      "outputs": [],
      "source": [
        "predict(rf7_over, nsl_pca7_val_over_scaled, nsl_val_y)"
      ]
    },
    {
      "cell_type": "code",
      "execution_count": null,
      "metadata": {
        "id": "svQiwH1BXsF4"
      },
      "outputs": [],
      "source": [
        "predict(rf7_over, nsl_pca7_test_over_scaled, nsl_test_y)"
      ]
    },
    {
      "cell_type": "markdown",
      "metadata": {
        "id": "m_q0QBcnb7lz"
      },
      "source": [
        "###**KNN**"
      ]
    },
    {
      "cell_type": "code",
      "execution_count": null,
      "metadata": {
        "id": "iKLmioYwHcAc"
      },
      "outputs": [],
      "source": [
        "start = time.time()\n",
        "\n",
        "knn7_over = KNeighborsClassifier(n_neighbors=3)\n",
        "knn7_over.fit(nsl_pca7_train_over_scaled, nsl_train_y_over)\n",
        "\n",
        "print(\"time :\", time.time() - start)"
      ]
    },
    {
      "cell_type": "code",
      "execution_count": null,
      "metadata": {
        "id": "t2oNWvYaHcC6"
      },
      "outputs": [],
      "source": [
        "predict(knn7_over, nsl_pca7_val_over_scaled, nsl_val_y)"
      ]
    },
    {
      "cell_type": "code",
      "execution_count": null,
      "metadata": {
        "id": "50kSwjD3HcFm"
      },
      "outputs": [],
      "source": [
        "predict(knn7_over, nsl_pca7_test_over_scaled, nsl_test_y)"
      ]
    },
    {
      "cell_type": "markdown",
      "metadata": {
        "id": "C7dP-eWsb7os"
      },
      "source": [
        "###**XGBoost**"
      ]
    },
    {
      "cell_type": "code",
      "execution_count": null,
      "metadata": {
        "colab": {
          "base_uri": "https://localhost:8080/"
        },
        "id": "OI6ZOY7xNIPJ",
        "outputId": "26457b56-6292-42f8-aa53-3a6d1a89a6d0"
      },
      "outputs": [
        {
          "name": "stdout",
          "output_type": "stream",
          "text": [
            "time : 43.101611375808716\n"
          ]
        }
      ],
      "source": [
        "start=time.time()\n",
        "xgb7_ov = OneVsRestClassifier(XGBClassifier(gamma=2, max_depth=6, n_estimators=32, random_state=42))\n",
        "xgb7_ov.fit(nsl_pca7_train_over_scaled, nsl_train_y_over_one)\n",
        "print(\"time :\", time.time() - start)"
      ]
    },
    {
      "cell_type": "code",
      "execution_count": null,
      "metadata": {
        "colab": {
          "base_uri": "https://localhost:8080/"
        },
        "id": "xLQTbUErNIRo",
        "outputId": "4e0ae626-25b3-4f2e-cc33-635f7d81fd50"
      },
      "outputs": [
        {
          "name": "stdout",
          "output_type": "stream",
          "text": [
            "time : 0.07524967193603516\n",
            "Accuracy: 95.06%\n",
            "\n",
            "\n",
            "              precision    recall  f1-score   support\n",
            "\n",
            "      Normal       0.99      0.94      0.97     13469\n",
            "         Dos       0.99      0.97      0.98      9186\n",
            "       Probe       0.92      0.97      0.95      2331\n",
            "         U2R       0.65      0.93      0.77       197\n",
            "         R2L       0.10      0.75      0.17        12\n",
            "\n",
            "   micro avg       0.98      0.96      0.97     25195\n",
            "   macro avg       0.73      0.91      0.77     25195\n",
            "weighted avg       0.98      0.96      0.97     25195\n",
            " samples avg       0.95      0.96      0.95     25195\n",
            "\n",
            "\n",
            "roc auc value: 0.95%\n",
            "\n",
            "\n"
          ]
        },
        {
          "name": "stderr",
          "output_type": "stream",
          "text": [
            "/usr/local/lib/python3.8/dist-packages/sklearn/metrics/_classification.py:1318: UndefinedMetricWarning: Precision and F-score are ill-defined and being set to 0.0 in samples with no predicted labels. Use `zero_division` parameter to control this behavior.\n",
            "  _warn_prf(average, modifier, msg_start, len(result))\n"
          ]
        },
        {
          "data": {
            "text/plain": [
              "array([[1, 0, 0, 0, 0],\n",
              "       [0, 0, 0, 1, 0],\n",
              "       [1, 0, 0, 0, 0],\n",
              "       ...,\n",
              "       [0, 1, 0, 0, 0],\n",
              "       [1, 0, 0, 0, 0],\n",
              "       [1, 0, 0, 0, 0]])"
            ]
          },
          "execution_count": 116,
          "metadata": {},
          "output_type": "execute_result"
        }
      ],
      "source": [
        "predict(xgb7_ov, nsl_pca7_val_over_scaled, nsl_val_y_one)"
      ]
    },
    {
      "cell_type": "code",
      "execution_count": null,
      "metadata": {
        "colab": {
          "base_uri": "https://localhost:8080/"
        },
        "id": "I1pBYJo2NITu",
        "outputId": "daa08199-bae6-4464-dad4-73014d66eaab"
      },
      "outputs": [
        {
          "name": "stdout",
          "output_type": "stream",
          "text": [
            "time : 0.07024240493774414\n",
            "Accuracy: 72.28%\n",
            "\n",
            "\n",
            "              precision    recall  f1-score   support\n",
            "\n",
            "      Normal       0.78      0.91      0.84      9710\n",
            "         Dos       0.94      0.75      0.83      7460\n",
            "       Probe       0.85      0.72      0.78      2421\n",
            "         U2R       0.96      0.24      0.39      2749\n",
            "         R2L       0.12      0.17      0.14       203\n",
            "\n",
            "   micro avg       0.83      0.75      0.79     22543\n",
            "   macro avg       0.73      0.56      0.59     22543\n",
            "weighted avg       0.85      0.75      0.77     22543\n",
            " samples avg       0.73      0.75      0.74     22543\n",
            "\n",
            "\n",
            "roc auc value: 0.75%\n",
            "\n",
            "\n"
          ]
        },
        {
          "name": "stderr",
          "output_type": "stream",
          "text": [
            "/usr/local/lib/python3.8/dist-packages/sklearn/metrics/_classification.py:1318: UndefinedMetricWarning: Precision and F-score are ill-defined and being set to 0.0 in samples with no predicted labels. Use `zero_division` parameter to control this behavior.\n",
            "  _warn_prf(average, modifier, msg_start, len(result))\n"
          ]
        },
        {
          "data": {
            "text/plain": [
              "array([[0, 1, 0, 0, 0],\n",
              "       [0, 1, 0, 0, 0],\n",
              "       [1, 0, 0, 0, 0],\n",
              "       ...,\n",
              "       [0, 1, 0, 0, 0],\n",
              "       [1, 0, 0, 0, 0],\n",
              "       [0, 0, 1, 0, 0]])"
            ]
          },
          "execution_count": 117,
          "metadata": {},
          "output_type": "execute_result"
        }
      ],
      "source": [
        "predict(xgb7_ov, nsl_pca7_test_over_scaled, nsl_test_y_one)"
      ]
    },
    {
      "cell_type": "markdown",
      "metadata": {
        "id": "EcI3RpePb7rb"
      },
      "source": [
        "###**DNN**"
      ]
    },
    {
      "cell_type": "code",
      "execution_count": null,
      "metadata": {
        "id": "tw7R0VqDAOvT"
      },
      "outputs": [],
      "source": [
        "from keras.backend import dropout\n",
        "dnn7_over = keras.models.Sequential([\n",
        "    keras.layers.Flatten(input_shape=(7,)),\n",
        "    keras.layers.BatchNormalization(),\n",
        "    keras.layers.Dense(300, activation=\"relu\"),\n",
        "    keras.layers.Dropout(rate=0.2),\n",
        "    keras.layers.BatchNormalization(),\n",
        "    keras.layers.Dense(100, activation=\"relu\"),  \n",
        "    keras.layers.Dropout(rate=0.2),\n",
        "    keras.layers.BatchNormalization(),\n",
        "    keras.layers.Dense(5, activation=\"softmax\")\n",
        "])\n",
        "dnn7_over.summary()"
      ]
    },
    {
      "cell_type": "code",
      "execution_count": null,
      "metadata": {
        "id": "Dck8y6OkA3Ip"
      },
      "outputs": [],
      "source": [
        "history_dnn7_over = dnn7_over.fit(nsl_pca7_train_over_scaled, nsl_train_y_over, epochs=50,\n",
        "                        validation_data=(nsl_pca7_val_over_scaled, nsl_val_y_o))"
      ]
    },
    {
      "cell_type": "code",
      "execution_count": null,
      "metadata": {
        "id": "gLqldh_AA3L-"
      },
      "outputs": [],
      "source": [
        "dnn7_over.evaluate(nsl_pca7_test_over_scaled, nsl_test_y_o)"
      ]
    },
    {
      "cell_type": "code",
      "execution_count": null,
      "metadata": {
        "id": "ss11_4TypVDK"
      },
      "outputs": [],
      "source": [
        "pred = dnn7_over.predict(nsl_pca7_test_over_scaled)\n",
        "pred_sparse = sparse(pred)\n",
        "print(classification_report(nsl_test_y_o, pred_sparse, target_names=['Normal', 'Dos', 'Probe', 'U2R', 'R2L']))"
      ]
    },
    {
      "cell_type": "markdown",
      "metadata": {
        "id": "lGiA6wCrpnOB"
      },
      "source": [
        "###**CNN**"
      ]
    },
    {
      "cell_type": "code",
      "execution_count": null,
      "metadata": {
        "id": "4CJbq2ZSpp57"
      },
      "outputs": [],
      "source": [
        "cnn7_over = keras.models.Sequential([\n",
        "    keras.layers.Conv1D(64, 7, activation='relu', padding='same', input_shape=[7, 1]),\n",
        "    keras.layers.MaxPooling1D(2),\n",
        "    keras.layers.Conv1D(128, 3, padding='same', activation='relu'),\n",
        "    keras.layers.Conv1D(128, 3, padding='same', activation='relu'),\n",
        "    keras.layers.MaxPooling1D(2),\n",
        "    keras.layers.Conv1D(256, 3, padding='same', activation='relu'),\n",
        "    keras.layers.Conv1D(256, 3, padding='same', activation='relu'),\n",
        "    keras.layers.MaxPooling1D(2),\n",
        "    keras.layers.Flatten(),\n",
        "    keras.layers.Dense(128, activation='relu'),\n",
        "    keras.layers.Dropout(0.5),\n",
        "    keras.layers.Dense(64, activation='relu'),\n",
        "    keras.layers.Dropout(0.5),\n",
        "    keras.layers.Dense(5, activation='softmax'),\n",
        "])"
      ]
    },
    {
      "cell_type": "code",
      "execution_count": null,
      "metadata": {
        "id": "JBHExBYYpp8P"
      },
      "outputs": [],
      "source": [
        "cnn7_over.compile(loss = \"categorical_crossentropy\",\n",
        "                  optimizer = \"nadam\",\n",
        "                  metrics=[\"Accuracy\"]\n",
        "                  )"
      ]
    },
    {
      "cell_type": "code",
      "execution_count": null,
      "metadata": {
        "id": "RK6JElkupp-9"
      },
      "outputs": [],
      "source": [
        "history_cnn7_over = cnn7_over.fit(nsl_pca7_train_over, nsl_pca7_train_y_over_o, epochs=30,\n",
        "                        validation_data=(nsl_pca7_val_x_scaled, nsl_pca7_val_y_o))"
      ]
    },
    {
      "cell_type": "code",
      "execution_count": null,
      "metadata": {
        "id": "b-h0ugNSpqFB"
      },
      "outputs": [],
      "source": [
        "cnn7_over.evaluate(nsl_pca7_test_x_scaled, nsl_pca7_test_y_o)"
      ]
    },
    {
      "cell_type": "code",
      "execution_count": null,
      "metadata": {
        "id": "4LudoD1_pqH4"
      },
      "outputs": [],
      "source": [
        "pred = cnn7_over.predict(nsl_pca7_test_x_scaled)\n",
        "pred_sparse = sparse(pred)\n",
        "print(classification_report(nsl_pca7_test_y_o, pred_sparse, target_names=['Normal', 'Dos', 'Probe', 'U2R', 'R2L']))"
      ]
    },
    {
      "cell_type": "markdown",
      "metadata": {
        "id": "cXsTfqPvBDon"
      },
      "source": [
        "##**SMOTE + PCA2**"
      ]
    },
    {
      "cell_type": "code",
      "execution_count": null,
      "metadata": {
        "id": "SZ7lSpqVBUNA"
      },
      "outputs": [],
      "source": [
        "pca2_over = PCA(n_components=2)\n",
        "pca2_over.fit(nsl_train_x_over)\n",
        "nsl_pca2_train_over = pca2_over.transform(nsl_train_x_over)\n",
        "nsl_pca2_val_over = pca2_over.transform(nsl_val_x_scaled)\n",
        "nsl_pca2_test_over = pca2_over.transform(nsl_test_x_scaled)\n",
        "\n",
        "scaler.fit(nsl_pca2_train_over)\n",
        "nsl_pca2_train_over_scaled=scaler.transform(nsl_pca2_train_over)\n",
        "nsl_pca2_val_over_scaled=scaler.transform(nsl_pca2_val_over)\n",
        "nsl_pca2_test_over_scaled=scaler.transform(nsl_pca2_test_over)"
      ]
    },
    {
      "cell_type": "markdown",
      "metadata": {
        "id": "05L5_8DBcEaY"
      },
      "source": [
        "###**SVM**"
      ]
    },
    {
      "cell_type": "code",
      "execution_count": null,
      "metadata": {
        "id": "8n69bZZlkJ9d"
      },
      "outputs": [],
      "source": [
        "start = time.time()\n",
        "\n",
        "rbf2_ov_kernel_svm_clf = SVC(kernel=\"rbf\", gamma=1, C=10)\n",
        "rbf2_ov_kernel_svm_clf.fit(nsl_pca2_train_over_scaled, nsl_train_y_over)\n",
        "\n",
        "print(\"time :\", time.time() - start)"
      ]
    },
    {
      "cell_type": "code",
      "execution_count": null,
      "metadata": {
        "id": "fe7m9J0ckJ_w"
      },
      "outputs": [],
      "source": [
        "predict(rbf2_ov_kernel_svm_clf, nsl_pca2_val_over_scaled, nsl_val_y)"
      ]
    },
    {
      "cell_type": "code",
      "execution_count": null,
      "metadata": {
        "id": "KHQJhDd6kKCP"
      },
      "outputs": [],
      "source": [
        "predict(rbf2_ov_kernel_svm_clf, nsl_pca2_test_over_scaled, nsl_test_y)"
      ]
    },
    {
      "cell_type": "markdown",
      "metadata": {
        "id": "vtOim1FEcEcv"
      },
      "source": [
        "###**RF**"
      ]
    },
    {
      "cell_type": "code",
      "execution_count": null,
      "metadata": {
        "id": "f0T_pPoYXuwz"
      },
      "outputs": [],
      "source": [
        "start = time.time()\n",
        "rf2_over = RandomForestClassifier(n_estimators=100, min_samples_split=20, min_samples_leaf=8, max_depth=12, n_jobs=-1)\n",
        "rf2_over.fit(nsl_pca2_train_over_scaled, nsl_train_y_over)\n",
        "print(\"time :\", time.time() - start)"
      ]
    },
    {
      "cell_type": "code",
      "execution_count": null,
      "metadata": {
        "id": "aTTZbcA8BUPp"
      },
      "outputs": [],
      "source": [
        "predict(rf2_over, nsl_pca2_val_over_scaled, nsl_val_y)"
      ]
    },
    {
      "cell_type": "code",
      "execution_count": null,
      "metadata": {
        "id": "vLY5nnNYXv_T"
      },
      "outputs": [],
      "source": [
        "predict(rf2_over, nsl_pca2_test_over_scaled, nsl_test_y)"
      ]
    },
    {
      "cell_type": "markdown",
      "metadata": {
        "id": "fIf1Y8TzcIsl"
      },
      "source": [
        "###**KNN**"
      ]
    },
    {
      "cell_type": "code",
      "execution_count": null,
      "metadata": {
        "id": "jhmcGT0RHvYz"
      },
      "outputs": [],
      "source": [
        "start = time.time()\n",
        "\n",
        "knn2_over = KNeighborsClassifier(n_neighbors=3)\n",
        "knn2_over.fit(nsl_pca2_train_over_scaled, nsl_train_y_over)\n",
        "\n",
        "print(\"time :\", time.time() - start)"
      ]
    },
    {
      "cell_type": "code",
      "execution_count": null,
      "metadata": {
        "id": "2Zsx2iVzHvbA"
      },
      "outputs": [],
      "source": [
        "predict(knn2_over, nsl_pca2_val_over_scaled, nsl_val_y)"
      ]
    },
    {
      "cell_type": "code",
      "execution_count": null,
      "metadata": {
        "id": "2EGP0ovAHvc8"
      },
      "outputs": [],
      "source": [
        "predict(knn2_over, nsl_pca2_test_over_scaled, nsl_test_y)"
      ]
    },
    {
      "cell_type": "markdown",
      "metadata": {
        "id": "q5N7wtB7cIu5"
      },
      "source": [
        "###**XGBoost**"
      ]
    },
    {
      "cell_type": "code",
      "execution_count": null,
      "metadata": {
        "colab": {
          "base_uri": "https://localhost:8080/"
        },
        "id": "CddD4aI4NYFK",
        "outputId": "42ff3b47-90ea-4d13-f4d5-4e758b66546d"
      },
      "outputs": [
        {
          "name": "stdout",
          "output_type": "stream",
          "text": [
            "time : 18.982581615447998\n"
          ]
        }
      ],
      "source": [
        "start=time.time()\n",
        "xgb2_ov = OneVsRestClassifier(XGBClassifier(gamma=2, max_depth=6, n_estimators=32, random_state=42))\n",
        "xgb2_ov.fit(nsl_pca2_train_over_scaled, nsl_train_y_over_one)\n",
        "print(\"time :\", time.time() - start)"
      ]
    },
    {
      "cell_type": "code",
      "execution_count": null,
      "metadata": {
        "colab": {
          "base_uri": "https://localhost:8080/"
        },
        "id": "Sd-DnNmJNYHp",
        "outputId": "8e893b3a-5203-421b-9255-0d26b4644f3e"
      },
      "outputs": [
        {
          "name": "stdout",
          "output_type": "stream",
          "text": [
            "time : 0.07418584823608398\n",
            "Accuracy: 83.03%\n",
            "\n",
            "\n",
            "              precision    recall  f1-score   support\n",
            "\n",
            "      Normal       0.99      0.75      0.85     13469\n",
            "         Dos       0.98      0.94      0.96      9186\n",
            "       Probe       0.82      0.91      0.86      2331\n",
            "         U2R       0.29      0.79      0.43       197\n",
            "         R2L       0.01      0.42      0.02        12\n",
            "\n",
            "   micro avg       0.92      0.83      0.88     25195\n",
            "   macro avg       0.62      0.76      0.62     25195\n",
            "weighted avg       0.96      0.83      0.89     25195\n",
            " samples avg       0.83      0.83      0.83     25195\n",
            "\n",
            "\n",
            "roc auc value: 0.87%\n",
            "\n",
            "\n"
          ]
        },
        {
          "name": "stderr",
          "output_type": "stream",
          "text": [
            "/usr/local/lib/python3.8/dist-packages/sklearn/metrics/_classification.py:1318: UndefinedMetricWarning: Precision and F-score are ill-defined and being set to 0.0 in samples with no predicted labels. Use `zero_division` parameter to control this behavior.\n",
            "  _warn_prf(average, modifier, msg_start, len(result))\n"
          ]
        },
        {
          "data": {
            "text/plain": [
              "array([[1, 0, 0, 0, 0],\n",
              "       [0, 0, 0, 1, 0],\n",
              "       [0, 0, 0, 0, 0],\n",
              "       ...,\n",
              "       [0, 1, 0, 0, 0],\n",
              "       [1, 0, 0, 0, 0],\n",
              "       [1, 0, 0, 0, 0]])"
            ]
          },
          "execution_count": 120,
          "metadata": {},
          "output_type": "execute_result"
        }
      ],
      "source": [
        "predict(xgb2_ov, nsl_pca2_val_over_scaled, nsl_val_y_one)"
      ]
    },
    {
      "cell_type": "code",
      "execution_count": null,
      "metadata": {
        "colab": {
          "base_uri": "https://localhost:8080/"
        },
        "id": "dXQE48jsNYJy",
        "outputId": "87a92dd2-3d1e-4571-d48c-c6587815cc20"
      },
      "outputs": [
        {
          "name": "stdout",
          "output_type": "stream",
          "text": [
            "time : 0.06872224807739258\n",
            "Accuracy: 68.32%\n",
            "\n",
            "\n",
            "              precision    recall  f1-score   support\n",
            "\n",
            "      Normal       0.85      0.82      0.83      9710\n",
            "         Dos       0.82      0.71      0.76      7460\n",
            "       Probe       0.72      0.65      0.68      2421\n",
            "         U2R       0.73      0.23      0.35      2749\n",
            "         R2L       0.05      0.21      0.09       203\n",
            "\n",
            "   micro avg       0.79      0.69      0.73     22543\n",
            "   macro avg       0.64      0.52      0.54     22543\n",
            "weighted avg       0.80      0.69      0.73     22543\n",
            " samples avg       0.68      0.69      0.69     22543\n",
            "\n",
            "\n",
            "roc auc value: 0.73%\n",
            "\n",
            "\n"
          ]
        },
        {
          "name": "stderr",
          "output_type": "stream",
          "text": [
            "/usr/local/lib/python3.8/dist-packages/sklearn/metrics/_classification.py:1318: UndefinedMetricWarning: Precision and F-score are ill-defined and being set to 0.0 in samples with no predicted labels. Use `zero_division` parameter to control this behavior.\n",
            "  _warn_prf(average, modifier, msg_start, len(result))\n"
          ]
        },
        {
          "data": {
            "text/plain": [
              "array([[0, 1, 0, 0, 0],\n",
              "       [0, 1, 0, 0, 0],\n",
              "       [0, 0, 0, 0, 0],\n",
              "       ...,\n",
              "       [0, 0, 0, 0, 0],\n",
              "       [1, 0, 0, 0, 0],\n",
              "       [0, 0, 1, 0, 0]])"
            ]
          },
          "execution_count": 121,
          "metadata": {},
          "output_type": "execute_result"
        }
      ],
      "source": [
        "predict(xgb2_ov, nsl_pca2_test_over_scaled, nsl_test_y_one)"
      ]
    },
    {
      "cell_type": "markdown",
      "metadata": {
        "id": "IDyGfPDvcIw9"
      },
      "source": [
        "###**DNN**"
      ]
    },
    {
      "cell_type": "code",
      "execution_count": null,
      "metadata": {
        "id": "l48pOFW1BUVZ"
      },
      "outputs": [],
      "source": [
        "from keras.backend import dropout\n",
        "dnn2_over = keras.models.Sequential([\n",
        "    keras.layers.Flatten(input_shape=(2,)),\n",
        "    keras.layers.BatchNormalization(),\n",
        "    keras.layers.Dense(300, activation=\"relu\"),\n",
        "    keras.layers.Dropout(rate=0.2),\n",
        "    keras.layers.BatchNormalization(),\n",
        "    keras.layers.Dense(100, activation=\"relu\"),  \n",
        "    keras.layers.Dropout(rate=0.2),\n",
        "    keras.layers.BatchNormalization(),\n",
        "    keras.layers.Dense(5, activation=\"softmax\")\n",
        "])\n",
        "dnn2_over.summary()"
      ]
    },
    {
      "cell_type": "code",
      "execution_count": null,
      "metadata": {
        "id": "IuAjGk6TBUYP"
      },
      "outputs": [],
      "source": [
        "history_dnn2_over = dnn2_over.fit(nsl_pca2_train_over_scaled, nsl_train_y_over, epochs=30,\n",
        "                                  validation_data=(nsl_pca2_val_over_scaled, nsl_val_y_one))"
      ]
    },
    {
      "cell_type": "code",
      "execution_count": null,
      "metadata": {
        "id": "DzYEX7NOB6Sl"
      },
      "outputs": [],
      "source": [
        "dnn2_over.evaluate(nsl_pca2_test_over_scaled, nsl_test_y_one)"
      ]
    },
    {
      "cell_type": "code",
      "execution_count": null,
      "metadata": {
        "id": "9X1ZmotoB6U3"
      },
      "outputs": [],
      "source": [
        "pred = dnn2_over.predict(nsl_pca2_test_over_scaled)\n",
        "pred_sparse = sparse(pred)\n",
        "print(classification_report(nsl_test_y_one, pred_sparse, target_names=['Normal', 'Dos', 'Probe', 'U2R', 'R2L']))"
      ]
    },
    {
      "cell_type": "code",
      "execution_count": null,
      "metadata": {
        "id": "boKgOQjt1Ypg"
      },
      "outputs": [],
      "source": [
        "plt.figure(figsize=(10,7))\n",
        "\n",
        "plt.plot(history2_over.history['loss'], label='Train loss')\n",
        "plt.plot(history2_over.history['val_loss'], label='Validation loss')\n",
        "\n",
        "plt.title(\"Loss\")\n",
        "plt.legend()\n",
        "plt.show()"
      ]
    },
    {
      "cell_type": "code",
      "execution_count": null,
      "metadata": {
        "id": "PEpf2XJ-2VJZ"
      },
      "outputs": [],
      "source": [
        "plt.figure(figsize=(10,7))\n",
        "\n",
        "plt.plot(history2_over.history['accuracy'], label='Train accuracy')\n",
        "plt.plot(history2_over.history['val_accuracy'], label='Validation accuracy')\n",
        "\n",
        "plt.title(\"accuracy\")\n",
        "plt.legend()\n",
        "plt.show()"
      ]
    },
    {
      "cell_type": "markdown",
      "metadata": {
        "id": "fkMEdldHpkCf"
      },
      "source": [
        "###**CNN**"
      ]
    },
    {
      "cell_type": "code",
      "execution_count": null,
      "metadata": {
        "id": "O74DJ8AkpmJD"
      },
      "outputs": [],
      "source": [
        "cnn2_over = keras.models.Sequential([\n",
        "    keras.layers.Conv1D(64, 7, activation='relu', padding='same', input_shape=[2, 1]),\n",
        "    keras.layers.MaxPooling1D(2),\n",
        "    keras.layers.Conv1D(128, 3, padding='same', activation='relu'),\n",
        "    keras.layers.Conv1D(128, 3, padding='same', activation='relu'),\n",
        "    keras.layers.MaxPooling1D(2),\n",
        "    keras.layers.Conv1D(256, 3, padding='same', activation='relu'),\n",
        "    keras.layers.Conv1D(256, 3, padding='same', activation='relu'),\n",
        "    keras.layers.MaxPooling1D(2),\n",
        "    keras.layers.Flatten(),\n",
        "    keras.layers.Dense(128, activation='relu'),\n",
        "    keras.layers.Dropout(0.5),\n",
        "    keras.layers.Dense(64, activation='relu'),\n",
        "    keras.layers.Dropout(0.5),\n",
        "    keras.layers.Dense(5, activation='softmax'),\n",
        "])"
      ]
    },
    {
      "cell_type": "code",
      "execution_count": null,
      "metadata": {
        "id": "8H9JdIdbpmLO"
      },
      "outputs": [],
      "source": [
        "cnn2_over.compile(loss = \"categorical_crossentropy\",\n",
        "                  optimizer = \"nadam\",\n",
        "                  metrics=[\"Accuracy\"]\n",
        "                  )"
      ]
    },
    {
      "cell_type": "code",
      "execution_count": null,
      "metadata": {
        "id": "UhbMXBGNpmNh"
      },
      "outputs": [],
      "source": [
        "history_cnn2_over = cnn2_over.fit(nsl_pca2_train_over, nsl_pca2_train_y_over_one, epochs=30,\n",
        "                        validation_data=(nsl_pca2_val_x_scaled, nsl_pca2_val_y_one))"
      ]
    },
    {
      "cell_type": "code",
      "execution_count": null,
      "metadata": {
        "id": "hVdqlqpbpmQA"
      },
      "outputs": [],
      "source": [
        "cnn2_over.evaluate(nsl_pca2_test_x_scaled, nsl_pca2_test_y_one)"
      ]
    },
    {
      "cell_type": "code",
      "execution_count": null,
      "metadata": {
        "id": "RmLfUQa7pmUO"
      },
      "outputs": [],
      "source": [
        "pred = cnn2_over.predict(nsl_pca2_test_x_scaled)\n",
        "pred_sparse = sparse(pred)\n",
        "print(classification_report(nsl_pca2_test_y_one, pred_sparse, target_names=['Normal', 'Dos', 'Probe', 'U2R', 'R2L']))"
      ]
    }
  ],
  "metadata": {
    "colab": {
      "provenance": [],
      "toc_visible": true
    },
    "gpuClass": "standard",
    "kernelspec": {
      "display_name": "Python 3",
      "name": "python3"
    },
    "language_info": {
      "name": "python"
    }
  },
  "nbformat": 4,
  "nbformat_minor": 0
}